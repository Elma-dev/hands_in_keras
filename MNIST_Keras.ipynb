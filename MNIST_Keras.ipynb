{
  "nbformat": 4,
  "nbformat_minor": 0,
  "metadata": {
    "colab": {
      "provenance": [],
      "authorship_tag": "ABX9TyPaTlL7ESGHCbNlO64l93hD",
      "include_colab_link": true
    },
    "kernelspec": {
      "name": "python3",
      "display_name": "Python 3"
    },
    "language_info": {
      "name": "python"
    }
  },
  "cells": [
    {
      "cell_type": "markdown",
      "metadata": {
        "id": "view-in-github",
        "colab_type": "text"
      },
      "source": [
        "<a href=\"https://colab.research.google.com/github/Elma-dev/hands_in_keras/blob/main/MNIST_Keras.ipynb\" target=\"_parent\"><img src=\"https://colab.research.google.com/assets/colab-badge.svg\" alt=\"Open In Colab\"/></a>"
      ]
    },
    {
      "cell_type": "code",
      "execution_count": 20,
      "metadata": {
        "id": "H4feEYJgGnan"
      },
      "outputs": [],
      "source": [
        "import tensorflow as tf\n",
        "from tensorflow import keras\n",
        "import numpy as np\n",
        "import pandas as pd"
      ]
    },
    {
      "cell_type": "markdown",
      "source": [
        "\n",
        "\n",
        "---\n",
        "#**<center>MNIST Data Set</center>**\n",
        "\n",
        "---\n",
        "<center>\n",
        "MNIST (70,000 grayscale images of 28×28 pixels each, with 10 classes),\n",
        "</center>"
      ],
      "metadata": {
        "id": "j45EuQLoHN9k"
      }
    },
    {
      "cell_type": "markdown",
      "source": [
        "## **Using Keras to Load the Dataset**"
      ],
      "metadata": {
        "id": "zJ7T94CsH0-n"
      }
    },
    {
      "cell_type": "code",
      "source": [
        "fashion_mnist=keras.datasets.fashion_mnist"
      ],
      "metadata": {
        "id": "l7LxvDQOHkxc"
      },
      "execution_count": 5,
      "outputs": []
    },
    {
      "cell_type": "code",
      "source": [
        "#load data\n",
        "(x_train_full,y_train_full),(x_test,y_test)=fashion_mnist.load_data()"
      ],
      "metadata": {
        "id": "iJW0fL4KIVXO"
      },
      "execution_count": 16,
      "outputs": []
    },
    {
      "cell_type": "code",
      "source": [
        "print(f'shape(x_train,y_train)={x_train_full.shape,y_train_full.shape}')\n",
        "print(f'shape(x_test,y_test)={x_test.shape,y_test.shape}')"
      ],
      "metadata": {
        "colab": {
          "base_uri": "https://localhost:8080/"
        },
        "id": "U87wwfXdIroL",
        "outputId": "15318303-66cc-4732-cdf2-690cee162a5f"
      },
      "execution_count": 17,
      "outputs": [
        {
          "output_type": "stream",
          "name": "stdout",
          "text": [
            "shape(x_train,y_train)=((60000, 28, 28), (60000,))\n",
            "shape(x_test,y_test)=((10000, 28, 28), (10000,))\n"
          ]
        }
      ]
    },
    {
      "cell_type": "markdown",
      "source": [
        "Note that the dataset is already split into a training set and a test set, but there is no\n",
        "validation set, so let’s create one."
      ],
      "metadata": {
        "id": "5gUcVCRvL4e6"
      }
    },
    {
      "cell_type": "code",
      "source": [
        "#Add valid data and in the same time normalization the images\n",
        "x_train_valid,x_train=x_train_full[:5000]/255,x_train_full[5000:]/255\n",
        "y_train_valid,y_train=y_train_full[:5000],y_train_full[5000:]"
      ],
      "metadata": {
        "id": "sgW1lVWjLlic"
      },
      "execution_count": 18,
      "outputs": []
    },
    {
      "cell_type": "markdown",
      "source": [
        "type of classes in **MNIST** data"
      ],
      "metadata": {
        "id": "dpCtl9oWNpgw"
      }
    },
    {
      "cell_type": "code",
      "source": [
        "print(f'MnistClasses:{np.sort(pd.unique(y_train))}')"
      ],
      "metadata": {
        "colab": {
          "base_uri": "https://localhost:8080/"
        },
        "id": "3tk4ch1VNoqL",
        "outputId": "23f4c055-9af8-41d8-c529-dc0849ba4074"
      },
      "execution_count": 24,
      "outputs": [
        {
          "output_type": "stream",
          "name": "stdout",
          "text": [
            "MnistClasses:[0 1 2 3 4 5 6 7 8 9]\n"
          ]
        }
      ]
    },
    {
      "cell_type": "markdown",
      "source": [
        "#**Creating the Model Using the Sequential API**"
      ],
      "metadata": {
        "id": "yLo2oRW9ObYt"
      }
    },
    {
      "cell_type": "markdown",
      "source": [
        "**<center>Code Lines Meaning:</center>**\n",
        "\n",
        "\n",
        "---\n",
        "- The first line creates a **Sequential model**. This is the simplest kind of Keras\n",
        "model, for neural networks that are just composed of a single stack of layers, con‐\n",
        "nected sequentially. This is called the sequential API.\n",
        "\n",
        "- Next, we build the first layer and add it to the model. It is a **Flatten laye**r whose role is simply to **convert each input image into a 1D array**: if it receives input data X, it computes X.reshape(-1, 1). This layer does not have any parameters, it is just there to do some simple preprocessing. Since it is the first layer in the model,\n",
        "you should specify the input_shape: this does not include the batch size, only the shape of the instances. Alternatively, you could add a keras.layers.InputLayer as the first layer, setting shape=[28,28].\n",
        "\n",
        "- Next we add a **Dense hidden layer with 300 neurons**. It will use the **ReLU** activa‐tion function. Each Dense layer manages its own weight matrix, containing all the\n",
        "connection weights between the neurons and their inputs.\n",
        "\n",
        "- Next we add a second **Dense hidden layer with 100 neurons**, also using the **ReLU** activation function.\n",
        "\n",
        "- Finally, we add a **Dense output layer with 10 neurons** (one per class), using the **softmax** activation function (because the classes are exclusive).\n",
        "---\n",
        "\n"
      ],
      "metadata": {
        "id": "9NqYCl2iOvH9"
      }
    },
    {
      "cell_type": "code",
      "source": [
        "from keras.api._v2.keras import activations\n",
        "model=keras.models.Sequential()\n",
        "model.add(keras.layers.Flatten(input_shape=[28,28]))\n",
        "model.add(keras.layers.Dense(300,activation=\"relu\"))\n",
        "model.add(keras.layers.Dense(100,activation=\"relu\"))\n",
        "model.add(keras.layers.Dense(10,activation=\"softmax\"))"
      ],
      "metadata": {
        "id": "VM2Tx8fzOZl4"
      },
      "execution_count": 27,
      "outputs": []
    },
    {
      "cell_type": "markdown",
      "source": [
        "\n",
        "The model’s **summary()** method displays all the model’s layers"
      ],
      "metadata": {
        "id": "ZsjF1ywMSoex"
      }
    },
    {
      "cell_type": "code",
      "source": [
        "model.summary()"
      ],
      "metadata": {
        "colab": {
          "base_uri": "https://localhost:8080/"
        },
        "id": "yAqfSMfTStyJ",
        "outputId": "c60a35ac-6396-4f74-9129-2224d4521c04"
      },
      "execution_count": 28,
      "outputs": [
        {
          "output_type": "stream",
          "name": "stdout",
          "text": [
            "Model: \"sequential_2\"\n",
            "_________________________________________________________________\n",
            " Layer (type)                Output Shape              Param #   \n",
            "=================================================================\n",
            " flatten_1 (Flatten)         (None, 784)               0         \n",
            "                                                                 \n",
            " dense (Dense)               (None, 300)               235500    \n",
            "                                                                 \n",
            " dense_1 (Dense)             (None, 100)               30100     \n",
            "                                                                 \n",
            " dense_2 (Dense)             (None, 10)                1010      \n",
            "                                                                 \n",
            "=================================================================\n",
            "Total params: 266,610\n",
            "Trainable params: 266,610\n",
            "Non-trainable params: 0\n",
            "_________________________________________________________________\n"
          ]
        }
      ]
    },
    {
      "cell_type": "markdown",
      "source": [
        "**layers**: You can easily get a model’s list of layers:"
      ],
      "metadata": {
        "id": "3U1ckgNZTt62"
      }
    },
    {
      "cell_type": "code",
      "source": [
        "model.layers"
      ],
      "metadata": {
        "colab": {
          "base_uri": "https://localhost:8080/"
        },
        "id": "IGAChlWPTtQ6",
        "outputId": "d8d8a5c4-64d9-4ca5-b039-a71b798ad31e"
      },
      "execution_count": 30,
      "outputs": [
        {
          "output_type": "execute_result",
          "data": {
            "text/plain": [
              "[<keras.layers.reshaping.flatten.Flatten at 0x7b0668e42980>,\n",
              " <keras.layers.core.dense.Dense at 0x7b0666ae7dc0>,\n",
              " <keras.layers.core.dense.Dense at 0x7b0666ae5ed0>,\n",
              " <keras.layers.core.dense.Dense at 0x7b0666ae54b0>]"
            ]
          },
          "metadata": {},
          "execution_count": 30
        }
      ]
    },
    {
      "cell_type": "code",
      "source": [
        "model.get_layer(\"dense_1\")"
      ],
      "metadata": {
        "colab": {
          "base_uri": "https://localhost:8080/"
        },
        "id": "4pGX-SzhTK5b",
        "outputId": "2267b029-9611-4201-a96a-f051f8ba3148"
      },
      "execution_count": 31,
      "outputs": [
        {
          "output_type": "execute_result",
          "data": {
            "text/plain": [
              "<keras.layers.core.dense.Dense at 0x7b0666ae5ed0>"
            ]
          },
          "metadata": {},
          "execution_count": 31
        }
      ]
    },
    {
      "cell_type": "code",
      "source": [
        "model.get_layer(\"dense_1\").get_weights() # set_weights()"
      ],
      "metadata": {
        "colab": {
          "base_uri": "https://localhost:8080/"
        },
        "id": "rq_tjobpUC98",
        "outputId": "a6eeb4d7-6eb4-47f7-aec4-f38a73e6d2e9"
      },
      "execution_count": 32,
      "outputs": [
        {
          "output_type": "execute_result",
          "data": {
            "text/plain": [
              "[array([[-0.00252065,  0.08362182,  0.11213166, ...,  0.075518  ,\n",
              "         -0.11015425,  0.11486167],\n",
              "        [ 0.05613735,  0.07773171, -0.08911283, ..., -0.03343691,\n",
              "          0.05834035,  0.10709088],\n",
              "        [-0.02595766,  0.0783299 ,  0.12045848, ..., -0.1185402 ,\n",
              "         -0.00577363,  0.09846737],\n",
              "        ...,\n",
              "        [ 0.01165228, -0.00874073,  0.03118043, ..., -0.11113798,\n",
              "          0.04908874, -0.01384506],\n",
              "        [-0.03260905, -0.06423447, -0.10920078, ...,  0.00410806,\n",
              "          0.08141153,  0.06624601],\n",
              "        [ 0.11180135,  0.07098856, -0.08084394, ...,  0.11351723,\n",
              "         -0.1137554 ,  0.11726061]], dtype=float32),\n",
              " array([0., 0., 0., 0., 0., 0., 0., 0., 0., 0., 0., 0., 0., 0., 0., 0., 0.,\n",
              "        0., 0., 0., 0., 0., 0., 0., 0., 0., 0., 0., 0., 0., 0., 0., 0., 0.,\n",
              "        0., 0., 0., 0., 0., 0., 0., 0., 0., 0., 0., 0., 0., 0., 0., 0., 0.,\n",
              "        0., 0., 0., 0., 0., 0., 0., 0., 0., 0., 0., 0., 0., 0., 0., 0., 0.,\n",
              "        0., 0., 0., 0., 0., 0., 0., 0., 0., 0., 0., 0., 0., 0., 0., 0., 0.,\n",
              "        0., 0., 0., 0., 0., 0., 0., 0., 0., 0., 0., 0., 0., 0., 0.],\n",
              "       dtype=float32)]"
            ]
          },
          "metadata": {},
          "execution_count": 32
        }
      ]
    },
    {
      "cell_type": "markdown",
      "source": [
        "## **Compiling the Model**\n",
        "\n",
        "\n",
        "After a model is created, you must call its compile() method to specify the loss function and the optimizer to use. Optionally, you can also specify a list of extra metrics to compute during training and evaluation.\n",
        "\n",
        "---\n",
        "<center>Code Explanation</center>\n",
        "\n",
        "- This requires some explanation. First, we use the \"sparse_categorical_crossentropy\" loss because we have sparse labels (i.e., for each instance there is just a target\n",
        "class index, from 0 to 9 in this case), and the classes are exclusive. If instead we had one target probability per class for each instance (such as one-hot vectors, e.g. [0.,0., 0., 1., 0., 0., 0., 0., 0., 0.] to represent class 3), then we would need\n",
        "to use the \"categorical_crossentropy\" loss instead. If we were doing binary classi‐fication (with one or more binary labels), then we would use the \"sigmoid\" (i.e.,logistic) activation function in the output layer instead of the \"softmax\" activation\n",
        "function, and we would use the \"binary_crossentropy\" loss.\n",
        "\n",
        "- Secondly, regarding the optimizer, \"sgd\" simply means that we will train the model using simple Stochastic Gradient Descent. In other words, Keras will perform the backpropagation algorithm described earlier (i.e., reverse-mode autodiff + Gradient Descent). We will discuss more efficient optimizers in Chapter 11 (they improve the Gradient Descent part, not the autodiff).\n",
        "\n",
        "- Finally, since this is a classifier, it’s useful to measure its \"accuracy\" during training and evaluation\n",
        "\n",
        "---"
      ],
      "metadata": {
        "id": "Xj-YZyx1UzK2"
      }
    },
    {
      "cell_type": "code",
      "source": [
        "model.compile(optimizer=\"sgd\",loss=\"sparse_categorical_crossentropy\",metrics=[\"accuracy\"])"
      ],
      "metadata": {
        "id": "kp836Xd6U6ha"
      },
      "execution_count": 33,
      "outputs": []
    },
    {
      "cell_type": "markdown",
      "source": [
        "## **Training and Evaluating the Model**\n",
        "\n",
        "---\n",
        "Now the model is ready to be trained. For this we simply need to call its **fit()** method. We pass it the input features (X_train) and the target classes (y_train), as well as the ***number of epochs*** to train (or else it would default to just 1, which would\n",
        "definitely not be enough to converge to a good solution). ***We also pass a validation*** set (this is optional): ***Keras will measure the loss and the extra metrics on this set at the end of each epoch,*** which is very useful to see how well the model really performs: if\n",
        "the performance on the training set is much better than on the validation set, your model is probably overfitting the training set (or there is a bug, such as a data mismatch between the training set and the validation set)\n",
        "\n",
        "---"
      ],
      "metadata": {
        "id": "ghO3dJlwXXw4"
      }
    },
    {
      "cell_type": "code",
      "source": [
        "model.fit(x_train,y_train,epochs=30,validation_data=(x_train_valid,y_train_valid))"
      ],
      "metadata": {
        "colab": {
          "base_uri": "https://localhost:8080/"
        },
        "id": "BSvuysQ7Xb4r",
        "outputId": "f1d935e9-a732-4456-deba-6e7f6ec2494a"
      },
      "execution_count": 34,
      "outputs": [
        {
          "output_type": "stream",
          "name": "stdout",
          "text": [
            "Epoch 1/30\n",
            "1719/1719 [==============================] - 7s 3ms/step - loss: 0.7469 - accuracy: 0.7574 - val_loss: 0.5376 - val_accuracy: 0.8170\n",
            "Epoch 2/30\n",
            "1719/1719 [==============================] - 5s 3ms/step - loss: 0.4930 - accuracy: 0.8291 - val_loss: 0.4976 - val_accuracy: 0.8230\n",
            "Epoch 3/30\n",
            "1719/1719 [==============================] - 6s 3ms/step - loss: 0.4454 - accuracy: 0.8447 - val_loss: 0.4392 - val_accuracy: 0.8492\n",
            "Epoch 4/30\n",
            "1719/1719 [==============================] - 5s 3ms/step - loss: 0.4158 - accuracy: 0.8544 - val_loss: 0.4217 - val_accuracy: 0.8514\n",
            "Epoch 5/30\n",
            "1719/1719 [==============================] - 6s 3ms/step - loss: 0.3956 - accuracy: 0.8622 - val_loss: 0.3954 - val_accuracy: 0.8652\n",
            "Epoch 6/30\n",
            "1719/1719 [==============================] - 5s 3ms/step - loss: 0.3800 - accuracy: 0.8655 - val_loss: 0.3854 - val_accuracy: 0.8630\n",
            "Epoch 7/30\n",
            "1719/1719 [==============================] - 6s 3ms/step - loss: 0.3649 - accuracy: 0.8728 - val_loss: 0.3724 - val_accuracy: 0.8706\n",
            "Epoch 8/30\n",
            "1719/1719 [==============================] - 5s 3ms/step - loss: 0.3544 - accuracy: 0.8753 - val_loss: 0.3641 - val_accuracy: 0.8704\n",
            "Epoch 9/30\n",
            "1719/1719 [==============================] - 6s 3ms/step - loss: 0.3446 - accuracy: 0.8780 - val_loss: 0.3574 - val_accuracy: 0.8754\n",
            "Epoch 10/30\n",
            "1719/1719 [==============================] - 5s 3ms/step - loss: 0.3341 - accuracy: 0.8815 - val_loss: 0.3456 - val_accuracy: 0.8794\n",
            "Epoch 11/30\n",
            "1719/1719 [==============================] - 5s 3ms/step - loss: 0.3257 - accuracy: 0.8848 - val_loss: 0.3556 - val_accuracy: 0.8754\n",
            "Epoch 12/30\n",
            "1719/1719 [==============================] - 6s 3ms/step - loss: 0.3184 - accuracy: 0.8865 - val_loss: 0.3464 - val_accuracy: 0.8782\n",
            "Epoch 13/30\n",
            "1719/1719 [==============================] - 5s 3ms/step - loss: 0.3096 - accuracy: 0.8904 - val_loss: 0.3513 - val_accuracy: 0.8740\n",
            "Epoch 14/30\n",
            "1719/1719 [==============================] - 6s 3ms/step - loss: 0.3030 - accuracy: 0.8915 - val_loss: 0.3228 - val_accuracy: 0.8856\n",
            "Epoch 15/30\n",
            "1719/1719 [==============================] - 5s 3ms/step - loss: 0.2970 - accuracy: 0.8927 - val_loss: 0.3215 - val_accuracy: 0.8832\n",
            "Epoch 16/30\n",
            "1719/1719 [==============================] - 6s 3ms/step - loss: 0.2908 - accuracy: 0.8959 - val_loss: 0.3236 - val_accuracy: 0.8834\n",
            "Epoch 17/30\n",
            "1719/1719 [==============================] - 5s 3ms/step - loss: 0.2849 - accuracy: 0.8974 - val_loss: 0.3236 - val_accuracy: 0.8810\n",
            "Epoch 18/30\n",
            "1719/1719 [==============================] - 6s 3ms/step - loss: 0.2801 - accuracy: 0.8998 - val_loss: 0.3121 - val_accuracy: 0.8866\n",
            "Epoch 19/30\n",
            "1719/1719 [==============================] - 6s 3ms/step - loss: 0.2739 - accuracy: 0.9011 - val_loss: 0.3073 - val_accuracy: 0.8914\n",
            "Epoch 20/30\n",
            "1719/1719 [==============================] - 6s 3ms/step - loss: 0.2688 - accuracy: 0.9036 - val_loss: 0.3190 - val_accuracy: 0.8858\n",
            "Epoch 21/30\n",
            "1719/1719 [==============================] - 5s 3ms/step - loss: 0.2637 - accuracy: 0.9053 - val_loss: 0.3181 - val_accuracy: 0.8868\n",
            "Epoch 22/30\n",
            "1719/1719 [==============================] - 5s 3ms/step - loss: 0.2596 - accuracy: 0.9067 - val_loss: 0.3133 - val_accuracy: 0.8896\n",
            "Epoch 23/30\n",
            "1719/1719 [==============================] - 5s 3ms/step - loss: 0.2553 - accuracy: 0.9073 - val_loss: 0.3054 - val_accuracy: 0.8908\n",
            "Epoch 24/30\n",
            "1719/1719 [==============================] - 5s 3ms/step - loss: 0.2505 - accuracy: 0.9102 - val_loss: 0.3344 - val_accuracy: 0.8822\n",
            "Epoch 25/30\n",
            "1719/1719 [==============================] - 6s 3ms/step - loss: 0.2471 - accuracy: 0.9109 - val_loss: 0.2977 - val_accuracy: 0.8934\n",
            "Epoch 26/30\n",
            "1719/1719 [==============================] - 5s 3ms/step - loss: 0.2421 - accuracy: 0.9131 - val_loss: 0.3068 - val_accuracy: 0.8914\n",
            "Epoch 27/30\n",
            "1719/1719 [==============================] - 6s 3ms/step - loss: 0.2388 - accuracy: 0.9142 - val_loss: 0.2985 - val_accuracy: 0.8910\n",
            "Epoch 28/30\n",
            "1719/1719 [==============================] - 5s 3ms/step - loss: 0.2339 - accuracy: 0.9169 - val_loss: 0.3075 - val_accuracy: 0.8908\n",
            "Epoch 29/30\n",
            "1719/1719 [==============================] - 5s 3ms/step - loss: 0.2299 - accuracy: 0.9163 - val_loss: 0.2966 - val_accuracy: 0.8920\n",
            "Epoch 30/30\n",
            "1719/1719 [==============================] - 5s 3ms/step - loss: 0.2267 - accuracy: 0.9188 - val_loss: 0.2949 - val_accuracy: 0.8944\n"
          ]
        },
        {
          "output_type": "execute_result",
          "data": {
            "text/plain": [
              "<keras.callbacks.History at 0x7b0648509840>"
            ]
          },
          "metadata": {},
          "execution_count": 34
        }
      ]
    }
  ]
}