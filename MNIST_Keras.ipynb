{
  "nbformat": 4,
  "nbformat_minor": 0,
  "metadata": {
    "colab": {
      "provenance": [],
      "authorship_tag": "ABX9TyPv3tH6IG8Pfo905MX1Q5u5",
      "include_colab_link": true
    },
    "kernelspec": {
      "name": "python3",
      "display_name": "Python 3"
    },
    "language_info": {
      "name": "python"
    }
  },
  "cells": [
    {
      "cell_type": "markdown",
      "metadata": {
        "id": "view-in-github",
        "colab_type": "text"
      },
      "source": [
        "<a href=\"https://colab.research.google.com/github/Elma-dev/hands_in_keras/blob/main/MNIST_Keras.ipynb\" target=\"_parent\"><img src=\"https://colab.research.google.com/assets/colab-badge.svg\" alt=\"Open In Colab\"/></a>"
      ]
    },
    {
      "cell_type": "code",
      "execution_count": 25,
      "metadata": {
        "id": "H4feEYJgGnan"
      },
      "outputs": [],
      "source": [
        "import tensorflow as tf\n",
        "from tensorflow import keras\n",
        "import numpy as np\n",
        "import pandas as pd\n",
        "import matplotlib.pyplot as plt"
      ]
    },
    {
      "cell_type": "markdown",
      "source": [
        "\n",
        "\n",
        "---\n",
        "#**<center>MNIST Data Set</center>**\n",
        "\n",
        "---\n",
        "<center>\n",
        "MNIST (70,000 grayscale images of 28×28 pixels each, with 10 classes),\n",
        "</center>"
      ],
      "metadata": {
        "id": "j45EuQLoHN9k"
      }
    },
    {
      "cell_type": "markdown",
      "source": [
        "## **Using Keras to Load the Dataset**"
      ],
      "metadata": {
        "id": "zJ7T94CsH0-n"
      }
    },
    {
      "cell_type": "code",
      "source": [
        "fashion_mnist=keras.datasets.fashion_mnist"
      ],
      "metadata": {
        "id": "l7LxvDQOHkxc"
      },
      "execution_count": 2,
      "outputs": []
    },
    {
      "cell_type": "code",
      "source": [
        "#load data\n",
        "(x_train_full,y_train_full),(x_test,y_test)=fashion_mnist.load_data()"
      ],
      "metadata": {
        "id": "iJW0fL4KIVXO",
        "colab": {
          "base_uri": "https://localhost:8080/"
        },
        "outputId": "7d9434e8-c7aa-4286-d0a5-173d1efb0aca"
      },
      "execution_count": 3,
      "outputs": [
        {
          "output_type": "stream",
          "name": "stdout",
          "text": [
            "Downloading data from https://storage.googleapis.com/tensorflow/tf-keras-datasets/train-labels-idx1-ubyte.gz\n",
            "29515/29515 [==============================] - 0s 0us/step\n",
            "Downloading data from https://storage.googleapis.com/tensorflow/tf-keras-datasets/train-images-idx3-ubyte.gz\n",
            "26421880/26421880 [==============================] - 0s 0us/step\n",
            "Downloading data from https://storage.googleapis.com/tensorflow/tf-keras-datasets/t10k-labels-idx1-ubyte.gz\n",
            "5148/5148 [==============================] - 0s 0us/step\n",
            "Downloading data from https://storage.googleapis.com/tensorflow/tf-keras-datasets/t10k-images-idx3-ubyte.gz\n",
            "4422102/4422102 [==============================] - 0s 0us/step\n"
          ]
        }
      ]
    },
    {
      "cell_type": "code",
      "source": [
        "print(f'shape(x_train,y_train)={x_train_full.shape,y_train_full.shape}')\n",
        "print(f'shape(x_test,y_test)={x_test.shape,y_test.shape}')"
      ],
      "metadata": {
        "colab": {
          "base_uri": "https://localhost:8080/"
        },
        "id": "U87wwfXdIroL",
        "outputId": "4a033942-66ed-4316-fae0-9411ffae236a"
      },
      "execution_count": 4,
      "outputs": [
        {
          "output_type": "stream",
          "name": "stdout",
          "text": [
            "shape(x_train,y_train)=((60000, 28, 28), (60000,))\n",
            "shape(x_test,y_test)=((10000, 28, 28), (10000,))\n"
          ]
        }
      ]
    },
    {
      "cell_type": "markdown",
      "source": [
        "Note that the dataset is already split into a training set and a test set, but there is no\n",
        "validation set, so let’s create one."
      ],
      "metadata": {
        "id": "5gUcVCRvL4e6"
      }
    },
    {
      "cell_type": "code",
      "source": [
        "#Add valid data and in the same time normalization the images\n",
        "x_train_valid,x_train=x_train_full[:5000]/255,x_train_full[5000:]/255\n",
        "y_train_valid,y_train=y_train_full[:5000],y_train_full[5000:]"
      ],
      "metadata": {
        "id": "sgW1lVWjLlic"
      },
      "execution_count": 5,
      "outputs": []
    },
    {
      "cell_type": "markdown",
      "source": [
        "type of classes in **MNIST** data"
      ],
      "metadata": {
        "id": "dpCtl9oWNpgw"
      }
    },
    {
      "cell_type": "code",
      "source": [
        "print(f'MnistClasses:{np.sort(pd.unique(y_train))}')"
      ],
      "metadata": {
        "colab": {
          "base_uri": "https://localhost:8080/"
        },
        "id": "3tk4ch1VNoqL",
        "outputId": "d46bb370-3ccc-4918-900e-4d7681c66093"
      },
      "execution_count": 6,
      "outputs": [
        {
          "output_type": "stream",
          "name": "stdout",
          "text": [
            "MnistClasses:[0 1 2 3 4 5 6 7 8 9]\n"
          ]
        }
      ]
    },
    {
      "cell_type": "markdown",
      "source": [
        "#**Creating the Model Using the Sequential API**"
      ],
      "metadata": {
        "id": "yLo2oRW9ObYt"
      }
    },
    {
      "cell_type": "markdown",
      "source": [
        "**<center>Code Lines Meaning:</center>**\n",
        "\n",
        "\n",
        "---\n",
        "- The first line creates a **Sequential model**. This is the simplest kind of Keras\n",
        "model, for neural networks that are just composed of a single stack of layers, con‐\n",
        "nected sequentially. This is called the sequential API.\n",
        "\n",
        "- Next, we build the first layer and add it to the model. It is a **Flatten laye**r whose role is simply to **convert each input image into a 1D array**: if it receives input data X, it computes X.reshape(-1, 1). This layer does not have any parameters, it is just there to do some simple preprocessing. Since it is the first layer in the model,\n",
        "you should specify the input_shape: this does not include the batch size, only the shape of the instances. Alternatively, you could add a keras.layers.InputLayer as the first layer, setting shape=[28,28].\n",
        "\n",
        "- Next we add a **Dense hidden layer with 300 neurons**. It will use the **ReLU** activa‐tion function. Each Dense layer manages its own weight matrix, containing all the\n",
        "connection weights between the neurons and their inputs.\n",
        "\n",
        "- Next we add a second **Dense hidden layer with 100 neurons**, also using the **ReLU** activation function.\n",
        "\n",
        "- Finally, we add a **Dense output layer with 10 neurons** (one per class), using the **softmax** activation function (because the classes are exclusive).\n",
        "---\n",
        "\n"
      ],
      "metadata": {
        "id": "9NqYCl2iOvH9"
      }
    },
    {
      "cell_type": "code",
      "source": [
        "from keras.api._v2.keras import activations\n",
        "model=keras.models.Sequential()\n",
        "model.add(keras.layers.Flatten(input_shape=[28,28]))\n",
        "model.add(keras.layers.Dense(300,activation=\"relu\"))\n",
        "model.add(keras.layers.Dense(100,activation=\"relu\"))\n",
        "model.add(keras.layers.Dense(10,activation=\"softmax\"))"
      ],
      "metadata": {
        "id": "VM2Tx8fzOZl4"
      },
      "execution_count": 7,
      "outputs": []
    },
    {
      "cell_type": "markdown",
      "source": [
        "\n",
        "The model’s **summary()** method displays all the model’s layers"
      ],
      "metadata": {
        "id": "ZsjF1ywMSoex"
      }
    },
    {
      "cell_type": "code",
      "source": [
        "model.summary()"
      ],
      "metadata": {
        "colab": {
          "base_uri": "https://localhost:8080/"
        },
        "id": "yAqfSMfTStyJ",
        "outputId": "a31fd7a9-afc8-4e99-b4f4-ec6b2e9d95fc"
      },
      "execution_count": 8,
      "outputs": [
        {
          "output_type": "stream",
          "name": "stdout",
          "text": [
            "Model: \"sequential\"\n",
            "_________________________________________________________________\n",
            " Layer (type)                Output Shape              Param #   \n",
            "=================================================================\n",
            " flatten (Flatten)           (None, 784)               0         \n",
            "                                                                 \n",
            " dense (Dense)               (None, 300)               235500    \n",
            "                                                                 \n",
            " dense_1 (Dense)             (None, 100)               30100     \n",
            "                                                                 \n",
            " dense_2 (Dense)             (None, 10)                1010      \n",
            "                                                                 \n",
            "=================================================================\n",
            "Total params: 266,610\n",
            "Trainable params: 266,610\n",
            "Non-trainable params: 0\n",
            "_________________________________________________________________\n"
          ]
        }
      ]
    },
    {
      "cell_type": "markdown",
      "source": [
        "**layers**: You can easily get a model’s list of layers:"
      ],
      "metadata": {
        "id": "3U1ckgNZTt62"
      }
    },
    {
      "cell_type": "code",
      "source": [
        "model.layers"
      ],
      "metadata": {
        "colab": {
          "base_uri": "https://localhost:8080/"
        },
        "id": "IGAChlWPTtQ6",
        "outputId": "5dbbdc05-f693-467b-8810-c9a7c9092481"
      },
      "execution_count": 9,
      "outputs": [
        {
          "output_type": "execute_result",
          "data": {
            "text/plain": [
              "[<keras.layers.reshaping.flatten.Flatten at 0x7eb3237cead0>,\n",
              " <keras.layers.core.dense.Dense at 0x7eb3237ced70>,\n",
              " <keras.layers.core.dense.Dense at 0x7eb3237cfbb0>,\n",
              " <keras.layers.core.dense.Dense at 0x7eb3093485b0>]"
            ]
          },
          "metadata": {},
          "execution_count": 9
        }
      ]
    },
    {
      "cell_type": "code",
      "source": [
        "model.get_layer(\"dense_1\")"
      ],
      "metadata": {
        "colab": {
          "base_uri": "https://localhost:8080/"
        },
        "id": "4pGX-SzhTK5b",
        "outputId": "8ac383e4-824e-4f59-ec03-d8beeff454ca"
      },
      "execution_count": 10,
      "outputs": [
        {
          "output_type": "execute_result",
          "data": {
            "text/plain": [
              "<keras.layers.core.dense.Dense at 0x7eb3237cfbb0>"
            ]
          },
          "metadata": {},
          "execution_count": 10
        }
      ]
    },
    {
      "cell_type": "code",
      "source": [
        "model.get_layer(\"dense_1\").get_weights() # set_weights()"
      ],
      "metadata": {
        "colab": {
          "base_uri": "https://localhost:8080/"
        },
        "id": "rq_tjobpUC98",
        "outputId": "f7a77743-768b-4905-cd91-04fd34d85dfa"
      },
      "execution_count": 11,
      "outputs": [
        {
          "output_type": "execute_result",
          "data": {
            "text/plain": [
              "[array([[-0.03013723,  0.03887296, -0.06371844, ..., -0.06684712,\n",
              "         -0.04003805,  0.11039976],\n",
              "        [ 0.07556849, -0.0094314 ,  0.05895308, ..., -0.00903653,\n",
              "         -0.09421831, -0.06102598],\n",
              "        [ 0.06690591, -0.06645824,  0.03801132, ...,  0.00410359,\n",
              "          0.01641084,  0.03213937],\n",
              "        ...,\n",
              "        [-0.03289852, -0.08594116,  0.07660919, ..., -0.04878038,\n",
              "          0.0537648 ,  0.00287174],\n",
              "        [ 0.09295437, -0.07076105, -0.0550167 , ...,  0.00710502,\n",
              "          0.01782738, -0.0423236 ],\n",
              "        [-0.01308648, -0.03163949,  0.0592295 , ...,  0.05970908,\n",
              "         -0.04501849, -0.08840732]], dtype=float32),\n",
              " array([0., 0., 0., 0., 0., 0., 0., 0., 0., 0., 0., 0., 0., 0., 0., 0., 0.,\n",
              "        0., 0., 0., 0., 0., 0., 0., 0., 0., 0., 0., 0., 0., 0., 0., 0., 0.,\n",
              "        0., 0., 0., 0., 0., 0., 0., 0., 0., 0., 0., 0., 0., 0., 0., 0., 0.,\n",
              "        0., 0., 0., 0., 0., 0., 0., 0., 0., 0., 0., 0., 0., 0., 0., 0., 0.,\n",
              "        0., 0., 0., 0., 0., 0., 0., 0., 0., 0., 0., 0., 0., 0., 0., 0., 0.,\n",
              "        0., 0., 0., 0., 0., 0., 0., 0., 0., 0., 0., 0., 0., 0., 0.],\n",
              "       dtype=float32)]"
            ]
          },
          "metadata": {},
          "execution_count": 11
        }
      ]
    },
    {
      "cell_type": "markdown",
      "source": [
        "## **Compiling the Model**\n",
        "\n",
        "\n",
        "After a model is created, you must call its compile() method to specify the loss function and the optimizer to use. Optionally, you can also specify a list of extra metrics to compute during training and evaluation.\n",
        "\n",
        "---\n",
        "<center>Code Explanation</center>\n",
        "\n",
        "- This requires some explanation. First, we use the \"sparse_categorical_crossentropy\" loss because we have sparse labels (i.e., for each instance there is just a target\n",
        "class index, from 0 to 9 in this case), and the classes are exclusive. If instead we had one target probability per class for each instance (such as one-hot vectors, e.g. [0.,0., 0., 1., 0., 0., 0., 0., 0., 0.] to represent class 3), then we would need\n",
        "to use the \"categorical_crossentropy\" loss instead. If we were doing binary classi‐fication (with one or more binary labels), then we would use the \"sigmoid\" (i.e.,logistic) activation function in the output layer instead of the \"softmax\" activation\n",
        "function, and we would use the \"binary_crossentropy\" loss.\n",
        "\n",
        "- Secondly, regarding the optimizer, \"sgd\" simply means that we will train the model using simple Stochastic Gradient Descent. In other words, Keras will perform the backpropagation algorithm described earlier (i.e., reverse-mode autodiff + Gradient Descent). We will discuss more efficient optimizers in Chapter 11 (they improve the Gradient Descent part, not the autodiff).\n",
        "\n",
        "- Finally, since this is a classifier, it’s useful to measure its \"accuracy\" during training and evaluation\n",
        "\n",
        "---"
      ],
      "metadata": {
        "id": "Xj-YZyx1UzK2"
      }
    },
    {
      "cell_type": "code",
      "source": [
        "model.compile(optimizer=\"sgd\",loss=\"sparse_categorical_crossentropy\",metrics=[\"accuracy\"])"
      ],
      "metadata": {
        "id": "kp836Xd6U6ha"
      },
      "execution_count": 12,
      "outputs": []
    },
    {
      "cell_type": "markdown",
      "source": [
        "## **Training and Evaluating the Model**\n",
        "\n",
        "---\n",
        "Now the model is ready to be trained. For this we simply need to call its **fit()** method. We pass it the input features (X_train) and the target classes (y_train), as well as the ***number of epochs*** to train (or else it would default to just 1, which would\n",
        "definitely not be enough to converge to a good solution). ***We also pass a validation*** set (this is optional): ***Keras will measure the loss and the extra metrics on this set at the end of each epoch,*** which is very useful to see how well the model really performs: if\n",
        "the performance on the training set is much better than on the validation set, your model is probably overfitting the training set (or there is a bug, such as a data mismatch between the training set and the validation set)\n",
        "\n",
        "---"
      ],
      "metadata": {
        "id": "ghO3dJlwXXw4"
      }
    },
    {
      "cell_type": "code",
      "source": [
        "history=model.fit(x_train,y_train,epochs=50,validation_data=(x_train_valid,y_train_valid))"
      ],
      "metadata": {
        "colab": {
          "base_uri": "https://localhost:8080/"
        },
        "id": "BSvuysQ7Xb4r",
        "outputId": "9ec55751-fffa-444a-981e-2a9be9d4f91c"
      },
      "execution_count": 28,
      "outputs": [
        {
          "output_type": "stream",
          "name": "stdout",
          "text": [
            "Epoch 1/50\n",
            "1719/1719 [==============================] - 9s 5ms/step - loss: 0.1353 - accuracy: 0.9524 - val_loss: 0.3330 - val_accuracy: 0.8840\n",
            "Epoch 2/50\n",
            "1719/1719 [==============================] - 10s 6ms/step - loss: 0.1337 - accuracy: 0.9530 - val_loss: 0.3000 - val_accuracy: 0.8980\n",
            "Epoch 3/50\n",
            "1719/1719 [==============================] - 7s 4ms/step - loss: 0.1311 - accuracy: 0.9535 - val_loss: 0.3077 - val_accuracy: 0.8980\n",
            "Epoch 4/50\n",
            "1719/1719 [==============================] - 10s 6ms/step - loss: 0.1292 - accuracy: 0.9550 - val_loss: 0.3182 - val_accuracy: 0.8982\n",
            "Epoch 5/50\n",
            "1719/1719 [==============================] - 10s 6ms/step - loss: 0.1274 - accuracy: 0.9547 - val_loss: 0.3425 - val_accuracy: 0.8920\n",
            "Epoch 6/50\n",
            "1719/1719 [==============================] - 9s 5ms/step - loss: 0.1251 - accuracy: 0.9557 - val_loss: 0.4012 - val_accuracy: 0.8658\n",
            "Epoch 7/50\n",
            "1719/1719 [==============================] - 7s 4ms/step - loss: 0.1231 - accuracy: 0.9567 - val_loss: 0.3341 - val_accuracy: 0.8922\n",
            "Epoch 8/50\n",
            "1719/1719 [==============================] - 9s 5ms/step - loss: 0.1199 - accuracy: 0.9581 - val_loss: 0.3141 - val_accuracy: 0.8960\n",
            "Epoch 9/50\n",
            "1719/1719 [==============================] - 10s 6ms/step - loss: 0.1195 - accuracy: 0.9576 - val_loss: 0.3460 - val_accuracy: 0.8912\n",
            "Epoch 10/50\n",
            "1719/1719 [==============================] - 7s 4ms/step - loss: 0.1173 - accuracy: 0.9589 - val_loss: 0.3172 - val_accuracy: 0.8978\n",
            "Epoch 11/50\n",
            "1719/1719 [==============================] - 9s 6ms/step - loss: 0.1150 - accuracy: 0.9592 - val_loss: 0.3758 - val_accuracy: 0.8784\n",
            "Epoch 12/50\n",
            "1719/1719 [==============================] - 8s 5ms/step - loss: 0.1136 - accuracy: 0.9600 - val_loss: 0.3408 - val_accuracy: 0.8954\n",
            "Epoch 13/50\n",
            "1719/1719 [==============================] - 9s 5ms/step - loss: 0.1102 - accuracy: 0.9612 - val_loss: 0.3104 - val_accuracy: 0.9028\n",
            "Epoch 14/50\n",
            "1719/1719 [==============================] - 9s 5ms/step - loss: 0.1083 - accuracy: 0.9626 - val_loss: 0.3193 - val_accuracy: 0.8996\n",
            "Epoch 15/50\n",
            "1719/1719 [==============================] - 9s 5ms/step - loss: 0.1077 - accuracy: 0.9623 - val_loss: 0.3264 - val_accuracy: 0.8960\n",
            "Epoch 16/50\n",
            "1719/1719 [==============================] - 8s 5ms/step - loss: 0.1059 - accuracy: 0.9637 - val_loss: 0.3290 - val_accuracy: 0.8968\n",
            "Epoch 17/50\n",
            "1719/1719 [==============================] - 9s 5ms/step - loss: 0.1034 - accuracy: 0.9642 - val_loss: 0.3406 - val_accuracy: 0.8972\n",
            "Epoch 18/50\n",
            "1719/1719 [==============================] - 9s 5ms/step - loss: 0.1035 - accuracy: 0.9632 - val_loss: 0.3300 - val_accuracy: 0.8982\n",
            "Epoch 19/50\n",
            "1719/1719 [==============================] - 8s 5ms/step - loss: 0.0999 - accuracy: 0.9649 - val_loss: 0.3310 - val_accuracy: 0.8970\n",
            "Epoch 20/50\n",
            "1719/1719 [==============================] - 9s 5ms/step - loss: 0.1006 - accuracy: 0.9642 - val_loss: 0.3360 - val_accuracy: 0.9002\n",
            "Epoch 21/50\n",
            "1719/1719 [==============================] - 9s 5ms/step - loss: 0.0968 - accuracy: 0.9668 - val_loss: 0.3425 - val_accuracy: 0.8950\n",
            "Epoch 22/50\n",
            "1719/1719 [==============================] - 7s 4ms/step - loss: 0.0957 - accuracy: 0.9667 - val_loss: 0.3494 - val_accuracy: 0.8986\n",
            "Epoch 23/50\n",
            "1719/1719 [==============================] - 9s 5ms/step - loss: 0.0944 - accuracy: 0.9675 - val_loss: 0.3853 - val_accuracy: 0.8810\n",
            "Epoch 24/50\n",
            "1719/1719 [==============================] - 8s 5ms/step - loss: 0.0923 - accuracy: 0.9686 - val_loss: 0.3267 - val_accuracy: 0.9000\n",
            "Epoch 25/50\n",
            "1719/1719 [==============================] - 8s 4ms/step - loss: 0.0905 - accuracy: 0.9684 - val_loss: 0.3494 - val_accuracy: 0.8924\n",
            "Epoch 26/50\n",
            "1719/1719 [==============================] - 10s 6ms/step - loss: 0.0886 - accuracy: 0.9696 - val_loss: 0.3854 - val_accuracy: 0.8938\n",
            "Epoch 27/50\n",
            "1719/1719 [==============================] - 9s 5ms/step - loss: 0.0880 - accuracy: 0.9699 - val_loss: 0.3681 - val_accuracy: 0.8926\n",
            "Epoch 28/50\n",
            "1719/1719 [==============================] - 8s 4ms/step - loss: 0.0866 - accuracy: 0.9703 - val_loss: 0.3616 - val_accuracy: 0.8894\n",
            "Epoch 29/50\n",
            "1719/1719 [==============================] - 9s 5ms/step - loss: 0.0871 - accuracy: 0.9699 - val_loss: 0.3619 - val_accuracy: 0.8946\n",
            "Epoch 30/50\n",
            "1719/1719 [==============================] - 8s 5ms/step - loss: 0.0844 - accuracy: 0.9708 - val_loss: 0.3438 - val_accuracy: 0.8986\n",
            "Epoch 31/50\n",
            "1719/1719 [==============================] - 7s 4ms/step - loss: 0.0821 - accuracy: 0.9717 - val_loss: 0.3439 - val_accuracy: 0.8986\n",
            "Epoch 32/50\n",
            "1719/1719 [==============================] - 9s 5ms/step - loss: 0.0787 - accuracy: 0.9732 - val_loss: 0.3877 - val_accuracy: 0.8930\n",
            "Epoch 33/50\n",
            "1719/1719 [==============================] - 9s 5ms/step - loss: 0.0805 - accuracy: 0.9722 - val_loss: 0.3640 - val_accuracy: 0.8962\n",
            "Epoch 34/50\n",
            "1719/1719 [==============================] - 8s 5ms/step - loss: 0.0776 - accuracy: 0.9731 - val_loss: 0.3520 - val_accuracy: 0.8980\n",
            "Epoch 35/50\n",
            "1719/1719 [==============================] - 9s 6ms/step - loss: 0.0779 - accuracy: 0.9733 - val_loss: 0.3595 - val_accuracy: 0.8954\n",
            "Epoch 36/50\n",
            "1719/1719 [==============================] - 9s 5ms/step - loss: 0.0744 - accuracy: 0.9749 - val_loss: 0.3633 - val_accuracy: 0.8968\n",
            "Epoch 37/50\n",
            "1719/1719 [==============================] - 7s 4ms/step - loss: 0.0732 - accuracy: 0.9750 - val_loss: 0.3915 - val_accuracy: 0.8918\n",
            "Epoch 38/50\n",
            "1719/1719 [==============================] - 9s 5ms/step - loss: 0.0730 - accuracy: 0.9755 - val_loss: 0.3553 - val_accuracy: 0.9004\n",
            "Epoch 39/50\n",
            "1719/1719 [==============================] - 9s 5ms/step - loss: 0.0701 - accuracy: 0.9764 - val_loss: 0.3794 - val_accuracy: 0.8930\n",
            "Epoch 40/50\n",
            "1719/1719 [==============================] - 8s 5ms/step - loss: 0.0710 - accuracy: 0.9757 - val_loss: 0.3746 - val_accuracy: 0.8972\n",
            "Epoch 41/50\n",
            "1719/1719 [==============================] - 9s 5ms/step - loss: 0.0699 - accuracy: 0.9768 - val_loss: 0.3805 - val_accuracy: 0.8954\n",
            "Epoch 42/50\n",
            "1719/1719 [==============================] - 10s 6ms/step - loss: 0.0672 - accuracy: 0.9772 - val_loss: 0.3961 - val_accuracy: 0.8928\n",
            "Epoch 43/50\n",
            "1719/1719 [==============================] - 9s 5ms/step - loss: 0.0665 - accuracy: 0.9782 - val_loss: 0.4183 - val_accuracy: 0.8948\n",
            "Epoch 44/50\n",
            "1719/1719 [==============================] - 7s 4ms/step - loss: 0.0650 - accuracy: 0.9784 - val_loss: 0.3731 - val_accuracy: 0.9014\n",
            "Epoch 45/50\n",
            "1719/1719 [==============================] - 9s 5ms/step - loss: 0.0646 - accuracy: 0.9779 - val_loss: 0.3905 - val_accuracy: 0.8934\n",
            "Epoch 46/50\n",
            "1719/1719 [==============================] - 9s 5ms/step - loss: 0.0624 - accuracy: 0.9789 - val_loss: 0.3972 - val_accuracy: 0.8914\n",
            "Epoch 47/50\n",
            "1719/1719 [==============================] - 7s 4ms/step - loss: 0.0629 - accuracy: 0.9796 - val_loss: 0.3892 - val_accuracy: 0.8968\n",
            "Epoch 48/50\n",
            "1719/1719 [==============================] - 10s 6ms/step - loss: 0.0617 - accuracy: 0.9793 - val_loss: 0.3850 - val_accuracy: 0.8994\n",
            "Epoch 49/50\n",
            "1719/1719 [==============================] - 8s 5ms/step - loss: 0.0602 - accuracy: 0.9799 - val_loss: 0.4076 - val_accuracy: 0.8902\n",
            "Epoch 50/50\n",
            "1719/1719 [==============================] - 8s 5ms/step - loss: 0.0606 - accuracy: 0.9794 - val_loss: 0.4682 - val_accuracy: 0.8882\n"
          ]
        }
      ]
    },
    {
      "cell_type": "markdown",
      "source": [
        "## **Show Training History**\n",
        "\n",
        "\n",
        "---\n",
        "\n",
        "\n",
        "***history.history*** : this attribute save all values of loss/accuracy in training operation\n",
        "\n",
        "\n",
        "---\n",
        "\n"
      ],
      "metadata": {
        "id": "hr-gYiAFKfLa"
      }
    },
    {
      "cell_type": "code",
      "source": [
        "pd.DataFrame(history.history).tail()"
      ],
      "metadata": {
        "colab": {
          "base_uri": "https://localhost:8080/",
          "height": 206
        },
        "id": "j5FiaHLhKkKE",
        "outputId": "136da850-7b76-4e58-cde0-5f4ac11fdb15"
      },
      "execution_count": 30,
      "outputs": [
        {
          "output_type": "execute_result",
          "data": {
            "text/plain": [
              "        loss  accuracy  val_loss  val_accuracy\n",
              "45  0.062436  0.978855  0.397187        0.8914\n",
              "46  0.062880  0.979600  0.389207        0.8968\n",
              "47  0.061674  0.979255  0.385041        0.8994\n",
              "48  0.060248  0.979873  0.407584        0.8902\n",
              "49  0.060635  0.979400  0.468189        0.8882"
            ],
            "text/html": [
              "\n",
              "\n",
              "  <div id=\"df-3e145310-5b4c-4afe-b7b1-2910581f6d8c\">\n",
              "    <div class=\"colab-df-container\">\n",
              "      <div>\n",
              "<style scoped>\n",
              "    .dataframe tbody tr th:only-of-type {\n",
              "        vertical-align: middle;\n",
              "    }\n",
              "\n",
              "    .dataframe tbody tr th {\n",
              "        vertical-align: top;\n",
              "    }\n",
              "\n",
              "    .dataframe thead th {\n",
              "        text-align: right;\n",
              "    }\n",
              "</style>\n",
              "<table border=\"1\" class=\"dataframe\">\n",
              "  <thead>\n",
              "    <tr style=\"text-align: right;\">\n",
              "      <th></th>\n",
              "      <th>loss</th>\n",
              "      <th>accuracy</th>\n",
              "      <th>val_loss</th>\n",
              "      <th>val_accuracy</th>\n",
              "    </tr>\n",
              "  </thead>\n",
              "  <tbody>\n",
              "    <tr>\n",
              "      <th>45</th>\n",
              "      <td>0.062436</td>\n",
              "      <td>0.978855</td>\n",
              "      <td>0.397187</td>\n",
              "      <td>0.8914</td>\n",
              "    </tr>\n",
              "    <tr>\n",
              "      <th>46</th>\n",
              "      <td>0.062880</td>\n",
              "      <td>0.979600</td>\n",
              "      <td>0.389207</td>\n",
              "      <td>0.8968</td>\n",
              "    </tr>\n",
              "    <tr>\n",
              "      <th>47</th>\n",
              "      <td>0.061674</td>\n",
              "      <td>0.979255</td>\n",
              "      <td>0.385041</td>\n",
              "      <td>0.8994</td>\n",
              "    </tr>\n",
              "    <tr>\n",
              "      <th>48</th>\n",
              "      <td>0.060248</td>\n",
              "      <td>0.979873</td>\n",
              "      <td>0.407584</td>\n",
              "      <td>0.8902</td>\n",
              "    </tr>\n",
              "    <tr>\n",
              "      <th>49</th>\n",
              "      <td>0.060635</td>\n",
              "      <td>0.979400</td>\n",
              "      <td>0.468189</td>\n",
              "      <td>0.8882</td>\n",
              "    </tr>\n",
              "  </tbody>\n",
              "</table>\n",
              "</div>\n",
              "      <button class=\"colab-df-convert\" onclick=\"convertToInteractive('df-3e145310-5b4c-4afe-b7b1-2910581f6d8c')\"\n",
              "              title=\"Convert this dataframe to an interactive table.\"\n",
              "              style=\"display:none;\">\n",
              "\n",
              "  <svg xmlns=\"http://www.w3.org/2000/svg\" height=\"24px\"viewBox=\"0 0 24 24\"\n",
              "       width=\"24px\">\n",
              "    <path d=\"M0 0h24v24H0V0z\" fill=\"none\"/>\n",
              "    <path d=\"M18.56 5.44l.94 2.06.94-2.06 2.06-.94-2.06-.94-.94-2.06-.94 2.06-2.06.94zm-11 1L8.5 8.5l.94-2.06 2.06-.94-2.06-.94L8.5 2.5l-.94 2.06-2.06.94zm10 10l.94 2.06.94-2.06 2.06-.94-2.06-.94-.94-2.06-.94 2.06-2.06.94z\"/><path d=\"M17.41 7.96l-1.37-1.37c-.4-.4-.92-.59-1.43-.59-.52 0-1.04.2-1.43.59L10.3 9.45l-7.72 7.72c-.78.78-.78 2.05 0 2.83L4 21.41c.39.39.9.59 1.41.59.51 0 1.02-.2 1.41-.59l7.78-7.78 2.81-2.81c.8-.78.8-2.07 0-2.86zM5.41 20L4 18.59l7.72-7.72 1.47 1.35L5.41 20z\"/>\n",
              "  </svg>\n",
              "      </button>\n",
              "\n",
              "\n",
              "\n",
              "    <div id=\"df-6ffa8579-9736-4dd8-9699-720dcbe8e832\">\n",
              "      <button class=\"colab-df-quickchart\" onclick=\"quickchart('df-6ffa8579-9736-4dd8-9699-720dcbe8e832')\"\n",
              "              title=\"Suggest charts.\"\n",
              "              style=\"display:none;\">\n",
              "\n",
              "<svg xmlns=\"http://www.w3.org/2000/svg\" height=\"24px\"viewBox=\"0 0 24 24\"\n",
              "     width=\"24px\">\n",
              "    <g>\n",
              "        <path d=\"M19 3H5c-1.1 0-2 .9-2 2v14c0 1.1.9 2 2 2h14c1.1 0 2-.9 2-2V5c0-1.1-.9-2-2-2zM9 17H7v-7h2v7zm4 0h-2V7h2v10zm4 0h-2v-4h2v4z\"/>\n",
              "    </g>\n",
              "</svg>\n",
              "      </button>\n",
              "    </div>\n",
              "\n",
              "<style>\n",
              "  .colab-df-quickchart {\n",
              "    background-color: #E8F0FE;\n",
              "    border: none;\n",
              "    border-radius: 50%;\n",
              "    cursor: pointer;\n",
              "    display: none;\n",
              "    fill: #1967D2;\n",
              "    height: 32px;\n",
              "    padding: 0 0 0 0;\n",
              "    width: 32px;\n",
              "  }\n",
              "\n",
              "  .colab-df-quickchart:hover {\n",
              "    background-color: #E2EBFA;\n",
              "    box-shadow: 0px 1px 2px rgba(60, 64, 67, 0.3), 0px 1px 3px 1px rgba(60, 64, 67, 0.15);\n",
              "    fill: #174EA6;\n",
              "  }\n",
              "\n",
              "  [theme=dark] .colab-df-quickchart {\n",
              "    background-color: #3B4455;\n",
              "    fill: #D2E3FC;\n",
              "  }\n",
              "\n",
              "  [theme=dark] .colab-df-quickchart:hover {\n",
              "    background-color: #434B5C;\n",
              "    box-shadow: 0px 1px 3px 1px rgba(0, 0, 0, 0.15);\n",
              "    filter: drop-shadow(0px 1px 2px rgba(0, 0, 0, 0.3));\n",
              "    fill: #FFFFFF;\n",
              "  }\n",
              "</style>\n",
              "\n",
              "    <script>\n",
              "      async function quickchart(key) {\n",
              "        const containerElement = document.querySelector('#' + key);\n",
              "        const charts = await google.colab.kernel.invokeFunction(\n",
              "            'suggestCharts', [key], {});\n",
              "      }\n",
              "    </script>\n",
              "\n",
              "      <script>\n",
              "\n",
              "function displayQuickchartButton(domScope) {\n",
              "  let quickchartButtonEl =\n",
              "    domScope.querySelector('#df-6ffa8579-9736-4dd8-9699-720dcbe8e832 button.colab-df-quickchart');\n",
              "  quickchartButtonEl.style.display =\n",
              "    google.colab.kernel.accessAllowed ? 'block' : 'none';\n",
              "}\n",
              "\n",
              "        displayQuickchartButton(document);\n",
              "      </script>\n",
              "      <style>\n",
              "    .colab-df-container {\n",
              "      display:flex;\n",
              "      flex-wrap:wrap;\n",
              "      gap: 12px;\n",
              "    }\n",
              "\n",
              "    .colab-df-convert {\n",
              "      background-color: #E8F0FE;\n",
              "      border: none;\n",
              "      border-radius: 50%;\n",
              "      cursor: pointer;\n",
              "      display: none;\n",
              "      fill: #1967D2;\n",
              "      height: 32px;\n",
              "      padding: 0 0 0 0;\n",
              "      width: 32px;\n",
              "    }\n",
              "\n",
              "    .colab-df-convert:hover {\n",
              "      background-color: #E2EBFA;\n",
              "      box-shadow: 0px 1px 2px rgba(60, 64, 67, 0.3), 0px 1px 3px 1px rgba(60, 64, 67, 0.15);\n",
              "      fill: #174EA6;\n",
              "    }\n",
              "\n",
              "    [theme=dark] .colab-df-convert {\n",
              "      background-color: #3B4455;\n",
              "      fill: #D2E3FC;\n",
              "    }\n",
              "\n",
              "    [theme=dark] .colab-df-convert:hover {\n",
              "      background-color: #434B5C;\n",
              "      box-shadow: 0px 1px 3px 1px rgba(0, 0, 0, 0.15);\n",
              "      filter: drop-shadow(0px 1px 2px rgba(0, 0, 0, 0.3));\n",
              "      fill: #FFFFFF;\n",
              "    }\n",
              "  </style>\n",
              "\n",
              "      <script>\n",
              "        const buttonEl =\n",
              "          document.querySelector('#df-3e145310-5b4c-4afe-b7b1-2910581f6d8c button.colab-df-convert');\n",
              "        buttonEl.style.display =\n",
              "          google.colab.kernel.accessAllowed ? 'block' : 'none';\n",
              "\n",
              "        async function convertToInteractive(key) {\n",
              "          const element = document.querySelector('#df-3e145310-5b4c-4afe-b7b1-2910581f6d8c');\n",
              "          const dataTable =\n",
              "            await google.colab.kernel.invokeFunction('convertToInteractive',\n",
              "                                                     [key], {});\n",
              "          if (!dataTable) return;\n",
              "\n",
              "          const docLinkHtml = 'Like what you see? Visit the ' +\n",
              "            '<a target=\"_blank\" href=https://colab.research.google.com/notebooks/data_table.ipynb>data table notebook</a>'\n",
              "            + ' to learn more about interactive tables.';\n",
              "          element.innerHTML = '';\n",
              "          dataTable['output_type'] = 'display_data';\n",
              "          await google.colab.output.renderOutput(dataTable, element);\n",
              "          const docLink = document.createElement('div');\n",
              "          docLink.innerHTML = docLinkHtml;\n",
              "          element.appendChild(docLink);\n",
              "        }\n",
              "      </script>\n",
              "    </div>\n",
              "  </div>\n"
            ]
          },
          "metadata": {},
          "execution_count": 30
        }
      ]
    },
    {
      "cell_type": "code",
      "source": [
        "pd.DataFrame(history.history).plot(figsize=(8,5))\n",
        "plt.gca().set_ylim(0,1)\n",
        "plt.grid(True)\n",
        "plt.show()"
      ],
      "metadata": {
        "colab": {
          "base_uri": "https://localhost:8080/",
          "height": 451
        },
        "id": "LPuR_bxkM3r-",
        "outputId": "3a02313d-6584-4748-dd8f-7566b3149d22"
      },
      "execution_count": 32,
      "outputs": [
        {
          "output_type": "display_data",
          "data": {
            "text/plain": [
              "<Figure size 800x500 with 1 Axes>"
            ],
            "image/png": "[encoded data removed]"
          },
          "metadata": {}
        }
      ]
    },
    {
      "cell_type": "markdown",
      "source": [
        "## **Evalute The Model**"
      ],
      "metadata": {
        "id": "ONZh3DKgQiJM"
      }
    },
    {
      "cell_type": "code",
      "source": [
        "model.evaluate(x_test,y_test)"
      ],
      "metadata": {
        "colab": {
          "base_uri": "https://localhost:8080/"
        },
        "id": "a_5gouoIQfrM",
        "outputId": "af2047fd-c364-405f-dfdb-146855d5f6b2"
      },
      "execution_count": 33,
      "outputs": [
        {
          "output_type": "stream",
          "name": "stdout",
          "text": [
            "313/313 [==============================] - 1s 3ms/step - loss: 165.3930 - accuracy: 0.8187\n"
          ]
        },
        {
          "output_type": "execute_result",
          "data": {
            "text/plain": [
              "[165.3929901123047, 0.8187000155448914]"
            ]
          },
          "metadata": {},
          "execution_count": 33
        }
      ]
    },
    {
      "cell_type": "markdown",
      "source": [
        "## **Using the Model to Make Predictions**"
      ],
      "metadata": {
        "id": "Ajl_S8PsRFft"
      }
    },
    {
      "cell_type": "code",
      "source": [
        "model.predict(x_test[:9]).round(2) #probabilities"
      ],
      "metadata": {
        "colab": {
          "base_uri": "https://localhost:8080/"
        },
        "id": "Rb6KigbFRH78",
        "outputId": "a79a0a69-c855-4a7a-f7b5-37be5067e8f7"
      },
      "execution_count": 38,
      "outputs": [
        {
          "output_type": "stream",
          "name": "stdout",
          "text": [
            "1/1 [==============================] - 0s 52ms/step\n"
          ]
        },
        {
          "output_type": "execute_result",
          "data": {
            "text/plain": [
              "array([[0., 0., 0., 0., 0., 0., 0., 0., 0., 1.],\n",
              "       [0., 0., 1., 0., 0., 0., 0., 0., 0., 0.],\n",
              "       [0., 1., 0., 0., 0., 0., 0., 0., 0., 0.],\n",
              "       [0., 1., 0., 0., 0., 0., 0., 0., 0., 0.],\n",
              "       [1., 0., 0., 0., 0., 0., 0., 0., 0., 0.],\n",
              "       [0., 1., 0., 0., 0., 0., 0., 0., 0., 0.],\n",
              "       [0., 0., 0., 0., 1., 0., 0., 0., 0., 0.],\n",
              "       [0., 0., 0., 0., 1., 0., 0., 0., 0., 0.],\n",
              "       [0., 0., 0., 0., 0., 1., 0., 0., 0., 0.]], dtype=float32)"
            ]
          },
          "metadata": {},
          "execution_count": 38
        }
      ]
    },
    {
      "cell_type": "markdown",
      "source": [
        "#**Building a Regression MLP Using the Sequential API**\n",
        "\n",
        "---\n",
        "\n",
        "- MLP : MACHINE LEARNING PROCESSES\n",
        "\n",
        "- In this section we work in the ***California Houses data***\n",
        "\n",
        "- To load this data we use SkitLearnAPI\n",
        "\n",
        "- This dataset is simpler, since it contains only numerical features (there is no ocean_proximity feature), and\n",
        "there is no missing value.\n",
        "\n",
        "---\n",
        "\n",
        "\n"
      ],
      "metadata": {
        "id": "iKZngu_hTiXf"
      }
    },
    {
      "cell_type": "code",
      "source": [
        "from sklearn.datasets import fetch_california_housing #dataAPI\n",
        "from sklearn.model_selection import train_test_split #data spliter\n",
        "from sklearn.preprocessing import StandardScaler #dataScaler"
      ],
      "metadata": {
        "id": "PICipZCvUShX"
      },
      "execution_count": 39,
      "outputs": []
    },
    {
      "cell_type": "code",
      "source": [
        "#load data\n",
        "housing=fetch_california_housing()"
      ],
      "metadata": {
        "id": "owGpxQRlU7xy"
      },
      "execution_count": 53,
      "outputs": []
    },
    {
      "cell_type": "code",
      "source": [
        "features=pd.DataFrame(data=housing.data,columns=housing.feature_names)\n",
        "target=pd.DataFrame(data=housing.target,columns=housing.target_names)\n",
        "data=pd.concat([features,target],axis=1)\n",
        "data.head()"
      ],
      "metadata": {
        "colab": {
          "base_uri": "https://localhost:8080/",
          "height": 206
        },
        "id": "qiAhdMI9VJyf",
        "outputId": "bc00138e-354a-46c5-c7a5-a0e62814bf6c"
      },
      "execution_count": 62,
      "outputs": [
        {
          "output_type": "execute_result",
          "data": {
            "text/plain": [
              "   MedInc  HouseAge  AveRooms  AveBedrms  Population  AveOccup  Latitude  \\\n",
              "0  8.3252      41.0  6.984127   1.023810       322.0  2.555556     37.88   \n",
              "1  8.3014      21.0  6.238137   0.971880      2401.0  2.109842     37.86   \n",
              "2  7.2574      52.0  8.288136   1.073446       496.0  2.802260     37.85   \n",
              "3  5.6431      52.0  5.817352   1.073059       558.0  2.547945     37.85   \n",
              "4  3.8462      52.0  6.281853   1.081081       565.0  2.181467     37.85   \n",
              "\n",
              "   Longitude  MedHouseVal  \n",
              "0    -122.23        4.526  \n",
              "1    -122.22        3.585  \n",
              "2    -122.24        3.521  \n",
              "3    -122.25        3.413  \n",
              "4    -122.25        3.422  "
            ],
            "text/html": [
              "\n",
              "\n",
              "  <div id=\"df-f23a2a0a-80cd-4edd-81ac-83701b95fdcf\">\n",
              "    <div class=\"colab-df-container\">\n",
              "      <div>\n",
              "<style scoped>\n",
              "    .dataframe tbody tr th:only-of-type {\n",
              "        vertical-align: middle;\n",
              "    }\n",
              "\n",
              "    .dataframe tbody tr th {\n",
              "        vertical-align: top;\n",
              "    }\n",
              "\n",
              "    .dataframe thead th {\n",
              "        text-align: right;\n",
              "    }\n",
              "</style>\n",
              "<table border=\"1\" class=\"dataframe\">\n",
              "  <thead>\n",
              "    <tr style=\"text-align: right;\">\n",
              "      <th></th>\n",
              "      <th>MedInc</th>\n",
              "      <th>HouseAge</th>\n",
              "      <th>AveRooms</th>\n",
              "      <th>AveBedrms</th>\n",
              "      <th>Population</th>\n",
              "      <th>AveOccup</th>\n",
              "      <th>Latitude</th>\n",
              "      <th>Longitude</th>\n",
              "      <th>MedHouseVal</th>\n",
              "    </tr>\n",
              "  </thead>\n",
              "  <tbody>\n",
              "    <tr>\n",
              "      <th>0</th>\n",
              "      <td>8.3252</td>\n",
              "      <td>41.0</td>\n",
              "      <td>6.984127</td>\n",
              "      <td>1.023810</td>\n",
              "      <td>322.0</td>\n",
              "      <td>2.555556</td>\n",
              "      <td>37.88</td>\n",
              "      <td>-122.23</td>\n",
              "      <td>4.526</td>\n",
              "    </tr>\n",
              "    <tr>\n",
              "      <th>1</th>\n",
              "      <td>8.3014</td>\n",
              "      <td>21.0</td>\n",
              "      <td>6.238137</td>\n",
              "      <td>0.971880</td>\n",
              "      <td>2401.0</td>\n",
              "      <td>2.109842</td>\n",
              "      <td>37.86</td>\n",
              "      <td>-122.22</td>\n",
              "      <td>3.585</td>\n",
              "    </tr>\n",
              "    <tr>\n",
              "      <th>2</th>\n",
              "      <td>7.2574</td>\n",
              "      <td>52.0</td>\n",
              "      <td>8.288136</td>\n",
              "      <td>1.073446</td>\n",
              "      <td>496.0</td>\n",
              "      <td>2.802260</td>\n",
              "      <td>37.85</td>\n",
              "      <td>-122.24</td>\n",
              "      <td>3.521</td>\n",
              "    </tr>\n",
              "    <tr>\n",
              "      <th>3</th>\n",
              "      <td>5.6431</td>\n",
              "      <td>52.0</td>\n",
              "      <td>5.817352</td>\n",
              "      <td>1.073059</td>\n",
              "      <td>558.0</td>\n",
              "      <td>2.547945</td>\n",
              "      <td>37.85</td>\n",
              "      <td>-122.25</td>\n",
              "      <td>3.413</td>\n",
              "    </tr>\n",
              "    <tr>\n",
              "      <th>4</th>\n",
              "      <td>3.8462</td>\n",
              "      <td>52.0</td>\n",
              "      <td>6.281853</td>\n",
              "      <td>1.081081</td>\n",
              "      <td>565.0</td>\n",
              "      <td>2.181467</td>\n",
              "      <td>37.85</td>\n",
              "      <td>-122.25</td>\n",
              "      <td>3.422</td>\n",
              "    </tr>\n",
              "  </tbody>\n",
              "</table>\n",
              "</div>\n",
              "      <button class=\"colab-df-convert\" onclick=\"convertToInteractive('df-f23a2a0a-80cd-4edd-81ac-83701b95fdcf')\"\n",
              "              title=\"Convert this dataframe to an interactive table.\"\n",
              "              style=\"display:none;\">\n",
              "\n",
              "  <svg xmlns=\"http://www.w3.org/2000/svg\" height=\"24px\"viewBox=\"0 0 24 24\"\n",
              "       width=\"24px\">\n",
              "    <path d=\"M0 0h24v24H0V0z\" fill=\"none\"/>\n",
              "    <path d=\"M18.56 5.44l.94 2.06.94-2.06 2.06-.94-2.06-.94-.94-2.06-.94 2.06-2.06.94zm-11 1L8.5 8.5l.94-2.06 2.06-.94-2.06-.94L8.5 2.5l-.94 2.06-2.06.94zm10 10l.94 2.06.94-2.06 2.06-.94-2.06-.94-.94-2.06-.94 2.06-2.06.94z\"/><path d=\"M17.41 7.96l-1.37-1.37c-.4-.4-.92-.59-1.43-.59-.52 0-1.04.2-1.43.59L10.3 9.45l-7.72 7.72c-.78.78-.78 2.05 0 2.83L4 21.41c.39.39.9.59 1.41.59.51 0 1.02-.2 1.41-.59l7.78-7.78 2.81-2.81c.8-.78.8-2.07 0-2.86zM5.41 20L4 18.59l7.72-7.72 1.47 1.35L5.41 20z\"/>\n",
              "  </svg>\n",
              "      </button>\n",
              "\n",
              "\n",
              "\n",
              "    <div id=\"df-92c2a925-45f0-4448-8c33-cf3d87ce14d6\">\n",
              "      <button class=\"colab-df-quickchart\" onclick=\"quickchart('df-92c2a925-45f0-4448-8c33-cf3d87ce14d6')\"\n",
              "              title=\"Suggest charts.\"\n",
              "              style=\"display:none;\">\n",
              "\n",
              "<svg xmlns=\"http://www.w3.org/2000/svg\" height=\"24px\"viewBox=\"0 0 24 24\"\n",
              "     width=\"24px\">\n",
              "    <g>\n",
              "        <path d=\"M19 3H5c-1.1 0-2 .9-2 2v14c0 1.1.9 2 2 2h14c1.1 0 2-.9 2-2V5c0-1.1-.9-2-2-2zM9 17H7v-7h2v7zm4 0h-2V7h2v10zm4 0h-2v-4h2v4z\"/>\n",
              "    </g>\n",
              "</svg>\n",
              "      </button>\n",
              "    </div>\n",
              "\n",
              "<style>\n",
              "  .colab-df-quickchart {\n",
              "    background-color: #E8F0FE;\n",
              "    border: none;\n",
              "    border-radius: 50%;\n",
              "    cursor: pointer;\n",
              "    display: none;\n",
              "    fill: #1967D2;\n",
              "    height: 32px;\n",
              "    padding: 0 0 0 0;\n",
              "    width: 32px;\n",
              "  }\n",
              "\n",
              "  .colab-df-quickchart:hover {\n",
              "    background-color: #E2EBFA;\n",
              "    box-shadow: 0px 1px 2px rgba(60, 64, 67, 0.3), 0px 1px 3px 1px rgba(60, 64, 67, 0.15);\n",
              "    fill: #174EA6;\n",
              "  }\n",
              "\n",
              "  [theme=dark] .colab-df-quickchart {\n",
              "    background-color: #3B4455;\n",
              "    fill: #D2E3FC;\n",
              "  }\n",
              "\n",
              "  [theme=dark] .colab-df-quickchart:hover {\n",
              "    background-color: #434B5C;\n",
              "    box-shadow: 0px 1px 3px 1px rgba(0, 0, 0, 0.15);\n",
              "    filter: drop-shadow(0px 1px 2px rgba(0, 0, 0, 0.3));\n",
              "    fill: #FFFFFF;\n",
              "  }\n",
              "</style>\n",
              "\n",
              "    <script>\n",
              "      async function quickchart(key) {\n",
              "        const containerElement = document.querySelector('#' + key);\n",
              "        const charts = await google.colab.kernel.invokeFunction(\n",
              "            'suggestCharts', [key], {});\n",
              "      }\n",
              "    </script>\n",
              "\n",
              "      <script>\n",
              "\n",
              "function displayQuickchartButton(domScope) {\n",
              "  let quickchartButtonEl =\n",
              "    domScope.querySelector('#df-92c2a925-45f0-4448-8c33-cf3d87ce14d6 button.colab-df-quickchart');\n",
              "  quickchartButtonEl.style.display =\n",
              "    google.colab.kernel.accessAllowed ? 'block' : 'none';\n",
              "}\n",
              "\n",
              "        displayQuickchartButton(document);\n",
              "      </script>\n",
              "      <style>\n",
              "    .colab-df-container {\n",
              "      display:flex;\n",
              "      flex-wrap:wrap;\n",
              "      gap: 12px;\n",
              "    }\n",
              "\n",
              "    .colab-df-convert {\n",
              "      background-color: #E8F0FE;\n",
              "      border: none;\n",
              "      border-radius: 50%;\n",
              "      cursor: pointer;\n",
              "      display: none;\n",
              "      fill: #1967D2;\n",
              "      height: 32px;\n",
              "      padding: 0 0 0 0;\n",
              "      width: 32px;\n",
              "    }\n",
              "\n",
              "    .colab-df-convert:hover {\n",
              "      background-color: #E2EBFA;\n",
              "      box-shadow: 0px 1px 2px rgba(60, 64, 67, 0.3), 0px 1px 3px 1px rgba(60, 64, 67, 0.15);\n",
              "      fill: #174EA6;\n",
              "    }\n",
              "\n",
              "    [theme=dark] .colab-df-convert {\n",
              "      background-color: #3B4455;\n",
              "      fill: #D2E3FC;\n",
              "    }\n",
              "\n",
              "    [theme=dark] .colab-df-convert:hover {\n",
              "      background-color: #434B5C;\n",
              "      box-shadow: 0px 1px 3px 1px rgba(0, 0, 0, 0.15);\n",
              "      filter: drop-shadow(0px 1px 2px rgba(0, 0, 0, 0.3));\n",
              "      fill: #FFFFFF;\n",
              "    }\n",
              "  </style>\n",
              "\n",
              "      <script>\n",
              "        const buttonEl =\n",
              "          document.querySelector('#df-f23a2a0a-80cd-4edd-81ac-83701b95fdcf button.colab-df-convert');\n",
              "        buttonEl.style.display =\n",
              "          google.colab.kernel.accessAllowed ? 'block' : 'none';\n",
              "\n",
              "        async function convertToInteractive(key) {\n",
              "          const element = document.querySelector('#df-f23a2a0a-80cd-4edd-81ac-83701b95fdcf');\n",
              "          const dataTable =\n",
              "            await google.colab.kernel.invokeFunction('convertToInteractive',\n",
              "                                                     [key], {});\n",
              "          if (!dataTable) return;\n",
              "\n",
              "          const docLinkHtml = 'Like what you see? Visit the ' +\n",
              "            '<a target=\"_blank\" href=https://colab.research.google.com/notebooks/data_table.ipynb>data table notebook</a>'\n",
              "            + ' to learn more about interactive tables.';\n",
              "          element.innerHTML = '';\n",
              "          dataTable['output_type'] = 'display_data';\n",
              "          await google.colab.output.renderOutput(dataTable, element);\n",
              "          const docLink = document.createElement('div');\n",
              "          docLink.innerHTML = docLinkHtml;\n",
              "          element.appendChild(docLink);\n",
              "        }\n",
              "      </script>\n",
              "    </div>\n",
              "  </div>\n"
            ]
          },
          "metadata": {},
          "execution_count": 62
        }
      ]
    },
    {
      "cell_type": "code",
      "source": [
        "data.info()"
      ],
      "metadata": {
        "colab": {
          "base_uri": "https://localhost:8080/"
        },
        "id": "4pydp0NYXF8G",
        "outputId": "118011c2-c7ff-45e7-cff5-7789bc3addbf"
      },
      "execution_count": 64,
      "outputs": [
        {
          "output_type": "stream",
          "name": "stdout",
          "text": [
            "<class 'pandas.core.frame.DataFrame'>\n",
            "RangeIndex: 20640 entries, 0 to 20639\n",
            "Data columns (total 9 columns):\n",
            " #   Column       Non-Null Count  Dtype  \n",
            "---  ------       --------------  -----  \n",
            " 0   MedInc       20640 non-null  float64\n",
            " 1   HouseAge     20640 non-null  float64\n",
            " 2   AveRooms     20640 non-null  float64\n",
            " 3   AveBedrms    20640 non-null  float64\n",
            " 4   Population   20640 non-null  float64\n",
            " 5   AveOccup     20640 non-null  float64\n",
            " 6   Latitude     20640 non-null  float64\n",
            " 7   Longitude    20640 non-null  float64\n",
            " 8   MedHouseVal  20640 non-null  float64\n",
            "dtypes: float64(9)\n",
            "memory usage: 1.4 MB\n"
          ]
        }
      ]
    },
    {
      "cell_type": "code",
      "source": [
        "#dataSplite\n",
        "X=data.iloc[:,:8].values\n",
        "Y=data.iloc[:,8].values\n",
        "Xtrainfull,Xtest,Ytrainfull,Ytest=train_test_split(X,Y,test_size=0.2)"
      ],
      "metadata": {
        "id": "xdab83gjXKL4"
      },
      "execution_count": 73,
      "outputs": []
    },
    {
      "cell_type": "code",
      "source": [
        "#addValidationStep\n",
        "Xtrain,Xvalid,Ytrain,Yvalid=train_test_split(Xtrainfull,Ytrainfull,test_size=0.2)"
      ],
      "metadata": {
        "id": "pB-OImMVZIHx"
      },
      "execution_count": 74,
      "outputs": []
    },
    {
      "cell_type": "code",
      "source": [
        "#featuresScaling\n",
        "scaler=StandardScaler()\n",
        "XtrainScal=scaler.fit_transform(Xtrain)\n",
        "XvalidScal=scaler.transform(Xvalid)\n",
        "XtestScal=scaler.transform(Xtest)"
      ],
      "metadata": {
        "id": "NO111-IEYb4n"
      },
      "execution_count": 75,
      "outputs": []
    },
    {
      "cell_type": "markdown",
      "source": [
        "## **Build MLP**"
      ],
      "metadata": {
        "id": "59U1CDsXamon"
      }
    },
    {
      "cell_type": "code",
      "source": [
        "mlpModel=keras.models.Sequential([\n",
        "    keras.layers.Dense(30,activation=\"relu\",input_shape=Xtrain.shape[1:]),\n",
        "    keras.layers.Dense(1)\n",
        "])"
      ],
      "metadata": {
        "id": "9O5zXkmXaq14"
      },
      "execution_count": 78,
      "outputs": []
    },
    {
      "cell_type": "code",
      "source": [
        "mlpModel.compile(optimizer=\"sgd\",loss=\"mean_squared_error\")"
      ],
      "metadata": {
        "id": "XhFHOCdGbqDx"
      },
      "execution_count": 79,
      "outputs": []
    },
    {
      "cell_type": "code",
      "source": [
        "mlpModel.summary()"
      ],
      "metadata": {
        "colab": {
          "base_uri": "https://localhost:8080/"
        },
        "id": "fojKDjT0ciX6",
        "outputId": "bdf13d99-8f13-4ced-c1f3-99348d8320f2"
      },
      "execution_count": 80,
      "outputs": [
        {
          "output_type": "stream",
          "name": "stdout",
          "text": [
            "Model: \"sequential_1\"\n",
            "_________________________________________________________________\n",
            " Layer (type)                Output Shape              Param #   \n",
            "=================================================================\n",
            " dense_3 (Dense)             (None, 30)                270       \n",
            "                                                                 \n",
            " dense_4 (Dense)             (None, 1)                 31        \n",
            "                                                                 \n",
            "=================================================================\n",
            "Total params: 301\n",
            "Trainable params: 301\n",
            "Non-trainable params: 0\n",
            "_________________________________________________________________\n"
          ]
        }
      ]
    },
    {
      "cell_type": "code",
      "source": [
        "mllpHistory=mlpModel.fit(XtrainScal,Ytrain,epochs=20,validation_data=(XvalidScal,Yvalid))"
      ],
      "metadata": {
        "colab": {
          "base_uri": "https://localhost:8080/"
        },
        "id": "bCNt3YBXb9Ow",
        "outputId": "d0f1bbe3-d0de-4dc7-a4f4-b710c39d2f87"
      },
      "execution_count": 81,
      "outputs": [
        {
          "output_type": "stream",
          "name": "stdout",
          "text": [
            "Epoch 1/20\n",
            "413/413 [==============================] - 2s 3ms/step - loss: 0.8329 - val_loss: 0.5603\n",
            "Epoch 2/20\n",
            "413/413 [==============================] - 1s 2ms/step - loss: 0.5490 - val_loss: 0.5069\n",
            "Epoch 3/20\n",
            "413/413 [==============================] - 1s 2ms/step - loss: 0.4705 - val_loss: 0.4842\n",
            "Epoch 4/20\n",
            "413/413 [==============================] - 1s 2ms/step - loss: 0.4512 - val_loss: 0.4771\n",
            "Epoch 5/20\n",
            "413/413 [==============================] - 1s 2ms/step - loss: 0.4390 - val_loss: 0.4550\n",
            "Epoch 6/20\n",
            "413/413 [==============================] - 1s 3ms/step - loss: 0.4295 - val_loss: 0.4809\n",
            "Epoch 7/20\n",
            "413/413 [==============================] - 1s 3ms/step - loss: 0.4230 - val_loss: 0.4477\n",
            "Epoch 8/20\n",
            "413/413 [==============================] - 1s 2ms/step - loss: 0.4161 - val_loss: 0.4367\n",
            "Epoch 9/20\n",
            "413/413 [==============================] - 1s 2ms/step - loss: 0.4249 - val_loss: 0.4330\n",
            "Epoch 10/20\n",
            "413/413 [==============================] - 1s 2ms/step - loss: 0.4256 - val_loss: 0.4360\n",
            "Epoch 11/20\n",
            "413/413 [==============================] - 1s 2ms/step - loss: 0.3983 - val_loss: 0.4230\n",
            "Epoch 12/20\n",
            "413/413 [==============================] - 1s 2ms/step - loss: 0.3957 - val_loss: 0.4223\n",
            "Epoch 13/20\n",
            "413/413 [==============================] - 1s 2ms/step - loss: 0.3996 - val_loss: 0.4092\n",
            "Epoch 14/20\n",
            "413/413 [==============================] - 1s 2ms/step - loss: 0.3863 - val_loss: 0.4462\n",
            "Epoch 15/20\n",
            "413/413 [==============================] - 1s 2ms/step - loss: 0.3827 - val_loss: 0.4134\n",
            "Epoch 16/20\n",
            "413/413 [==============================] - 1s 2ms/step - loss: 0.3800 - val_loss: 0.4032\n",
            "Epoch 17/20\n",
            "413/413 [==============================] - 1s 2ms/step - loss: 0.3894 - val_loss: 0.3986\n",
            "Epoch 18/20\n",
            "413/413 [==============================] - 1s 2ms/step - loss: 0.3809 - val_loss: 0.3972\n",
            "Epoch 19/20\n",
            "413/413 [==============================] - 1s 2ms/step - loss: 0.3846 - val_loss: 0.3916\n",
            "Epoch 20/20\n",
            "413/413 [==============================] - 1s 2ms/step - loss: 0.3960 - val_loss: 0.3912\n"
          ]
        }
      ]
    },
    {
      "cell_type": "code",
      "source": [
        "pd.DataFrame(mllpHistory.history).plot(figsize=(8,5))\n",
        "plt.show()"
      ],
      "metadata": {
        "colab": {
          "base_uri": "https://localhost:8080/",
          "height": 445
        },
        "id": "MYEaQI4CczG8",
        "outputId": "ab1a4f0c-b48a-4ed9-a74e-7656391cddd1"
      },
      "execution_count": 84,
      "outputs": [
        {
          "output_type": "display_data",
          "data": {
            "text/plain": [
              "<Figure size 800x500 with 1 Axes>"
            ],
            "image/png": "[encoded data removed]"
          },
          "metadata": {}
        }
      ]
    },
    {
      "cell_type": "code",
      "source": [
        "mlpModel.evaluate(XtestScal,Ytest)"
      ],
      "metadata": {
        "colab": {
          "base_uri": "https://localhost:8080/"
        },
        "id": "rog3xnvLdNZ1",
        "outputId": "c9319791-e68f-4188-9538-adc429216bbf"
      },
      "execution_count": 88,
      "outputs": [
        {
          "output_type": "stream",
          "name": "stdout",
          "text": [
            "129/129 [==============================] - 0s 2ms/step - loss: 0.3743\n"
          ]
        },
        {
          "output_type": "execute_result",
          "data": {
            "text/plain": [
              "0.37425824999809265"
            ]
          },
          "metadata": {},
          "execution_count": 88
        }
      ]
    }
  ]
}