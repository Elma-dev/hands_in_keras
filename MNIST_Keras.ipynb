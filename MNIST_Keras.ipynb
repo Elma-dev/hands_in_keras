{
  "nbformat": 4,
  "nbformat_minor": 0,
  "metadata": {
    "colab": {
      "provenance": [],
      "authorship_tag": "ABX9TyPVxKHGMbzdHeGcHphV4Aco",
      "include_colab_link": true
    },
    "kernelspec": {
      "name": "python3",
      "display_name": "Python 3"
    },
    "language_info": {
      "name": "python"
    }
  },
  "cells": [
    {
      "cell_type": "markdown",
      "metadata": {
        "id": "view-in-github",
        "colab_type": "text"
      },
      "source": [
        "<a href=\"https://colab.research.google.com/github/Elma-dev/hands_in_keras/blob/main/MNIST_Keras.ipynb\" target=\"_parent\"><img src=\"https://colab.research.google.com/assets/colab-badge.svg\" alt=\"Open In Colab\"/></a>"
      ]
    },
    {
      "cell_type": "code",
      "execution_count": 1,
      "metadata": {
        "id": "H4feEYJgGnan"
      },
      "outputs": [],
      "source": [
        "import tensorflow as tf\n",
        "from tensorflow import keras\n",
        "import numpy as np\n",
        "import pandas as pd\n",
        "import matplotlib.pyplot as plt"
      ]
    },
    {
      "cell_type": "markdown",
      "source": [
        "\n",
        "\n",
        "---\n",
        "#**<center>MNIST Data Set</center>**\n",
        "\n",
        "---\n",
        "<center>\n",
        "MNIST (70,000 grayscale images of 28×28 pixels each, with 10 classes),\n",
        "</center>"
      ],
      "metadata": {
        "id": "j45EuQLoHN9k"
      }
    },
    {
      "cell_type": "markdown",
      "source": [
        "## **Using Keras to Load the Dataset**"
      ],
      "metadata": {
        "id": "zJ7T94CsH0-n"
      }
    },
    {
      "cell_type": "code",
      "source": [
        "fashion_mnist=keras.datasets.fashion_mnist"
      ],
      "metadata": {
        "id": "l7LxvDQOHkxc"
      },
      "execution_count": 2,
      "outputs": []
    },
    {
      "cell_type": "code",
      "source": [
        "#load data\n",
        "(x_train_full,y_train_full),(x_test,y_test)=fashion_mnist.load_data()"
      ],
      "metadata": {
        "id": "iJW0fL4KIVXO",
        "colab": {
          "base_uri": "https://localhost:8080/"
        },
        "outputId": "4f2ae0b6-aca6-4d7a-a2f9-20f39159c808"
      },
      "execution_count": 3,
      "outputs": [
        {
          "output_type": "stream",
          "name": "stdout",
          "text": [
            "Downloading data from https://storage.googleapis.com/tensorflow/tf-keras-datasets/train-labels-idx1-ubyte.gz\n",
            "29515/29515 [==============================] - 0s 1us/step\n",
            "Downloading data from https://storage.googleapis.com/tensorflow/tf-keras-datasets/train-images-idx3-ubyte.gz\n",
            "26421880/26421880 [==============================] - 0s 0us/step\n",
            "Downloading data from https://storage.googleapis.com/tensorflow/tf-keras-datasets/t10k-labels-idx1-ubyte.gz\n",
            "5148/5148 [==============================] - 0s 0us/step\n",
            "Downloading data from https://storage.googleapis.com/tensorflow/tf-keras-datasets/t10k-images-idx3-ubyte.gz\n",
            "4422102/4422102 [==============================] - 0s 0us/step\n"
          ]
        }
      ]
    },
    {
      "cell_type": "code",
      "source": [
        "print(f'shape(x_train,y_train)={x_train_full.shape,y_train_full.shape}')\n",
        "print(f'shape(x_test,y_test)={x_test.shape,y_test.shape}')"
      ],
      "metadata": {
        "colab": {
          "base_uri": "https://localhost:8080/"
        },
        "id": "U87wwfXdIroL",
        "outputId": "e1819bba-4c21-46f7-ac8b-026388a0e4ad"
      },
      "execution_count": 4,
      "outputs": [
        {
          "output_type": "stream",
          "name": "stdout",
          "text": [
            "shape(x_train,y_train)=((60000, 28, 28), (60000,))\n",
            "shape(x_test,y_test)=((10000, 28, 28), (10000,))\n"
          ]
        }
      ]
    },
    {
      "cell_type": "markdown",
      "source": [
        "Note that the dataset is already split into a training set and a test set, but there is no\n",
        "validation set, so let’s create one."
      ],
      "metadata": {
        "id": "5gUcVCRvL4e6"
      }
    },
    {
      "cell_type": "code",
      "source": [
        "#Add valid data and in the same time normalization the images\n",
        "x_train_valid,x_train=x_train_full[:5000]/255,x_train_full[5000:]/255\n",
        "y_train_valid,y_train=y_train_full[:5000],y_train_full[5000:]"
      ],
      "metadata": {
        "id": "sgW1lVWjLlic"
      },
      "execution_count": 5,
      "outputs": []
    },
    {
      "cell_type": "markdown",
      "source": [
        "type of classes in **MNIST** data"
      ],
      "metadata": {
        "id": "dpCtl9oWNpgw"
      }
    },
    {
      "cell_type": "code",
      "source": [
        "print(f'MnistClasses:{np.sort(pd.unique(y_train))}')"
      ],
      "metadata": {
        "colab": {
          "base_uri": "https://localhost:8080/"
        },
        "id": "3tk4ch1VNoqL",
        "outputId": "23e18286-982d-4466-f4ee-d2bf4a6665c4"
      },
      "execution_count": 6,
      "outputs": [
        {
          "output_type": "stream",
          "name": "stdout",
          "text": [
            "MnistClasses:[0 1 2 3 4 5 6 7 8 9]\n"
          ]
        }
      ]
    },
    {
      "cell_type": "markdown",
      "source": [
        "#**Creating the Model Using the Sequential API**"
      ],
      "metadata": {
        "id": "yLo2oRW9ObYt"
      }
    },
    {
      "cell_type": "markdown",
      "source": [
        "**<center>Code Lines Meaning:</center>**\n",
        "\n",
        "\n",
        "---\n",
        "- The first line creates a **Sequential model**. This is the simplest kind of Keras\n",
        "model, for neural networks that are just composed of a single stack of layers, con‐\n",
        "nected sequentially. This is called the sequential API.\n",
        "\n",
        "- Next, we build the first layer and add it to the model. It is a **Flatten laye**r whose role is simply to **convert each input image into a 1D array**: if it receives input data X, it computes X.reshape(-1, 1). This layer does not have any parameters, it is just there to do some simple preprocessing. Since it is the first layer in the model,\n",
        "you should specify the input_shape: this does not include the batch size, only the shape of the instances. Alternatively, you could add a keras.layers.InputLayer as the first layer, setting shape=[28,28].\n",
        "\n",
        "- Next we add a **Dense hidden layer with 300 neurons**. It will use the **ReLU** activa‐tion function. Each Dense layer manages its own weight matrix, containing all the\n",
        "connection weights between the neurons and their inputs.\n",
        "\n",
        "- Next we add a second **Dense hidden layer with 100 neurons**, also using the **ReLU** activation function.\n",
        "\n",
        "- Finally, we add a **Dense output layer with 10 neurons** (one per class), using the **softmax** activation function (because the classes are exclusive).\n",
        "---\n",
        "\n"
      ],
      "metadata": {
        "id": "9NqYCl2iOvH9"
      }
    },
    {
      "cell_type": "code",
      "source": [
        "from keras.api._v2.keras import activations\n",
        "model=keras.models.Sequential()\n",
        "model.add(keras.layers.Flatten(input_shape=[28,28]))\n",
        "model.add(keras.layers.Dense(300,activation=\"relu\"))\n",
        "model.add(keras.layers.Dense(100,activation=\"relu\"))\n",
        "model.add(keras.layers.Dense(10,activation=\"softmax\"))"
      ],
      "metadata": {
        "id": "VM2Tx8fzOZl4"
      },
      "execution_count": 7,
      "outputs": []
    },
    {
      "cell_type": "markdown",
      "source": [
        "\n",
        "The model’s **summary()** method displays all the model’s layers"
      ],
      "metadata": {
        "id": "ZsjF1ywMSoex"
      }
    },
    {
      "cell_type": "code",
      "source": [
        "model.summary()"
      ],
      "metadata": {
        "colab": {
          "base_uri": "https://localhost:8080/"
        },
        "id": "yAqfSMfTStyJ",
        "outputId": "8f6e7604-ac55-487b-b1d2-75a67472d4e8"
      },
      "execution_count": 8,
      "outputs": [
        {
          "output_type": "stream",
          "name": "stdout",
          "text": [
            "Model: \"sequential\"\n",
            "_________________________________________________________________\n",
            " Layer (type)                Output Shape              Param #   \n",
            "=================================================================\n",
            " flatten (Flatten)           (None, 784)               0         \n",
            "                                                                 \n",
            " dense (Dense)               (None, 300)               235500    \n",
            "                                                                 \n",
            " dense_1 (Dense)             (None, 100)               30100     \n",
            "                                                                 \n",
            " dense_2 (Dense)             (None, 10)                1010      \n",
            "                                                                 \n",
            "=================================================================\n",
            "Total params: 266,610\n",
            "Trainable params: 266,610\n",
            "Non-trainable params: 0\n",
            "_________________________________________________________________\n"
          ]
        }
      ]
    },
    {
      "cell_type": "markdown",
      "source": [
        "**layers**: You can easily get a model’s list of layers:"
      ],
      "metadata": {
        "id": "3U1ckgNZTt62"
      }
    },
    {
      "cell_type": "code",
      "source": [
        "model.layers"
      ],
      "metadata": {
        "colab": {
          "base_uri": "https://localhost:8080/"
        },
        "id": "IGAChlWPTtQ6",
        "outputId": "f4b153c4-4c86-435d-ad1f-d3a5d2534bba"
      },
      "execution_count": 9,
      "outputs": [
        {
          "output_type": "execute_result",
          "data": {
            "text/plain": [
              "[<keras.layers.reshaping.flatten.Flatten at 0x7bd99b663cd0>,\n",
              " <keras.layers.core.dense.Dense at 0x7bd99b3e9e10>,\n",
              " <keras.layers.core.dense.Dense at 0x7bd99b3ea7a0>,\n",
              " <keras.layers.core.dense.Dense at 0x7bd99b3ea7d0>]"
            ]
          },
          "metadata": {},
          "execution_count": 9
        }
      ]
    },
    {
      "cell_type": "code",
      "source": [
        "model.get_layer(\"dense_1\")"
      ],
      "metadata": {
        "colab": {
          "base_uri": "https://localhost:8080/"
        },
        "id": "4pGX-SzhTK5b",
        "outputId": "0e57823c-f6fa-4b7d-d85c-3cacace317c2"
      },
      "execution_count": 10,
      "outputs": [
        {
          "output_type": "execute_result",
          "data": {
            "text/plain": [
              "<keras.layers.core.dense.Dense at 0x7bd99b3ea7a0>"
            ]
          },
          "metadata": {},
          "execution_count": 10
        }
      ]
    },
    {
      "cell_type": "code",
      "source": [
        "model.get_layer(\"dense_1\").get_weights() # set_weights()"
      ],
      "metadata": {
        "colab": {
          "base_uri": "https://localhost:8080/"
        },
        "id": "rq_tjobpUC98",
        "outputId": "46d9f34a-aba3-405d-9acc-ba006f53bf8b"
      },
      "execution_count": 11,
      "outputs": [
        {
          "output_type": "execute_result",
          "data": {
            "text/plain": [
              "[array([[-0.11229673, -0.0822139 ,  0.01289142, ..., -0.03437254,\n",
              "          0.09670011, -0.06802206],\n",
              "        [ 0.02948267, -0.01207311, -0.05240021, ...,  0.10538545,\n",
              "          0.10248359, -0.02318726],\n",
              "        [-0.02912214, -0.01452967, -0.07297651, ..., -0.09490538,\n",
              "         -0.06694956, -0.1087395 ],\n",
              "        ...,\n",
              "        [ 0.09055331, -0.1193317 , -0.00398148, ..., -0.10101252,\n",
              "         -0.10107501,  0.05720054],\n",
              "        [ 0.10096889, -0.01870368,  0.08351453, ..., -0.09902792,\n",
              "          0.10930391, -0.0133317 ],\n",
              "        [ 0.00222047,  0.02088512,  0.03247529, ..., -0.03493041,\n",
              "          0.02949754,  0.10109542]], dtype=float32),\n",
              " array([0., 0., 0., 0., 0., 0., 0., 0., 0., 0., 0., 0., 0., 0., 0., 0., 0.,\n",
              "        0., 0., 0., 0., 0., 0., 0., 0., 0., 0., 0., 0., 0., 0., 0., 0., 0.,\n",
              "        0., 0., 0., 0., 0., 0., 0., 0., 0., 0., 0., 0., 0., 0., 0., 0., 0.,\n",
              "        0., 0., 0., 0., 0., 0., 0., 0., 0., 0., 0., 0., 0., 0., 0., 0., 0.,\n",
              "        0., 0., 0., 0., 0., 0., 0., 0., 0., 0., 0., 0., 0., 0., 0., 0., 0.,\n",
              "        0., 0., 0., 0., 0., 0., 0., 0., 0., 0., 0., 0., 0., 0., 0.],\n",
              "       dtype=float32)]"
            ]
          },
          "metadata": {},
          "execution_count": 11
        }
      ]
    },
    {
      "cell_type": "markdown",
      "source": [
        "## **Compiling the Model**\n",
        "\n",
        "\n",
        "After a model is created, you must call its compile() method to specify the loss function and the optimizer to use. Optionally, you can also specify a list of extra metrics to compute during training and evaluation.\n",
        "\n",
        "---\n",
        "<center>Code Explanation</center>\n",
        "\n",
        "- This requires some explanation. First, we use the \"sparse_categorical_crossentropy\" loss because we have sparse labels (i.e., for each instance there is just a target\n",
        "class index, from 0 to 9 in this case), and the classes are exclusive. If instead we had one target probability per class for each instance (such as one-hot vectors, e.g. [0.,0., 0., 1., 0., 0., 0., 0., 0., 0.] to represent class 3), then we would need\n",
        "to use the \"categorical_crossentropy\" loss instead. If we were doing binary classi‐fication (with one or more binary labels), then we would use the \"sigmoid\" (i.e.,logistic) activation function in the output layer instead of the \"softmax\" activation\n",
        "function, and we would use the \"binary_crossentropy\" loss.\n",
        "\n",
        "- Secondly, regarding the optimizer, \"sgd\" simply means that we will train the model using simple Stochastic Gradient Descent. In other words, Keras will perform the backpropagation algorithm described earlier (i.e., reverse-mode autodiff + Gradient Descent). We will discuss more efficient optimizers in Chapter 11 (they improve the Gradient Descent part, not the autodiff).\n",
        "\n",
        "- Finally, since this is a classifier, it’s useful to measure its \"accuracy\" during training and evaluation\n",
        "\n",
        "---"
      ],
      "metadata": {
        "id": "Xj-YZyx1UzK2"
      }
    },
    {
      "cell_type": "code",
      "source": [
        "model.compile(optimizer=\"sgd\",loss=\"sparse_categorical_crossentropy\",metrics=[\"accuracy\"])"
      ],
      "metadata": {
        "id": "kp836Xd6U6ha"
      },
      "execution_count": 12,
      "outputs": []
    },
    {
      "cell_type": "markdown",
      "source": [
        "## **Training and Evaluating the Model**\n",
        "\n",
        "---\n",
        "Now the model is ready to be trained. For this we simply need to call its **fit()** method. We pass it the input features (X_train) and the target classes (y_train), as well as the ***number of epochs*** to train (or else it would default to just 1, which would\n",
        "definitely not be enough to converge to a good solution). ***We also pass a validation*** set (this is optional): ***Keras will measure the loss and the extra metrics on this set at the end of each epoch,*** which is very useful to see how well the model really performs: if\n",
        "the performance on the training set is much better than on the validation set, your model is probably overfitting the training set (or there is a bug, such as a data mismatch between the training set and the validation set)\n",
        "\n",
        "---"
      ],
      "metadata": {
        "id": "ghO3dJlwXXw4"
      }
    },
    {
      "cell_type": "code",
      "source": [
        "history=model.fit(x_train,y_train,epochs=50,validation_data=(x_train_valid,y_train_valid))"
      ],
      "metadata": {
        "colab": {
          "base_uri": "https://localhost:8080/",
          "height": 353
        },
        "id": "BSvuysQ7Xb4r",
        "outputId": "ae272987-29db-4f90-f689-2a6abb41e4c4"
      },
      "execution_count": 13,
      "outputs": [
        {
          "output_type": "stream",
          "name": "stdout",
          "text": [
            "Epoch 1/50\n",
            "1063/1719 [=================>............] - ETA: 7s - loss: 0.8059 - accuracy: 0.7431"
          ]
        },
        {
          "output_type": "error",
          "ename": "KeyboardInterrupt",
          "evalue": "ignored",
          "traceback": [
            "\u001b[0;31m---------------------------------------------------------------------------\u001b[0m",
            "\u001b[0;31mKeyboardInterrupt\u001b[0m                         Traceback (most recent call last)",
            "\u001b[0;32m<ipython-input-13-19f5445daaa0>\u001b[0m in \u001b[0;36m<cell line: 1>\u001b[0;34m()\u001b[0m\n\u001b[0;32m----> 1\u001b[0;31m \u001b[0mhistory\u001b[0m\u001b[0;34m=\u001b[0m\u001b[0mmodel\u001b[0m\u001b[0;34m.\u001b[0m\u001b[0mfit\u001b[0m\u001b[0;34m(\u001b[0m\u001b[0mx_train\u001b[0m\u001b[0;34m,\u001b[0m\u001b[0my_train\u001b[0m\u001b[0;34m,\u001b[0m\u001b[0mepochs\u001b[0m\u001b[0;34m=\u001b[0m\u001b[0;36m50\u001b[0m\u001b[0;34m,\u001b[0m\u001b[0mvalidation_data\u001b[0m\u001b[0;34m=\u001b[0m\u001b[0;34m(\u001b[0m\u001b[0mx_train_valid\u001b[0m\u001b[0;34m,\u001b[0m\u001b[0my_train_valid\u001b[0m\u001b[0;34m)\u001b[0m\u001b[0;34m)\u001b[0m\u001b[0;34m\u001b[0m\u001b[0;34m\u001b[0m\u001b[0m\n\u001b[0m",
            "\u001b[0;32m/usr/local/lib/python3.10/dist-packages/keras/utils/traceback_utils.py\u001b[0m in \u001b[0;36merror_handler\u001b[0;34m(*args, **kwargs)\u001b[0m\n\u001b[1;32m     63\u001b[0m         \u001b[0mfiltered_tb\u001b[0m \u001b[0;34m=\u001b[0m \u001b[0;32mNone\u001b[0m\u001b[0;34m\u001b[0m\u001b[0;34m\u001b[0m\u001b[0m\n\u001b[1;32m     64\u001b[0m         \u001b[0;32mtry\u001b[0m\u001b[0;34m:\u001b[0m\u001b[0;34m\u001b[0m\u001b[0;34m\u001b[0m\u001b[0m\n\u001b[0;32m---> 65\u001b[0;31m             \u001b[0;32mreturn\u001b[0m \u001b[0mfn\u001b[0m\u001b[0;34m(\u001b[0m\u001b[0;34m*\u001b[0m\u001b[0margs\u001b[0m\u001b[0;34m,\u001b[0m \u001b[0;34m**\u001b[0m\u001b[0mkwargs\u001b[0m\u001b[0;34m)\u001b[0m\u001b[0;34m\u001b[0m\u001b[0;34m\u001b[0m\u001b[0m\n\u001b[0m\u001b[1;32m     66\u001b[0m         \u001b[0;32mexcept\u001b[0m \u001b[0mException\u001b[0m \u001b[0;32mas\u001b[0m \u001b[0me\u001b[0m\u001b[0;34m:\u001b[0m\u001b[0;34m\u001b[0m\u001b[0;34m\u001b[0m\u001b[0m\n\u001b[1;32m     67\u001b[0m             \u001b[0mfiltered_tb\u001b[0m \u001b[0;34m=\u001b[0m \u001b[0m_process_traceback_frames\u001b[0m\u001b[0;34m(\u001b[0m\u001b[0me\u001b[0m\u001b[0;34m.\u001b[0m\u001b[0m__traceback__\u001b[0m\u001b[0;34m)\u001b[0m\u001b[0;34m\u001b[0m\u001b[0;34m\u001b[0m\u001b[0m\n",
            "\u001b[0;32m/usr/local/lib/python3.10/dist-packages/keras/engine/training.py\u001b[0m in \u001b[0;36mfit\u001b[0;34m(self, x, y, batch_size, epochs, verbose, callbacks, validation_split, validation_data, shuffle, class_weight, sample_weight, initial_epoch, steps_per_epoch, validation_steps, validation_batch_size, validation_freq, max_queue_size, workers, use_multiprocessing)\u001b[0m\n\u001b[1;32m   1689\u001b[0m                             \u001b[0mlogs\u001b[0m \u001b[0;34m=\u001b[0m \u001b[0mtmp_logs\u001b[0m\u001b[0;34m\u001b[0m\u001b[0;34m\u001b[0m\u001b[0m\n\u001b[1;32m   1690\u001b[0m                             \u001b[0mend_step\u001b[0m \u001b[0;34m=\u001b[0m \u001b[0mstep\u001b[0m \u001b[0;34m+\u001b[0m \u001b[0mdata_handler\u001b[0m\u001b[0;34m.\u001b[0m\u001b[0mstep_increment\u001b[0m\u001b[0;34m\u001b[0m\u001b[0;34m\u001b[0m\u001b[0m\n\u001b[0;32m-> 1691\u001b[0;31m                             \u001b[0mcallbacks\u001b[0m\u001b[0;34m.\u001b[0m\u001b[0mon_train_batch_end\u001b[0m\u001b[0;34m(\u001b[0m\u001b[0mend_step\u001b[0m\u001b[0;34m,\u001b[0m \u001b[0mlogs\u001b[0m\u001b[0;34m)\u001b[0m\u001b[0;34m\u001b[0m\u001b[0;34m\u001b[0m\u001b[0m\n\u001b[0m\u001b[1;32m   1692\u001b[0m                             \u001b[0;32mif\u001b[0m \u001b[0mself\u001b[0m\u001b[0;34m.\u001b[0m\u001b[0mstop_training\u001b[0m\u001b[0;34m:\u001b[0m\u001b[0;34m\u001b[0m\u001b[0;34m\u001b[0m\u001b[0m\n\u001b[1;32m   1693\u001b[0m                                 \u001b[0;32mbreak\u001b[0m\u001b[0;34m\u001b[0m\u001b[0;34m\u001b[0m\u001b[0m\n",
            "\u001b[0;32m/usr/local/lib/python3.10/dist-packages/keras/callbacks.py\u001b[0m in \u001b[0;36mon_train_batch_end\u001b[0;34m(self, batch, logs)\u001b[0m\n\u001b[1;32m    473\u001b[0m         \"\"\"\n\u001b[1;32m    474\u001b[0m         \u001b[0;32mif\u001b[0m \u001b[0mself\u001b[0m\u001b[0;34m.\u001b[0m\u001b[0m_should_call_train_batch_hooks\u001b[0m\u001b[0;34m:\u001b[0m\u001b[0;34m\u001b[0m\u001b[0;34m\u001b[0m\u001b[0m\n\u001b[0;32m--> 475\u001b[0;31m             \u001b[0mself\u001b[0m\u001b[0;34m.\u001b[0m\u001b[0m_call_batch_hook\u001b[0m\u001b[0;34m(\u001b[0m\u001b[0mModeKeys\u001b[0m\u001b[0;34m.\u001b[0m\u001b[0mTRAIN\u001b[0m\u001b[0;34m,\u001b[0m \u001b[0;34m\"end\"\u001b[0m\u001b[0;34m,\u001b[0m \u001b[0mbatch\u001b[0m\u001b[0;34m,\u001b[0m \u001b[0mlogs\u001b[0m\u001b[0;34m=\u001b[0m\u001b[0mlogs\u001b[0m\u001b[0;34m)\u001b[0m\u001b[0;34m\u001b[0m\u001b[0;34m\u001b[0m\u001b[0m\n\u001b[0m\u001b[1;32m    476\u001b[0m \u001b[0;34m\u001b[0m\u001b[0m\n\u001b[1;32m    477\u001b[0m     \u001b[0;32mdef\u001b[0m \u001b[0mon_test_batch_begin\u001b[0m\u001b[0;34m(\u001b[0m\u001b[0mself\u001b[0m\u001b[0;34m,\u001b[0m \u001b[0mbatch\u001b[0m\u001b[0;34m,\u001b[0m \u001b[0mlogs\u001b[0m\u001b[0;34m=\u001b[0m\u001b[0;32mNone\u001b[0m\u001b[0;34m)\u001b[0m\u001b[0;34m:\u001b[0m\u001b[0;34m\u001b[0m\u001b[0;34m\u001b[0m\u001b[0m\n",
            "\u001b[0;32m/usr/local/lib/python3.10/dist-packages/keras/callbacks.py\u001b[0m in \u001b[0;36m_call_batch_hook\u001b[0;34m(self, mode, hook, batch, logs)\u001b[0m\n\u001b[1;32m    320\u001b[0m             \u001b[0mself\u001b[0m\u001b[0;34m.\u001b[0m\u001b[0m_call_batch_begin_hook\u001b[0m\u001b[0;34m(\u001b[0m\u001b[0mmode\u001b[0m\u001b[0;34m,\u001b[0m \u001b[0mbatch\u001b[0m\u001b[0;34m,\u001b[0m \u001b[0mlogs\u001b[0m\u001b[0;34m)\u001b[0m\u001b[0;34m\u001b[0m\u001b[0;34m\u001b[0m\u001b[0m\n\u001b[1;32m    321\u001b[0m         \u001b[0;32melif\u001b[0m \u001b[0mhook\u001b[0m \u001b[0;34m==\u001b[0m \u001b[0;34m\"end\"\u001b[0m\u001b[0;34m:\u001b[0m\u001b[0;34m\u001b[0m\u001b[0;34m\u001b[0m\u001b[0m\n\u001b[0;32m--> 322\u001b[0;31m             \u001b[0mself\u001b[0m\u001b[0;34m.\u001b[0m\u001b[0m_call_batch_end_hook\u001b[0m\u001b[0;34m(\u001b[0m\u001b[0mmode\u001b[0m\u001b[0;34m,\u001b[0m \u001b[0mbatch\u001b[0m\u001b[0;34m,\u001b[0m \u001b[0mlogs\u001b[0m\u001b[0;34m)\u001b[0m\u001b[0;34m\u001b[0m\u001b[0;34m\u001b[0m\u001b[0m\n\u001b[0m\u001b[1;32m    323\u001b[0m         \u001b[0;32melse\u001b[0m\u001b[0;34m:\u001b[0m\u001b[0;34m\u001b[0m\u001b[0;34m\u001b[0m\u001b[0m\n\u001b[1;32m    324\u001b[0m             raise ValueError(\n",
            "\u001b[0;32m/usr/local/lib/python3.10/dist-packages/keras/callbacks.py\u001b[0m in \u001b[0;36m_call_batch_end_hook\u001b[0;34m(self, mode, batch, logs)\u001b[0m\n\u001b[1;32m    343\u001b[0m             \u001b[0mself\u001b[0m\u001b[0;34m.\u001b[0m\u001b[0m_batch_times\u001b[0m\u001b[0;34m.\u001b[0m\u001b[0mappend\u001b[0m\u001b[0;34m(\u001b[0m\u001b[0mbatch_time\u001b[0m\u001b[0;34m)\u001b[0m\u001b[0;34m\u001b[0m\u001b[0;34m\u001b[0m\u001b[0m\n\u001b[1;32m    344\u001b[0m \u001b[0;34m\u001b[0m\u001b[0m\n\u001b[0;32m--> 345\u001b[0;31m         \u001b[0mself\u001b[0m\u001b[0;34m.\u001b[0m\u001b[0m_call_batch_hook_helper\u001b[0m\u001b[0;34m(\u001b[0m\u001b[0mhook_name\u001b[0m\u001b[0;34m,\u001b[0m \u001b[0mbatch\u001b[0m\u001b[0;34m,\u001b[0m \u001b[0mlogs\u001b[0m\u001b[0;34m)\u001b[0m\u001b[0;34m\u001b[0m\u001b[0;34m\u001b[0m\u001b[0m\n\u001b[0m\u001b[1;32m    346\u001b[0m \u001b[0;34m\u001b[0m\u001b[0m\n\u001b[1;32m    347\u001b[0m         \u001b[0;32mif\u001b[0m \u001b[0mlen\u001b[0m\u001b[0;34m(\u001b[0m\u001b[0mself\u001b[0m\u001b[0;34m.\u001b[0m\u001b[0m_batch_times\u001b[0m\u001b[0;34m)\u001b[0m \u001b[0;34m>=\u001b[0m \u001b[0mself\u001b[0m\u001b[0;34m.\u001b[0m\u001b[0m_num_batches_for_timing_check\u001b[0m\u001b[0;34m:\u001b[0m\u001b[0;34m\u001b[0m\u001b[0;34m\u001b[0m\u001b[0m\n",
            "\u001b[0;32m/usr/local/lib/python3.10/dist-packages/keras/callbacks.py\u001b[0m in \u001b[0;36m_call_batch_hook_helper\u001b[0;34m(self, hook_name, batch, logs)\u001b[0m\n\u001b[1;32m    391\u001b[0m         \u001b[0;32mfor\u001b[0m \u001b[0mcallback\u001b[0m \u001b[0;32min\u001b[0m \u001b[0mself\u001b[0m\u001b[0;34m.\u001b[0m\u001b[0mcallbacks\u001b[0m\u001b[0;34m:\u001b[0m\u001b[0;34m\u001b[0m\u001b[0;34m\u001b[0m\u001b[0m\n\u001b[1;32m    392\u001b[0m             \u001b[0mhook\u001b[0m \u001b[0;34m=\u001b[0m \u001b[0mgetattr\u001b[0m\u001b[0;34m(\u001b[0m\u001b[0mcallback\u001b[0m\u001b[0;34m,\u001b[0m \u001b[0mhook_name\u001b[0m\u001b[0;34m)\u001b[0m\u001b[0;34m\u001b[0m\u001b[0;34m\u001b[0m\u001b[0m\n\u001b[0;32m--> 393\u001b[0;31m             \u001b[0mhook\u001b[0m\u001b[0;34m(\u001b[0m\u001b[0mbatch\u001b[0m\u001b[0;34m,\u001b[0m \u001b[0mlogs\u001b[0m\u001b[0;34m)\u001b[0m\u001b[0;34m\u001b[0m\u001b[0;34m\u001b[0m\u001b[0m\n\u001b[0m\u001b[1;32m    394\u001b[0m \u001b[0;34m\u001b[0m\u001b[0m\n\u001b[1;32m    395\u001b[0m         \u001b[0;32mif\u001b[0m \u001b[0mself\u001b[0m\u001b[0;34m.\u001b[0m\u001b[0m_check_timing\u001b[0m\u001b[0;34m:\u001b[0m\u001b[0;34m\u001b[0m\u001b[0;34m\u001b[0m\u001b[0m\n",
            "\u001b[0;32m/usr/local/lib/python3.10/dist-packages/keras/callbacks.py\u001b[0m in \u001b[0;36mon_train_batch_end\u001b[0;34m(self, batch, logs)\u001b[0m\n\u001b[1;32m   1091\u001b[0m \u001b[0;34m\u001b[0m\u001b[0m\n\u001b[1;32m   1092\u001b[0m     \u001b[0;32mdef\u001b[0m \u001b[0mon_train_batch_end\u001b[0m\u001b[0;34m(\u001b[0m\u001b[0mself\u001b[0m\u001b[0;34m,\u001b[0m \u001b[0mbatch\u001b[0m\u001b[0;34m,\u001b[0m \u001b[0mlogs\u001b[0m\u001b[0;34m=\u001b[0m\u001b[0;32mNone\u001b[0m\u001b[0;34m)\u001b[0m\u001b[0;34m:\u001b[0m\u001b[0;34m\u001b[0m\u001b[0;34m\u001b[0m\u001b[0m\n\u001b[0;32m-> 1093\u001b[0;31m         \u001b[0mself\u001b[0m\u001b[0;34m.\u001b[0m\u001b[0m_batch_update_progbar\u001b[0m\u001b[0;34m(\u001b[0m\u001b[0mbatch\u001b[0m\u001b[0;34m,\u001b[0m \u001b[0mlogs\u001b[0m\u001b[0;34m)\u001b[0m\u001b[0;34m\u001b[0m\u001b[0;34m\u001b[0m\u001b[0m\n\u001b[0m\u001b[1;32m   1094\u001b[0m \u001b[0;34m\u001b[0m\u001b[0m\n\u001b[1;32m   1095\u001b[0m     \u001b[0;32mdef\u001b[0m \u001b[0mon_test_batch_end\u001b[0m\u001b[0;34m(\u001b[0m\u001b[0mself\u001b[0m\u001b[0;34m,\u001b[0m \u001b[0mbatch\u001b[0m\u001b[0;34m,\u001b[0m \u001b[0mlogs\u001b[0m\u001b[0;34m=\u001b[0m\u001b[0;32mNone\u001b[0m\u001b[0;34m)\u001b[0m\u001b[0;34m:\u001b[0m\u001b[0;34m\u001b[0m\u001b[0;34m\u001b[0m\u001b[0m\n",
            "\u001b[0;32m/usr/local/lib/python3.10/dist-packages/keras/callbacks.py\u001b[0m in \u001b[0;36m_batch_update_progbar\u001b[0;34m(self, batch, logs)\u001b[0m\n\u001b[1;32m   1168\u001b[0m             \u001b[0;31m# Only block async when verbose = 1.\u001b[0m\u001b[0;34m\u001b[0m\u001b[0;34m\u001b[0m\u001b[0m\n\u001b[1;32m   1169\u001b[0m             \u001b[0mlogs\u001b[0m \u001b[0;34m=\u001b[0m \u001b[0mtf_utils\u001b[0m\u001b[0;34m.\u001b[0m\u001b[0msync_to_numpy_or_python_type\u001b[0m\u001b[0;34m(\u001b[0m\u001b[0mlogs\u001b[0m\u001b[0;34m)\u001b[0m\u001b[0;34m\u001b[0m\u001b[0;34m\u001b[0m\u001b[0m\n\u001b[0;32m-> 1170\u001b[0;31m             \u001b[0mself\u001b[0m\u001b[0;34m.\u001b[0m\u001b[0mprogbar\u001b[0m\u001b[0;34m.\u001b[0m\u001b[0mupdate\u001b[0m\u001b[0;34m(\u001b[0m\u001b[0mself\u001b[0m\u001b[0;34m.\u001b[0m\u001b[0mseen\u001b[0m\u001b[0;34m,\u001b[0m \u001b[0mlist\u001b[0m\u001b[0;34m(\u001b[0m\u001b[0mlogs\u001b[0m\u001b[0;34m.\u001b[0m\u001b[0mitems\u001b[0m\u001b[0;34m(\u001b[0m\u001b[0;34m)\u001b[0m\u001b[0;34m)\u001b[0m\u001b[0;34m,\u001b[0m \u001b[0mfinalize\u001b[0m\u001b[0;34m=\u001b[0m\u001b[0;32mFalse\u001b[0m\u001b[0;34m)\u001b[0m\u001b[0;34m\u001b[0m\u001b[0;34m\u001b[0m\u001b[0m\n\u001b[0m\u001b[1;32m   1171\u001b[0m \u001b[0;34m\u001b[0m\u001b[0m\n\u001b[1;32m   1172\u001b[0m     \u001b[0;32mdef\u001b[0m \u001b[0m_finalize_progbar\u001b[0m\u001b[0;34m(\u001b[0m\u001b[0mself\u001b[0m\u001b[0;34m,\u001b[0m \u001b[0mlogs\u001b[0m\u001b[0;34m,\u001b[0m \u001b[0mcounter\u001b[0m\u001b[0;34m)\u001b[0m\u001b[0;34m:\u001b[0m\u001b[0;34m\u001b[0m\u001b[0;34m\u001b[0m\u001b[0m\n",
            "\u001b[0;32m/usr/local/lib/python3.10/dist-packages/keras/utils/generic_utils.py\u001b[0m in \u001b[0;36mupdate\u001b[0;34m(self, current, values, finalize)\u001b[0m\n\u001b[1;32m    294\u001b[0m \u001b[0;34m\u001b[0m\u001b[0m\n\u001b[1;32m    295\u001b[0m             \u001b[0mmessage\u001b[0m \u001b[0;34m+=\u001b[0m \u001b[0minfo\u001b[0m\u001b[0;34m\u001b[0m\u001b[0;34m\u001b[0m\u001b[0m\n\u001b[0;32m--> 296\u001b[0;31m             \u001b[0mio_utils\u001b[0m\u001b[0;34m.\u001b[0m\u001b[0mprint_msg\u001b[0m\u001b[0;34m(\u001b[0m\u001b[0mmessage\u001b[0m\u001b[0;34m,\u001b[0m \u001b[0mline_break\u001b[0m\u001b[0;34m=\u001b[0m\u001b[0;32mFalse\u001b[0m\u001b[0;34m)\u001b[0m\u001b[0;34m\u001b[0m\u001b[0;34m\u001b[0m\u001b[0m\n\u001b[0m\u001b[1;32m    297\u001b[0m             \u001b[0mmessage\u001b[0m \u001b[0;34m=\u001b[0m \u001b[0;34m\"\"\u001b[0m\u001b[0;34m\u001b[0m\u001b[0;34m\u001b[0m\u001b[0m\n\u001b[1;32m    298\u001b[0m \u001b[0;34m\u001b[0m\u001b[0m\n",
            "\u001b[0;32m/usr/local/lib/python3.10/dist-packages/keras/utils/io_utils.py\u001b[0m in \u001b[0;36mprint_msg\u001b[0;34m(message, line_break)\u001b[0m\n\u001b[1;32m     77\u001b[0m             \u001b[0msys\u001b[0m\u001b[0;34m.\u001b[0m\u001b[0mstdout\u001b[0m\u001b[0;34m.\u001b[0m\u001b[0mwrite\u001b[0m\u001b[0;34m(\u001b[0m\u001b[0mmessage\u001b[0m \u001b[0;34m+\u001b[0m \u001b[0;34m\"\\n\"\u001b[0m\u001b[0;34m)\u001b[0m\u001b[0;34m\u001b[0m\u001b[0;34m\u001b[0m\u001b[0m\n\u001b[1;32m     78\u001b[0m         \u001b[0;32melse\u001b[0m\u001b[0;34m:\u001b[0m\u001b[0;34m\u001b[0m\u001b[0;34m\u001b[0m\u001b[0m\n\u001b[0;32m---> 79\u001b[0;31m             \u001b[0msys\u001b[0m\u001b[0;34m.\u001b[0m\u001b[0mstdout\u001b[0m\u001b[0;34m.\u001b[0m\u001b[0mwrite\u001b[0m\u001b[0;34m(\u001b[0m\u001b[0mmessage\u001b[0m\u001b[0;34m)\u001b[0m\u001b[0;34m\u001b[0m\u001b[0;34m\u001b[0m\u001b[0m\n\u001b[0m\u001b[1;32m     80\u001b[0m         \u001b[0msys\u001b[0m\u001b[0;34m.\u001b[0m\u001b[0mstdout\u001b[0m\u001b[0;34m.\u001b[0m\u001b[0mflush\u001b[0m\u001b[0;34m(\u001b[0m\u001b[0;34m)\u001b[0m\u001b[0;34m\u001b[0m\u001b[0;34m\u001b[0m\u001b[0m\n\u001b[1;32m     81\u001b[0m     \u001b[0;32melse\u001b[0m\u001b[0;34m:\u001b[0m\u001b[0;34m\u001b[0m\u001b[0;34m\u001b[0m\u001b[0m\n",
            "\u001b[0;32m/usr/local/lib/python3.10/dist-packages/ipykernel/iostream.py\u001b[0m in \u001b[0;36mwrite\u001b[0;34m(self, string)\u001b[0m\n\u001b[1;32m    382\u001b[0m                 parent=self.parent_header, ident=self.topic)\n\u001b[1;32m    383\u001b[0m \u001b[0;34m\u001b[0m\u001b[0m\n\u001b[0;32m--> 384\u001b[0;31m     \u001b[0;32mdef\u001b[0m \u001b[0mwrite\u001b[0m\u001b[0;34m(\u001b[0m\u001b[0mself\u001b[0m\u001b[0;34m,\u001b[0m \u001b[0mstring\u001b[0m\u001b[0;34m)\u001b[0m\u001b[0;34m:\u001b[0m\u001b[0;34m\u001b[0m\u001b[0;34m\u001b[0m\u001b[0m\n\u001b[0m\u001b[1;32m    385\u001b[0m         \u001b[0;32mif\u001b[0m \u001b[0mself\u001b[0m\u001b[0;34m.\u001b[0m\u001b[0mecho\u001b[0m \u001b[0;32mis\u001b[0m \u001b[0;32mnot\u001b[0m \u001b[0;32mNone\u001b[0m\u001b[0;34m:\u001b[0m\u001b[0;34m\u001b[0m\u001b[0;34m\u001b[0m\u001b[0m\n\u001b[1;32m    386\u001b[0m             \u001b[0;32mtry\u001b[0m\u001b[0;34m:\u001b[0m\u001b[0;34m\u001b[0m\u001b[0;34m\u001b[0m\u001b[0m\n",
            "\u001b[0;31mKeyboardInterrupt\u001b[0m: "
          ]
        }
      ]
    },
    {
      "cell_type": "markdown",
      "source": [
        "## **Show Training History**\n",
        "\n",
        "\n",
        "---\n",
        "\n",
        "\n",
        "***history.history*** : this attribute save all values of loss/accuracy in training operation\n",
        "\n",
        "\n",
        "---\n",
        "\n"
      ],
      "metadata": {
        "id": "hr-gYiAFKfLa"
      }
    },
    {
      "cell_type": "code",
      "source": [
        "pd.DataFrame(history.history).tail()"
      ],
      "metadata": {
        "id": "j5FiaHLhKkKE"
      },
      "execution_count": null,
      "outputs": []
    },
    {
      "cell_type": "code",
      "source": [
        "pd.DataFrame(history.history).plot(figsize=(8,5))\n",
        "plt.gca().set_ylim(0,1)\n",
        "plt.grid(True)\n",
        "plt.show()"
      ],
      "metadata": {
        "id": "LPuR_bxkM3r-"
      },
      "execution_count": null,
      "outputs": []
    },
    {
      "cell_type": "markdown",
      "source": [
        "## **Evalute The Model**"
      ],
      "metadata": {
        "id": "ONZh3DKgQiJM"
      }
    },
    {
      "cell_type": "code",
      "source": [
        "model.evaluate(x_test,y_test)"
      ],
      "metadata": {
        "id": "a_5gouoIQfrM"
      },
      "execution_count": null,
      "outputs": []
    },
    {
      "cell_type": "markdown",
      "source": [
        "## **Using the Model to Make Predictions**"
      ],
      "metadata": {
        "id": "Ajl_S8PsRFft"
      }
    },
    {
      "cell_type": "code",
      "source": [
        "model.predict(x_test[:9]).round(2) #probabilities"
      ],
      "metadata": {
        "id": "Rb6KigbFRH78"
      },
      "execution_count": null,
      "outputs": []
    },
    {
      "cell_type": "markdown",
      "source": [
        "#**Building a Regression MLP Using the Sequential API**\n",
        "\n",
        "---\n",
        "\n",
        "- MLP : MACHINE LEARNING PROCESSES\n",
        "\n",
        "- In this section we work in the ***California Houses data***\n",
        "\n",
        "- To load this data we use SkitLearnAPI\n",
        "\n",
        "- This dataset is simpler, since it contains only numerical features (there is no ocean_proximity feature), and\n",
        "there is no missing value.\n",
        "\n",
        "---\n",
        "\n",
        "\n"
      ],
      "metadata": {
        "id": "iKZngu_hTiXf"
      }
    },
    {
      "cell_type": "code",
      "source": [
        "from sklearn.datasets import fetch_california_housing #dataAPI\n",
        "from sklearn.model_selection import train_test_split #data spliter\n",
        "from sklearn.preprocessing import StandardScaler #dataScaler"
      ],
      "metadata": {
        "id": "PICipZCvUShX"
      },
      "execution_count": 14,
      "outputs": []
    },
    {
      "cell_type": "code",
      "source": [
        "#load data\n",
        "housing=fetch_california_housing()"
      ],
      "metadata": {
        "id": "owGpxQRlU7xy"
      },
      "execution_count": 15,
      "outputs": []
    },
    {
      "cell_type": "code",
      "source": [
        "features=pd.DataFrame(data=housing.data,columns=housing.feature_names)\n",
        "target=pd.DataFrame(data=housing.target,columns=housing.target_names)\n",
        "data=pd.concat([features,target],axis=1)\n",
        "data.head()"
      ],
      "metadata": {
        "colab": {
          "base_uri": "https://localhost:8080/",
          "height": 270
        },
        "id": "qiAhdMI9VJyf",
        "outputId": "a07437dc-b5c6-42e9-fc0f-55d8dc148352"
      },
      "execution_count": 16,
      "outputs": [
        {
          "output_type": "execute_result",
          "data": {
            "text/plain": [
              "   MedInc  HouseAge  AveRooms  AveBedrms  Population  AveOccup  Latitude  \\\n",
              "0  8.3252      41.0  6.984127   1.023810       322.0  2.555556     37.88   \n",
              "1  8.3014      21.0  6.238137   0.971880      2401.0  2.109842     37.86   \n",
              "2  7.2574      52.0  8.288136   1.073446       496.0  2.802260     37.85   \n",
              "3  5.6431      52.0  5.817352   1.073059       558.0  2.547945     37.85   \n",
              "4  3.8462      52.0  6.281853   1.081081       565.0  2.181467     37.85   \n",
              "\n",
              "   Longitude  MedHouseVal  \n",
              "0    -122.23        4.526  \n",
              "1    -122.22        3.585  \n",
              "2    -122.24        3.521  \n",
              "3    -122.25        3.413  \n",
              "4    -122.25        3.422  "
            ],
            "text/html": [
              "\n",
              "\n",
              "  <div id=\"df-9ddf82fe-638d-4dc9-bc2a-5a0df977f41a\">\n",
              "    <div class=\"colab-df-container\">\n",
              "      <div>\n",
              "<style scoped>\n",
              "    .dataframe tbody tr th:only-of-type {\n",
              "        vertical-align: middle;\n",
              "    }\n",
              "\n",
              "    .dataframe tbody tr th {\n",
              "        vertical-align: top;\n",
              "    }\n",
              "\n",
              "    .dataframe thead th {\n",
              "        text-align: right;\n",
              "    }\n",
              "</style>\n",
              "<table border=\"1\" class=\"dataframe\">\n",
              "  <thead>\n",
              "    <tr style=\"text-align: right;\">\n",
              "      <th></th>\n",
              "      <th>MedInc</th>\n",
              "      <th>HouseAge</th>\n",
              "      <th>AveRooms</th>\n",
              "      <th>AveBedrms</th>\n",
              "      <th>Population</th>\n",
              "      <th>AveOccup</th>\n",
              "      <th>Latitude</th>\n",
              "      <th>Longitude</th>\n",
              "      <th>MedHouseVal</th>\n",
              "    </tr>\n",
              "  </thead>\n",
              "  <tbody>\n",
              "    <tr>\n",
              "      <th>0</th>\n",
              "      <td>8.3252</td>\n",
              "      <td>41.0</td>\n",
              "      <td>6.984127</td>\n",
              "      <td>1.023810</td>\n",
              "      <td>322.0</td>\n",
              "      <td>2.555556</td>\n",
              "      <td>37.88</td>\n",
              "      <td>-122.23</td>\n",
              "      <td>4.526</td>\n",
              "    </tr>\n",
              "    <tr>\n",
              "      <th>1</th>\n",
              "      <td>8.3014</td>\n",
              "      <td>21.0</td>\n",
              "      <td>6.238137</td>\n",
              "      <td>0.971880</td>\n",
              "      <td>2401.0</td>\n",
              "      <td>2.109842</td>\n",
              "      <td>37.86</td>\n",
              "      <td>-122.22</td>\n",
              "      <td>3.585</td>\n",
              "    </tr>\n",
              "    <tr>\n",
              "      <th>2</th>\n",
              "      <td>7.2574</td>\n",
              "      <td>52.0</td>\n",
              "      <td>8.288136</td>\n",
              "      <td>1.073446</td>\n",
              "      <td>496.0</td>\n",
              "      <td>2.802260</td>\n",
              "      <td>37.85</td>\n",
              "      <td>-122.24</td>\n",
              "      <td>3.521</td>\n",
              "    </tr>\n",
              "    <tr>\n",
              "      <th>3</th>\n",
              "      <td>5.6431</td>\n",
              "      <td>52.0</td>\n",
              "      <td>5.817352</td>\n",
              "      <td>1.073059</td>\n",
              "      <td>558.0</td>\n",
              "      <td>2.547945</td>\n",
              "      <td>37.85</td>\n",
              "      <td>-122.25</td>\n",
              "      <td>3.413</td>\n",
              "    </tr>\n",
              "    <tr>\n",
              "      <th>4</th>\n",
              "      <td>3.8462</td>\n",
              "      <td>52.0</td>\n",
              "      <td>6.281853</td>\n",
              "      <td>1.081081</td>\n",
              "      <td>565.0</td>\n",
              "      <td>2.181467</td>\n",
              "      <td>37.85</td>\n",
              "      <td>-122.25</td>\n",
              "      <td>3.422</td>\n",
              "    </tr>\n",
              "  </tbody>\n",
              "</table>\n",
              "</div>\n",
              "      <button class=\"colab-df-convert\" onclick=\"convertToInteractive('df-9ddf82fe-638d-4dc9-bc2a-5a0df977f41a')\"\n",
              "              title=\"Convert this dataframe to an interactive table.\"\n",
              "              style=\"display:none;\">\n",
              "\n",
              "  <svg xmlns=\"http://www.w3.org/2000/svg\" height=\"24px\"viewBox=\"0 0 24 24\"\n",
              "       width=\"24px\">\n",
              "    <path d=\"M0 0h24v24H0V0z\" fill=\"none\"/>\n",
              "    <path d=\"M18.56 5.44l.94 2.06.94-2.06 2.06-.94-2.06-.94-.94-2.06-.94 2.06-2.06.94zm-11 1L8.5 8.5l.94-2.06 2.06-.94-2.06-.94L8.5 2.5l-.94 2.06-2.06.94zm10 10l.94 2.06.94-2.06 2.06-.94-2.06-.94-.94-2.06-.94 2.06-2.06.94z\"/><path d=\"M17.41 7.96l-1.37-1.37c-.4-.4-.92-.59-1.43-.59-.52 0-1.04.2-1.43.59L10.3 9.45l-7.72 7.72c-.78.78-.78 2.05 0 2.83L4 21.41c.39.39.9.59 1.41.59.51 0 1.02-.2 1.41-.59l7.78-7.78 2.81-2.81c.8-.78.8-2.07 0-2.86zM5.41 20L4 18.59l7.72-7.72 1.47 1.35L5.41 20z\"/>\n",
              "  </svg>\n",
              "      </button>\n",
              "\n",
              "\n",
              "\n",
              "    <div id=\"df-783fbea6-f039-4b83-bd20-d5d768cf8dc3\">\n",
              "      <button class=\"colab-df-quickchart\" onclick=\"quickchart('df-783fbea6-f039-4b83-bd20-d5d768cf8dc3')\"\n",
              "              title=\"Suggest charts.\"\n",
              "              style=\"display:none;\">\n",
              "\n",
              "<svg xmlns=\"http://www.w3.org/2000/svg\" height=\"24px\"viewBox=\"0 0 24 24\"\n",
              "     width=\"24px\">\n",
              "    <g>\n",
              "        <path d=\"M19 3H5c-1.1 0-2 .9-2 2v14c0 1.1.9 2 2 2h14c1.1 0 2-.9 2-2V5c0-1.1-.9-2-2-2zM9 17H7v-7h2v7zm4 0h-2V7h2v10zm4 0h-2v-4h2v4z\"/>\n",
              "    </g>\n",
              "</svg>\n",
              "      </button>\n",
              "    </div>\n",
              "\n",
              "<style>\n",
              "  .colab-df-quickchart {\n",
              "    background-color: #E8F0FE;\n",
              "    border: none;\n",
              "    border-radius: 50%;\n",
              "    cursor: pointer;\n",
              "    display: none;\n",
              "    fill: #1967D2;\n",
              "    height: 32px;\n",
              "    padding: 0 0 0 0;\n",
              "    width: 32px;\n",
              "  }\n",
              "\n",
              "  .colab-df-quickchart:hover {\n",
              "    background-color: #E2EBFA;\n",
              "    box-shadow: 0px 1px 2px rgba(60, 64, 67, 0.3), 0px 1px 3px 1px rgba(60, 64, 67, 0.15);\n",
              "    fill: #174EA6;\n",
              "  }\n",
              "\n",
              "  [theme=dark] .colab-df-quickchart {\n",
              "    background-color: #3B4455;\n",
              "    fill: #D2E3FC;\n",
              "  }\n",
              "\n",
              "  [theme=dark] .colab-df-quickchart:hover {\n",
              "    background-color: #434B5C;\n",
              "    box-shadow: 0px 1px 3px 1px rgba(0, 0, 0, 0.15);\n",
              "    filter: drop-shadow(0px 1px 2px rgba(0, 0, 0, 0.3));\n",
              "    fill: #FFFFFF;\n",
              "  }\n",
              "</style>\n",
              "\n",
              "    <script>\n",
              "      async function quickchart(key) {\n",
              "        const containerElement = document.querySelector('#' + key);\n",
              "        const charts = await google.colab.kernel.invokeFunction(\n",
              "            'suggestCharts', [key], {});\n",
              "      }\n",
              "    </script>\n",
              "\n",
              "      <script>\n",
              "\n",
              "function displayQuickchartButton(domScope) {\n",
              "  let quickchartButtonEl =\n",
              "    domScope.querySelector('#df-783fbea6-f039-4b83-bd20-d5d768cf8dc3 button.colab-df-quickchart');\n",
              "  quickchartButtonEl.style.display =\n",
              "    google.colab.kernel.accessAllowed ? 'block' : 'none';\n",
              "}\n",
              "\n",
              "        displayQuickchartButton(document);\n",
              "      </script>\n",
              "      <style>\n",
              "    .colab-df-container {\n",
              "      display:flex;\n",
              "      flex-wrap:wrap;\n",
              "      gap: 12px;\n",
              "    }\n",
              "\n",
              "    .colab-df-convert {\n",
              "      background-color: #E8F0FE;\n",
              "      border: none;\n",
              "      border-radius: 50%;\n",
              "      cursor: pointer;\n",
              "      display: none;\n",
              "      fill: #1967D2;\n",
              "      height: 32px;\n",
              "      padding: 0 0 0 0;\n",
              "      width: 32px;\n",
              "    }\n",
              "\n",
              "    .colab-df-convert:hover {\n",
              "      background-color: #E2EBFA;\n",
              "      box-shadow: 0px 1px 2px rgba(60, 64, 67, 0.3), 0px 1px 3px 1px rgba(60, 64, 67, 0.15);\n",
              "      fill: #174EA6;\n",
              "    }\n",
              "\n",
              "    [theme=dark] .colab-df-convert {\n",
              "      background-color: #3B4455;\n",
              "      fill: #D2E3FC;\n",
              "    }\n",
              "\n",
              "    [theme=dark] .colab-df-convert:hover {\n",
              "      background-color: #434B5C;\n",
              "      box-shadow: 0px 1px 3px 1px rgba(0, 0, 0, 0.15);\n",
              "      filter: drop-shadow(0px 1px 2px rgba(0, 0, 0, 0.3));\n",
              "      fill: #FFFFFF;\n",
              "    }\n",
              "  </style>\n",
              "\n",
              "      <script>\n",
              "        const buttonEl =\n",
              "          document.querySelector('#df-9ddf82fe-638d-4dc9-bc2a-5a0df977f41a button.colab-df-convert');\n",
              "        buttonEl.style.display =\n",
              "          google.colab.kernel.accessAllowed ? 'block' : 'none';\n",
              "\n",
              "        async function convertToInteractive(key) {\n",
              "          const element = document.querySelector('#df-9ddf82fe-638d-4dc9-bc2a-5a0df977f41a');\n",
              "          const dataTable =\n",
              "            await google.colab.kernel.invokeFunction('convertToInteractive',\n",
              "                                                     [key], {});\n",
              "          if (!dataTable) return;\n",
              "\n",
              "          const docLinkHtml = 'Like what you see? Visit the ' +\n",
              "            '<a target=\"_blank\" href=https://colab.research.google.com/notebooks/data_table.ipynb>data table notebook</a>'\n",
              "            + ' to learn more about interactive tables.';\n",
              "          element.innerHTML = '';\n",
              "          dataTable['output_type'] = 'display_data';\n",
              "          await google.colab.output.renderOutput(dataTable, element);\n",
              "          const docLink = document.createElement('div');\n",
              "          docLink.innerHTML = docLinkHtml;\n",
              "          element.appendChild(docLink);\n",
              "        }\n",
              "      </script>\n",
              "    </div>\n",
              "  </div>\n"
            ]
          },
          "metadata": {},
          "execution_count": 16
        }
      ]
    },
    {
      "cell_type": "code",
      "source": [
        "data.info()"
      ],
      "metadata": {
        "colab": {
          "base_uri": "https://localhost:8080/"
        },
        "id": "4pydp0NYXF8G",
        "outputId": "743498fa-8b02-40c7-8668-44c862bd872c"
      },
      "execution_count": 17,
      "outputs": [
        {
          "output_type": "stream",
          "name": "stdout",
          "text": [
            "<class 'pandas.core.frame.DataFrame'>\n",
            "RangeIndex: 20640 entries, 0 to 20639\n",
            "Data columns (total 9 columns):\n",
            " #   Column       Non-Null Count  Dtype  \n",
            "---  ------       --------------  -----  \n",
            " 0   MedInc       20640 non-null  float64\n",
            " 1   HouseAge     20640 non-null  float64\n",
            " 2   AveRooms     20640 non-null  float64\n",
            " 3   AveBedrms    20640 non-null  float64\n",
            " 4   Population   20640 non-null  float64\n",
            " 5   AveOccup     20640 non-null  float64\n",
            " 6   Latitude     20640 non-null  float64\n",
            " 7   Longitude    20640 non-null  float64\n",
            " 8   MedHouseVal  20640 non-null  float64\n",
            "dtypes: float64(9)\n",
            "memory usage: 1.4 MB\n"
          ]
        }
      ]
    },
    {
      "cell_type": "code",
      "source": [
        "#dataSplite\n",
        "X=data.iloc[:,:8].values\n",
        "Y=data.iloc[:,8].values\n",
        "Xtrainfull,Xtest,Ytrainfull,Ytest=train_test_split(X,Y,test_size=0.2)"
      ],
      "metadata": {
        "id": "xdab83gjXKL4"
      },
      "execution_count": 18,
      "outputs": []
    },
    {
      "cell_type": "code",
      "source": [
        "#addValidationStep\n",
        "Xtrain,Xvalid,Ytrain,Yvalid=train_test_split(Xtrainfull,Ytrainfull,test_size=0.2)"
      ],
      "metadata": {
        "id": "pB-OImMVZIHx"
      },
      "execution_count": 19,
      "outputs": []
    },
    {
      "cell_type": "code",
      "source": [
        "#featuresScaling\n",
        "scaler=StandardScaler()\n",
        "XtrainScal=scaler.fit_transform(Xtrain)\n",
        "XvalidScal=scaler.transform(Xvalid)\n",
        "XtestScal=scaler.transform(Xtest)"
      ],
      "metadata": {
        "id": "NO111-IEYb4n"
      },
      "execution_count": 20,
      "outputs": []
    },
    {
      "cell_type": "markdown",
      "source": [
        "## **Build MLP**"
      ],
      "metadata": {
        "id": "59U1CDsXamon"
      }
    },
    {
      "cell_type": "code",
      "source": [
        "mlpModel=keras.models.Sequential([\n",
        "    keras.layers.Dense(30,activation=\"relu\",input_shape=Xtrain.shape[1:]),\n",
        "    keras.layers.Dense(1)\n",
        "])"
      ],
      "metadata": {
        "id": "9O5zXkmXaq14"
      },
      "execution_count": 21,
      "outputs": []
    },
    {
      "cell_type": "code",
      "source": [
        "mlpModel.compile(optimizer=\"sgd\",loss=\"mean_squared_error\")"
      ],
      "metadata": {
        "id": "XhFHOCdGbqDx"
      },
      "execution_count": 22,
      "outputs": []
    },
    {
      "cell_type": "code",
      "source": [
        "mlpModel.summary()"
      ],
      "metadata": {
        "colab": {
          "base_uri": "https://localhost:8080/"
        },
        "id": "fojKDjT0ciX6",
        "outputId": "41282d24-1fab-4289-dcb3-94b248292faa"
      },
      "execution_count": 23,
      "outputs": [
        {
          "output_type": "stream",
          "name": "stdout",
          "text": [
            "Model: \"sequential_1\"\n",
            "_________________________________________________________________\n",
            " Layer (type)                Output Shape              Param #   \n",
            "=================================================================\n",
            " dense_3 (Dense)             (None, 30)                270       \n",
            "                                                                 \n",
            " dense_4 (Dense)             (None, 1)                 31        \n",
            "                                                                 \n",
            "=================================================================\n",
            "Total params: 301\n",
            "Trainable params: 301\n",
            "Non-trainable params: 0\n",
            "_________________________________________________________________\n"
          ]
        }
      ]
    },
    {
      "cell_type": "code",
      "source": [
        "mllpHistory=mlpModel.fit(XtrainScal,Ytrain,epochs=20,validation_data=(XvalidScal,Yvalid))"
      ],
      "metadata": {
        "colab": {
          "base_uri": "https://localhost:8080/"
        },
        "id": "bCNt3YBXb9Ow",
        "outputId": "6bd54d64-9932-452c-e528-d42b6620e106"
      },
      "execution_count": 25,
      "outputs": [
        {
          "output_type": "stream",
          "name": "stdout",
          "text": [
            "Epoch 1/20\n",
            "413/413 [==============================] - 2s 3ms/step - loss: 7.1456 - val_loss: 0.5348\n",
            "Epoch 2/20\n",
            "413/413 [==============================] - 1s 2ms/step - loss: 0.4617 - val_loss: 0.4251\n",
            "Epoch 3/20\n",
            "413/413 [==============================] - 1s 2ms/step - loss: 0.4136 - val_loss: 0.3861\n",
            "Epoch 4/20\n",
            "413/413 [==============================] - 1s 2ms/step - loss: 0.3792 - val_loss: 0.3737\n",
            "Epoch 5/20\n",
            "413/413 [==============================] - 1s 2ms/step - loss: 0.3684 - val_loss: 0.3701\n",
            "Epoch 6/20\n",
            "413/413 [==============================] - 1s 2ms/step - loss: 0.3632 - val_loss: 0.3720\n",
            "Epoch 7/20\n",
            "413/413 [==============================] - 1s 2ms/step - loss: 0.3595 - val_loss: 0.3590\n",
            "Epoch 8/20\n",
            "413/413 [==============================] - 1s 2ms/step - loss: 0.3567 - val_loss: 0.3590\n",
            "Epoch 9/20\n",
            "413/413 [==============================] - 1s 2ms/step - loss: 0.3579 - val_loss: 0.3594\n",
            "Epoch 10/20\n",
            "413/413 [==============================] - 1s 2ms/step - loss: 0.3533 - val_loss: 0.3589\n",
            "Epoch 11/20\n",
            "413/413 [==============================] - 1s 4ms/step - loss: 0.3509 - val_loss: 0.3562\n",
            "Epoch 12/20\n",
            "413/413 [==============================] - 2s 4ms/step - loss: 0.3495 - val_loss: 0.3567\n",
            "Epoch 13/20\n",
            "413/413 [==============================] - 1s 2ms/step - loss: 0.3496 - val_loss: 0.3500\n",
            "Epoch 14/20\n",
            "413/413 [==============================] - 1s 2ms/step - loss: 0.3485 - val_loss: 0.3532\n",
            "Epoch 15/20\n",
            "413/413 [==============================] - 1s 2ms/step - loss: 0.3480 - val_loss: 0.3463\n",
            "Epoch 16/20\n",
            "413/413 [==============================] - 1s 2ms/step - loss: 0.3458 - val_loss: 0.3536\n",
            "Epoch 17/20\n",
            "413/413 [==============================] - 1s 2ms/step - loss: 0.3437 - val_loss: 0.3601\n",
            "Epoch 18/20\n",
            "413/413 [==============================] - 1s 2ms/step - loss: 0.3434 - val_loss: 0.3459\n",
            "Epoch 19/20\n",
            "413/413 [==============================] - 1s 3ms/step - loss: 0.3410 - val_loss: 0.3631\n",
            "Epoch 20/20\n",
            "413/413 [==============================] - 1s 2ms/step - loss: 0.3421 - val_loss: 0.3513\n"
          ]
        }
      ]
    },
    {
      "cell_type": "code",
      "source": [
        "pd.DataFrame(mllpHistory.history).plot(figsize=(8,5))\n",
        "plt.show()"
      ],
      "metadata": {
        "colab": {
          "base_uri": "https://localhost:8080/",
          "height": 445
        },
        "id": "MYEaQI4CczG8",
        "outputId": "8c14d53c-c150-4004-ecdd-b552e7d055b0"
      },
      "execution_count": 26,
      "outputs": [
        {
          "output_type": "display_data",
          "data": {
            "text/plain": [
              "<Figure size 800x500 with 1 Axes>"
            ],
            "image/png": "[encoded data removed]"
          },
          "metadata": {}
        }
      ]
    },
    {
      "cell_type": "code",
      "source": [
        "mlpModel.evaluate(XtestScal,Ytest)"
      ],
      "metadata": {
        "colab": {
          "base_uri": "https://localhost:8080/"
        },
        "id": "rog3xnvLdNZ1",
        "outputId": "d007373d-41c7-437d-f20e-3df16770201f"
      },
      "execution_count": 27,
      "outputs": [
        {
          "output_type": "stream",
          "name": "stdout",
          "text": [
            "129/129 [==============================] - 0s 2ms/step - loss: 0.3477\n"
          ]
        },
        {
          "output_type": "execute_result",
          "data": {
            "text/plain": [
              "0.34768813848495483"
            ]
          },
          "metadata": {},
          "execution_count": 27
        }
      ]
    },
    {
      "cell_type": "markdown",
      "source": [
        "## **Non Sequential Neural Network**\n",
        "---\n",
        "\n",
        "* Wide & Deep neural network is one of the examples of Non-Sequential NN.  \n",
        "  *  It connects all or part of the inputs directly to the output layer.\n",
        "  * Memorizing component (Linear model) and a Generalizing component (Neural Network)\n",
        "* **Memorization & Generalization**\n",
        "  * AND(user_watched_movie=Ironman, impression_movie=The Dark Knight) whose value is 1, so if user watches ironman, then the next movie suggested\n",
        "  * (user_watch_genre=Action, impression_genre=Sci-fi).\n",
        "  * DNN -> Generalization\n",
        "\n",
        "  ![Screen Shot 2023-07-31 at 16.45.46.png](data:image/png;base64,iVBORw0KGgoAAAANSUhEUgAAA+oAAANgCAYAAAC7tZJsAAAMPmlDQ1BJQ0MgUHJvZmlsZQAASImVVwdYU8kWnluSkEBogQhICb0JIr1ICaEFEJAq2AhJIKHEGAgq9oYKrl1EwYauiihYAVkrotgWAXtdEFFR1kVd7MqbFLDsK9+b75s7//3nzH/OnDv33hkANE5zxOJsVBOAHFGeJDY0kDEuOYVBegpIQB9oA1OAc7i5YmZMTCSAZbD9sby9CRBZe81BpvXP/v9atHj8XC4ASAzEabxcbg7ERwDAy7liSR4ARBlvPi1PLMOwAh0JDBDipTKcocDlMpymwAfkNvGxLIibAFBR43AkGQCot0Kekc/NgBrqfRA7iXhCEQAaDIj9cnKm8CBOhdgG2oghlul7pn2nk/GDZtqQJoeTMYQVc5EXlSBhrjibM+P/TMf/LjnZ0kEfVrCqCSRhsbI5w7zdzpoSIcNqEPeK0qKiIdaG+L2QJ7eHGKUIpGEJCnvUkJvLgjkDdIideJygCIgNIQ4RZUdFKvm0dGEIG2K4QtDpwjx2PMR6EC/l5wbHKW22SabEKn2htekSFlPJX+BI5H5lvh5KsxKYSv3XAj5bqY+pFwjikyCmQGyRL0yMglgdYsfcrLgIpc3oAgEratBGIo2VxW8BcSxfFBqo0Mfy0yUhsUr7opzcwfli2wRCdpQSH8oTxIcp8oM1cTny+OFcsFa+iJkwqMPPHRc5OBcePyhYMXfsGV+UEKfUeS/OC4xVjMUp4uwYpT1uxs8OlfFmELvm5scpx+KJeXBBKvTxdHFeTLwiTrwgkxMeo4gHXwUiAQsEAQaQwpoGpoBMIGzpreuFd4qeEMABEpAB+MBByQyOSJL3iOA1DhSAPyHig9yhcYHyXj7Ih/yXIVZxdQDp8t58+Ygs8ATiHBABsuG9VD5KNOQtETyGjPAf3jmwcmG82bDK+v89P8h+Y5iQiVQy0kGPDI1BS2IwMYgYRgwh2uIGuB/ug0fCawCszrgn7jU4j2/2hCeENsIjwg1CB+HOZOECyU9RjgEdUD9EmYu073OBW0FNNzwQ94XqUBmn4wbAAXeFfpi4P/TsBlmWMm5ZVhg/af8wg++ehtKO7ERGycPIAWSbn0eq26m7DanIcv19fhSxpg3lmzXU87N/1nfZ58E24mdLbCl2GGvGzmAXseNYHWBgp7B67Ap2QoaHVtdj+eoa9BYrjycL6gj/4W/wycoymetU5dTj9FnRl8efLvtGA9YU8QyJMEOQx2DCPwKfwRZxHUcwnJ2cXQCQ/V8Un683dPl/A6Ff+sYtCQDAXzAwMHDsGxeaBkDNWQBUF3/jbKCS5k0Aml9ypZJ8BYfLLgT4ldCAb5o+MAbmwAbOxxm4Ax8QAIJBOIgG8SAZTILRC+A6l4BpYBaYDwpBMVgF1oNNYCvYAfaA/eAQqAPHwRlwHlwGreAGuAdXTzd4AfrAW/AJQRASQkVoiD5iglgi9ogz4on4IcFIJBKLJCOpSAYiQqTILGQhUoysQTYh25FK5CByDDmDXETakDtIJ9KDvEY+ohiqhuqgRqgVOhL1RJloBBqPTkQz0KloAboIXYGWohXoPrQWPYNeRm+gHegLtB8DmCpGx0wxB8wTY2HRWAqWjkmwOVgRVoJVYNVYA3zO17AOrBf7gBNxGs7AHeAKDsMTcC4+FZ+DL8c34XvwWrwJv4Z34n34VwKVYEiwJ3gT2IRxhAzCNEIhoYSwi3CUcA6+S92Et0QikU60JnrAdzGZmEmcSVxO3EysIZ4mthG7iP0kEkmfZE/yJUWTOKQ8UiFpI2kf6RSpndRNeq+iqmKi4qwSopKiIlJZoFKislflpEq7ylOVT2RNsiXZmxxN5pFnkFeSd5IbyFfJ3eRPFC2KNcWXEk/JpMynlFKqKeco9ylvVFVVzVS9VMeqClXnqZaqHlC9oNqp+kFNW81OjaU2QU2qtkJtt9pptTtqb6hUqhU1gJpCzaOuoFZSz1IfUt+r09Qd1dnqPPW56mXqtert6i81yBqWGkyNSRoFGiUahzWuavRqkjWtNFmaHM05mmWaxzRvafZr0bRGaUVr5Wgt19qrdVHrmTZJ20o7WJunvUh7h/ZZ7S4aRjOnsWhc2kLaTto5WrcOUcdah62TqVOss1+nRadPV1vXVTdRd7pume4J3Q46Rreis+nZ9JX0Q/Sb9I/DjIYxh/GHLRtWPax92Du94XoBeny9Ir0avRt6H/UZ+sH6Wfqr9ev0HxjgBnYGYw2mGWwxOGfQO1xnuM9w7vCi4YeG3zVEDe0MYw1nGu4wvGLYb2RsFGokNtpodNao15huHGCcabzO+KRxjwnNxM9EaLLO5JTJc4Yug8nIZpQymhh9poamYaZS0+2mLaafzKzNEswWmNWYPTCnmHuap5uvM28077MwsRhjMcuiyuKuJdnS01JgucGy2fKdlbVVktUSqzqrZ9Z61mzrAusq6/s2VBt/m6k2FTbXbYm2nrZZtpttW+1QOzc7gV2Z3VV71N7dXmi/2b5tBGGE1wjRiIoRtxzUHJgO+Q5VDp2OdMdIxwWOdY4vR1qMTBm5emTzyK9Obk7ZTjud7o3SHhU+asGohlGvne2cuc5lztddqC4hLnNd6l1eudq78l23uN52o7mNcVvi1uj2xd3DXeJe7d7jYeGR6lHucctTxzPGc7nnBS+CV6DXXK/jXh+83b3zvA95/+Xj4JPls9fn2Wjr0fzRO0d3+Zr5cny3+3b4MfxS/bb5dfib+nP8K/wfBZgH8AJ2BTxl2jIzmfuYLwOdAiWBRwPfsbxZs1mng7Cg0KCioJZg7eCE4E3BD0PMQjJCqkL6Qt1CZ4aeDiOERYStDrvFNmJz2ZXsvnCP8NnhTRFqEXERmyIeRdpFSiIbxqBjwsesHXM/yjJKFFUXDaLZ0WujH8RYx0yN+W0scWzM2LKxT2JHxc6KbY6jxU2O2xv3Nj4wfmX8vQSbBGlCY6JG4oTEysR3SUFJa5I6xo0cN3vc5WSDZGFyfQopJTFlV0r/+ODx68d3T3CbUDjh5kTridMnXpxkMCl70onJGpM5kw+nElKTUvemfuZEcyo4/WnstPK0Pi6Lu4H7ghfAW8fr4fvy1/Cfpvumr0l/luGbsTajR+AvKBH0ClnCTcJXmWGZWzPfZUVn7c4ayE7KrslRyUnNOSbSFmWJmqYYT5k+pU1sLy4Ud0z1nrp+ap8kQrIrF8mdmFufpwM38lekNtLF0s58v/yy/PfTEqcdnq41XTT9ygy7GctmPC0IKfh1Jj6TO7Nxlums+bM6ZzNnb5+DzEmb0zjXfO6iud3zQuftmU+ZnzX/9wVOC9Ys+Hth0sKGRUaL5i3qWhy6uKpQvVBSeGuJz5KtS/GlwqUty1yWbVz2tYhXdKnYqbik+PNy7vJLv4z6pfSXgRXpK1pWuq/csoq4SrTq5mr/1XvWaK0pWNO1dsza2nWMdUXr/l4/ef3FEteSrRsoG6QbOkojS+s3WmxctfHzJsGmG2WBZTXlhuXLyt9t5m1u3xKwpXqr0dbirR+3Cbfd3h66vbbCqqJkB3FH/o4nOxN3Nv/q+WvlLoNdxbu+7Bbt7tgTu6ep0qOycq/h3pVVaJW0qmffhH2t+4P211c7VG+vodcUHwAHpAeeH0w9ePNQxKHGw56Hq49YHik/SjtaVIvUzqjtqxPUddQn17cdCz/W2ODTcPQ3x992Hzc9XnZC98TKk5STi04OnCo41X9afLr3TMaZrsbJjffOjjt7vWlsU8u5iHMXzoecP9vMbD51wffC8YveF49d8rxUd9n9cu0VtytHf3f7/WiLe0vtVY+r9a1erQ1to9tOtvu3n7kWdO38dfb1yzeibrTdTLh5+9aEWx23ebef3cm+8+pu/t1P9+bdJ9wveqD5oOSh4cOKP2z/qOlw7zjRGdR55VHco3td3K4Xj3Mff+5e9IT6pOSpydPKZ87PjveE9LQ+H/+8+4X4xafewj+1/ix/afPyyF8Bf13pG9fX/UryauD18jf6b3b/7fp3Y39M/8O3OW8/vSt6r/9+zwfPD80fkz4+/TTtM+lz6RfbLw1fI77eH8gZGBBzJBz5VgCDFU1PB+D1bgCoyQDQ4PmMMl5x/pMXRHFmlSPwn7DijCgv7gBUw0a2jWfOA+DgaXj8gq0G3K/ItvDxAQB1cRmqg2c1+blSVojwHLDNVYba6VN54KeiOHN+F/fPLZCpyof/0P4Lbtd6UgZ0v6cAAACKZVhJZk1NACoAAAAIAAQBGgAFAAAAAQAAAD4BGwAFAAAAAQAAAEYBKAADAAAAAQACAACHaQAEAAAAAQAAAE4AAAAAAAAAkAAAAAEAAACQAAAAAQADkoYABwAAABIAAAB4oAIABAAAAAEAAAPqoAMABAAAAAEAAANgAAAAAEFTQ0lJAAAAU2NyZWVuc2hvdAGaIHgAAAAJcEhZcwAAFiUAABYlAUlSJPAAAAHXaVRYdFhNTDpjb20uYWRvYmUueG1wAAAAAAA8eDp4bXBtZXRhIHhtbG5zOng9ImFkb2JlOm5zOm1ldGEvIiB4OnhtcHRrPSJYTVAgQ29yZSA2LjAuMCI+CiAgIDxyZGY6UkRGIHhtbG5zOnJkZj0iaHR0cDovL3d3dy53My5vcmcvMTk5OS8wMi8yMi1yZGYtc3ludGF4LW5zIyI+CiAgICAgIDxyZGY6RGVzY3JpcHRpb24gcmRmOmFib3V0PSIiCiAgICAgICAgICAgIHhtbG5zOmV4aWY9Imh0dHA6Ly9ucy5hZG9iZS5jb20vZXhpZi8xLjAvIj4KICAgICAgICAgPGV4aWY6UGl4ZWxZRGltZW5zaW9uPjg2NDwvZXhpZjpQaXhlbFlEaW1lbnNpb24+CiAgICAgICAgIDxleGlmOlBpeGVsWERpbWVuc2lvbj4xMDAyPC9leGlmOlBpeGVsWERpbWVuc2lvbj4KICAgICAgICAgPGV4aWY6VXNlckNvbW1lbnQ+U2NyZWVuc2hvdDwvZXhpZjpVc2VyQ29tbWVudD4KICAgICAgPC9yZGY6RGVzY3JpcHRpb24+CiAgIDwvcmRmOlJERj4KPC94OnhtcG1ldGE+CtTQaMcAAAAcaURPVAAAAAIAAAAAAAABsAAAACgAAAGwAAABsAAAmKqkh1ttAABAAElEQVR4AezdB3hUxd7H8X86SSih9yq9F6kqCNKliCIoqChiR7mK7dq7V3y9KraLBcUuRXpTRJQiHUR6hxAIPYSSQkLemSO7zu4mJGiS3ZPzPe/DkznnbHZnPpP73vvbmTMTlKEO4UAAAQQQQAABBBBAAAEEEEAAgYAQCCKoB0Q/UAkEEEAAAQQQQAABBBBAAAEELAGCOn8ICCCAAAIIIIAAAggggAACCASQAEE9gDqDqiCAAAIIIIAAAggggAACCCBAUOdvAAEEEEAAAQQQQAABBBBAAIEAEiCoB1BnUBUEEEAAAQQQQAABBBBAAAEECOr8DSCAAAIIIIAAAggggAACCCAQQAIE9QDqDKqCAAIIIIAAAggggAACCCCAAEGdvwEEEEAAAQQQQAABBBBAAAEEAkiAoB5AnUFVEEAAAQQQQAABBBBAAAEEECCo8zeAAAIIIIAAAggggAACCCCAQAAJ5HlQX7RoUQA1l6oggAACCCCAAAIIIIAAAgg4VaBixYpSvXr1gG9+ngf1tm3bSufOnQMeggoigAACCCCAAAIIIIAAAggUXIEjR45IyZIl5aWXXgr4RuZ5UO/YsaP8/PPPAQ9BBRFAAAEEEEAAAQQQQAABBAqugM6lCxculGeeeSbgG0lQD/guooIIIIAAAggggAACCCCAAAL/VICgbggyom5gUEQAAQQQQAABBBBAAAEEEPCLAEHdYCeoGxgUEUAAAQQQQAABBBBAAAEE/CJAUDfYCeoGBkUEEEAAAQQQQAABBBBAAAG/CBDUDXaCuoFBEQEEEEAAAQQQQAABBBBAwC8CBHWDnaBuYFBEAAEEEEAAAQQQQAABBBDwiwBB3WAnqBsYFBFAAAEEEEAAAQQQQAABBPwiQFA32AnqBgZFBBBAAAEEEEAAAQQQQAABvwgQ1A12grqBQREBBBBAAAEEEEAAAQQQQMAvAgR1g52gbmBQRAABBBBAAAEEEEAAAQQQ8IsAQd1gJ6gbGBQRQAABBBBAAAEEEEAAAQT8IkBQN9gJ6gYGRQQQQAABBAqAwOzZs6VLly4SGhpaAFpDExBAAAEEnCJAUDd6mqBuYFBEAAEEEEDA5gL79++XiRMnyu233y7R0dE2bw3VRwABBBBwkgBB3ehtgrqBQREBBBBAAAGbC+j/kTN9+nS5+eabpVmzZjZvDdVHAAEEEHCSAEHd6G2CuoFBEQEEEEAAARsLpKamypgxY2TTpk3Spk0bueWWW2zcGqqOAAIIIOA0AYK60eMEdQODIgIIIIAAAjYW2LJli4wbN06OHj1qTXt/9tlnpVixYjZuEVVHAAEEEHCSAEHd6G2CuoFBEQEEEEAAARsLzJo1S3744QdJSkqyWjF48GBp3769jVtE1RFAAAEEnCRAUDd6m6BuYFBEAAEEEEDApgInT56U999/X3bt2iUZGRlWK2rXri0jR460aYuoNgIIIICA0wQI6kaPE9QNDIoIIIAAAgjYVGDNmjUyYcIEa9q7qwkhISHyxBNPSKVKlVyX+IkAAggggEDAChDUja4hqBsYFBFAAAEEELCpwLfffitLliyRlJQUdwuCgoLk6quvlt69e7uvUUAAAQQQQCBQBQjqRs8Q1A0MiggggAACCNhQ4ODBg/Lpp59a0969q69H0/Wouh5d50AAAQQQQCCQBQjqRu8Q1A0MiggggAACCNhQYPHixTJjxgw5duyYT+0jIiLktttuY091HxkuIIAAAggEmgBB3egRgrqBQREBBBBAAAGbCei90/W09+XLl8vZs2d9ah8aGiqXX365DBw4UIKDg33ucwEBBBBAAIFAESCoGz1BUDcwKCKAAAIIIGAzgW3btlmLyO3ZsyfTmuvn1MuUKSMjRoyQkiVLZvoaLiKAAAIIIBAIAgR1oxcI6gYGRQQQQAABBGwkcO7cOVmwYIHMmTNHTpw4kWXNo6Ki5LrrrrNG1rN8ETcQQAABBBDwswBB3egAgrqBQREBBBBAAAEbCSQkJMjEiRNl1apVokN7Voee/t6sWTO55ZZbJDw8PKuXcR0BBBBAAAG/ChDUDX6CuoFBEQEEEEAAARsJbNiwQaZMmSJ79+7NttalS5eWYcOGSbVq1bJ9LS9AAAEEEEDAHwIEdUOdoG5gUEQAAQQQQMAmAnrhuHnz5skPP/wgZ86cybbW0dHR0rVrV+nevXu2r+UFCCCAAAII+EOAoG6oE9QNDIoIIIAAAgjYREDvnf7999/L2rVrc1RjvY96vXr1rK3aChcunKPf4UUIIIAAAgjkpwBB3dAmqBsYFBFAAAEEELCJwJo1a2Ty5MmiA7v3Ubt2bdm+fbvPc+t69fcbbrhBGjRo4P0rnCOAAAIIIOB3AYK60QUEdQODIgIIIIAAAjYQSEpKkrlz51pT3733Ti9evLgMHjxYPvzwQ9F7rJtHZGSkdOjQQfr162depowAAggggEBACBDUjW4gqBsYFBFAAAEEELCBQGxsrLWI3Pr1631q27ZtW0lMTLRCut5j3Tz0nup6tF0H+bJly5q3KCOAAAIIIOB3AYK60QUEdQODIgIIIIAAAjYQWLZsmYwfP15OnTrlU9vhw4fL559/Lvq/36dOnepzX6/+3rdvX2nZsqXPPS4ggAACCCDgTwGCuqFPUDcwKCKAAAIIIBDgAnrv9NmzZ8svv/wiGRkZHrWtXr26pKSkSHx8vOgF4/TU9+TkZI/X6H3U27VrJ/3795ewsDCPe5wggAACCCDgTwGCuqFPUDcwKCKAAAIIIBDgArt375aJEyeK97R2Xe3OnTvL8uXLranv+rx169aiR9+9j5o1a8r111/PnureMJwjgAACCPhVgKBu8BPUDQyKCCCAAAIIBLBAenq6LFmyRL766iuf0fSIiAhrlfe0tDT3vfvvv1/eeecdnxaVLFlSevXqZY2s+9zkAgIIIIAAAn4SIKgb8AR1A4MiAggggAACASxw9OhRmTFjhhXWvavZqFEj2bNnj3s03XW/VKlScuTIEdep+2ebNm1kwIABEh0d7b5GAQEEEEAAAX8KENQNfYK6gUERAQQQQACBABbQ092//PJL6xl0s5p6NfeePXvKypUrPfZV19e7du1qbeVmvl6X9fPsepu2OnXqeN/iHAEEEEAAAb8IENQNdoK6gUERAQQQQACBABXQi8QtXrxYvvvuO58alihRQs6cOeOzcJwO6vfee6+MGTNG9JR489Aj6Trcd+rUSYKDg81blBFAAAEEEPCLAEHdYCeoGxgUEUAAAQQQCFCBw4cPW4vIrV271qeGetE4vcjcwYMHfe6FhIRYo+fbt2/3udeqVSu55pprRD+zzoEAAggggIC/BQjqRg8Q1A0MiggggAACCASggN6GbcuWLdbIuB45Nw+9xVqHDh1k8+bNsm/fPvOWVdaLzPXp00cmTJjgc69SpUrW9PeGDRv63OMCAggggAAC+S1AUDfECeoGBkUEEEAAAQQCUCApKUkWLFggU6ZM8amdDtunTp0Svb96ZocO6vpZ9JkzZ8rJkyc9XqLv9ejRQ6666irR+6tzIIAAAggg4E8BgrqhT1A3MCgigAACCCAQgAJ61fZPP/1UMpu+rkfT4+LiMr3nakpkZKToVeH1HuveR5MmTaRv375SsWJF71ucI4AAAgggkK8CBHWDm6BuYFBEAAEEEEAgwAT03ukbNmzIdEE4Pe1dLwanR8ozm/buaooeOa9SpYr89NNPrkvun6VLl5b+/fuLDux68TkOBBBAAAEE/CVAUDfkCeoGBkUEEEAAAQQCTEBPe582bZrMnz/fp2Z6urreJz0qKsrnnvcFvWp8bGys92XRi83pLdw6d+4shQsX9rnPBQQQQAABBPJLgKBuSBPUDQyKCCCAAAIIBJiAXu199OjRcujQoTyrWf369eXaa6+VypUr59ln8MYIIIAAAghkJ0BQN4QI6gYGRQQQQAABBAJIQE97X7FihfV8el5WS4+kDxw4UFq0aGGNsOflZ/HeCCCAAAIIZCVAUDdkCOoGBkUEEEAAAQQCSEBPV//ss89k9erVeV4r/b8H9ArwxYoVy/PP4gMQQAABBBDITICgbqgQ1A0MiggggAACCASQQHx8vLz22mvivXd6XlRRT3u/+eabpWrVqnnx9rwnAggggAAC2QoQ1A0igrqBQREBBBBAAIEAEcjIyLAWkBs/fny+1Cg0NFQGDRokrVq1Er2aPAcCCCCAAAL5LUBQN8QJ6gYGRQQQQAABBAJI4NSpU6L/5eT44osvfPZS19utXXnllda/nLxH0aJFRe+5zjZtOdHiNQgggAACuS1AUDdECeoGBkUEEEAAAQRsKqBXhtf7rZuHDty9evWy/pnXKSOAAAIIIBCIAgR1o1cI6gYGRQQQQAABBGwqQFC3acdRbQQQQAABtwBB3U0hQlA3MCgigAACCCBgUwGCuk07jmojgAACCLgFCOpuCoK6QUERAQQQQAAB2woQ1G3bdVQcAQQQQOC8AEHd+FNgRN3AoIgAAggggIBNBQjqNu04qo0AAggg4BYgqLspGFE3KCgigAACCCBgWwGCum27joojgAACCJwXIKgbfwqMqBsYFBFAAAEEELCpAEHdph1HtRFAAAEE3AIEdTcFI+oGBUUEEEAAAQRsK0BQt23XUXEEEEAAgfMCBHXjT4ERdQODIgIIIIAAAjYVIKjbtOOoNgIIIICAW4Cg7qZgRN2goIgAAggggIBtBQjqtu06Ko4AAgggcF6AoG78KTCibmBQRAABBBBAwKYCBHWbdhzVRgABBBBwCxDU3RSMqBsUFBFAAAEEELCtAEHdtl1HxRFAAAEEzgsQ1I0/BUbUDQyKCCCAAAII2FSAoG7TjqPaCCCAAAJuAYK6m4IRdYOCIgIIIIAAArYVIKjbtuuoOAIIIIDAeQGCuvGnwIi6gUERAQQQQAABmwoQ1G3acVQbAQQQQMAtQFB3UzCiblBQRAABBBBAwLYCBHXbdh0VRwABBBA4L0BQN/4UGFE3MCgigAACCCBgUwGCuk07jmojgAACCLgFCOpuCkbUDQqKCCCAAAII2FaAoG7brqPiCCCAAALnBQjqxp8CI+oGBkUEEEAAAQRsKkBQt2nHUW0EEEAAAbcAQd1NwYi6QUERAQQQQAAB2woQ1G3bdVQcAQQQQOC8AEHd+FNgRN3AoIgAAggggIBNBQjqNu04qo0AAggg4BYgqLspGFE3KCgigAACCCBgWwGCum27joojgAACCJwXIKgbfwqMqBsYFBFAAAEEELCpAEHdph1HtRFAAAEE3AIEdTcFI+oGBUUEEEAAAQRsK0BQt23XUXEEEEAAgfMCBHXjT4ERdQODIgIIIIAAAjYVIKjbtOOoNgIIIICAW4Cg7qZgRN2goIgAAggggIBtBQjqtu06Ko4AAgggcF6AoG78KTCibmBQRAABBBBAwKYCBHWbdhzVRgABBBBwCxDU3RSMqBsUFBFAAAEEELCtAEHdtl1HxRFAAAEEzgsQ1I0/BUbUDQyKCCCAAAII2FSAoG7TjqPaCCCAAAJuAYK6m4IRdYOCIgIIIIAAArYVIKjbtuuoOAIIIIDAeQGCuvGnwIi6gUERAQSyFUhPT5f4+HjZv3+/HD9+XM6ePZvt7/ACBBDIe4GlS5fKoUOHfD6oTp06ov9xIICA/wXCw8OlWLFiUqZMGSlXrpwUKlTI/5WiBggEkABB3egMgrqBQREBBLIU2L17t2zdulX27t1rhYHTp09LSkqKnDt3Lsvf4QYCCOSfQHJysugv0rwPHQzCwsK8L3OOAAJ+EAgJCRH9n8nIyEgpWbKk1KhRQxo1aiRly5YVfY8DAacLENSNvwCCuoFBEQEEfAR0GNf/T3PJkiWiw7kOA2lpaT6v4wICCCCAAAII5FxAB3Md2IsUKWKF9U6dOklMTIwEBQXl/E14JQIFTICgbnQoQd3AoIgAAh4CevR86tSpsnPnTjlz5ozHPU4QQAABBBBAIHcEIiIipFSpUtKlSxdp06YNYT13WHkXGwoQ1I1OI6gbGBQRQMAS0KPoy5Ytkzlz5ljPoTO9nT8MBBBAAAEE8lZAj6TrwH755ZdLr169rNH2vP1E3h2BwBMgqBt9QlA3MCgigIAcPnxYJk2aJBs3brSeQYcEAQQQQAABBPJPIDg4WGrVqiX33HMPYT3/2PmkABEgqBsdQVA3MCgi4HABPZL+zTffyMqVKy+4mrv+1t/65j8ySoqXLCuhLFTl8L8cmo8AAgggkJ2AXuzxZMJROZV4QjIyzql/GVn+ig7rzZo1k2HDhokucyDgFAGCutHTBHUDgyICDhbQ09v1dPcZM2bIkSNHMpXQ4TyqSFG5pF4TqVyjrlSoUoOQnqkUFxFAAAEEEPAVSE9PkyPx+2Xn5nWyZ9tGSVTB3dqtIZPQrleH7969u/WPFeF9LblSMAUI6ka/EtQNDIoIOFRAf6u/Z88emTBhgmzfvj1ThfCIQlKqbAVp1bGHlK9cI9PXcBEBBBBAAAEEciZw4tgR2bB6iezctM49yu79m3rP9VtvvVXq16/vfYtzBAqkAEHd6FaCuoFBEQGHCpw8edIaSddbsKWmpvooFC5WXOo0ulSateskYeobfg4EEEAAAQQQ+OcCaWlnZcfG32Xtb/Pl+JHD1pR48131SHrdunXljjvu4Hl1E4ZygRUgqBtdS1A3MCgi4EABPeVdP5M+ffp0OXTokI9Aoaho6dhroFSr3cDnHhcQQAABBBBA4J8LbFu/SlYu/FH0KLv3s+t6b/W+fftKu3bt/vkH8Q4IBLgAQd3oIIK6gUERAQcKHDt2TKZMmWI9n+7dfGsxm3ZXScsO3djT1RuHcwQQQAABBHJRYMOqJbJ0/kxJTUn2eFc9qt6wYUMZMmSIREdHe9zjBIGCJkBQN3qUoG5gUETAgQLr16+X77//XuLi4nxaX7FqTely7c0SGV3Y5x4XEEAAAQQQQCD3BPQ0+DnjP5XYXVtFDat7vHG5cuXk+uuvtwK7xw1OEChgAgR1o0MJ6gYGRQQcJqCnvf/666/WiHpSUpJH66MKF5FOfW6UStVqSRBbw3jYcIIAAggggEBeCOzeukF+nPylpJ31XC+mcOHC0rlzZ+nRo0defCzviUDACBDUja4gqBsYFBFwmEBiYqLMnDlTFixY4NPyGnUbSYee14t+Rp0DAQQQQAABBPJeID0tTWZ8PUb2793p8WF6+nvz5s1l8ODBLCrnIcNJQRMgqBs9SlA3MCgi4DABvSXb5MmTZdOmTT4tb9e5jzRo0Vbtk84q7z44XEAAAQQQQCCPBFYvmifLFsz2efc6derITTfdJGXKlPG5xwUECooAQd3oSYK6gUERAYcJbNy40do7ff/+/R4tDy8UKT0HDJVylauziJyHDCcIIIAAAgjkrUDszq3WqLr3p1StWlUGDBggNWvW9L7FOQIFRoCgbnQlQd3AoIiAwwT++OMPGT9+vM+2bCVKl5Nu198qMSVKO0yE5iKAAAIIIOBfgZTkJBn7f0/5VKJ8+fJyzTXXSNOmTX3ucQGBgiJAUDd6kqBuYFBEwGECWQX10uUrWau9FyteymEiNBcBBBBAAAH/C3zw0kifSuiV3/V+6vpZdQ4ECqoAQd3oWYK6gUERAYcJENQd1uE0FwEEEEDAFgIEdVt0E5XMAwGCuoFKUDcwKCLgMAGCusM6nOYigAACCNhCgKBui26iknkgQFA3UAnqBgZFBBwmQFB3WIfTXAQQQAABWwgQ1G3RTVQyDwQI6gYqQd3AoIiAwwQI6g7rcJqLAAIIIGALAYK6LbqJSuaBAEHdQCWoGxgUEXCYAEHdYR1OcxFAAAEEbCFAULdFN1HJPBAgqBuoBHUDgyICDhMgqDusw2kuAggggIAtBAjqtugmKpkHAgR1A5WgbmBQRMBhAgR1h3U4zUUAAQQQsIUAQd0W3UQl80CAoG6gEtQNDIoIOEyAoO6wDqe5CCCAAAK2ECCo26KbqGQeCBDUDVSCuoFBEQGHCRDUHdbhDmluwvFjcvJEgpw7ly5JSWesVoeEhEp4eIT6Fy6R0dFSuHBRCQ0Lc4gIzUQAAbsJENTt1mPUN7cECOqGJEHdwKCIgMMECOoO6/AC2ty0tDQ5cvCAHDl8SA4e2Ceb1/8uO7dultTUFDkYv99qdaGIQhJToqQUjSku5StWlmo1a0v5CpWlZOkyUr5SFSvEF1AemoUAAjYUIKjbsNOocq4IENQNRoK6gUERAYcJENQd1uEFrLk6oO/dtV02/rFG1ixfIls3rpf1a1fmqJVhamS9YqWqUrNuA2l1WQepXb+R1K7XSCKjonL0+4H+osQTx6VI0RgJCgoK9KoGRP30lzrp6u8pMio6IOpDJRAgqPM34FQBgrrR8wR1A4MiAg4TIKg7rMMLUHMTjh2VFUt+lR9nfi/LF/8qOphmZGT8rRaGR0RIvYZN5aqefaV7n/5Sumz5v/U+gfBLZ86clrUrlkrs7u1y3aChTO/PplPS09PlwL698vuqZVK2fAW5tG37bH6D2wjkjwBBPX+c+ZTAEyCoG31CUDcwKCLgMAGCusM6vIA0d9e2LTJn2gSZO32S7NuzS3TYyo2jSNFicnW/gdJ34C1St2GT3HjLfHuPs2fPyvbN6+XXn+bI/NnTrSn+746bJBGFCuVbHez0QfpLnRMJx2XF4gUyf8502bFts/S7YYjceNvddmoGdS3AAgT1Aty5NO2CAgR1g4egbmBQRMBhAgR1h3V4AWju1o1/yDef/k/mz50uiSpoeR96qnedBo2lnHoOvXyFSlKqTDnr+fP09DQrmOlgv33zBonbt0dSU1K8f916bYs2l8stdz4gbdp38rkfiBeS1Ci6Dptzpk6Q1csWix5Vb9aqnXzw5VSCeiYdpkO6HkX/euwHsuSXH2XX9q1SqnRZGTr8YYJ6Jl5c8o8AQd0/7nyq/wUI6kYfENQNDIoIOEyAoO6wDrd5c7dtWi9ffPiOLPhxppxMPOHRmkKFIq1w2r5zD6lZp74UL1lKipcopUaWYyQ0NEytAH9Ozpw+JUcOxVshbacalV+78jc1bf4XNW0+weO9dNhv2PRSufvBf0u7K7t43AvEk7jYPTLq2Udk8c8/uGcXENSz7ik9A2PRz3Pl38Nvk6Qzf+4KQFDP2os7/hEgqPvHnU/1vwBB3egDgrqBQREBhwkQ1B3W4TZu7u4dW+XzMaPVM+mT5dTJRI+WVK1RS66/eZi0bHuFVK9VV8JysO1astq2LX5/nGxct1rGf/GxbPh9laSp6eOuIzgkRBo3aykPPf2qNGp2qetyQP7ctX2LvPLEv2Tl0kXu+hHU3RQ+Bb1o3A8zJskTDwxz3yOouykoBIgAQT1AOoJq5LsAQd0gJ6gbGBQRcJgAQd1hHW7T5p5IOCbjx30kX3z0js9IetNL28idIx6Xxi1aSXThIhfdwtTUVNmyYZ28+fKTsk4tKGY+764Df5v2V8lTr7wlZcpXvOj3zq9fIKhfnDRB/eK8eLV/BAjq/nHnU/0vQFA3+oCgbmBQRMBhAgR1h3W4TZv72y/z5LVnHpE9ais282hzeUe5U01P1yPeenr73z3OqanQ29Rz6y+rUen1a1ep1ePPud9Kb3E2aOg9cvdDT7ivBVqBoH5xPUJQvzgvXu0fAYK6f9z5VP8LENSNPiCoGxgUEXCYAEHdYR1uw+Yeit8vY997QyZ8+YnoQO066tRvLCOfedV6Lj00NNR1+W//1M+wb1y3Rkbc1l+OHT3ifh/9vLreY/3xF98QPXofiAdB/eJ6haB+cV682j8CBHX/uPOp/hcgqBt9QFA3MCgi4DABgrrDOtyGzdWLvT3z0F1y8ECcu/Z64bhHnh+ltlK7IVdXNddfBHz87v/JB2+85P4sXYiMilZbd90ijzw3yuN6oJwQ1C+uJwjqF+fFq/0jQFD3jzuf6n8BgrrRBwR1A4MiAg4TIKg7rMNt1tzjamT78w9Hy7j/vaWmo2e4a99OPTc+4skXpXa9Ru5ruVXQz6jfPaiPrPztV4+3bNmuvTz/xgdSvmIVj+uuk0lfjpX4A/tcpxIcHCz3jHzKfZ7Twtdj3xfdbtcRHh4hfQbcJGUv8Ix8Xgd1ba8X8duqnuU/oVbI14vuVapaXS3cV0caNG5+wbq52uH9c7/aHm3yN595XNb92qz1ZR7XsjvZvWObzPz+G4+X6ZkPzdX76C9YMjsI6pmpcC3QBAjqgdYj1Ce/BAjqhjRB3cCgiIDDBAjqDutwmzV3+5aN8uJj98u61cvdNddT0R9Vo+nXDb49R6u7u3/xIgpLf/1J7r25n8eXA1WqXSL3PfK0dO19XabvdEvfTvLHmhXueyFqOv7Knb77vLtfkEXh2k6Xqn29t7jv6gXy3v38e59p999+NkY9t/+w+3U5KejHBb6ds9jjpZ+887q8+/oL7mtdru4nDz71shW+9bZvX6gvSuaq/dkTvbbDc/2Crp8Oxn3Vlwmt1ZoBRYrFiO6j7A693/vt13f3eNmIf78gt97zoMe17E4W/jRHHrjteo+XDbr9Xhl670NSUu2Nbh6X168gp0+dNC9lWx792US5olO3bF/HCxDIbQGCem6L8n52ESCoGz1FUDcwKCLgMAGCusM63EbN1aO4K5b8Kv8aOkCS1FZqrqNugybq2fRX5NK27V2Xcv2nHnG9rnNL2bPzr8XrCkVGSv/BQ1WIfcUaLff+0IIU1Ic/+oxsVXvW//fFJ9QWdvs8vrDwbrfrPCKikHTq0UduUwH5ktr1MjVyvVb/JKibGpQR8BUgqPuacMUZAgR1o58J6gYGRQQcJkBQd1iH26i5eq/078Z9KO+Oet6j1h279bZGtnUYzKtDLyw3+tVnZNyYtz0+4rKOXeTfL/1XKlau5nFdnxSUoN6pe2+pVa+hTFB7yx87ctjdznAVxCPVlxV6poD2SUlOkuSkJJ8Q37XXtTLs/kekhuqfELUXfVYHQT0rGa4j8KcAQZ2/BKcKENSNnieoGxgUEXCYAEHdYR1uo+YeORQv77z2vEyb8KVHrW+9518y9L6HpUjRYh7Xc/NEj+bPnT5J/j38No+3bdj0UnnwyZes5589bqiT/A7qP6j6ub5ISElJlgP7YuXM6VPuakVFF5aq1WtKUPBf09Cr1qglr4z+xP0aXfCe+l6nQWPRU95PnZ/qHhYeLhUqVZUmLVpLw6YtrOnkyWqGw8bfV8vKZYtk355dPtPJu6nHA+5S2+bpz9PP6md2+COoDxvQQ5LOnFZfLogknjgucXt3u6umt/crVaaslChV2n1NFx559jVp2rKtxzVOEMgPAYJ6fijzGYEoQFA3eoWgbmBQRMBhAgR1h3W4jZq7X4XFFx9/QJYunO+utQ59D6mp54OH3ee+lleFHVs3Sf/OrTzevtolteTekU9Ll179PK7rk/wO6mYF/slict5B3XzfKLUYW7sru8jtw0dK3YZNzVuSnp6mnqXfao28/zRrqhw/dsQaaXe96KY7hquR9UelWExx1yWPn/4I6q4KsJicS4KfgSxAUA/k3qFueSlAUDd0CeoGBkUEHCZAUHdYh9uoufr58EfuuVm2qWelXUeRojHqGfGX1FZpQ1yX8uxnwvFj0qN1XUlWU7xdR/GSpdRo/ki5adhw1yX3z4IW1CPUFng9rxkoI554IcuwrRuvn2GfPvFrmfrd59ZIvAtEB/RRH3whLdpcnukUeIK6S4qfCGQuQFDP3IWrBV+AoG70MUHdwKCIgMMECOoO63AbNVev+K63STt6+KC71hWrVJN//ftF6Xz1Ne5reVU4mZggQ665yho1dn1GeESE3HzH/TL80Wddl9w/C1pQb9+5hzz5yltSpmwFkb9mz7vbaxYSjh2VT9//r0z6aqycNqbf9+4/WO09/1qmjykQ1E1Bygj4ChDUfU244gwBgrrRzwR1A4MiAg4TIKg7rMNt1NxNf6yVQVdf4VHj/AzqejG74UOuk99XLvWow4233a22h3vd45o+KUhBvWSpMvLSWx+J3jteLx6Xk2PZogUy+j/PysZ1q90v19ujfT51vnrG3XfveYK6m4kCApkKENQzZeGiAwQI6kYnE9QNDIoIOEyAoO6wDrdRcwnqf3ZWVvuom12Z28+o62fwH33udWtxNfNzLlQ+kXBM/u/5x2XWlPFyLj3d/dI3PvparuzcU4K9VoAnqLuJKCCQqQBBPVMWLjpAgKBudDJB3cCgiIDDBAjqDutwGzWXoP5nZ/kjqD/z2rvSo98AKaSeU7+YQ09/1yvRn1DP97uOQUPvlX898aLo1ePNg6BualBGwFeAoO5rwhVnCBDUjX4mqBsYFBFwmABB3WEdbqPmBmJQDwkJlcG336sWtHvZR7KgTH3X25O99cl3aiu2SyUoKJuH070U5kydIB+88bLs3b3DfecytWr8Gx9+LRGFCrmv6QJB3YODEwR8BAjqPiRccIgAQd3oaIK6gUERAYcJENQd1uE2aq5eTO7em66RwwcPuGudn8+o6322B3ZrZ61q7qpAseIlZOi9D8ktd41wXXL/LChBvWadBvKfd8fKJXXqu9uW08Ka5UvkjRf/LRvUHuuuI6Z4SZn52wbRW72ZB0Hd1KCMgK8AQd3XhCvOECCoG/1MUDcwKCLgMAGCusM63EbN1duzPXrvLbJ14x/uWuvt0R588iXRq4nn9XFgX6z0vqKxtV+467PKVagkd/7r8Uy3hysoQf2KTt3lsRdeF/2lyMUeeu/5V596SFYtXeTxq4s2HZDo6MIe1wjqHhycIOAjQFD3IeGCQwQI6kZHE9QNDIoIOEyAoO6wDrdRc/X+3K8/+6jMnzvdXesQtSCZ3hpN72MeGhbmvp7bhYyMDFnyy48y/JbrPN66Rq06ct/Dz0inHn08ruuTghLUu1zdz5raX75iZZ82Zndhf+weefHxB2TpwvkeLyWoe3BwgkCOBAjqOWLiRQVQgKBudCpB3cCgiIDDBAjqDutwGzVXryL++ZjRMva9Nzxqfc0NQ+QuNaqtR7fz6jh37py8+9pz8ukHb3p8RLNWbWXk0/+RBk2ae1zXJwR1kfi4WHnhsfvlt19/8vAhqHtwcIJAjgQI6jli4kUFUICgbnQqQd3AoIiAwwQI6g7rcBs1NzUlReZOnyTPPHSXR62btmxrrSLepEVrj+u5eZKenqaC91Uee4Lr97+630B57o3/SWgme4sT1EV279gqrzz5oKxY8qtHdxDUPTg4QSBHAgT1HDHxogIoQFA3OpWgbmBQRMBhAgR1h3W4zZq7ef3v8rQK6ts3b3DXPCg4WO3xPUquGzxUwvJo+vuG31fJzX06ip4C7zpKly0vQ+8bKTfc6vnFges+QV3E2s9dBfWVvy10sVg/CeoeHJwgkCMBgnqOmHhRARQgqBudSlA3MCgi4DABgrrDOtxmzT18MF4+efd1+e7zj0SlZnft27W/Skaovblr12/kvpZbBR3On3/kPpk6/guPt9Tblf37pTekfmPfae/6hbkR1Hfv2GI9Fx+nnvV2Hfm9j3ozNWPh2dffk6o1armqkOOfS36ZJ2+/8rRs3bTe/TvNW10m73052WdP9txYTO7M6VMy+dtx8n/PP+7+PF0YpLbQ06vzlyxd1uO66yQ9LU1+mDFJnnhgmOuSlFKvHTr8Ybnxtrvd1ygg4E8Bgro/9flsfwoQ1A19grqBQREBhwkQ1B3W4TZs7vLFC+SZB++Sg/H73bUvVChShj/2rFwz8BbRQTa3Dh3S9RZjt1/f3eMtI9XWYv3UZz3y/CiP6+aJT1BXe64v23ZYQjKZJm/+nln+fdUyefy+Wz22hMvvoF6xcjW17/lXUqdBY7NqOSpPn/iVjHnzVTG/aOjdf5A89epoCY+I8HiPzIL6/Y89J7fd86DoWRM5ORITjss3n34g/1OfaR4EdVODsl0FCOp27Tnq/U8FCOqGIEHdwKCIgMMECOoO63AbNveQCuhj3/+vTPzyE9Ejoa6jrFpM7qlX3pY27TuqZ8ZzZwV4HTAfufsm2fTHWtfHSFBQkNSq20Aef+m/okebszp8g3qIfDl9gdRt2DSrX/G5/uVH78hHo18XvYe768jvoK4/978ffS1XXNX9olzTzp6Vd0Y9J+PV7IfkpCRX9eVR9eXG9Tff4fNcf2ZBXT9WcOeIx6R4ydLu379QYd+eXWo0/TH5Zd5sj5cR1D04OLGpAEHdph1Htf+xAEHdICSoGxgUEXCYAEHdYR1u0+bqxcl0IDOnVOumNL20jehR2MYtWl1UqMyM4fDBA/LOa8/LrMnfqr3T090viVL7f197460y8hnPUVv3C84Xbru2i6xduUyd/TlFPzg4RN765Fsr8Hq/NrPz5KQz6nn8u+WXH2fK2dRU90v8EdT73ThE7n34aWs6uLsi2RT0egL/fekJj4Xk9EyETybMUV9WNLG+8DDfQs9cGDagh+gV9l3H1dfeIPeMfFL0qH52h/69tSt+U9PXb5eDB+I8Xk5Q9+DgxKYCBHWbdhzV/scCBHWDkKBuYFBEwGECBHWHdbhNm3v6VKJM+OITa6u2k4knPFrhCusNmraQiIhCHvdycqJD8Z5d29VWcG/L3GmTJDU1xf1retp681bt1NTtt6VK9Zru65kVHr7rJvl13iw5q0aW9aFH4vurBe8ee/H/JERNg7/QkZKcJL/+NEfefPkpObBvr8dL/RHUY4qXUM+pvy+Xd+yao/3qk9SXDN+M/UC+UDMCEo4dddf/yq5Xy/P/94EUjSnuvuYq6AX7/jV0oBw5fNB1yQr0I/79grS+vKNPsHe/SBUyMs6preD2yecfjpZvPxtj3rLKBHUfEi7YUICgbsNOo8q5IkBQNxgJ6gYGRQQcJkBQd1iH27i5u7dvlXEqTM+bNUVOnUz0aIkO69fccIu0aH25VKpa3eNeVic6oOtR9HVrVsh34z6U9WtXip6+7TqC1XPS+jnte0c+JZd36ua6nOVPPT3/M/XP/CJBL1D20tsfS4s2l/tM/Xa90elTJ2X5ogUy5u3/yDa1CJs5wqxf83eDevWadWXsxDkSU6Kk66My/fnJO6/Lu6+/4HOv9WVXyoNPvSy16zW84DPj+kuG5Yt/kY/eGSV/rF7hfp+ixWLkiVfekk7dektYeLj7uquwd9cO+c8zD8tvagE61xEWFq6myd8uN91xv5RTjzboLzu8D72OgP4yY9LXY+WrT96XlORk75f8rcXkihSNkcF6ETq1oFxe7SbgU1EuIHABAYL6BXC4VaAFCOpG9xLUDQyKCDhMgKDusA63eXP11Pcv1Cjqgh9mqbDuObKuF5jr1KOPNQqsp07rgFqkWDEpXqKU1WodgPUq4cePHZHjR4/Irm1bZNXSRbLw57keo8D6xTogVq9ZR+781+PSrfd1OVJbpsK23vNdP1PvOnTYr1m3oQy5e4TUb9RMSpctZwVvPequR54PxO2VdauXy7QJX8qOrZvlnJpyrwOjnkHgCuw5Cer62foXH7tfli362fXR1s8X3vxQOnXvLdFq+n6Gan9ySrJERkZ5vCaroK5f1Pnqa+SmYcOtumcWtk8cPya//fqTfP/NZ2oRvt8kLe2vLzr0NPaHVNAvUaqMx+e5TnQ/jBszWsZ98KbrkvWzWEwJ0b97lerLytUuUb9fWs1ICLH67lD8Adm7e4eauTBbZkz62grpOtzruum+dR3Zjqgr54VqBsODw25w/Yr1s63aTWD4o89KrXoNVFgPlxTlFapmVWQ3I8LjTThBIJcECOq5BMnb2E6AoG50GUHdwKCIgMMECOoO6/AC0NytG/+wVvqeP2eGx6JrrqbpIKpHwvVic3pEu3zFytat9PQ0OaFWCT8QF2tNm965bbM6P+b6NY+fjdRWbIOG3Scdu/XK8XR6Pcr/3Mh75JefZnuMzOvQX7xkKTWqfoVUrX6JxBQvaQXA+P37ZJvaH17vEe+aIVBZzQaodkkdNUK9wHqNrlROgnrSmdPy5Ig75Oe50z3aoRfB66Cmn8eo8HvuXLqaxh6uVsq/WfSz467jQkFdv0bPBujQpafUqd9Y9Ch5MTWN/Yz6vIP749Qz+b+pbc6+lz07t7vezvqp/R9Wz/Q3VYvvZbXQX5paGHCpCvl6VD1u726P39chuV6jplJXvU+FylWt99B9t3vnVtn8x+8Su2en9Xrd1zVVG/WaAhvXrXa/R3ZBXY/K6y99bujezv07uqD75tK2V1hT8PUXP6dV+G/fubtaTLCh9WWBx4s5QSCPBQjqeQzM2wesAEHd6BqCuoFBEQGHCRDUHdbhBaS5OmTPmTrR2gtbr/xtLv72T5pYpGhRaaWmfA+45Q7r58W+1zq1vdq7o16QVcsWuUfEc/oeVVSI16PXx48clnEfvq1GiE9bv5qToK5f+M5rf6647gr9mX1u1Ro15e2x4z32SM8sqFe7pLY12u+aVh5RqJBcUru+CrIl1JcOJdWI/ynZr0bxdWBOOnPG46N0cB5630i5UoV78wsBjxedP0lQo+pTx39pPWeuv7i4mCNCBenLruwsHbv2sh6HMFd+zy6o6885cihe7rqxt+i/pQsdjzz3mvpyY4hERf/15caFXs89BHJLgKCeW5K8j90ECOpGjxHUDQyKCDhMgKDusA4vQM3VU8f1iO7sKROsKd+JJxLUImN/rrh+sc3Ue3zXU9uo6enWl6ttyaqroPp3D72a+cfque8lxrPX2b1XzTr15cbb7pGuva+VKd+Mkw/efPmig/rvq5ZbK+PrkWXXtHnvzy1bvqI89sL/WTMFXPcyC+qPPjdKli/5RRb//KNaHO+vFehdv5PZz9CwMGnUrKV6xnyYXKGe6S9cpGhmL/O5duTQQWsa+6SvPxX9pUtODr1ooJ7tcPOdD6gvA6Lk7Vee9tiiLSdBXS+AN+GLj+U99cWKuYCg9+cPUO25Q20ZV6pMOe9bnCOQpwIE9Tzl5c0DWICgbnQOQd3AoIiAwwQI6g7r8ALY3F3bt8iG31fLahWQ9aJmcXtzFvY0ReHCRaR+kxbSTo3MNmneSk2Zb2IFv3/KtHn9WvXs9nxrCvuaFUvVs9R/7Svuem89JbxSlWrS+oqO1nP1epq4DrfT1Ajzd9Ze5H+OVOtR6adefSvb/dj16PdPs6fIZ/97S3aq590zm2VQXD23f8cDj8mNQ+9xVUMyC+qfTZ4nehR9svrSYP6caWr0+a+V2d2/eL6gn+HWz5K3V19w6Gn2erp6diPp3u9x7Ohh0fuqL134s2WmR+szq7+e6q634mvfuadaGf5KNcpfT/ap/v5cPeuu1xtwHfoZd72l3oUW0tNf6uxXi9Lp1f5nTf7O/fiB6z1cP9t37iGPPPtajhcpdP0ePxH4pwIE9X8qyO/bVYCgbvQcQd3AoIiAwwQI6g7r8ALaXP28s17BXY/I6inUWzask7jY3Vb40s82uw793LGevq1HRyurqeZVqtVQAayG6GfDdbjMbJVx1+9e7E/9HPc+NTU8dvdOtVDcJtmlVq1PVYE9KrqIlC5XXipUqiI1atVVIbeGteCaXjBNHwcP7FdtiLUWltPnweq6DqQ5GaHWn7lVtX3BDzNl+5aNyiRe7er+5yyDELWvu14Rv2e/AWo0urd+a+vIKqg3adHastytvgiZp8L6to3r1ZoACbJXbWWnt1urosJ5hcpV1MJrDdV+9m3V8/c1rWfx9QJ6f+fQK+4fPXzImk6vn0XXz5AfP3zYera+nLLS7W/QuJlaDb6ytVVeochI62OSk5Ksvk40+rl02fJqjYKK1oJwF6qLXrzvkPq7WaFmD+gvCfbH7lXPpZ90/4r+TP3Muh5VZ0TdzUIhnwQI6vkEzccEnABB3egSgrqBQREBhwkQ1B3W4Q5orl55XK9Grp+j1uHPnNasw7Ce5l5IjczqZ7+jVDjXQTgvD73a+km10Jzetu2cWtBOj6QXUtO19RcD+ouDvDiOqefcdahOVtO7XYf+EkJPE49Rq+DrReFcx4WCuus1eiV7/YXHWbXHvH4GPiw8wgrOUWo1ef1eRYoWc700V37qGQi6/nqWgN4zPVJ9jt4yTa8InxeHXt1df0mgV443t+jT0/l120qqlet1mQOB/BQgqOenNp8VSAIEdaM3COoGBkUEHCZAUHdYh9NcBLwEchLUvX6FUwQQyAcBgno+IPMRASlAUDe6haBuYFBEwGECBHWHdTjNRcBLgKDuBcIpAgEiQFAPkI6gGvkuQFA3yAnqBgZFBBwmQFB3WIfTXAS8BAjqXiCcIhAgAgT1AOkIqpHvAgR1g5ygbmBQRMBhAgR1h3U4zUXAS4Cg7gXCKQIBIkBQD5COoBr5LkBQN8gJ6gYGRQQcJkBQd1iH01wEvAQI6l4gnCIQIAIE9QDpCKqR7wIEdYOcoG5gUETAYQIEdYd1OM1FwEuAoO4FwikCASJAUA+QjqAa+S5AUDfICeoGBkUEHCZAUHdYh9NcBLwECOpeIJwiECACBPUA6Qiqke8CBHWDnKBuYFBEwGECBHWHdTjNRcBLgKDuBcIpAgEiQFAPkI6gGvkuQFA3yAnqBgZFBBwmkFVQL1GmvHTrP0RiSpR2mAjNRcBZAl9+9K58/M4oj0a/+/lkadi0hcc1ThBAIP8EzqamyMejnvD5wHLlyknfvn2lefPmPve4gEBBESCoGz1JUDcwKCLgMIGNGzfKhAkTZP/+/R4tj4iMkl433imly1eSoKAgj3ucIIBAwRFYs3yJLF/yq0eDrhl4s5QtX9HjGicIIJB/ArE7NsuMbz7y+cAKFSpIv379pHHjxj73uIBAQREgqBs9SVA3MCgi4DCB3bt3y+TJk2Xz5s0+Le/Qs7/UbnyphIaG+dzjAgIIIIAAAgjkjcDS+TNlzZL5Pm9eq1YtGTx4sJQvX97nHhcQKCgCBHWjJwnqBgZFBBwmcPz4cZkxY4YsWrTIp+WX1G8i7XtcJ4Uio33ucQEBBBBAAAEEcl8gPT1Npn3xgcTv2+3x5qGhodKqVSu56aabJCQkxOMeJwgUJAGCutGbBHUDgyICDhNIS0uTBQsWyPTp0yU5Odmj9dFFislVfQdJhao11PT3YI97nCCAAAIIIIBA7gvE7twicyd+JmdTUz3evGjRotKtWzfp3Lmzx3VOEChoAgR1o0cJ6gYGRQQcKLBu3Tpr+rv3c+qaokrNetKpz40SGcWougP/NGgyAggggEA+CiQmHJMFM76TuN071KdmeHyyXkhuwIAB0qBBA4/rnCBQ0AQI6kaPEtQNDIoIOFDg4MGDMmXKFFm9erVP64PV9LqW7btJs3adWFTOR4cLCCCAAAII5I5AuprhtuznWbJ+1WLRZfPQU93r168vQ4YMkSJFipi3KCNQ4AQI6kaXEtQNDIoIOFDg7Nmzsnz5cpk1a5YcOXLERyC6cFHp2PsGqXxJHZ97XEAAAQQQQACBfy6wfeNa+e2n6XLqRILPm8XExFirvbdp08bnHhcQKGgCBHWjRwnqBgZFBBwqcOLECes59aVLl4oO7t5H8ZJlpNllnaRGvSYSFhbufZtzBBBAAAEEEPgbAqdPJsqWdStk2/pVknD0sJw7d87jXcLDw6Vly5bSv39/iYqK8rjHCQIFUYCgbvQqQd3AoIiAQwUyMjJk586dMnHiROtnZgx6cbkKVS+xpsGXLMPWMJkZcQ0BBBBAAIGcCsTH7pL1KxfLvt3bJPnMadH/XWweQUFB1lZsd999t5QtW9a8RRmBAitAUDe6lqBuYFBEwMEC6enpsmTJEpk9e7YcPXo0U4kQtT1MseKlrP3VK1SpISXLVmCf9UyluIgAAggggICvwNnUFDl68IDo1d13b90gx48e9Hkm3fVbkZGRcuONN1rbsunQzoGAEwQI6kYvE9QNDIoIOFzgzJkz8u2331oLy2U2BV7z6P+xEBIaZu3jGqWeXy+vAnvhosUcLkfzEUAAAQQQuLDASfX8+YG9OyTp9CkrnOs9071H0V3vEBwcLK1bt7b2Tdd7qHMg4BQBgrrR0wR1A4MiAgiIXgX+iy++kB07dvg8K5cZj/UtP9/0Z0bDNQQQQAABBP4SUFPbswrmf73oz1LDhg1l6NChEh3N9qjeNpwXbAGCutG/BHUDgyICCFgCKSkpMnPmTFm4cKEkJSXl+H9YwIcAAggggAACf0/AmrGmtmLr27evdO3a9e+9Cb+FgM0FCOpGBxLUDQyKCCDgIbB582aZMGGCNcqe1VR4j1/gBAEEEEAAAQQuWiAsLEyqVatmbcN2ySWXXPTv8wsIFBQBgrrRkwR1A4MiAgj4CCQnJ8u0adNk1apV1uh6amoqI+w+SlxAAAEEEEDg4gT0c+g6oOtt11q1aiXdu3dnC7aLI+TVBVCAoG50KkHdwKCIAAJZCuhn1tesWSO7d++WxMRE0QvP6SnyeqQ9p8/cZfnm3EAAAQQQQKCAC7iCeaFChUSv6B4TEyNVqlSRSy+9VCpVqmQt0lrACWgeAtkKENQNIoK6gUERAQSyFUhLS5O4uDhrsbn4+Hg5duyY6GscCCDgfwH95VlsbKz1BZoeqatZs6b/K0UNEEDAEtD/mSxVqpRUrFjRmuau90bX1zgQQOAvAYL6XxZCUDcwKCKAAAIIIGBjgW3btsknn3wix48flyJFishTTz1ljdrZuElUHQEEEEDAQQIEdaOzCeoGBkUEEEAAAQRsLDB16lSZP3++6LUl9DFw4EDp1KmTjVtE1RFAAAEEnCRAUDd6m6BuYFBEAAEEEEDApgIJCQnWaPr27dvl3LlzVivq1q0r999/v4SGhtq0VVQbAQQQQMBJAgR1o7cJ6gYGRQQQQAABBGwqoHdmmDhxorVuhKsJ4eHh8tBDD0n16tVdl/iJAAIIIIBAwAoQ1I2uIagbGBQRQAABBBCwoYBe0FGH9CVLlli7MbiaEBQUJD179pQ+ffq4LvETAQQQQACBgBUgqBtdQ1A3MCgigAACCCBgQ4F9+/bJV199Jbt27fLZLlFv+6RH1aOjo23YMqqMAAIIIOAkAYK60dsEdQODIgIIIIAAAjYUWLx4scyYMcNj2rurGRERETJ06FBp2rSp6xI/EUAAAQQQCEgBgrrRLQR1A4MiAggggAACNhNISkqSb7/9VlauXCl6Crz3ERISIq1bt5YhQ4Z43+IcAQQQQACBgBIgqBvdQVA3MCgigAACCCBgMwG9yvv48eNlz549Wda8TJkyMmLECClVqlSWr+EGAggggAAC/hYgqBs9QFA3MCgigAACCCBgM4Eff/xR5s6dKydPnsyy5lFRUXLttdfKFVdckeVruIEAAggggIC/BQjqRg8Q1A0MiggggAACCNhI4MSJE/Ldd9/J6tWrfRaRM5uhp783btxY7r77bvMyZQQQQAABBAJKgKBudAdB3cCgiAACCCCAgI0E1q9fL1OmTJHY2Nhsa62nvd96661Sq1atbF/LCxBAAAEEEPCHAEHdUCeoGxgUEUAAAQQQsIlARkaGzJkzx/qXnJycba319mzdunWz/mX7Yl6AAAIIIICAHwQI6gY6Qd3AoIgAAggggIBNBOLi4mTy5Mnyxx9/+NQ4ODhYzp0753FdX6tTp47ceeedop9Z50AAAQQQQCDQBAjqRo8Q1A0MiggggAACCNhAQI+mr1271pr2Hh8f71HjoKAgqVy5suzbt88nrJcuXVquv/56adKkicfvcIIAAggggEAgCBDUjV4gqBsYFBFAAAEEELCBgN47XU97nzdvns/e6cWLFxf93+2zZs0S7ynxeiS9Q4cO0rt3b9ELzHEggAACCCAQSAIEdaM3COoGBkUEEEAAAQRsILB7925r2vvmzZt9atu+fXtZvny5lCtXTvTrvI+aNWvKkCFDRO+tzoEAAggggEAgCRDUjd4gqBsYFBFAAAEEEAhwAf3s+bJly+T777+XxMREj9qG7SgaDQAAQABJREFUhYXJZZddJkuXLpW+fftaW7d5vECd6NXf9Yh6mzZtvG9xjgACCCCAgF8FCOoGP0HdwKCIAAIIIIBAgAvovdNnz54t+n/MeB9Vq1YV/cx6SkqK9OnTR+bPny+nTp3yeFl4eLi0bdtWrrvuOomIiPC4xwkCCCCAAAL+FCCoG/oEdQODIgIIIIAAAgEusH37dhk/frzs2bPHp6Z6pHzhwoWSkJBg3WvZsqWsWLHC53V6+vuAAQNEB3sOBBBAAAEEAkWAoG70BEHdwKCIAAIIIIBAAAucPXtWfvvtN5kwYYKkpqZ61FTvk96wYUNZv369nD592ro3YsQIefvttz1ep09iYmLk6quvFv08OwcCCCCAAAKBIkBQN3qCoG5gUEQAAQQQQCCABY4dOyYzZsyQxYsX+9SyQYMGsnfvXjl58qT7ng7iO3bsEL3nunnoFd9btWol/fr1k2LFipm3KCOAAAIIIOA3AYK6QU9QNzAoIoAAAgggEMAC27Ztk3Hjxsnhw4d9aqmnsusAb4Zyvad6165dZe7cuT6vr1atmhXU69at63OPCwgggAACCPhDgKBuqBPUDQyKCCCAAAIIBKiA3jtdP38+efJk0Su/m0fZsmWt1dx37dolZ86cMW9JpUqV5NChQ5lOle/Ro4d06tSJPdU9xDhBAAEEEPCXAEHdkCeoGxgUEUAAAQQQCFCBI0eOyKRJk2T16tU+NdTT2PXicgcPHvS5p6e516lTRzZu3OhxT4+2t2jRwtrGjT3VPWg4QQABBBDwkwBB3YAnqBsYFBFAAAEEEAhAgYyMDNm8ebOMGTNG9Mi6eei906OioqyRdL3YnPeht2C79tpr5ZtvvvG+ZY2263v6+XYOBBBAAAEE/C1AUDd6gKBuYFBEAAEEEEAgAAX0dPZ58+bJzJkzfWqnnzVPTEwUvdBcZoceOdcLxunp8vp15hEaGip6+nuXLl3YU92EoYwAAggg4BcBgrrBTlA3MCgigAACCCAQgAJ68bixY8fKzp07fWqn/3t83759oheay+qIjIyURo0ayfLly31e0qRJE2v6e8WKFX3ucQEBBBBAAIH8FCCoG9oEdQODIgIIIIAAAgEmkJ6ebj1f/t5774meAm8eeu90PVKenJzsc898XfHixWXQoEGi38P70PcGDhwozZo1877FOQIIIIAAAvkqQFA3uAnqBgZFBBBAAAEEAkxAT3ufNm2a6P/xkldH9+7drW3cdPDnQAABBBBAwF8CBHVDnqBuYFBEAAEEEEAgwAT0au+jRo2SEydO5FnN9F7q1113nVSpUiXPPoM3RgABBBBAIDsBgrohRFA3MCgigAACCCAQQAJ62vuqVavkk08+ydNa6VXjBw8eLM2bN5fg4OA8/SzeHAEEEEAAgawECOqGDEHdwKCIAAIIIIBAAAmkpKTIZ599lune6bldzSuuuEKuvvpq0c+scyCAAAIIIOAPAYK6oU5QNzAoIoAAAgggEEAC8fHx8vLLL0tqamqe16pq1arWgnP6p97SjQMBBBBAAIH8FiCoG+IEdQODIgIIIIAAAgEioFd4X7FihcyYMSNHNUpISBA9Au99FC5cWHKySFxYWJhcc801Ur9+fQkJCfF+G84RQAABBBDIcwGCukFMUDcwKCKAAAIIIBBAAnFxcXLw4MEc1WjWrFkSGxvr8Vo9Mt6iRQvrn8eNLE70XuqlSpUiqGfhw2UEEEAAgbwVIKgbvgR1A4MiAggggAACNhUYPXq0bNiwwaP2Oqj36tXL+udxgxMEEEAAAQQCUICgbnQKQd3AoIgAAggggIBNBQjqNu04qo0AAggg4BYgqLspRAjqBgZFBBBAAAEEbCpAULdpx1FtBBBAAAG3AEHdTUFQNygoIoAAAgggYFsBgrptu46KI4AAAgicFyCoG38KjKgbGBQRQAABBBCwqQBB3aYdR7URQAABBNwCBHU3BSPqBgVFBBBAAAEEbCtAULdt11FxBBBAAIHzAgR140+BEXUDgyICCCCAAAI2FSCo27TjqDYCCCCAgFuAoO6mYETdoKCIAAIIIICAbQUI6rbtOiqOAAIIIHBegKBu/Ckwom5gUEQAAQQQQMCmAgR1m3Yc1UYAAQQQcAsQ1N0UjKgbFBQRQAABBBCwrQBB3bZdR8URQAABBM4LENSNPwVG1A0MiggggAACCNhUgKBu046j2ggggAACbgGCupuCEXWDgiICCCCAAAK2FSCo27brqDgCCCCAwHkBgrrxp8CIuoFBEQEEEEAAAZsKENRt2nFUGwEEEEDALUBQd1Mwom5QUEQAAQQQQMC2AgR123YdFUcAAQQQOC9AUDf+FBhRNzAoIoAAAgggYFMBgrpNO45qI4AAAgi4BQjqbgpG1A0KiggggAACCNhWgKBu266j4ggggAAC5wUI6safAiPqBgZFBBBAAAEEbCpAULdpx1FtBBBAAAG3AEHdTcGIukFBEQEEEEAAAdsKENRt23VUHAEEEEDgvABB3fhTYETdwKCIAAIIIICATQUI6jbtOKqNAAIIIOAWIKi7KRhRNygoIoAAAgggYFsBgrptu46KI4AAAgicFyCoG38KjKgbGBQRQAABBBCwqQBB3aYdR7URQAABBNwCBHU3BSPqBgVFBBBAAAEEbCtAULdt11FxBBBAAIHzAgR140+BEXUDgyICCCCAAAI2FSCo27TjqDYCCCCAgFuAoO6mYETdoKCIAAIIIICAbQUI6rbtOiqOAAIIIHBegKBu/Ckwom5gUEQAAQQQQMCmAgR1m3Yc1UYAAQQQcAsQ1N0UjKgbFBQRQAABBBCwrQBB3bZdR8URQAABBM4LENSNPwVG1A0MiggggAACCNhUgKBu046j2ggggAACbgGCupuCEXWDgiICCCCAAAK2FSCo27brqDgCCCCAwHkBgrrxp8CIuoFBEQEEEEAAAZsKENRt2nFUGwEEEEDALUBQd1Mwom5QUEQAgYsQyMjIkLS0NNE/ORBAwP8C77//vmzatMmjIkFBQdKjRw/rn8cNThBAwC8C+j+ToaGhon9yIICArwBB3TBhRN3AoIgAAhcUOHv2rJw5c0aSkpIkMTFRDh06JPoaBwII+F/gl19+kQMHDvhUpGHDhqL/cSCAgP8FIiIipGTJklKkSBGJioqy/oWHh/u/YtQAgQARIKgbHUFQNzAoIoBApgI6jMfFxcm+fftkz549snv3bisQENIz5eIiAggggAACWQroEfVSpUpJtWrVpGbNmlKlShUpU6aMFCpUiJH2LNW44RQBgrrR0wR1A4MiAgj4COhR861bt8pPP/0k+/fv97nPBQQQQAABBBD4+wI6qF966aVSp04dqVixooSFhf39N+M3EbC5AEHd6ECCuoFBEQEE3AKpqamya9cuWbRokfz++++SkpLivkcBAQQQQAABBHJPQIfz6tWrS9u2baVRo0bW1Pjce3feCQH7CBDUjb4iqBsYFBFAwBKIj4+XDRs2yNKlS63p7ufOnUMGAQQQQAABBPJYICYmRlq3bi1t2rSRChUq5PGn8fYIBJ4AQd3oE4K6gUERAQQkNjZW5s+fL+vWrZPTp0+zqjt/EwgggAACCOSjgB5db9CggfTu3VsqVaqUj5/MRyHgfwGCutEHBHUDgyICDhc4ceKETJ8+XVasWCHJyclZagQHB0uRwsWkVMmyEhUZLSEhIVm+lhsIIIAAAgggIKJnpyUnJ8nR44flxIljkpaeliWL/u9Z/dx6//79pVixYlm+jhsIFDQBgrrRowR1A4MiAg4W0HuiL1y4UObOnSvHjx/PVCI4KFhtK1NG6tVuokJ6GSusR0ToVWqDM309FxFAAAEEEEDgT4GMjAy1pWmKnDqltjc9Ei97YrfL/vhYSU3NfA2YyMhI6dChg/Tq1YsF5vgjcowAQd3oaoK6gUERAQcL7Ny5UyZPnizbt2+3vvX3ptDf7tet1ViaNGpljaSHh7Hvq7cR5wgggAACCOREIPVsqiQmHpet2zfIxi1rJfFkgs+jZkFBQdae6wMHDpTGjRvn5G15DQK2FyCoG11IUDcwKCLgUIGEhASZNWuWtXhcZqu7F48pKS2bXSFVq1wiRYvEOFSJZiOAAAIIIJC7AmeSTkvc/j2yeOk8OZZwxCes60fL6tWrJ0OHDpXo6Ojc/XDeDYEAFCCoG51CUDcwKCLgUIHFixfLtGnTRAd27yM8LEKu6ztEypQqJ6Gh7O3q7cM5AggggAAC/0QgXT2rvnffLpn/6wxJOKEfPcvweDu9Eny/fv2sleA9bnCCQAEUIKgbnUpQNzAoIuBAAb0V29SpU2XNmjU+3+Rrjg6XdZPmTduJfj6dAwEEEEAAAQRyX+DcuXTZsm29/LhgmnqOPdXjA/SjZ65R9cKFC3vc4wSBgiZAUDd6lKBuYFBEwIECf/zxh3z//feyf/9+n9ZXqXyJ9O42QAoVivK5xwUEEEAAAQQQyD2BdBXWp8/+Vnbu3uLzxXm5cuWsFeAbNWqUex/IOyEQgAIEdaNTCOoGBkUEHCig/x/ipEmT1Df4Zz1aHx4eIQOvvV1KlyynVnUP8rjHCQIIIIAAAgjkvkCsmgI/cdpnPou66ufTO3fuLD179sz9D+UdEQggAYK60RkEdQODIgIOEzh58qTMnDlT9P9T9D4a1msuHS7vLoUiIr1vcY4AAggggAACeSTwzaQPZf+BWJ93b9Kkidx+++0SERHhc48LCBQUAYK60ZMEdQODIgIOE9Bbsulp79u2bfNpecfLe0ijhi0ljAXkfGy4gAACCCCAQF4J/Lb8Z1myfL7P29eqVUsGDRokFSpU8LnHBQQKigBB3ehJgrqBQREBhwno59PHjx8vhw4d8mh5aEioXH/NbVK+XGWmvXvIcIIAAggggEDeCsQd2CvfTvrI50OqVasmek/1GjVq+NzjAgIFRYCgbvQkQd3AoIiAwwSyCuply1SQXt0GSkyxEg4TobkIIIAAAgj4VyD1bIq8M+Yln0roBeX69u0rzZs397nHBQQKigBB3ehJgrqBQREBhwkQ1B3W4TQXAQQQQMAWAm+8+7RPPQnqPiRcKIACBHWjUwnqBgZFBBwmQFB3WIfTXAQQQAABWwgQ1G3RTVQyDwQI6gYqQd3AoIiAwwQI6g7rcJqLAAIIIGALAYK6LbqJSuaBAEHdQCWoGxgUEXCYAEHdYR1OcxFAAAEEbCFAULdFN1HJPBAgqBuoBHUDgyICDhMgqDusw2kuAggggIAtBAjqtugmKpkHAgR1A5WgbmBQRMBhAgR1h3U4zUUAAQQQsIUAQd0W3UQl80CAoG6gEtQNDIoIOEyAoO6wDqe5CCCAAAK2ECCo26KbqGQeCBDUDVSCuoFBEQGHCRDUHdbhNBcBBBBAwBYCBHVbdBOVzAMBgrqBSlA3MCgi4DABgrrDOpzmIoAAAgjYQoCgbotuopJ5IEBQN1AJ6gYGRQQcJkBQd1iH01wEEEAAAVsIENRt0U1UMg8ECOoGKkHdwKCIgMMECOoO6/AC1txjx47K9h2bZfPWjZKamqrKWyQjI0OKFi0m5ctVlBIlSkrd2g2kWtXqUqhQVAFrPc1BAIGCLEBQL8i9S9suJEBQN3QI6gYGRQQcJkBQd1iHF4DmnkhMkIWLf5affp4ja39fKYknT0haWprVsvR09TNDJCg4SIKDQyQ4KEhCQkMlplhxadmirfTuea20aN5aIiIKFQAJmoAAAgVZgKBekHuXtl1IgKBu6BDUDQyKCDhMgKDusA63cXNPnTopP//yg4z9/APZokbQz507Z42e57RJQSq0BwcHS/OmreSeOx+UVpe2lbCw8Jz+Oq9zoEBc3F4ppr7kKVy4iANbT5P9LUBQ93cP8Pn+EiCoG/IEdQODIgIOEyCoO6zDbdjcc+fS5fd1q+XNd16VZSsW50oL9Ij64BuGypCb7pSyZcqJDvEcCGgB/fd29OgR+Wb8OFm9drk8+MAT0qRRc3AQyHcBgnq+k/OBASJAUDc6gqBuYFBEwGECBHWHdbiNmqufNT9z5pTMU1Pc/zv6VYmPj/OpfUhIiISrUfHw8Ag1xT1EQoJD1bx39TL1u2fVdPi0s6mSop5dP6t+Znb06dVf7lWj61Wr1LBG2zN7DdecIaD/3vRjFAsXzZex4z6QDZvWSe2adeWl598kqDvjTyDgWklQD7guoUL5JEBQN6AJ6gYGRQQcJkBQd1iH26i5J04kyHeTvpD3/veGJCcnedRch3M9JblWrbrSQk1lb9G8jVSpXFUqlK9kjY6np6fLlm0bZdPm9bJ0+SJZvnKJJCQc93kf/ab9+t4gw+8eKRUrVGZk3UPZWSf60YrvJn4uH3z4lpw8lWg1nqDurL+BQGstQT3QeoT65JcAQd2QJqgbGBQRcJgAQd1hHW6T5qakpMgP86bLy689LccTjrlrHRQUrBaGi5HmzVrJgOtuktYtL5PIyAuv5q5Xg9+4+Q+ZNPlrWbBwnhw5csh6vt31poUKRcr99zwsNw64VaKjC7su89NhAofV38WYj9+WL77+2N1ygrqbgoIfBAjqfkDnIwNCgKBudANB3cCgiIDDBAjqDutwGzRXj4brZ4Mf+fd9csCY7q4XgqtUqar06z3AGgUvX67CRbXm1OmTMnP2FPnks/cldt9uj7Cut3L7z0ujrZXh9XR6DucJENSd1+eB3mKCeqD3EPXLKwGCuiFLUDcwKCLgMAGCusM63AbNPXzkoDz6xHBZsvRXj9pWrlRNhg65W22xdp0UKVLU415OT/T05klTvrGeQY4/uN/j1664rJOMevkdtfd6KY/rnDhDgKDujH62UysJ6nbqLeqamwIEdUOToG5gUETAYQIEdYd1eIA3V2+5NnXGBHn8qQc8alqsaIwMuuE2uX3IvX87pLvecP+BffLBR2/J9JmTJCnpjOuytbf66Dc+lvaXX8XCcm4V5xQI6s7pa7u0lKBul56inrktQFA3RAnqBgZFBBwmQFB3WIcHeHP18+jD7r5B1m/83V3T0NBQKzyPHPGU1Lyktvv6Pyn8uugn+e/br8imLes93qbLVT3lzVFj2F/dQ8UZJwR1Z/SznVpJULdTb1HX3BQgqBuaBHUDgyICDhMgqDuswwO8uT/+NFOGPzjUo5YVyleUe+8aKddfO9jj+j85SThxXEa98bxMmzlRbd121nqrIoWLSI0ateXLsZOt7d4u5v3j9sdKXFysxB/aL/EHD7hH6vVz9VXUlP3ixUtYq8pXqVztb30JkKa2mtMzAVxHePifq95HqoXwXIduh372fp+qx/GEo9Yq90UKF5VCkZFqAb7iop/p1yvb663s/umhZz7oL1V27touB9UjBPGHDsjp06estw0LDbMeHyhXtrxUVu2tVqW6hISobfP+wXHyZKLsVW1LUJ958GC86P5zrcyu3zYqKlrKli4nRdVCg5VUG3U7s1tk0Ls6BHVvEc79LUBQ93cP8Pn+EiCoG/IEdQODIgIOEyCoO6zDA7y5/3r4Dpn9wzR3LXXQbdemvTz/1ChrITn3jVwozJozxQrqwWrv9erVLrECZenSZdXofSc19T37BeXS0s7Klq2brO3f/tiwRg4ciJMjRw9b/1zbyen664BcVE3dL1umnNSt01Aub3elNKzf5KKCpH7fZ198xN1qvQ1dn6v7S6OGTcVVj0W/LZDf162yAn1i4gnR4TYqOloiwgtJUfVMf6lSZaRG9ZrSuVNPad60pfu9LqagA7pe4G/h4vmyavUyiY3bq1bRPyxHjx6SM+cfIwhVQV2vzF+yZGnV9opSr25DuaztlWqhvjYX81HWa7du2ySLVbu279gqcfv3WfucH1UWOqS7vhjQL4xUX0botQX0FxPauX69xnJl+y5Sr04D65GGrD740OF4+fCTd6zbSWoLwPUb1srmLRvcL4+JKS5tW7eXUqot5vHU4y+bp5QRyBMBgnqesPKmNhAgqBudRFA3MCgi4DABgrrDOjyAm3vs+FHp0ecya7TUVU29V/rNN96uRtQf/Mejsq73dP3Uo7MH4vdLaFiYlClV1nr2XQfrnBw64M39cYbMmz9bNm/dKHrP94yMc9n+qh75rVO7vnTs0FWu7n6NVKpYJdvf0S+I3bdHOvds5X5trZp15cEHnpBWLdrK/AVz1BcOk9TjAuuyrUdERCFp2riFFfKv6thNjfSXdL9ndoWzZ1PV53yv2j1N7VG/SeKVXU6OKLV9Xk1V3+5desngG4aK3g4vu0P/LWjbH3+aJfpLkISE48o3I7tfc9/Xgb1WzTrSrUtv6dv7eikeU8J9zyxsUX3Xp39H81KOylvWHczR63gRAv9EgKD+T/T4XTsLENSN3iOoGxgUEXCYAEHdYR0ewM2dv2Cu3PPALR411CPdTzz6ovWMuscNP57s3LVNvvr2UytE6hXq9SjzxRz6y4ASKiB3uKKz3DxomDXinN3vZxbU77htuJw5c1o+V/t+7927S9LS07J7G+u+noauHye4Rm1zN1gt0JeTsK5D8rgvx6g9xj9RU+v35uhzvF9UUo143zH0frntlru9b3mc65D+pfocvaigHr3X2/X93aOMGl0fPHCoWojwVjWroJjP2xDUfUi4EEACBPUA6gyqkq8CBHWDm6BuYFBEwGECBHWHdXgAN1evxP7WO6961LBZk0vl3bc+VVOPy3hc99fJ7j075ePP3pM5anq+nlrufdS8pI5a8K6ONGrQVIKCg9Tz1AfU9PiN1vR479dGq9H1rp17yZ2336+mpNfyvu1x7h3U9VZ1ddW07i1bN1jB2fVlgX4Wvap6Jry8mhqv94PftHm9eo58m8d76ZOgoCA13b+mDL97pFzdo5/Pfe8LY8d9oLa0e1/0c9zmoRf603WpX6+hVK5YVfQMiBOJCfLH+jWyZu0K93R41+/oKfsj//WU9MriM4/rkP7NWPlu0hdqSv0hj1F0PRtBPzJQtkx5KVu2nJQsUdoK8ceOH5GNqp0bNvzu8dy66zP1rIX33vrMmsmg220eBHVTg3KgCRDUA61HqE9+CRDUDWmCuoFBEQGHCRDUHdbhAdzcESOHyZwfp7trqJ8T18+LfzD684DYLu3YsSPy5bdj5bMvxng8H60rXL9eI7lxwK3STD37raddFy5cWILU/6WkpliBfsWq3+Tr7z6TDcZq9vr3oqMKy82Dh1kj697PQev7rsM7qIeFhYsOycnJydaUex1Gu3ftI53UlHr9nL1eME6H0jNnTsnO3Ttk1uwpMmP29663s37q3++ppt+PHPGklCtbweOeebJsxSIZMfIOa/E487r+zFtvvst6/jw6urAUUtPq9Xvqhe9OnT4pa35fKR9/+q5sVc/xp5/7c1Rc10lP/X/vzU8zXXNg9typMvr912XX7u0eIV23bdht91lT2PVCeuFhEWpRvjDrNWfVWgH6efW9sbtkyrTxMu/nOR79o2cw6G397rnzQdH1NI/klGTZufPPLzL04niTpnwjM2dPdr9EL/53n/oyo3bNeu5ruqD7mwOBvBYgqOe1MO8fqAIEdaNnCOoGBkUEHCZAUHdYhwdwc++6b7AsWDjPXUM9gnp9v0HyxGMvua/5q5CuppX/svAnefqFh62RXrMe+lnz22+9z9o6zhWQzfsiGZKSkmKtkK5HpvVK8+ahF1177sn/yFUdu2f5HL53UDd/v1XLdnLX7SOkiXr2XI/Sez9nr4PzEbXY2+tvvigzZnmG9XpqcbuHRjyR5aMFOgAPvq2vNTLv+kz9BUrDBk3k8Yefk/p1G2W5KF6q+pJCr4Z/5/CbJDZ2tzt469XY9ZT7Rx58xvWW1s+96jVvv/ea6LBuTne/7pobrbCsR+O9R8TNN9B9dFR9maJnZkyY9JVazT/Vfbta1Rry1WdTLzgzg1Xf3VwUAkSAoB4gHUE18l2AoG6QE9QNDIoIOEyAoO6wDg/g5rZoV1NOnTrprmFhNfo58Ppb5NGHnnVf81dBB8433n5Z9Erx5qJmHTt0kRH3PaZGiRv4BGTvuurp6bv27JD3x/zXIzDr8Nm9a2956IEnRY/gZnZkFdQbNWxmfb5eGV9Pdc/q0HXWQfhO9WXIblUH11FePas+4t5HpV/fG1yXPH7O+WG6PPbU/WrkPsl9Xa/k/vzTo+SKyzpmuzq+/twJ338lL776hOjgrg/d3kvUNngfjB6n2lvd/b56jQJtvH3HFvc1vWL8G//5n7Va/YVCuvsX1OctWfqr9T7rjdkL+suLn+euuuDMAYK6W5FCgAgQ1AOkI6hGvgsQ1A1ygrqBQREBhwkQ1B3W4QHc3CYtq4qeiuw6Aimor1qzTO64d5DHlGr9LLhe6E4vCpejEGk1LEOWrVgir456RjZtWe9qqtoHvLAVXNu0utx9zSxkFtT16P3QIffIvWpKt17NPbtDj45/OPYd+Z8acXYdekuz++95WAYNvM11yePnXWo0/NdFP7kXzNOj4XqK/6MPPZPjNuvV8K/sdqlaJT7O/d56YbkRwx+Xgf1vdl8b88loeXP0Kx5fhOiZCnfd/oB69j3G/brsCnpf95dee0p+mDfT46ULflhjbZXncdE4IagbGBQDQoCgHhDdQCX8IEBQN9AJ6gYGRQQcJkBQd1iHB3BzAzWoJ6rF0fRz6e+pkXDX8f/snQd8VUW+x//0kgYhjQSQ0AKhSRMQBJUmZRFWBWyIqLvqyj7L6qprdy2ra1lBUREVRVEEBGlKUUClCErvkNBCQqghlCQU3/xG73VuC8lNbm45v3mf8+6cNmfOd/Ie/s6/QZgPu+4WVTbufolTMeHFaUiS9vZ7/1NJ08Y7iFIIUgjvGm5KibkT6k0aN5P7Rj0iV17ep0iPz1cfQWbMmiKPP/2Aw/V33nGvHsfhoNrZn7lPrruxr4Orf1xsgrz1vwm6frvz9YXtgx0+EJRX3BBfj9Jp16iwhmvVZmuI4/9u8Tw5kJ2pXOV3yx5Vku7VF8dKp45dL2i5t41h+33y2Yfksy8m2Hb177dfr5KkxLoOx8wdCnWTBvuBQIBCPRBWgXPwBwEKdYM6hboBg10SsBgBCnWLLXgAv26gCvUslbn9+ZceV/XD/0h0h7rcDyqrMuKnvWmoe/6CGhOlyGytS+fu8tRjL7l1f3cn1Lt17SH/fOBJnWXeNkZhv3C9Ryb2G0YMdLjMk1Cfrdz8n1KC93hujr4esemw+H/w7mSH+4uyg3r1W5UHQZ06FxV5vkUZ19M17oT6K/95W/qqpHSeQgQo1D3R5HF/EaBQ9xd5PtffBCjUjRWgUDdgsEsCFiNAoW6xBQ/g1w3UGPWdadu02zvi1G0NZcJQZgyx4d60lauWycuvPytr1/1svx211ce//bnbjOLuhPpVvf4kDz/4tHLnTrKPcaEO3O0HXdfD4bI7Rt6jLeqor262d8ePVonZXtO12nEcrva3j7hbu6yb1wVCH4nkTp8+rUMnEE//qnKhN7O3Y44U6oGwUpxDcQhQqBeHFq8NJQIU6sZqUqgbMNglAYsRoFC32IIH8OsOHtJT1cNeb59hoMSob9q8XgYP7WmfFzqwLN+vypq1btnW4XhRd1C/G/HY3y2Z73DLR+OnySXtO6v47/IOx90J9Zuuv00ef+R5h+sutONOqP9ZJZK7/++P6rJu5v0P/esemfv1DCn4PXt61apV5R/3PqFKyd1mXlamfSSkQwb9U6dPyTmVzT6/IE+L8wPZWbr03Y6d2wTrtS9jjyoTd8ZhbhTqDji4EwQEKNSDYJE4RZ8QoFA3sFKoGzDYJQGLEaBQt9iCB/Dr/v2B25R7+Sz7DKtWrSZXD7hWnnniv/Zj/ui4E+oD+18j9ylxi5Jh3jTEYb/x5ksy5ctPHW5/7qlXZYAaGzXJzeZLoT6g35+1UHeO37555GBZ9ctyeyI5lMsb8+r70uXSy82p+bSfk3NUco7nSO6J43JM1TnPzj6gY9h3q5rpubm5kn0wSzIzM/TvhSZCoX4hQjwfaAQo1ANtRTifsiJAoW6QplA3YLBLAhYjQKFusQUP4Nd94eUndNI2c4odlHUZ7uBVlNu1v5ovhDrK0I15+7/ywUdvO7zWYw8/rxKsXe9Sm9wfQr3/4G4OpdLCVLm8cW9NknZtLnGYsy92UA89LW27/LTqR9m2Y6vs2ZMuW7ZttH808OaZFOreUOM9/iRAoe5P+ny2PwlQqBv0KdQNGOySgMUIUKhbbMED+HU//fxDefq5fzrMsHmzVvLyC2/qutsOJ0ppB3HniG2OqRUrkZFRbmuh+0KoY/pj331NXh/zosObWF2onzt3Tn0c2CJzVf12lFfbvSdNubCfdWDkaQel42onJOrM7ruVsEfdeLNRqJs02A8GAhTqwbBKnKMvCFCoG1Qp1A0Y7JKAxQhQqFtswQP4dSGueg/o5DBDuGOjBNmflDu4L9r7E8bKmnWrdEK2i+o1kLpJ9SRJbQ2SG9kfR6H+G4qysKivW/+LjP/wLfl+6XcONevti/F7B6I8NiZOaqoEfGGqBn18fILKlp8sDeo3kiaNm8q498fItBmfOdxGoe6AgztBQIBCPQgWiVP0CQEKdQMrhboBg10SsBgBCnWLLXiAv66zuzUE2eCrh8q/HnpWKlasVKqzRwKyJ575hyz5YaF2qQ4Pj5A66sPAVX0Gyl133Gd/li+Eeq5yfX/Tjev76Nfelyu695ZKTu/qD9f3wUN7yWaV3O/XX3/VLMJUjPqbqoZ6546X2dmUZgcJ4FBrfdacaXJaZW43Gzwe6tVLFnxMSYhLkChVHi9e1XSvVStGwsMi9IeW6Oha9ltYns2Ogp0gJkChHsSLx6mXiACFuoGPQt2AwS4JWIwAhbrFFjzAXxdltd55738Os2zXpqM8++Qryv29scPxku7MXzhHl/FKS9/uMNS//vlvGX7jHfZjyNCO2uOIK7e1y7peKQ/8/V/SrGkL26Fi/UKU/k+5vaOeutkmT5wjrVu1Mw/pvj+E+j333SrfLZ5vz56O5H6PPfycXPfnG13mV9IDp06dlMlTJ8q4D8bIoUPZ9uFQEu7yy3rKFZf3USK9vk7eVys6VpWKq2y/xl2HQt0dFR4LNgIU6sG2YpxvaRGgUDdIUqgbMNglAYsRoFC32IIH+Ouu37BablLZxlEL29YS4hPlzr/cK9dfd4vtUIl/IQxfG/2CfDHtExWjfso+Xg1lqZ066Rupo9zfbS191w752723Cuqp21rLFhfLA//3mNfWZVjpX33jOfn+x+9sQ+o4+XFjP5NUN+LfH0L92Rce1Xzy8/P0HCGa/3LbKBl114P2ORenA1d0ZG6vrTLlw2Og/kXJ2l0d427fsUWvx8LvvnYYEt4Ut9z4F+XO3kwqVKjgcM7TzvHjx+QZNfeZTh9B6PruiRiPByoBCvVAXRnOy9cEKNQNwhTqBgx2ScBiBCjULbbgAf66EOgPPHyXLPh2rn2mcHnvcUUfeej+Jx0EtP0CLzrfLZ6n65hv3b7Z4e5Bfxoi/1Yl0ipV+sPNPjMrQyW5e1hZl+fZr42OjpEH73tC/qyEpDdt3oJZ8uJ/nxIks7O1Du06y3NPv6rdu23HbL/+EOpvK88GeDfgowZahQoV5crLe8uY1z6wTatYv1de1V5/gImIiFRJ+ypIy+atdS16fIgBW/DYtXunfUx8LHn+mdelfdtORRbpuDk9fYeggsBiFdJgNgp1kwb7wUCAQj0YVolz9AUBCnWDKoW6AYNdErAYAQp1iy14gL8u4qEXf79A/nrPTQ4zjVZJw64fcot2SYfVuyRt1+40GT32ZZmnarYXnCmwD4V4+Pfe+lTate0o5cqVtx8/duyocskeLe998Kb9WPny5fV8EMseGxtvP16UDlzoP/z4HRk77jWHjOZDrrlZ/n73g27H84dQ/0EldHvgn3fJMVXLHK2c+p+6dS+SCeOmSKKK5S9O+1nVY79hxNX2W8Cv0yWXydjRH+ma8XB7f/b5RxzW4/JuvbSrfd06F9nvK0rn+x+/lVf+95yKr9/gcDmFugMO7gQBAQr1IFgkTtEnBCjUDawU6gYMdknAYgQo1C224EHwuhDGj6skb7A621q5cuW0m/TNN9ymM8DXiKppO1Ws35ycYzLxs/flo0/GaTds8+Y+vf4kzz7xskQ5jY2SYT8uWySj7r/NwSW/QXJjeVQlubusyxXmMBfsr1u/Wl569WlZ+fMyh2ufeuw/MmjgUKmmYsGdmz+EOkICkFAOVm5bQjlYw++952G56frbnKdY6P4jj/+fQxZ2jAOX9lHqwwTaJ599IM88/7DDGFf1Hqi8KJ7Q5dYcThSyc0Z9eEGcOz6qnDx5wuFKCnUHHNwJAgIU6kGwSJyiTwhQqBtYKdQNGOySgMUIUKhbbMGD4HXPnz8nq9eukr/ff7scOvxHYjG4SyOz9+CBQ+SmYbdJgqqZXZx24ECmEoTvy5QvJ8mRo4fs4hNj1K1bX0a/Ml6apqQ6WNNt40OsPvefx1SG+G9th7Q79kBVNu5vf31A328/UUjn8OGD8sHHbyuL+rsCUWlrbS++RB5/5HmdnA4fJZybP4Q65vDqGy/I+x++KWfOntFTgqdB0yap8tLzY3TcuPM83e2v37hGbr9zmN0yj2uSkurKy8+9qb0XsF9aQv3bRd/oBIE7dm51WF88g0IdFNiCiQCFejCtFudamgQo1A2aFOoGDHZJwGIEKNQttuBB8rqIi/58yscqbvlJhxlDxFaqVFnatG4vt9/6N+nYoYtUqVLV4Rrnnfz8fPlp1VJlZR0jq9es1O7VNgsxrq1WLUyVf3tGW+qR2dxdg6ie880MVc7tQQerOuYCl/w7br1H4lTZsMIa3mnmnKnKLft5yfndnRzX45n/uPdxuWbQMKmuSqC5a/4S6viwMEhZ1bOzM+3TQvx+507d5MlHX7xgzgBYtf927whZsfJHXQIPg1RRyeMG9PuzyuT/Xx33jmPISYC4cmTDt7WoyBoy+tXx0qF9Zx3Tbjvu6feXNT/Jq4rtz6tX2J9lXuuNUEcCu+eeek369x2kMs1XMYdjnwR8ToBC3eeI+YAAJUChbiwMhboBg10SsBgBCnWLLXgQve6RI4cECc0mTHzXZdYQ7LDudr+sh868npzcSMU8d5XKSjijnTlzRpb/9IPAsrpoyQIt1H/99byLlRXX3nzD7XLnHffqrOvY99RgkX/7vdfl088/dLgEc+l31SC5+y/3SQM1D1j+nRsEL+Li8fHh/PnzDqd79egn9416RJWfa+Jw3Nzxl1DHHD6YMFZefOUpczq6pn2njl3lkX88LY0apjics+1s2LhWxqha8T8sXeTgPYCa6GNe/1B/bLFdCw+KV17/t0s4AJi88uJbktKkueL6R94A2334zT1xXGbP/VLefX+M7FfJ+cyPMOZ1+Bgy4ua/OiQKNM/jQ8oHH70tb7z1knlY2qskf8gdAK8HfKRAAsCkYsboOwzIHRIoIgEK9SKC4mUhR4BC3VhSCnUDBrskYDECFOoWW/Age93sgwdk3PujZdLkD3XiNU8izJvXQjb5YdcNVyXH/i7xF7CG28ZHgjLUekeiNWfBXb16uPTtM1BSVCkxJEDDh4SzymUc136rsppnZ2fZhtG/EJ4Qf/+49zFpc3EHh3POO/4U6pjLsy88otbgIzl37qzD1KKiauh3uLRzd6mb9FvSt4z9e/SHkaXLFisR/UftedwYpjwGRt39kNw6/E6HcU4oyztE8njlZm+Wy9P3hEUor4Xh6qNMT5Up/mJ9H7wk8CFm7bqf5cfliwW17m0N2ekRIgHhbcapXz9khMop8EyhlvHPvpigM/w7r61tbNvv/NkrVM6E+rZd/pKATwhQqPsEKwcNAgIU6sYiUagbMNglAYsRoFC32IIH4esiS/qsudPkfWXZRak0WMtLItgh0CHkbhw2UoaqTOs1axYvizxirt98+xVZunyJFBTkF3suv7nvV9IW5VF3PaRduy+0LP4W6uD9/EuPq/j+T+3l2i40Z+fzYWHhcuvNd9oTyDmfRy31MWP/KwtVnLkZv+98nad9eDLUqFFT+vQcoErcJcvU6ZN0fXbb9VepZIGIrS8sVOIXFRoByz7c5wv7G3tnzCdyebeetqH5SwI+IUCh7hOsHDQICFCoG4tEoW7AYJcELEaAQt1iCx6krwvLNATy5KmfyKqfl8vhIwe15fVClk/b60Icwy0+MjJKWrdqp93d27Xp6NEN2nafp9+9e3fJx5PGy/yFc1TCu4NaWBYm7Gzj4CNBTEysLk2GDPYtUlvbThX662+hjskVFBTIxEnvyQSVMf/o0cMCq3ZRWsWKsHDHyMhb7lZC/a+F3gLL+Dvj35Afly7SLu3IuH+hhjjy8PAIFXbQWIZcc5MW6odV2MRT//6n+piy2C6441QZvS8+/UYS4mt7HFLnRlCl4mDZR7iCp7+v20bcrTLSO+ZP8DgoT5CAlwQo1L0Ex9uCngCFurGEFOoGDHZJwGIEKNQttuBB/rqwtG7ctE67kq9b/4vANR7uzRBUeXmn7aIMr1mufDld6gxJwFDODfHOvXv2k46qfne4su6WtMGajvhrxEdvUQITpd/y8/O0wPxDtJdTFtwqKmFcVYmMiNJzGKSy1nftfLmgRFlR2wHlNj/q/pEOl/ft/SflQn6Xw7EL7aCG/EP/usfhsq6XXq5cy0dIbEycw3F3O/hgslZxnzxlomzYtFaOHz8mpxV3sIeng62hJn2YCgWoXr26jmG/YegIVcbuStvpQn+R6X/uN1/J1/O+UvHg++TkqRPKin9KhxHgRnx0wfiwjGMdk5LqyRWq5nrvHv1Vffc6euwC9RHhzXdeke+WzLffhxO3jfibStp3vb7G0/9CecCvZk+RmbOnSpZKopefl+cg2CtXrqwqDwyVB1XpODYS8CUBCnVf0uXYgUyAQt1YHQp1Awa7JGAxAhTqFlvwEHpdiOK09B2yI22bFsjIGG7GUMN6XbdOfZUkLkaapbSQWGVR9UXDPBC7vnX7JuWav1/3z579LZa7vPpYEBebIIm16yhLfltp2aKtRCmrfrA3fDCB6F+jYsT37tujBPUeVZf+qP21EL+NJHMN6jdUJdg6qbjw35L82S8oQmeP8lpAQrodaVslfddOyc3NUR9iRCeVq39RA2UZT9Ql4lq1bKOY1nAZ8dChbOV5cUjOqXJ/tlZdCfz6FzW07Rb6C1f8dRtWy/7MfTrEwXYxkuE1b9ZaJZnrZDvEXxLwCQEKdZ9g5aBBQIBC3VgkCnUDBrskYDECFOoWW3C+LgmQAAmQQFAQoFAPimXiJH1AgELdgEqhbsBglwQsRoBC3WILztclARIgARIICgIU6kGxTJykDwhQqBtQKdQNGOySgMUIUKhbbMH5uiRAAiRAAkFBgEI9KJaJk/QBAQp1AyqFugGDXRKwGAEKdYstOF+XBEiABEggKAhQqAfFMnGSPiBAoW5ApVA3YLBLAhYjQKFusQXn65IACZAACQQFAQr1oFgmTtIHBCjUDagU6gYMdknAYgQo1C224HxdEiABEiCBoCBAoR4Uy8RJ+oAAhboBlULdgMEuCViMAIW6xRacr0sCJEACJBAUBCjUg2KZOEkfEKBQN6BSqBsw2CUBixGgULfYgvN1SYAESIAEgoIAhXpQLBMn6QMCFOoGVAp1Awa7JGAxAhTqFltwvi4JkAAJkEDAEygoyJfR7/7bZZ4JCQly9dVXS9u2bV3O8QAJhAoBCnVjJSnUDRjskoDFCHgS6hUqVJAbr7tTYmMSLEaEr0sCJEACJEAC/iWQvmurTJs10WUSFOouSHggBAlQqBuLSqFuwGCXBCxGIC0tTaZNmybbt293efMruvaVli06SKWKlVzO8QAJkAAJkAAJkIBvCCxdsVCWrVzkMnhKSorcfPPNEhsb63KOB0ggVAhQqBsrSaFuwGCXBCxG4OjRozJr1iz54YcfXN68RbO20r3rVVK1SjWXczxAAiRAAiRAAiTgGwKfTnlXMrP2OgwOT7dLLrlERowY4XCcOyQQagQo1I0VpVA3YLBLAhYksGjRIpk6daoUFBQ4vH3lSlVkyOBbJS42UcqVK+dwjjskQAIkQAIkQAKlT2D33p0y7auP5Pyv5x0Gj4yMlKuuukp69OjhcJw7JBBqBCjUjRWlUDdgsEsCFiSAOPUvv/xSMjIyXN6+Xp0GMqDPEKlWLczlHA+QAAmQAAmQAAmUHoETp3Jl6owJcujwAZdBEZ9+3XXXSYsWLVzO8QAJhBIBCnVjNSnUDRjskoAFCWRlZcn06dNlzZo18uuvv7oQuKxzL2nfpquUL1/e5RwPkAAJkAAJkAAJlJzA2bNndFz6L2uWytlzZx0GxL+/qampMnLkSAkL44dzBzjcCTkCFOrGklKoGzDYJQELEjh79qwsWbJE5s6dK8ePH3chABf4wQNvltpxSVKhQkWX8zxAAiRAAiRAAiTgPQGUY0vbtU2+/X62nD590mWgWrVqyaBBg3SMustJHiCBECNAoW4sKIW6AYNdErAogZycHJkzZ44sW7ZM8vPzXSjUqBEtXTr2lMSEehIZEeVyngdIgARIgARIgASKR+BXFYeee+K47EzbLL+sXS45uUddPNsqV64sHTp0kOuvv14qVWIVluIR5tXBSIBC3Vg1CnUDBrskYGEC6enpOlYdpdrOn3dMYgMsVSpXlSaNW0jL1HYSWyteKrJsm4X/WvjqJEACJEACJSEAK3r2wUzZtHWNbN+5SfLyT7sMB5f3iy66SIYPHy6JiYku53mABEKRAIW6saoU6gYMdknAwgTOnTuny7TBBR5l29w1/EdDvHKBT2nUQqJrxkhEeJTeqlSp6u5yHiMBEiABEiABElAEkAMGYjw395icOJmrEsZly460TZJ9KFPw76+7Fh4eLkOGDJGOHTu6O81jJBCSBCjUjWWlUDdgsEsCFieAGHXUVV+xYoXk5eV5pIF6rpERNSS6RqzUVIK9enUmt/EIiydIgARIgAQsT+BX5al28tQJOXL0oBzLOSonTuS4JI0zIeHDeJcuXWTo0KF0eTfBsB/yBCjUjSWmUDdgsEsCJCD79u2T+fPny+rVq93GqxMRCZAACZAACZCA7wggFh1W9D59+khcXJzvHsSRSSAACVCoG4tCoW7AYJcESEAT2L9/vy7X9tNPPwnKt7kr20ZUJEACJEACJEACpUsgKSlJLr30UmnXrp3yWKtZuoNzNBIIAgIU6sYiUagbMNglARKwEzh9+rTs3r1bFi1a5LHGuv1idkiABEiABEiABLwmACs6xHmnTp2kcePGKmEry6F6DZM3BjUBCnVj+SjUDRjskgAJuBCARX3Dhg2ydOlSycjIcDnPAyRAAiRAAiRAAt4TQGZ3xKOnpqZKTEyMlCtXzvvBeCcJBDkBCnVjASnUDRjskgAJuCWAxHLZ2dmyc+dO2bNnj45jxy8bCZAACZAACZBA8QhUrVpVEhISpE6dOlKvXj2pX7++3q9SpUrxBuLVJBCCBCjUjUWlUDdgsEsCJFAogfz8fJ0NHr8o4bZr1y45fPiwFBQUFHofT5JAcQjgb2vLli3FuaXMrq1evbr+j+vo6OiAtHqdV5mlN27cqDJKn5BatWpJkyZNyowNH0QCJFA4AQjx2NhY/f9D8H+f2Idoh9s7reiFs+NZ6xCgUDfWmkLdgMEuCZBAkQkgwRwEOuq/MtlckbHxwiIQwMef0aNHC8oFBkpDSUJYvXr16iUNGzYU7Adi27x5s0yePFlycnL0HB999FEmpArEheKcLEkAYhyx59hQfo2NBEjAlQCFusGEQt2AwS4JkAAJkIDfCeTm5srHH38sa9eu9ftcMAFYvdq0aaNLJcFdNZD/A3vmzJmycOFCQTJItCFDhkiPHj10n/+LBEiABEiABAKdAIW6sUIU6gYMdkmABEiABPxOAKEV+If6yy+/9PtcIiMjpV+/ftK5c2ftour3CRUyAXggwBPBzB+RnJwsDz/8cCF38RQJkAAJkAAJBA4BCnVjLSjUDRjskgAJkAAJBAQBiM0XXnhBEHNtNsRy9uzZUxo1aiQHDhyQY8eO2a85deqUzpmA6xGScfDgQe0Cjn24qsMSjuPOY+K8c8P1tWvX1hbplJQU59MBub9y5UqZNm2aHDlyxD4/uNo+8sgjgqzSbCRAAiRAAiQQ6AQo1I0VolA3YLBLAiRAAiQQEAQQpw73d8RcO7eBAwfKjh07ZNOmTc6nPO6jPnGHDh3k66+/ll0qCWJhDcmdmjdvLkOHDpWoqKjCLg2Yc/j4MGnSJFm+fLlDckcI9T59+sjgwYMDZq6cCAmQAAmQAAl4IkChbpChUDdgsEsCJEACJBAQBE6ePCnz58+XuXPnusynVatW2lqemZnpcs75QOXKlSU8PFy7rUOAp6WlOV9i34eohTDv3bt30MV179+/XyZMmOD2I0RiYqJ2f2fpJ/tSs0MCJEACJBCgBCjUjYWhUDdgsEsCJEACJOB3AqgigGRoq1at0lZiZ1d1lDWKiIjQru+2pGnuJg03eVjGmzZtKgsWLJBDhw65u0wfg4hPSkqS/v3763s8XhigJ5YsWSJz5szRZROdpwiBPnz4cGnfvr3zKe6TAAmQAAmQQEARoFA3loNC3YDBLgmQAAmQgN8IQHSjrBiSomVkZGjXdri+nzlzxmVOw4YN00IeLvDuGmLM69atK/Xq1ZNly5a5HcN2X40aNeTiiy/Wse8xMTFBV88Y3D7//HNBjPrZs2dtr2X/BQskw7vxxhsDOmO9fcLskAAJkAAJWJYAhbqx9BTqBgx2SYAESIAEyowAErtBmJ84cUInQIMr+86dO7VINxOiuZtQly5d9LVZWVkOp+G+3qxZM4EreFxcnGzbts3hvLmD5HKwokPEYjxY1YOxbd26VaZMmeKQ7d35PcBi1KhRmonzOe6TAAmQAAmQQKAQoFA3VoJC3YDBLgmQAAmQgE8JwDp+9OhRLcyzs7Nl9+7dYvtFWbaiNghsZHxHLLvZINKbNGkiixcv1ufNc2a/evXq+rpu3brpX7jJB2NDWADqps+bN097Inh6B7zvoEGDpHv37p4u4XESIAESIAES8DsBCnVjCSjUDRjskgAJkAAJlDqBvLw8HR8OQY6SarB2Y0PfnVt7USZQsWJFLbBRxg0WeTSUIIuPj5fVq1cXOm50dLQgC3zXrl319bDCB2uD5wGs6Xhn51h+853AC0n4RowYIUwqZ5JhnwRIgARIIJAIUKgbq0GhbsBglwRIgARIoMQEkAwOlm6bGId7OjYIc1jT3cVRe/NQZGeHQG3cuLFs375dJ5grLKs7XN0Rtw5X9zZt2ghi04O9rV+/XqZPny779u274Ksg/n7kyJHSsGHDC17LC0iABEiABEjAHwQo1A3qFOoGDHZJgARIgAS8JoCs6ogzh5UbovzgwYOCeui5ubmFWnsLeyBc0rGdOnXK5TIIztjYWEEJtg0bNuiPAPhI4K6FhYXpbO4Q6Q0aNAjaeHTz3QoKCuSbb77Rru+FZb+33QP39x49esiAAQNsh/hLAiRAAiRAAgFFgELdWA4KdQMGuyRAAiRAAsUiAFEOl/b09HQt0hE3DnfsoghHTw+CMIcbe+3atfUvXNtRfsw5wRySv8HVHc8v7Hk1a9bUyeIuueQSLexhWQ+Fho8i06ZNk3Xr1hXpdfDeKSkp2qoeGRlZpHt4EQmQAAmQAAmUJQEKdYM2hboBg10SIAESIIFCCUAQw6UdAh2l0WBFh7UbAh0WXm8b6qKjlBoEOizlUVFRAis4BCWeB0GKUm3FabYSbT179tQCNdTEKerMw+0dngvOrUWLFrq8nXPcOjwQhgwZouPVne/hPgmQAAmQAAn4mwCFurECFOoGDHZJgARIgARcCMCiDYs5SqchSzvizCHOS+LSjocgqRuEOay8+EG0QLAAABheSURBVA0PDxe4Z+PXbHj+3LlzZcGCBebhQvuwyttqoyNDPPZDqYH/119/rZmgzJ3ZEIt+yy23yOjRo10+nsAL4bLLLpNrr73WvIV9EiABEiABEggIAhTqxjJQqBsw2CUBEiABEtDx5BDjEOao0W3LrA5rOkqoOVtpi4oMYjkhIUFbzGE1T0xM1FZziPPCMpEj7nzZsmXaqo6PAxdqeE6fPn20IIVlPpizunt6V3wwgTV906ZNLpdAiO/du1eqVavm4oUAFo0aNZIbbrhB83e5mQdIgARIgARIwI8EKNQN+BTqBgx2SYAESMCiBCCGkQBu48aNgszpEOlwZceGLO2ekrRdCBcEOFzaUdsclnMIdQhpJIBDybCitm3btmmhDst+YQ1Z3VEvHGIU1uNQbT/99JN88cUXbmun33fffTJ+/Hjp1auXTJ061QUBLO4DBw6Ujh07upzjARIgARIgARLwJwEKdYM+hboBg10SIAESsBgBlDXbsmWLtpyjxBdEOSzmzu7UxcECEQ6LeevWrXXpNAhDxItj8zaRG7LHz5gxQ1asWOFxKhCeEOkou+btczwOHkAn4O0we/Zs+eGHH1w+oKBUHWLWc3Jy9AcRMHdOtIcPJMh+P3To0JALCQigZeJUSIAESIAEvCBAoW5Ao1A3YLBLAiRAAiFOAK7rsJojEdzPP/+sLbKwlntrMbfhQuK39u3ba4HesmVL7XaNc6Xpdo5SZF999ZVLHXZYzvv3769Lj0GYhnqDx8OUKVO014Pzu8Llf/ny5Vqo41zXrl21oHe+DiXqEKeODypsJEACJEACJBAoBCjUjZWgUDdgsEsCJEACIUIAwhuWcWxIxoZY8/Xr1+uYZnc1yYv62hDesFZDEKPsGazmzZs3l6ZNmxZ1CK+vw/wRlw3LPxrmgURxgwcP1s+3gkiHxwMs6ZMmTXLhiJh0hCqY3hB33323jB071uVDDBL59evXT8fxuwzEAyRAAiRAAiTgJwIU6gZ4CnUDBrskQAIkEMQEIMptMeVwf0Y5M8R2I647Ly/P6zeDqzTiyvFbp04dHWveqlUrHW9eluI4IyNDx6nDIwDu9fhIALGJuPfStNx7DaoMbsS6zpw5020IALLcY63h9m428MnKyjIP6T7qyqNUG0rjsZEACZAACZBAIBCgUDdWgULdgMEuCZAACQQZgTNnzuhM7LCSo6Y5RCzizlF7HOe8aRC9EMJwKYdLOxK0wWKOBG21atXS1nRvxi3pPbAmw/V9zZo1OhEaspuHWm30whjBSwIfXiZOnCjZ2dkOl8K74Morr5S1a9c61FXHWuJjBmLanRtK4sEboVmzZs6nuE8CJEACJEACfiFAoW5gp1A3YLBLAiRAAkFAAKIcG5KEoXQaYpbh2g5rq7cNgg6iHO7TSMYGEQdhjhjmQBLDyEaPueLjAaz8Vmrwivj+++91fLrze8fGxuoQB+fEcWA1YsQI+eSTT7S3hXkfyuL17dvXMrH95ruzTwIkQAIkEJgEKNSNdaFQN2CwSwIkQAIBSAAxxxDmqCF+/PhxLczh4oxa2s5uzsWZPoRueHi43hBvjozhqG2enJysRXtxxuK1vicAK/rkyZN1rgHnp1166aXa7T0zM9P5lPaAwEcXfMxxbkgAiEz5EPpsJEACJEACJOBvAhTqxgpQqBsw2CUBEiCBACEAt3WI8GPHjmlLOeKzkUQN1nNkbve2wZ0dFnII89q1a+uYc1in69ev7+2QvK8MCCD/AHIOjBs3zqXcGsIUUJoOmfzdCXXUsr/mmmvk008/dZkpPszA/R05B9hIgARIgARIwN8EKNSNFaBQN2CwSwIkQAJ+IoD4YwjwI0eOCGqGHzhwQAtziHNYUr0V54hdhks7snzbxDnEGVzbYUXFebbAJwCPioULF8qsWbNcJou1hLcF/nbcNQh5lG1DtnjUYDeb7VzPnj11TgLzHPskQAIkQAIkUNYEKNQN4hTqBgx2SYAESKCMCZw8eVJn5IbI2rt3rxboSAQHsW6W2SrOtJCJPSoqSgvxuLg4XcIMmb/j4+P18bLM1F6cefNazwSQf+C9996TXbt2uVyEJHL420ESQU8NuQeQFX7ZsmUul6DuPdzfkdGfjQRIgARIgAT8SYBC3aBPoW7AYJcESIAEyoAAsrPDSo4NLu1wV7ZZ0r19PCzjMTExOsYcohxWc4h0WM0Rh84WvATwwQbZ3MePHy/IfG82WMS7deumy+/BC8NTw3X4UPPtt9+6XIJM/nCNb9OmDT0sXOjwAAmQAAmQQFkSoFA3aFOoGzDYJQESIAEfEIC4Qh1rCHNYPiHMYTGHGzJclr1tEF/16tXTAt32C2EOF3dYUNlCgwDc3qdPny6LFy92eSEkBESW/qKsd0FBgdt66vjIA9f3Xr16BVSGf5eX5QESIAESIIGQJ0ChbiwxhboBg10SIAESKCUCEEUQ5CifhuzssHYiYzss5zjnbUNJLcQkw00Zv7Ciw2KOGHS6tHtLNbDvw9/O66+/7jEGvTRmn5KSItdee63+8FMa43EMEiABEiABEvCGAIW6QY1C3YDBLgmQAAmUgMCJEyd0DDGs5hDoEOXI3A6rubPLcnEeAxEOizlqmiNTO/YjIiJo/SwOxCC9Fm7viCv/+OOPffoGsMgPGzZMUK6tYsWKPn0WBycBEiABEiABTwQo1A0yFOoGDHZJgARIoBgEkKkd4nzLli12gQ53drgqY0NJLW8aLOOIL0ddc5RNgziHMMeGUlvlypXzZljeE4QEkO0fSeTWrVvn89kj1r1fv346dMLnD+MDSIAESIAESMANAQp1AwqFugGDXRIgARIoAgG4tKOe+caNGwUZ2k+fPq2TeUFUQbx70xBrjHrmEOdwQ4ZLO9zcUfccFk6Kc2+oBv89+Pt68cUXvS7PVxwCSUlJMnz4cP1xqDj38VoSIAESIAESKC0CFOoGSQp1Awa7JEACJOCBwI4dO2Tr1q2ybds2nZALcebYSuLSjiReKI2FWPPU1FRB9m0kiMPG+uYeFsJCh/HRZ968eTJt2rQyeWt4csD9vVOnTvpvsEweyoeQAAmQAAmQgEGAQt2AQaFuwGCXBEiABH4ngPrmSAK3efNmXRoLseaIF8bmrUs7hkaG7iZNmkjTpk11XWtYyyGQsNFqzj8/ZwJnzpwpcvLBd999V4dhmGPgb6p3797Sp08f87DHPj4SwbuDjQRIgARIgAT8QYBC3aBOoW7AYJcESMDSBBBvDmG+Zs0a2b59u87SDiDeurPbYKJkGtzZ27Ztq13bbUKIwtxGiL+lQeCNN97Q4RjmWPgbGzBggN7M4+yTAAmQAAmQQCASoFA3VoVC3YDBLgmQgCUIQHjbrOOoZw5xvmHDBoF7e0lKp8FdHRsSviUmJkqzZs2kdevWOhkcLOZsJOBLAhTqvqTLsUmABEiABMqCAIW6QZlC3YDBLgmQQMgSQCw53IixZWdna3f2Xbt26Zjzkrw0rOPYUN4KJdQQa46EcMjUzkYCZUmAQr0safNZJEACJEACviBAoW5QpVA3YLBLAiQQMgRgNUcWdljI8/LyJD09XVvM169fLyih5m2DxRyZ2BHLGxYWpuPNGzVqJMnJyToZnLfj8j4SKCkBCvWSEuT9JEACJEAC/iZAoW6sAIW6AYNdEiCBoCYAd3aUSsOG5G8Q50gIh0ztx48f9zrWHG7rEOUol1azZk2dCA6u7Yg7h5s7GwkEAgEK9UBYBc6BBEiABEigJAQo1A16FOoGDHZJgASCjgBc2nNzcwWJ4ODSvnfvXi3OIdCRud3bBqt5eHi4RERE6JrmDRo00FZzlFJj6TRvqfI+XxKgUPclXY5NAiRAAiRQFgQo1A3KFOoGDHZJgASCggDizI8cOaKt5gcPHpS0tDTJyMiQ/fv3a3d3b14C2bERZw6LeVRUlNSpU0fq1q2r486RtZ3J4LyhynvKkgCFelnS5rNIgARIgAR8QYBC3aBKoW7AYJcESCBgCcA6Dos54ssPHTokSAQHYQ6hDqu6Nw2W8cjISImOjhaI8YSEBC3M4dYOsU5x7g1V3uMvAhTq/iLP55IACZAACZQWAQp1gySFugGDXRIggYAiAKs5hDiEOUQ53NoPHDggx44dK9E8IchjYmK0OE9KStICHeIccehsJBCsBCjUg3XlOG8SIAESIAEbAQp1Gwn1S6FuwGCXBEjArwRsLu2wnEOYw50dfYh1WNSRyd2bhnhzWMzj4uK0SztEOfZr1aqlM7h7MybvIYFAI0ChHmgrwvmQAAmQAAkUlwCFukGMQt2AwS4JkECZE0D5tKysLNm3b58W57CY2yzpKK/mbYN1PD4+XseZI9YcFnS4uOMYGwmEIgEK9VBcVb4TCZAACViLAIW6sd4U6gYMdkmABHxOAFbxU6dOaWv5nj17tDv74cOHtThH9nYId28a4sltSeCQmb127do6MRzEOeLQmandG6q8J5gIUKgH02pxriRAAiRAAu4IUKgbVCjUDRjskgAJ+IwA6pjv2LFDMjMz9S/2saGs2vnz5716LsQ5XNiTk5PtlnOUU4NgRwZ3ZHJnIwGrEKBQt8pK8z1JgARIIHQJUKgba0uhbsBglwRIoFQJQJSnp6fL1q1bdRI4WMxPnz5dovrmEN8Q5thgObclgatevTrjzUt19ThYsBGgUA+2FeN8SYAESIAEnAlQqBtEKNQNGOySAAmUiACSwSEzuynO4eaOzdsSaphQlSpVpGnTpjoRXGpqqtSoUUOLciSJq1ixYonmzJtJIFQIUKiHykryPUiABEjAugQo1I21p1A3YLBLAiRQbALIxo6a5tu2bdMbSqlBsCPW/Ny5c8Uez3ZDeHi4pKSkaIGOXySHgyiHaKdLu40Sf0ngDwIU6n+wYI8ESIAESCA4CVCoG+tGoW7AYJcESKBIBCDO169fL9u3b9du7Yg1hyjH5m0JNTwY9c1hOW/evLl2a0ecOeLQsbGRAAkUToBCvXA+PEsCJEACJBD4BCjUjTWiUDdgsEsCJOCRAJK+rVy5UjZu3KiTweXl5ZVIlONBEOAQ523bttXiPCkpSSpVqkSLucdV4AkS8EyAQt0zG54hARIgARIIDgIU6sY6UagbMNglARLQGdiRhR1bRkaGrF69WjZv3iwopVaSBlGOEmkQ4kgEB6t5q1atdNb2kozLe0mABH4jQKHOvwQSIAESIIFgJ0ChbqwghboBg10SsCABuKrDZd0WV45EcJs2bdLx5gcOHPC6dBpEOWLKIcyxtWzZUsecN27cWCeDsyBqvjIJ+JQAhbpP8XJwEiABEiCBMiBAoW5AplA3YLBLAhYhAHGen58vcF/PycnRmdpR4xyW82PHjnlNAVbzypUr6xrmtWrV0pbzRo0aSYsWLRhn7jVV3kgCRSNAoV40TryKBEiABEggcAlQqBtrQ6FuwGCXBEKYAKzmtlJpR48etWdqh0s76pt705B9HdZy1DBHVvaYmBidBA5Z2uvVq6dFuzfj8h4SIIHiE6BQLz4z3kECJEACJBBYBCjUjfWgUDdgsEsCIUYA7uywmEOgZ2Vlye7du3WNc4hznPOmQZyjfnlkZKRERERIYmKiFucNGzaUuLg4Ws69gcp7SKAUCFColwJEDkECJEACJOBXAhTqBn4KdQMGuyQQAgRQOg3iHFbzgwcPys6dOyU7O1tb0EvyelFRUYINLu3I1F6/fn0t0iHO2UiABPxPgELd/2vAGZAACZAACZSMAIW6wY9C3YDBLgkEIQFkZ0cdc8SWHz58WPbt26eztcN6DsHubV1zxJtDlMNyHhsbq13ZUT6tbt262tU9CFFxyiQQ0gQo1EN6eflyJEACJGAJAhTqxjJTqBsw2CWBICEAt3VYzGEpx7Z//379m5mZqePNvRXn1apVk+joaB1rDqs5RDnEep06dRhvHiR/G5ymdQlQqFt37fnmJEACJBAqBCjUjZWkUDdgsEsCAUzg7NmzWpDDnR31zRFzjvJp2EcGd29beHi4xMfH6w2CHK7ssKAjMRzKq7GRAAkEBwEK9eBYJ86SBEiABEjAMwEKdYMNhboBg10SCDACJ06cEFjJscFqjl+4uB85ckQKCgq8mi2SwSEJHLKy165dW+DODmFuc3OHyzsbCZBA8BGgUA++NeOMSYAESIAEHAlQqBs8KNQNGOySQAAQgBDftWuXjjXfu3evFuaINUccOkqsedMgzmEph8UcSeDg1g4X9xo1auh48/Lly3szLO8hARIIIAIU6gG0GJwKCZAACZCAVwQo1A1sFOoGDHZJwE8E4MKenp4uKJsGyzks5qhtjrJqJWnJycm6dBqs5xDnsKQjc3uVKlVKMizvJQESCEACFOoBuCicEgmQAAmQQLEIUKgbuCjUDRjskkAZEYDbOuLMIc7T0tJ0vDnKqmHDOW+TwYWFhdmt5k2bNtUWcxyrXr26VKpUqVTeDlnmkcBux44dcujQIa/rsZfKZDgICZCAncDq1at15Qf7gd87DRo0EGxsJEAC/ieAD+XwZsMH9MTERCZq9f+ScAYBRoBC3VgQCnUDBrsk4EMCEOAombZ582Yt0CF28/Ly9IZEcd42WMkbNWokKSkp2q0d5dSqVq2qxTlc3kuroR77hg0b9NxRBu706dOCeXv7UaG05sVxSIAEfiOA/x+DD2nODUkhmRjSmQr3ScA/BPDvMv7vEYK9Zs2a+t/vdu3aadHOHDH+WRM+NbAIUKgb60GhbsBglwRKmQAs5Nu2bZOtW7fKli1bBMnh8B/TKK/m7j+oi/J4xJMj8VuTJk0kNTVVu7ajrFrlypW11bw0xTnmg48JixcvlgULFujs8iWZe1Hej9eQAAmQAAmQgBUI4N9zeLvh43qHDh2kR48eWryX9r/jVmDJdwwdAhTqxlpSqBsw2CWBUiCAZHBr167VlnOIcySAwwZh7q31Gf+YI0N7q1at9Nf3hg0bCr6846u8LxPBwTV/8uTJgqR2EOhsJEACJEACJEACpU8A/57DQ65v377SrVs3oVgvfcYcMTgIUKgb60ShbsBglwRKQGDJkiXy/fff62RwEObeinJzCogzb9GihbRt21Znace5svjHG3XZ8S6zZ88ucUI7833YJwESIAESIAES8EwA/8Z36dJFrrnmGh3C5vlKniGB0CRAoW6sK4W6AYNdEvCCAAT5jBkzZNGiRTpuu7hD4B9lWMWxwYW9efPmOvFTmzZt9Nf14o5X0utRq/2LL77Q7voXip1HBHy58qUXB1/SufN+EiABEiABEghkAuo/GYr0IR8JIO+66y5B3hk2ErASAQp1Y7Up1A0Y7JKAFwTgFj5x4kTZpWqfF7VBlCMuDVtMTIzAlR3J4BB3DrHur4aY+s8++0x++eUXnSjO3TzwYaFypd/c7iPDq0p8bJR6j4ruLuUxEiABEiABEiCB3wmcO3deDh87IUeOIl/NWTmjErKeP6+Uu5uGf2sR7jZy5Egdw+7mEh4igZAkQKFuLCuFugGDXRLwgsDKlSu1Rf3gwYOF3o34MySMwRYXF6dFObK1o0RLINQ1h/V86dKlMnfuXF3H3d3LVKhQXuJjoqRtq2RplJwg9erESFj1qu4u5TESIAESIAESIAEnAmdVaNz+rKOyftMe2bBlr+w/cFQlaj3j1sqOJLFIMNe/f3/9Yd9pKO6SQEgSoFA3lpVC3YDBLgl4QaAwoW4rk4YEMbGxsdpqDne2+Pj4gPpHF+77qIs+depUXX7NHYaI8GrSsH68XHXlxZJcL87dJTxGAiRAAiRAAiRQRAKHjuTKkuWbZc36dEEfFnfnBtf3G264QRAOx0YCViBAoW6sMoW6AYNdEvCCQGFCvWfPnrp8Gizn0dHRXoxeNrcgU/3MmTNlxYoVbrO7JybUlEs7pEj3zqmqDBzd3MtmVfgUEiABEiCBUCdw5uw5bV3/5rs1sifjsEvpVoTKISzu9ttv90vemlDnz/cLPAIU6saaUKgbMNglAS8IFCbU33nnHS9GLNtbkKEeAh0Z3g8dOuTy8BpRYTJi6OXSrEmSyzkeIAESIAESIAESKDmBNRt2ycx5P0tG5hEXN3hY1QcMGCDdu3cv+YM4AgkEOAEKdWOBKNQNGOySgBcEgl2oI7Z++vTpsmrVKpe3r6hi0gf27SC9u7cqk7JwLhPgARIgARIgARKwCIHlP2+XyTOWyslT+Q5vXKFCBUlNTZXhw4czC7wDGe6EIgEKdWNVKdQNGOySgBcEgl2or1u3TqZNmyYoy+bcWqVeJLcM7S7hYUwY58yG+yRAAiRAAiRQmgTgBj/u44WybtNuF6s6ctugtnrr1q1L85EciwQCjkAwCfX/BwAA//9lx0sIAABAAElEQVTsnQe4FDUXhg+9996bdEGqqIACIlhQEBWlCIiooCKKooKCoigqdkXAQm+CVEEQUASkKr1J7yC997J/vvDPmtl2d4fde+/u/fI8MJnMJDPzZnfvfMnJOclcKkkEU926dWXOnDkRvAKbJoHYJvDXX3/J5MmT5dChQ14POnDgQK+yxFRw9epV+eOPP2TSpEly4cIF261ly5pB2jWvJzcUyyvJkyezHeMOCZAACZAACZBA+Als2LxX+g+Zqf4mX7I1niFDBqlXr540atTIVs4dEog1AtCl8+fPl549eyb6R0tGoZ7o+4g3mMQJRLNQP378uEydOlX/IHp2Y7VKJaRF05qSIX1az0PcJwESIAESIAESiACBy1euSL8ffpX1m/bYWk+ePLlUqlRJWrVqJRDtTCQQqwQo1I2e5Yy6AYNZEnBAIJqF+o4dO2TChAmyceNGryd/tMltUqtGGUmdKqXXMRaQAAmQAAmQAAlEhsCvc1bJhGlLvBovVaqUFup58uTxOsYCEogVAhTqRk9SqBswmCUBBwSiWaivX79exo0bJ/v27bM9efr0aaTTk/dIscK5JFkymr3b4HCHBEiABEiABCJIYOOWffLpgKleVyhcuLA88sgjAsHORAKxSoBC3ehZCnUDBrMk4IBANAv1NWvWyNixY+XgwYO2Jy+QL7t0aHOX5M6ZxVbOHRIgARIgARIggcgSwPr0F94Y7HWRvHnzyoMPPqhN4L0OsoAEYoQAhbrRkRTqBgxmScABgVgU6kUK5pSnWtWXXDkzOyDCKiRAAiRAAiRAAtdD4JlXvvWqDqHeuHFjqVKlitcxFpBArBCgUDd6kkLdgMEsCTggQKHuABqrkAAJkAAJkAAJ+CVAoe4XDQ/EOAEKdaODKdQNGMySgAMCFOoOoLEKCZAACZAACZCAXwIU6n7R8ECME6BQNzqYQt2AwSwJOCBAoe4AGquQAAmQAAmQAAn4JUCh7hcND8Q4AQp1o4Mp1A0YzJKAAwIU6g6gsQoJkAAJkAAJkIBfAhTqftHwQIwToFA3OphC3YDBLAk4IECh7gAaq5AACZAACZAACfglQKHuFw0PxDgBCnWjgynUDRjMkoADAhTqDqCxCgmQAAmQAAmQgF8CFOp+0fBAjBOgUDc6mELdgMEsCTggQKHuABqrkAAJkAAJkAAJ+CVAoe4XDQ/EOAEKdaODKdQNGMySgAMCFOoOoLEKCZAACZAACZCAXwIU6n7R8ECME6BQNzqYQt2AwSwJOCBAoe4AGquQAAmQAAmQAAn4JUCh7hcND8Q4AQp1o4Mp1A0YzJKAAwIU6g6gsUrUEtiz96Bs3LJDzp27YHuGRnfXtu1fz87Fi5dk/T/bZM++g7ZmSpYoLKVLFrGVee4MGDTeVlQgXy65/57bbWWR2FmweKUcO37K3XSyZMnkvoa13PuRymzYuF22bt9ja75OraqSMWN6Wxl3IkPg8pUrsv/fw7Jj5z45fOS4nDh5Rs5fuPbdSJsmjWTJnEFy5sgqBfLllkIF80iqVCkjcyNsNeYIUKjHXJfygYIkQKFugKJQN2AwSwIOCFCoO4DGKlFLYNLUP+Tzb0bJ3v2HbM+wecVE2/717EDw9vlkkExU1zLT8083k84dm5tFXvlkmavZyurdXl1+m9rfVhaJnUdavyYr12xyN50yRQrZ8PdP7v1IZT78bKh8P2ySrfnp47+UG4oXspVxJ7wErly5KstWbpDFS9fIqnWbZf2GrbJPCfYjR07ImbPn9MUypE8rOZRIz583p5RQ/VGtUlmpWrms3FajoqRQnw8mEghEgEI9EB0ei2UCFOpG71KoGzCYJQEHBCjUHUBjlaglMOLHX6THu/1lx679tmdwnfzbtn89O0eOnpCXu38mQ0dNtTXT87X20uuNDrYyz52EEuq33vmELP5rjft2UqZMIZeOLnHvRyrzao8vpO8Xw23Nr1s6TsqVKWYr4074CGzZtkd+mjRbZs1ZIn8tXy+nTp0JqvFMmTJIxfI3yMON75RHmtbXs+xBVeRJSZIAhXqS7HY+tCJAoW58DCjUDRjMkoADAhTqDqCxStQSoFD33XUU6r65xFopBmP6fDJE5sz/O2iB7skApvBYFtG7Z0cpmD+P52Huk4AmQKHOD0JSJUChbvQ8hboBg1kScECAQt0BNFaJWgIU6r67jkLdN5dYKt24ead06Py+/PHnMq/HyqR8ApQrW1xKFCso+fLklNSpUilT+EOyau1m2aTqnT133lYndepU0qzpXTLwi+6SPl1a2zHukAAIUKjzc5BUCVCoGz1PoW7AYJYEHBCgUHcAjVWilgCFuu+uo1D3zSVWSiG0X3ilrwwbPU0uXb7sfiysQ29Y/zYtukuqdehZs2aSDOnTqTXoyeX0mbNy6NAx+XvFBvl+6CRZrdayX7585b+6GdLJG6+0k24vP+EuY4YELAIU6hYJbpMaAQp1o8cp1A0YzJKAAwIU6g6gsUrUEkjsQn3+whU2tlmzZJIKal1wpBOFeqQJJ2z7o3/6Vbp0+1T+PXDEfSMQ6U890VRe6PCYFMifS8+iuw8amTNnzsk6FcWg90ffy6+/LRZENUBCZIBiRfPLD1/3lDq1qxo1mCUBzqjzM5B0CVCoG31PoW7AYJYEHBCgUHcAjVWilkBiF+oJBZZCPaHIx891m7V5XSZPnSsXL10T2XAW+EiT+vJl3646/Fpcd3H16lXZtHWXPNCsi2zZtltcLpeukjZNamndvJEM/LJ7XE3weBIjwBn1JNbhfFw3AQp1NwoRCnUDBrMk4IAAhboDaKwStQQo1H13HYW6by6xULpo6Wp5/Kmetnj1WJO+ZvGPUqRwvqAf8epVl3w7eLyamf9Mzp2/Fmsds+o3li0hs37+RvLkyh50Wzwx9glQqMd+H/MJfROgUDe4UKgbMJglAQcEKNQdQGOVqCVAoe676yjUfXOJhdJvh0yUN9/5Rg4dPuZ+nBbN7pYR372rzdfdhUFkDh85Ljfc1EROnDztPrtwobwybOA7cketKu4yZkiAQp2fgaRKgELd6HkKdQMGsyTggACFugNorBK1BCjUfXcdhbpvLrFQ+lK3T+T7IZO1czjred56/Sl5u/sz1m5I27r3PmPzHJ8rZzZ5540O0uHJh0JqhyfHNgEK9djuXz6dfwIU6gYbCnUDBrMk4IAAhboDaKwStQQSu1CfMm2ejW3OnFnlthoVbWWBdi5duqzNksdNmC2/z/tLlq3cIAjLhZQ9W2apWqms1LzlJnng3jukvArHlSpVSj2rer1CHd7AL1y8KDOVszE4HPtr2TpZvuoffV2E8sJ1a1S/Ue5tUFNq31pJUqdOLcmTJ5NXe3whfb8Yrs+z/lu3dJyUK1PM2g1qe1l5Mr948bLMX7RC5i9cqZ97mfJWjhlgrKfGmmw4PCtZoojUuqWi3Fm3hmTPmlk/f1AXUCeB7fSZC92nZ8iYTsqVLib58ubUZbiH4ydOy7wFy2Wu+oewZtt27JU8ubNLjuxZpViR/FKtcjk98wxxCy7xke5q/JwsXLJKcRC5euWa1/aZk7+R22tWdnT5Js1flsnT5rrrUqi7UTBjEKBQN2Awm6QIUKgb3U2hbsBglgQcEKBQdwCNVaKWQGIX6skyV7OxrXd7dfltan9bma8drB8+fuKUDB4+Wb4cMEZ27Tng6zR3GWJlP6NmQNu2bCQF8+eRWg2elMV/rXEfh7C9dHSJe99fBiL49OmzMvmXufJl/zGycs0mLWj9nZ85UwZp+kA9een5FlK2VDF5451+1yXUr1y5KqdOn5Hxk39TIcQmyyp1fWv9tL97SJkihZQuWUSebtdUHm5yp1pbnUOHI/N3vlV+7PgpyV64rrUrN6hwZr17dJRHHqyvBwR+nj5fBvwwXsUeD8wA68NffqGVPP/0o5Ilc0Y9iOBuNAKZrdv3yIGDR/XnY+36rXLl6hV5/NF7pWCBPCFfDZ+z2g3ba+FvVc6t1qb3efs5afd4Y6uIWxJgHHV+BpIsAQp1o+sp1A0YzJKAAwIU6g6gsUrUEohFoQ6P3P9s2iFvvT9QJv48RyBeg0np0qaR5o/cLS8911ye6PiOipe93l0tGKF+VYn03Xv+la8HjpUhI3/WYtXdQIAMZvHvqFlVXu/SRs/MfjXwR9vZwc6oX7hwUdZt2CqffzNaJqjnRhixUFJ6FZ7sgXtuly6dWkqFcjdIWsUjUPIl1Hsp8/Eqlcroexg1droaNDgbqAn3MXhLr6sGYbq93FZbGqROFT+z6+4bcJjZs++AlK/eTE6eOuNuoXjRAjJ+ZF+pVKGUu4wZEuCMOj8DSZUAhbrR8xTqBgxmScABAQp1B9BYJWoJxKJQX7t+i3Tq2lf+XLRSYIJuJXjkRqzs7NmzSPp0aXUxxOyRYyfk7Nnz1ml6RnjBolWy799D7rJghPrO3fulz8eDZdS4X/WstruyyqRRQjRXjqySIUN6PVt99tx5OXbspM0J2a03V9CDCkuVmbyZghHqEOnzFqyQd1Vsb8/Y82gra9ZMkkE9cxYVhx4cYLZ+7PhJOaru4cr/zb+ta+I+3ny1vcB6IW3a1Fax19ZTqBdTAhUWCbt2/ysjxkzXpv+ohIGIDOnTKeZpJFny5HJKiVoIeCukmdVwCjWzj2t/2uclqV6lvFWcqLeffj1S3ujVT84r/khgW7H8DTL75/5BhXlL1A/HmwsrAQr1sOJkY1FEgELd6CwKdQMGsyTggACFugNorBK1BGJNqO//97B0fu1j+fmXeW7xhM6B4ETYrNtq3CS3qjXuRQqpMFxqBnzL9t1a4M79c7ns3LXfHVfbs0PjEuoQrV/0H61m03+UI0dPuKujHkzCb1Hr0e+oVVXnMVO9S4l6mNbPnrNU/tm8Q86duxbey13RyMQl1GExsFytvYcFwfRZ/60ZRxNYLw2zdnggx5rwShXKqIGCZHrt+F/L18vvc/+S1es2y779/w1KoF79OjdL757PasGMtfO+kqdQz54ti16fjrjiGDjAoEihgnmlfJniUlatXS9UMI8S7an0rP+K1Rtlx659sm37XlvTmTNnkKfaPCiYmc+QIZ3tWGLb2bP3gNzf7CVZvXazwJoCKY1aZ9+s6V0y7Nt3Etvt8n4SmACFegJ3AC+fYAQo1A30FOoGDGZJwAEBCnUH0Fglagn4E+orF4wK2zMhdBXMsWGGbqaer7WXXso7dqAUyhp1zJ5jhrPvF8NsZueYzX6ocT15/qlmWqR7Xu/M2XMyY9YiFRN7glprvNrmDdw6N5BQh6k9nIn16D1Ai1CrTqqUKZU5dzW19rqZ3Nuwlte674tqVhsC+6sBP8rM3xfb7tlqA9u4hPr+A4flky9HCEzmL1685K5aolhBafnoPWqt9ANSSK2/Tq5ms82EGW3UHa0sAAaPmKKd7FkWCHDs9uKzLeRlZQaPNde+kqdQN89BDPEG9W+RZg/epZzlVVYz+RnNwzo02uw5S6TXB9+5nftZJ9xSHbPqXfTsulWW2LZwlPfW+9/qwRlziUGe3Dnk2y+7a+eEie2eeT8JS4BCPWH58+oJR4BC3WBPoW7AYJYEHBCgUHcAjVWiloA/od7gzlvC9kwQf/D2vWPnPlub4RbqG9XM9FOd3pMFi1cJxLOVsO78o3dfUE7icltFPrdL/l4rfT4ZLLN+XyIwTTdTIKGOWfzefX+Q7wZPlEtKwFmpfp0a0qfXc1K5Imax7SLZOgfb7YrLZ/1Gycgff9Gm6OYx5AMJ9QsXLsm0X/+Ul7t/pmeorbowQ+/yXAst1LMpb+6BEpzf/TJzgR7kAAMrwRLgsw+6yN31b/Pp4M2fUM+pTPxbN79Pnn/mUT2Lb7Xnaztq3Azp9Epf9dz/WSEUKZxPer72lB5g8FUnMZQhgkDHFz+QzVt3uU344ZSvqRoQGjrg7TjX9yeGZ+A9xC8BCvX45c2rJR4CFOpGX1CoGzCYJQEHBCjUHUBjlagl4E+ox8cDhVuof/PdOHnv40E2M+6KN5aUCSP6SoniBYN6JIRSe+n1T2TDxu228wMJ9dl/LJXXenzpDr+GipjN/rJvV21CHkzYsTXrtmiP7/CU7pkCCfW9ymT9HTUrDWsAK8GLeudnm0unZx5Ts+HZrOKAW8wKDx/zi7zx7jdy1DDdh9ju9vITkv//IdfMRnwJdQxI3KesB/q8/bwKKVfcPN1nHgMi7Tr2kh8nzHIfh7n+613aSpfnW7rLElNm+cp/pLvyzj9n3t82C4ZiRQrIqEG91TKHConpdnkviYQAhXoi6QjeRrwToFA3kFOoGzCYJQEHBCjUHUBjlaglECtCHebrz3X5UMb89KtyYvaf+fc3n74uHds/HHT/oJ3Or36szcHNWXV/Qh3XgkjurhyKYWbaSi+p2ezXlcDNrURnMAntDBw0XjuDO3z4uK1KIKGOuPDNWr+uLRasSrVvqywfvvNCyKbjK9W68dfe+krHfrfaKnVDYRk6sJdP8elLqMNMvmvn1spsvrnPWXirXWsLp3bfD50kz3b5wCoSeN/v3LG5skZ43l2WWDKIBND38+EybeafNq/6uOeP3u2srAiaJZZb5X0kMgIU6omsQ3g78UaAQt1ATaFuwGCWBBwQoFB3AI1VopZArAh1CFaYUC9autrdF9mzZZYVaq19YeXQLJQ0bPQ0Lbz37jvoruZPqMPT+zsffC+DVLx2K2XKmEE5E+sl991dS7BOPdg0989l0u3tfrZnQF1/Qv2cmo0eOXaGMvfvbbvEqy+2kTdeaSdwzBZKOq4c4n2k1vfD/N9KuP/+n3eTFmr5QDrltd1MvoR61Upl9TKDendUN0/1m8cShXkLlkvd++y+Cp5Vgyv91CBLYkpwvvfxl8Nlulom4Bl27pUXHlfm+u0lU6bQmCem5+O9RJYAhXpk+bL1xEuAQt3oGwp1AwazJOCAAIW6A2isErUE/An1bl2eCNszIXTVn4tWCISOmcJp+g6z7bf7DLR5Ecc6+yljPtWh0czrxpVf/882adbmdeUYbpv7VH9CHZ7bX3njc70u3jq5WuWyyqHYm1L5ptJWUVBbeBF/redXKrzbDNv5/oT6wUNHped7A/VMvFUBZuMfvtNJnmj1gFUU9BaieeioqWq9++c6dJtV8eknmsrb3Z7WHt2tMmx9CXU4z/uq76tSvmzcZu9WW/ASX7LSg9au3iY2oa5n0r/wLdJbPXavfKQsGPL5WB5geyjuJGkCFOpJuvuT9MNTqBvdT6FuwGCWBBwQoFB3AI1VopaAP6F+aPvssD0T4nXDu/fIH6fb2gynUH/nw+/lM+Xx/fiJU+5rPNOuqRaNiOMdSkJosdvvfkrMeOb+hPrUGfOl40t9ZM/e/2bfG91dWz5+70UdFi2U68IM/FW11v3zb+we9/0JdYQ3a9vhbUFoOStVuamMNhlvUO8Wqyik7a+/LZKub34hWDNvpfvvqS1ffPiKwEGdmXwJ9Yeb1JfB/d+SjCGEVoNVQtHy95tNS8tm98gXH70iOVTM+4RM6JO5C5ZpZ3/zVZx6z5n0Ni3uk+6vPClYIsBEAoEIUKgHosNjsUyAQt3oXQp1AwazJOCAAIW6A2isErUE/Al118m/w/ZMiCsOr+SYrTVTOIX6sy99IN8OmSCIKW4lhPjqpJyhQWSHmp54tpda7z5Tzp+/Ft/cn1AfOXa6PNGhl83be8cnH5Y3uraTAnF4mfd1T1/2H6M8yH+vwpf9t07dn1DfvGWXNG7+ss3xXWZlel20cH6vcGi+ruWrDAMd8M5vCtKbq5WXIQN6SdlSRW1VfAn1Vioc3PDv3rWdF9eOL6He+L47dIi24h6DA3G1Fc7j8OCPEHK9Pxqkw+jBMsRMbVs20o72SpYoLMmS+Y41b57PfNImQKGetPs/KT89hbrR+xTqBgxmScABAQp1B9BYJWoJxIpQxzptOCUz06gf3pNmTe8KGBrNPN/Mv/BqXxk0bIrAuRySP6GO9extnnnLrKpmWNsJnMkhTFmo6bshE7X1gbk+3p9QX712s9xct43AAiCSqXLF0jLi+3e9vLhHUqjff8/tWqjfEKS3/nA/PxwDjpv0m16vD8sFzKxbKX26tNK+TRPp1OFRwUCCZ3x66zxuScAkQKFu0mA+KRGgUDd6m0LdgMEsCTggQKHuABqrRC2BWBbqPw7pIw81vtORUP+i/2gd9uzosZO6b0MR6m++2l57PXditv3z9HkqTNs3NtNzf0J95ZpNUrlmi4h/9pKaUEefwzkgYtvv//ewO046QEOkYyCm3eMPSJ7cOZRI50x6xD+AMXIBCvUY6Ug+RsgEKNQNZBTqBgxmScABAQp1B9BYJWoJUKj77jrEZO/53gCB2T5SfAn1X5RHcYR6W6VEuJUo1C0Skd8ePnJc3vt4kAz4/icd5s/lcrkvWjB/Hnnp+RbyuHIeB2sJmru70TATBAEK9SAg8ZSYJEChbnQrhboBg1kScECAQt0BNFaJWgIU6r67LlqFOryut2vVWM32Zvf9YA5KM2VKLzeWu8HLQVysmb5jJr1D5/eVybu3I8UC+XLLe289K80fbiipU6dyQJFVkjoBCvWk/glIus9PoW70PYW6AYNZEnBAgELdATRWiVoCsSLUn+n8nnw3ZJLNTHmkWqP+qMM16t3f6SdfDxwrp06d0X3rb0Z9hAoL10Z5XkdoMyt1f1mtUVczr07WqCPM3FvvD5TtO/ZazfmNo45Z96q3t7I50GvSqI70eet5KVO6qLt+pDKxItQxa7556y5p2qKrrFOh+cyE9efVq5ST3j2elfp1bzYPMU8CIRGgUA8JF0+OIQIU6kZnUqgbMJglAQcEKNQdQGOVqCUQK0Id64k//GyIHDh41N0XiMX9uQorFmp4NjSAkGvDRk2Ts+fO6/b8CfXZfyyVTq98JP9s2qHPw38P3Hu79O3dWYXsKuIuCzbT/4ef5F0Vag5ro63kz/R96/Y90vyJ7rb49DWq3Sgf9Hpe6tSuZlWP2DYWhDoGWDZv3S1NW3aV9R4iPbUK61e9anmBz4G7698aMY5sOGkQoFBPGv3Mp/QmQKFuMKFQN2AwSwIOCFCoO4DGKlFLIFaE+qDhU+SdD7+Tnbv2u/viwfvrypjB74dsqnzx4iW5+8FOKn72cvdMuT+hvmDxKunS7VNbzPVat1aSfp++JhXLl3TfSzCZyyocWI/eA+TTr0bKxUuX3FX8CXWENXvq+d4yS4UQs1KJYgWVUO8kDze50yoKaYsQZLAiwEwyhGqaNKn1QIev9dixINTXrt8ij7btbhPpeNZ0adPIHbWqaJF+W42KITHkySTgiwCFui8qLEsKBCjUjV6mUDdgMEsCDghQqDuAxipRSyBWhPrcP5dLl+6fqnjX/7j7Al65Vy4YJXnz5HCXBZNZtnKDtGrfwzZL7k+ob1KxzOF07sfxM91NZ8uaWcUSf0fPwqZIEXwM92079shrPb+Sn1RYMDP5E+oHDh2Vnu/2V/HjJ7pPx/rpHmoGuEunltpDuftAEBmYgP+5eKWMHjtDCfQ0kj9fLilSKK+UK1tcShYvpEW72Uy0C/U9ew9Iy/ZvyrwFK9yPBZGeNUsmbRWB8GtVK5V1H2OGBK6HAIX69dBj3WgmQKFu9B6FugGDWRJwQIBC3QE0VolaArEi1A8q0dqpa1+Z+PMcW8zrL/t2lU7PPBp0/1y5ckU++nyYfPr1SIEHcCv5E+qnTp+Rr78dK70/+kHOnr1mJo86L3R4TLp3bSd5cgXn1A0m2BN//kPNqPeXDRu3W5fVW39C/dy5C3qAoIMy0zdjqdepVVU7PrulesWQwofBw/2Hnw+Vvur5zfRMu6by1utPS768Oc1iiWahfvz4KXntrS9l8Iif3Z8XpdGVSM8szR9pKG90fVLyezyv7eG5QwIhEqBQDxEYT48ZAhTqRldSqBswmCUBBwQo1B1AY5WoJRArQh0dMHjEFHm7z7eya/e/7v4oV6a4TPnxU4FJeDBp4+ad8vQL78mfi1a6zd5Rz59QxzHMyL6uRN+ipWuwq1PRwvmU+fvr2gFZ6lRxewnHmvTefX9QDvEmuoWj1ZY/oY7jcCjX6qkesnb9Vut07Z29c8fm8kLHxyR3kAMFl9UAxe9z/1Iz+l/KytX/hYbLmiWjfo6HHqgXMzPql9QSg+8GT9Rh8E6cPO3mllaZu8Or+3s9n/UalHCfxAwJOCRAoe4QHKtFPQEKdaMLKdQNGMySgAMCFOoOoLFK1BKIJaG+d98hee7lD2T6rIWCdeZWat+miV63nSN7FqvI5xZi+fNvRskPw6ao+On/zabj5EBC/djxk3oG/otvRsup02fdbTe6u7a+blnlgR1rvv2lEydOyxhlOv/xl8Nly7bdXqcFEuqHDh+TT74aof6NFKxxt9INylT99S5t5ZEH60vmTBmsYp/bq1ddsk05psNsOhzomevj77+ntnaMV7pkUa+60TqjvlwtbXj8qZ6yQTkAtOKkp0iRXDvg+0pZYJQtXczrWVlAAtdLgEL9egmyfrQSoFA3eo5C3YDBLAk4IECh7gAaq0QtgVgS6uiEUeNm6HXeWH9spQzp08mLzzWXhxvXl0oVS1nFti08qA8dOVUGqVn5vfsO2o5hJ5BQx3Gs7e721td6Jh77SHDE1urRe9S/e+X2mpV9inWY12NN+gDl7X3V2s3XKnr8H0iow2R+yd9rlUO7z2TxX//N6KOJmyqUko5PPiRwqpcrZzbx5RAOAxqr122RISN/llFqbToGHayEgQ04pmvxyN2SPn1aq9i9jUahjkEI+AH4Yegk26AK+rd+nZvljtpV3c/nNJM+XVqpfVtlqVyxtNMmWC8GCVCox2Cn8pGCIkChbmCiUDdgMEsCDghQqDuAxipRSyDWhPrRYyf1Ou+ho6bKmTPn3P2SMWN6JZaryD133SYVyt8gBfLl1sdOnDilY2f/psKszZi9SLDWHQkiGyLWmnGNS6ifVtf6Ydhk+UTNiu82BgnSpE4t1aqUFcyuQ7iVUDPdSFhTjpBuC5TA/3n6PDWTvkeXI5ScS81wwxTdSoGEOs45rWbxf54xXz78dIiX2C+uTP4b3nmLwBN9sSIFdGx3CHYI/N17/tUm87BAwECDyQtis6UaZOimZuWLFS1g3YptG41CHUsE2nZ8WzsdtPrW9lBh2MGgyDtvdJAOapCEiQQsAhTqFglukxoBCnWjxynUDRjMkoADAhTqDqCxStQSiDWhjo7AOvM3evXT4tU0gYf5OWaJSxQvKLlyZNN9dvrMWdm+Y5/s+/eQ21y+fNkSkkZ5T0dcbYQrQ4pLqOOcvfsPyZf9x8ig4ZNtjuhwLJMyP4fn9AL5rw0QXLp0WXbs2qfX01ux2gsVzCN5laf6bTv2KtP7E6imU1xCHSfBfH7yL3/o0G6eM/MQ/0XUmvl8eXJqj+Y4HyL1wMEjskuJdTP2PI7hfMQN7/Fae+313J/ZfjQK9e/VTPrb7w/UfYVnjUSiUI8E1ehvk0I9+vuQT+CMAIW6wY1C3YDBLAk4IECh7gAaq0QtgVgU6uiM1cqMHKJs6OhpctJwGBZXR91YroS89lJb5VhtqYydMFvOnL02Kx+MUEfb23fuk9HK/B5x3ZHHzHUwqWCBPALv6levXNXh1kzz+2CEOq4Bsf7LrAV6sODvFRtsa9aDuQecg/XsTRrVkeeebiY33VjSy4Gc2U40CvWOykM+1uFbgyPm84QrT6EeLpKx1Q6Femz1J58meAIU6gYrCnUDBrMk4IAAhboDaKwStQRiVaijQyB258xfppy0DVPe0X2v/7Y6DjPolW4qLS8+20Lua1hL3ninnwxSTuVCFepoD+vO4QH+m+/HyR/z/nbPylvXMrcpVZx1mKc/2bqxtGlxn0z5ZZ70+uA72zr5YIU62oUZ/NoNW2XS1D9kwpTf1ez8PkHIubiSdR+tHrtHWja7R+C13t9MutVWNAr1xo+9rJcaRMrsHWwo1K1PCLcmAQp1kwbzSYkAhbrR2xTqBgxmScABAQp1B9BYJWoJYE32zl37vcQknGGFKyEcFszLYWptpsKF8kqRQvnMIq/8/IUrbGVZs2TSa8xthQF2YLq+ecsuWanCmGEt+DolYtf/cy1OOUy8YQ4Op2sNlal3rVtukhtKFBI4n5sz/29Zt36b4N6RkidLLp2ffSzAleyHYHK/U4WJw/WmqvXjq9dtlr+WrdcnJU+eTLJny6KfAzHPG6g15CVLFNZm+WuUYzc4hcOadyu1aX6fZI/DY711LraYxYfpPAYqflMh1yDcN23ZKRv+2SHH1Zp8iFSsU8+WNZP2cA4v51UqlZFbb64ohdTMflze8a1rXb58RQ1IrLZ29Rbh4EqXLGIri2sH6/WXLltnOw33gLXx6VTItHCmdRu2ydFj/y0rCGfbVlvmUgOrjFsSoFDnZyCpEqBQN3qeQt2AwSwJOCBAoe4AGquQQCInAMEOgXb27Hn9D7ebTAlmxDjPkCGdZFMDAPBsbnlGh3i8pISoUrXuJ4NDulAT1qIfVZ7UzyoT+lOnroVuwzVgSp9eDQhkyZxBm5tbs9c4H57J4VDOSrgv67hVFuz21Okz6toX5Nx5PPcF5aRODTyg6WRq3X2KlOoe0ggcx4EBBiiYSIAEIkOAQj0yXNlq4idAoW70EYW6AYNZEnBAgELdATRWIQESIAESIAES8EuAQt0vGh6IcQIU6kYHU6gbMJglAQcEKNQdQGMVEiABEiABEiABvwQo1P2i4YEYJ0ChbnQwhboBg1kScECAQt0BNFYhARIgARIgARLwS4BC3S8aHohxAhTqRgdTqBswmCUBBwQo1B1AYxUSIAESIAESIAG/BCjU/aLhgRgnQKFudDCFugGDWRJwQIBC3QE0ViEBEiABEiABEvBLgELdLxoeiHECFOpGB1OoGzCYJQEHBCjUHUBjFRIgARIgARIgAb8EKNT9ouGBGCdAoW50MIW6AYNZEnBAgELdATRWIQESIAESIAES8EuAQt0vGh6IcQIU6kYHU6gbMJglAQcEKNQdQGMVEiABEiABEiABvwQo1P2i4YEYJ0ChbnQwhboBg1kScEAgFoV6vjzZpGPbBpInVxYHRFiFBEiABEiABEjAKYEzZy9Il55DvarnzZtXGjduLFWqVPE6xgISiBUCFOpGT1KoGzCYJQEHBKJZqG/YsEHGjRsne/futT15urSp5YWn7pFihXNLsmTJbMe4QwIkQAIkQAIkEDkCq9fvlH6DfvW6QP78+aVp06ZSoUIFr2MsIIFYIUChbvQkhboBg1kScEAgmoX6zp07ZeLEiQLB7pkea3Kb1KxRRlKnSul5iPskQAIkQAIkQAIRIvDTz4tl1tzVXq2XKlVKWrVqJXny5PE6xgISiBUCFOpGT1KoGzCYJQEHBKJZqB8/flymTZsm8+bN83ryyjcWlVaP3C4ZM6T1OsYCEiABEiABEiCB8BO4dPmK9O03RXbuPmRrPFWqVFKjRg1p0aKFpEiRwnaMOyQQSwQo1I3epFA3YDBLAg4IRLNQv3LlisydO1emTJki586dsz195ozppM1jdaRcqYKSPDnN321wuEMCJEACJEACESCwcu0O+WHk73Lx0mVb61myZJG7775b6tWrZyvnDgnEGgEKdaNHKdQNGMySgAMC0SzU8bhr167V5u979uzxevqSxfPJ04/Xl8yZ0nkdYwEJkAAJkAAJkED4CBw4dEIGj54j23cd9Go0X7588uijj0rZsmW9jrGABGKJAIW60ZsU6gYMZknAAYFoF+qHDh2SSZMmyd9//+319CmSJ5cGdStK47ur06mcFx0WkAAJkAAJkEB4CGAGfezkRbLor41y+cpVW6MwdYcDuTZt2kj69Oltx7hDArFGgELd6FEKdQMGsyTggEC0C3WYvy9ZskSvVT98+LAXgQzp00jrZndIJbVmnYkESIAESIAESCD8BBYqgT5p+l9y4uRZr8azZ88uDz/8sFStWtXrGAtIINYIUKgbPUqhbsBglgQcEIh2oY5HPnXqlEydOlUWLlwoFy9e9KKQNUsGubteJbmtWilJkyaV13EWkAAJkAAJkAAJhE7gzJnzMnveGlmyfIscO35arrpctkbSpEkjt956qzz00EOSOnVq2zHukEAsEqBQN3qVQt2AwSwJOCAQC0LdpV4Mdu/eLWPHjpXNmzf7pJA+XWopViSPNLmnuhQukNPnOSwkARIgARIgARIIjsDGLft0GLYt2/+V8xcuiodG10vOChQoIJ06dZKsWbMG1yjPIoEoJ0ChbnQghboBg1kScEAgFoQ6HhtifenSpfLzzz8L1q37SvD+njlTeql5c2kpW7KAFCmYS43wM866L1YsIwESIAESIAFPAufPX5Rdew7LqvU7ZdW6nXLk2Cm5etU+i27VSZcunbRt21YqVapkFXFLAjFPgELd6GIKdQMGsyTggECsCHU8OszeR48eLXimS5cuxUkD3uBLl8gv2bNlivNcnkACJEACJEACSZnA8ZNnZJOaRT924kycGJIrZ641a9aUVq1axXkuTyCBWCJAoW70JoW6AYNZEnBAIJaEOh4fDuUg1jdt2uRzvboDRKxCAiRAAiRAAiQQJIGUKVPKTTfdJK1bt5a0adMGWYunkUBsEKBQN/qRQt2AwSwJOCAQa0IdCC5cuCC//fab/Pnnn3Ls2DFllmcPFeMAE6uQAAmQAAmQAAkEIIAwbAi/Vq9ePbn33nsDnMlDJBC7BCjUjb6lUDdgMEsCDgjEolC3MMCxHNas79q1S86dO2cVc0sCJEACJEACJBBGAhDoJUuWlPvuu0+KFCkSxpbZFAlEFwEKdaO/KNQNGMySgAMCsSzUgQOz6zNnzpTly5fLiRMntGDnDLuDDwqrkAAJkAAJkIBBADPoMG2HR3fESMdMOhzIMZFAUiZAoW70PoW6AYNZEnBAINaFuoVk586dsnbtWtmzZ482hz958qScPXtWC3kKd4sStyRAAiRAAiTgmwAcxEGYY/Y8U6ZMkiNHDkH4NaxHz5s3r0C4M5FAUidAoW58AijUDRjMkoADAklFqFtorly5Iv/++69AuCOM2/Hjx+Xy5cvWYW5JgAQSkMD58+dl48aNegAtTZo0WgAk4O3w0iRAAgaBVKlSSbZs2SRXrlxSqFAhyZ07t6CMiQRI4D8CFOr/sRAKdQMGsyTggEBSE+oOELEKCZBAPBH4559/ZMiQIdrqJUOGDNKtWzctCuLp8rwMCZAACZAACVwXAQp1Ax+FugGDWRJwQIBC3QE0ViEBEogIgQkTJsjcuXMFM+tIDz30kDRo0CAi12KjJEACJEACJBBuAhTqBlEKdQMGsyTggACFugNorEICJBB2AkeOHJEffvhBtm/f7g6pWKJECXnppZdoXht22myQBEiABEggEgQo1A2qFOoGDGZJwAEBCnUH0FiFBEgg7ASWLl0qmFE/duyYu22sf+3cubMO++QuZIYESIAESIAEEikBCnWjYyjUDRjMkoADAhTqDqCxCgmQQFgJwKHjmDFjZMmSJXLx4kV328mSJZOGDRvKgw8+6C5jhgRIgARIgAQSKwEKdaNnKNQNGMySgAMCFOoOoLEKCZBAWAns2rVLRo4cqaMxuFwuW9sI+9S1a1fJmDGjrZw7JEACJEACJJDYCFCoGz1CoW7AYJYEHBCgUHcAjVVIgATCSmD+/Pkybdo0m9m7dQGEaWvTpo1UrVrVKuKWBEiABEiABBIlAQp1o1so1A0YzJKAAwIU6g6gsQoJkEDYCJw9e1bPpq9YsUKuXLni1W6KFCmkWrVq0q5dO69jLCABEiABEiCBxESAQt3oDQp1AwazJOCAAIW6A2isQgIkEDYCGzdulJ9++klg/u4v5ciRQ1588UXJnTu3v1NYTgIkQAIkQAIJToBC3egCCnUDBrMk4IAAhboDaKxCAiQQNgIzZsyQWbNmyenTp/22mT59emncuLHUqVPH7zk8QAIkQAIkQAIJTYBC3egBCnUDBrMk4IAAhboDaKxCAiQQFgIIxfbjjz8KzN4DJZi/lytXTp5//vlAp/EYCZAACZAACSQoAQp1Az+FugGDWRJwQIBC3QE0ViEBEggLgdWrV8ukSZNk7969cbYH8/fWrVtLmTJl4jyXJ5AACZAACZBAQhCgUDeoU6gbMJglAQcEKNQdQGMVEiCB6yYAx3HTp0+XmTNnyoULF+JsD+bvd911l9xzzz2C+OpMJEACJEACJJDYCFCoGz0SbqF+4MABOXPmjHEFkUyZMglG8pMnT24rD2Xn0KFDev2dZ3xYhJ0pUKBAKE3ZzkV7p06dksOHD9vKEW82e/bskjJlSnf5li1bBN51rYQXnQoVKli7EdsePXpUjh8/bmu/YMGCkjp1alsZdxKGAIV6wnDnVUkgqRPYs2ePTJgwQdatW+eFAqbunh7g8Te4ZMmS8tRTT+m/y16VWEACJEACYSKA93ZogqtXr4bUIt5tzfdb/JZhH+/c0BMZMmQIqT2eHH0EKNSNPgu3UO/Vq5eO5WoK6rvvvltee+01gfh1kvCy8frrr8uff/4ply9ftjVxww03yIABAyRLliy28mB3zp07p9f39evXz1YFTneeffZZLdatA7fddpssWrTI2hX8eHjej/tgGDNffvmlDB8+3NYi1iQWL17cVsadhCFAoZ4w3HlVEkjKBPA3dtmyZTJ58mQ5ePCgDQUEOf4+bNu2zeslOWfOnPLwww9L5cqVbXW4QwIkQALhJPDxxx/LW2+9ZZvgCqb9/Pnz6+gU1kQZtAPK8LtWo0YN/S9fvnz6HFPQB9M2z4kOAhTqRj+FW6h/8MEHgn8nTpxwX6VmzZoyZcoUm+h1Hwwis3v3bsF9bt261evswoULyzfffCP33Xef17FgCjCT3rFjRx3axjo/Xbp00qNHD+nWrZtVpLcJJdQxyPHRRx/Z7mXt2rVSvnx5Wxl3EoYAhXrCcOdVSSApE4DlGszef//9d6+Z81y5cknFihVl4cKFgsFoM+HvW+3atbUHeOtF2DzOPAmQAAmEg4BToR7o2phVx+9bo0aNBJOA1atXl0KFCumJs0D1eCy6CFCoG/0VbqGOWK4Quf/884/7KjAhh5hxOgM8btw46dSpkzahcTf6/0y2bNmkS5cu8uabb3oeCmofpoN1VLgacxCgdOnS0rt3bz3rYDZCoW7SYN4iQKFukeCWBEggvgjs2LFDJk6caPtba127Xr16WqRjiRSWbHmmEiVKaKdyefPm9TzEfRIgARIIC4FICHXzxvD+D+vXli1bys033yyZM2c2DzMfxQQo1I3OC7dQX758ubz88svyxx9/GFcRvY4OXygn69QhxL/77jufMWIxI4BRNZiCw1FOKAnrZhYvXiyY8TdTgwYN9Az2TTfdZBYLhboNB3f+T4BCnR8FEiCB+CSA5WBLly7VQt20XsM9wBS0SpUqOlzbI488IiNGjPC6NfiMgRWa598+rxNZQAIkQAIOCURaqOO2sAQVvqJeeukladKkCcW6w75KbNUo1I0eCbdQx0sDhPqwYcPk0qVL7ithxrtnz56SKlUqd1kwGcSIbdq0qcyfP99t3pc2bVo5f/68uzpM/AYNGiRVq1Z1lwWTgZfcTz/9VLp37+4+HV/6J598Uvr27ev1hadQd2NixiBAoW7AYJYESCDiBOBcdNq0aTJv3jyva8FyDaHa8Pftzjvv1NZsJ0+etJ2Hv8O33HKLthrD31MmEiABEgg3AV9CHRa2zzzzTNCXgtXr6dOn5d9//5V9+/bJzp07fdbFxBqWq8Ikns7mfCKKqkIKdaO7wi3U0fRnn30mH374oc1UHaP348ePF3hpDyXNnTtXe6jdvHmzuxpmvBGOxkow74PDivbt21tFQW3x5X/88cd1DFqrQp48efSXvXPnzlaRewuHbmasWlgHvPrqq+7jkcpwjXqkyIanXQr18HBkKyRAAsERgDn72LFjfb60Pvjgg9qiDYPcSLfeeqvNCap1BQh6zLg7XZJmtcMtCZAACfgi4EuolypVSjZu3OjrdJ9leOc2hfqSJUtkxowZXm1gkg2/ddAC0DXYZ4peAhTqRt9FQqhjpB9e2uHwzEowtcOXE9tQ0ieffKJFP8I8IMG8fdKkSQKxbiU4x2nTpo3079/fKgpqi1kJmAhu377dfX6lSpW0M7yGDRu6yxI6Q6Ge0D0Q+PoU6oH58CgJkED4CFy8eFELbwx8e8ZOR+iiYsWKCQa2LSdyXbt21RZinneASCmIp453ACYSIAESCDeBcAh1z3s6cuSIdqAJJ9KeS2wxEYiBSljvli1b1rMq96OIAIW60VmREOpwzIY4rQBtpgULFuh13mZZXPnmzZvrmXjLjB7m57Nnz9ZfQtME5vbbb9fm73CSE2xasWKFDvNgtY16WO+OHwC87CSWRKGeWHrC931QqPvmwlISIIHwE0Ckkp9//ln7V/FsHcvA4GTONHXHYDRebs2/l6iHGadq1arpF1s4ZWIiARIggXASiIRQx/1hsBLLYd977z0vnYHfMiy1hYUtncuFszfjty0KdYN3JIQ6vkRw7DBkyBBb/ER8qcz14MZt+MzCczxmyuE0x0qvvPKKnmFHjPOBAwdaxVKuXDldjvUpwSTEoEV88hdffNF9Ota1PP3003pGPTHFZqRQd3dRosxQqCfKbuFNkUBMEoDZ+9ChQ71ip+NhW7RoodetY12nlRDO6N5779Vr2q0ya1ukSBHtgAl/P5lIgARIIJwEIiXUcY+wJkJoyjfeeEM7zjTv+4477tD+pzBIyRSdBCjUjX6LhFBH8/DS/s4774j5wnD//ffreOrG5QNmYdoHE3ozvMzUqVP1S8dvv/0md911l7s+4ipCxAe7Zhwe37E+fdSoUe42ihYtqte3tG3b1l2WGDIU6omhF/zfA4W6fzY8QgIkED4CZ8+eFfhtwYw6PL+bKX/+/IJlYPib62kSnzNnTjl16pRXOc6HFRn+lnJNp0mTeRIggeslEEmhjnvDbxp8R0GsYymrlbBEFtdu3bo1HctZUKJsS6FudFikhDpeJp5//nnbOnXMWMMpRLAJAhXrzvFlRMqXL59uD14jDx48KPDyCE+QSHjJePTRR6Vfv36SNWtWXRboP7zkYDbBdA6HOIy4nr9ROKy597x/eM4NNWEJALz1rl692s0HXngRYgJr5BHXvXLlyu5mwynUcU1YKKxZs0b/gxklrAuQsKwATPD8tWvX5g+cuwcCZyjUA/PhURIggfAQgK+WcePGyapVq7waxN8imL1bfxPNExDGFLPm+P03E2bb8TcHYY0YU90kwzwJkMD1Eoi0UMe7KyxvYeo+YcIE2+3Cuqh3794hL2OFE07M1FvvyFgyZA18lixZUkqXLq2X3tavX19rEvyGhithGe6vv/6qdQGuj0lKDM4iFShQQG688UaBMz5YDGCZL37XI5GmT58uGzZsEETxwj0VLlxYXw/Xhw6Lj0ShblCOlFDHhx1OHSDYzYQPHzo7rnT06FF54okn9MyBJSThoRajZ3AYcebMGYH5O8LAWalWrVoC53MQ3HGllStX6nBumFm3Eszm8WX3F0IO5oN///23dboeHNi/f797P64MPngYSFi0aJFeQ4glAviHhC87zO3xD57nMeiA58MsSTiEOpxuwMoB1wZb69rmrAzC9OCLj9FIvNRhGUDjxo1Djk8fF4dYO06hHms9yuchgcRHAH+r8PKEwWTTrwruFH+z8A8vlOZvuvUU+JvpL6Y6XgDxtxoDxUwkQAIkEC4CkRbquM/Lly9rHfDcc8/ZwjYXKlRIfvzxR+0JPtjnwbscQsftUAOe1jsy2rc0iPU7i/f03Llz6/f0F154QWCxdL2pT58+2uIYjkDxO47r43feujbezXFd3AMmKxFJC5OhN9xwQ9DWUF9//bV89NFH7ltFG7BGQOQsTFpiOfHEiRMFugbXt/QRro1/cAYOz/rQJ5jMy5gxo7utcGco1A2ikRLq+HDhi4O1dNaIEC6LuOVYvx5XmjVrlsBbrTlzgA8yzNvxgcGHCC8s5hpzOIBDaAasa48rIU66aSaPL1qXLl10aDZ/dZ3GUcfzf/vtt3pN/K5du3y+SJnXhGiH9QGWCmCkEAzNLxfOxex++fLlzWo+85gxByf8w2wMXuKsL77PCv8vROg5WCbg5Q73gC8yk28CFOq+ubCUBEggfAQwOI3ZFvzzTJhdwewHfu/9JQzEQrDjPDPh7w28vyPSCWOqm2SYJwESuB4C8SHUcX9//vmn1gYI3WYl/K5hIg/vsPjdC5Twm4hzoQuwdCiYd2S0D9GMWfYRI0Zoy6RA1/B3bN26ddKuXTvB5CEGBSxx7O98lOPa0EGwgEU4bPx2417iSu+//74W5tZ5YINnhgNwaKlNmzZpbeXv+XFdWC/DSR/EOvRYpMJ7UqhbvaS2kRLquMQPP/ygwyTs27fPfcXHHntMRo8e7d73l8HIDsxWzDXu69evlzJlyugPKerhw4XRJCthtAmDAB988IFV5Hf78MMPa2/y1gn4sOED27RpU6vIa+tEqCNEDu7nq6++EiuurWfD+PBbyfMLghcoiGszbjzODUaoY2QOAxeBeAe6tnVPMMX/8MMPg7JUsOokpS2FelLqbT4rCSQMASz3+v777728t+Nu7rzzTtm9e7d+0fJ3d1iPjiVVCxcu9DoFVm4wf8csFBMJkAAJhINAfAl1hH5GSLaxY8fabhuTTNAEmIH2lzCTDK0xYMAAn6cE846Mia1BgwYFNUloXgTLmDCDH4w2QD1PfWC1hUlMTDRCAwVKnkIdOggz43i/N3Wa1Yb17P6u++STT2ruMI0Pd6JQN4hGUqhjPRyEOcz1rASnb1hDhw+2vwRhCrNrfPCthLAzcCBnmpjAPAMfNPPFA6baENwY5fKX0D7aMZ1PVK9eXZvJBArLFqpQx+gYBhzw5TC/BPjwY+YC94iBAawRxAw61tpgtgQfUAj8QCNrcQl1zNzjuqZnfPDAKByujX6HqSPC2mG0ESwQ9m7y5Ml6/T8sFsyEZQFoj+aRJpVreQp1byYsIQESCB8B/M3CsjFYRnkmLFXCcWsdpedxa9+ykMISKM+EY82aNdP+SayXM89zuE8CJEACoRCIL6GO5ZyYEMO7v5kwY4zlsP4GIGFlins0LVahTfBODCslvCdjcBO6AO/kCOmMd2RoGvirMgUs3uFh/Yp3+rh+Q1EP68Chc0w/Wbh3XBvLXzFJhwFU/MP7OPQBnIguW7ZML53Fb76ZMNCA9gJd21Oow4wdgxzgh4Rnx98T+DvBOnhY0sKSCxYL0CUI8wldYyaE4u7Ro4c+N9C1zTrB5CnUDUqRFOq4TB01G4t4h5bohFCEyIRDBn9p+fLl2qQCHWUlmNFj1ChTpkxWkTbhw0gYvmhWguhFGDisJ/eXsE4bottKEK4w4xiiwskFSqEIdXwR/1DrwhGObvHixe5m8UWAuQrWnWM0CjzMhJctCOZevXppxz/+Xr4CCXX8gOAHA6b95rID/JCACzzpwxGfp5df3DN+ND7//HNtDQFzIOuHCD8euOeXX36ZsSnNDlN5CnUPINwlARIIKwH8jiMKCl6YIpXg+R0mlObf2Ehdi+2SAAnEPoH4EuogiXDLmD23tAbK4BgZkZ186Q28W8MnFYQmxKiVIIzRTvPmzXUUDavc2uJczIRjYABWvZZwhUgtW7astn6F349ACU7isEQXpvqm4IajNqx5x9pzX+u/z58/L1gWjAEJOIU29QHM0WE+H2iy0VOom/cI0/mqVavqtuHvy0x4RrSN/kTkLfw9srQBzoNe6dy5s2TJksWsdl15CnUDX6SFOkK0YV26tS4O4vCbb77RIz/GbdiycGYAkxWYuiNB3OLLBoc3pmkHRpkwwoSZAOvLCRMXYtYawQAAQABJREFUjO506tTJS4haF8EXrFu3btauYJYfZjP4cgRKoQh1PC/MSTCaZ85OYxYdDuXA3VOkm9eGNcLbb7+tR93w5fRM/oQ6OMDhXYcOHWyxJfHyhYEBmMf4G120rgEv++CN+9++fbtVrGfTUYaXOfQJ0zUCFOr8JJAACUSSwIEDB/QLlBUBJRLXwt8mzEBhIJmJBEiABK6XQHwKdawxx0SS6acDwvmnn37SzpHNZ4HIhFhG+DZzIg2TWdOmTdOzyeb5vvKw5IWOwOCppT9QH+/emFT0t2Yc7/N4t4e1q2nVC8fRsJh64IEHfF3OVgbrKkxIQjSbgwywMB45cqRNJ5kV/Ql13Cve67G0CrP5/hIGJqBfcA0sxbISNBS0GCyTw6UNKNQtumobaaEO0Q3v5VbIGHQiRrD8rQfByA3MUPDPEvf4ACOcGUxRPBMcMSAOrLmWvX379nrNib8PHL6c8B5vJYxAYQYaazUCpVCEOkKwYebanAHJli2bHvXDlykYpz34IUAbsEjwTP6EOr74cC6BARIrYXADSxAw+BFoSYB1PrZ4IQQTzKKbs/IQ+iiDx0umawQo1PlJIAESiBQBzLhg5gW/x5FMWMOOWaRq1ar5HeSO5PXZNgmQQGwRiE+hjtlxOKDetm2bDSJ+Oz0jQUEsQ4Ng5txKEKuwOJ00aZJVFOcWE2rQH2b0J/jNwuAArFZ9JbzXw0IYM9RWwuw5hDtCygWb4IMKkbEw0GDNymNWH5rDtBg22/Mn1HE+xDcGaeMyX8ezwpIZS5PNSUToPLQfrll1CnWj5yIt1CGgEW8Q6yCQ8CHAiwA+rL5mlLGWGybb+NBYCWs+MIrjK84rTLUxioYwDFbCM2FEq0aNGlaRe4t1JvCWbs0UY+AA6zRgToIXlUApWKGOwQaM7uE5sKbDSjB1wShYXGYx1vkQyBDdsADwjN/uT6jjRwovWzCLsRJGFdFGMCN1Vh1s4XEf5ixmiD34CoBjPKxtZ7pGgEKdnwQSIIFIEYB5I2Y6PGOgR+J6NWvWFPgjCeR8KRLXZZskQAKxRyCxCnVMaOF92JwEw4RdsFGjzJ6C6IaVsJVggo4yiFZfCe/isLQ1Z/6hcbC0KdQEnQMzeNMZHd7/YRHrK/kS6vBPMnjwYB3uzZ8VgGdbv/zyi17Wa0blgkM58AyXYzkKdYN6pIU6LgWTdZiTWLFfMbMMceNrhhwz5zAngZC3EmbXO3bs6HPNxsmTJ/XIGGZ5rYQPCky0MYvsmWAWjplzayQIjhMwA//FF194nuq1H6xQh5kivhBYM2MlzKDDiU8woSKsOtjC2zt4YN2+mXwJdQwQwOEeRvjMhAEC3A8sE0JJcDCBgQKMnlkJa9Uh1GGVgDwT16jzM0ACJBA5Ahjsxt8zcwlVpK4G50EtW7bU6xzjmlmJ1D2wXRIggdggkBiFOsze4RQO67HNhAFKxBkPdekPtAoGOK2EyT84YoPwhtYxE96p27Ztq83EzfLff/9dWzebZcHkIZShr6yJR9TBez5m62GO7pl8CXU8N6wLgp1ARJvQOLCuHTNmjNvsH+VwkOepP1DuJFGoG9TiQ6hDBMPs2poVhpkH1mK0atXKuJNrWYzs4FzLSzqENLws4j49nZ+hBtaGoEMfeught6k8RoUwMoaZdk8Tc9wLZrqtlx54f8eXE87k4krBCnV4ZcQ18OWzEma1hyhndZ4mONZxf1usCYH5O0xpzORLqMNcHSNs+GclsAZPcyDDOhbXFuY0sFRA+Air71AH+2iTsdWvEeSMelyfJB4nARJwQgAvlRhc9hU73Vd78GJsDUKbx2GOiJmeuBKs3PDihr9Xvv7exlWfx0mABEjAIpAYhTrea3FfeK+2EqxpMRmIme5QE6x0Ie7x22slOK+DFTDCZpoJ1qnQJdAIVoIDOcQv9+U8zjrH3xa/9XACisECc508tAaW2HomX0Idmgj+q7C+PpSECTzwMtfZI666p+f9UNo0z40moQ7PehFNderUiWj7aFytmXApUzqX6gT9T83EutRaEq/rqjXpLiVwXeplwX2uErYuFZbA61yzQDlWcCnzdXcdXKddu3aunTt3mqfpvJpld6kXEPe5yrGaS4Uy8zrPV4HnNdCOrzRjxgyXshZwXwP3o0ItuJRzPF+nByxT5u8u5RjP1hbaU0Ldq576oXDdf//9tnPVD4ZLxZb0OjfYAjXY4FJeMG1tqhEzl/INEGwTMX+eWmbgeuONN1wqNIbXv5h/eD4gCZBARAko/y769x6/+XH9U0urvH6D1MCq64cffoizrtU2/o6ol9mIPhMbJwESiH0CSrS51GSb7f2xVKlSEXlwNYPtKl68uO1ayj+TS02k2K6nLHtdamLOdp6ywnV9++23tvNC2VFr223tqdlpl7Kg9WpCTUS6lIm97Vxl9u5SYt/r3GAL1NpwlxpocLcJfaW8sPusjr8Plg7DVs34u5S5ukuJfJ/nByocMWKES63Ht7WnBnkDVQnpGLSHv+cIqaF4ODkZrqGARizFx4w6Znoxk4x16ngcmIbA/b+59hkPCE+GSvDYzELgoABe3H2tT7egwLkB1n5jBMtKGGXCzLJp3gLndLgPOGHAfWDGoEGDBoL1FsGkYGfUMQsNJw8YabMS9jHLH6pZDerD9B8jYZZzPZSplyq91h55K4EDnGGYTirgUA/rydUPmHVaSFtYNmBky3TWh7X/sIhAfEkmmr7zM0ACJJA4CGC5FRysmgkm7Jglxz8mEiABEogvAvE5ow7nZpitNmd4ixYtqvUEQq5ZCUtwoT9MP07wyYElsWXKlLFOC2mrJue0TyerEszOcS+elqyYbcb7vLk+He/R9erV8+mzy2ov0BaOq+Ewz1paDOfRmCE3181b9T1n1OGva/To0Tqik3VOsFuEn8YMumkdACvb3bt3B9tEwPM4ow71//8UHzPquJQyc/eayVbrKv5/F9c2yr2/S31RbCM0GIGKa7RJmX+4lLMdWz2MrKE9M6kPlm1mH6NQ6oNrnhIwH+yMunIkZ7sX9Wl0qS+sS4UzCNi+v4MY6cMIHdqx/mH2wzPBMgAjZNY5kdpihl39MHhePsnuc0Y9yXY9H5wEEhUBZcboc0bd829horpp3gwJkEBMEojPGXXlT8nr3VfFUfeyyFXOOV05cuTwOjec78t4D1cTjF59qsS7CzPe4byWZ1tq6a9L+RnxujYKPGfU1USlS01c+jw3rkJYMqu1+F7PEle9YI9H04x6TJi+o2NgegczFOtDpUacXCqcgrvPIMbV6JvNhEOFEnOp0APucwJl1Oy8zdwc11KzCy6IeCup9RQutQ7EfQ9qzV7Q7aON6xHqMI1Wo2jWrYS0VevTXWrNoPu+wdCXUMfAh8U3klsKdXv3UajbeXCPBEggYQhQqCcMd16VBEjAm0B8CXXlpE0vm/V874VJuueEIDSB53nh3vcn1LEMKdzX8mwvFKGunFu7duzY4d1xQZQo/1kuCH3P6wdRNahTKNQNTPE1o67ChtlEOESyivXtvhN8WLCu3Oz0Jk2auJSTBfc5gTJYM431EWZ95RzCpcww3NWaNWvmwofYOgfiN67ZendllUkooa5M812VKlVy3zfun0Ld7JmEzVOoJyx/Xp0ESOAaAQp1fhJIgAQSC4H4EurwYwXRab3bW1toALUk1IaDQv0/y9zrEerwAQZ/VRZra2uDfR070STUY2KNuupAgadFxE+31k9jHQXCCsC9PxI828JTOtYlWAlr0xHHW5mpWEV+t4gjCO+FyvmA+xysU8eakJtuukmvCVGDEqIcuun16Vi3pwYGdHxad4U4MsGuUR8+fLgOX2Y2h7X3L730UlDPYtZDHiEPunfv7maHMl9r1NVghw6rg+NWwtqcxo0b+wzVYJ0T6hb9Ub9+/YB+A0JtM5rPp9f3aO493jsJxA4BrlGPnb7kk5BAtBOIrzXqymG1XhNurjsHO6zTRnhiRI+ykjJ994oGBR9OaiIvbO+0CF0M3aEm96zL6m2HDh1k4MCBtrLHH39c+3uC765wJLSjrJF9hknzXKOOcNHQSE58Z8FTPXyIISS0mZQ2N3cd56NpjXrMCHX0FuLuIS43EoQyHLsp03a9j5iDymu2IM4gkjId0SJazapr53O6MMB/CE2gvJvrEAuWMwnlkVB/KeCoAV/kFi1auB0d4MMMQY2yYFNCCXU4e4AjOjjBs1KwQh2DFXC0h3A74Upgh7B34fphCdd9JVQ7FOoJRZ7XJQESMAlQqJs0mCcBEkhIAvEh1C9fvqxDH6voSLbQlHBsNnLkSO0kDnrDSr6EevXq1XWosXA5SMb1ECYaE5Jm8iXU8ZsNsY7QmOFIuDYcZXuGpkbb4RTqyopBnnvuOVsYalwjKQr1mFmjDgsImHCjH61/CNOwevVqF8KywcmB+oC5j8HMPFSHZQgzgHBuVvsInzZ06FAXwjGoUSyXipnuPoYQcAh7E0oK1vTdV3g2FdPQsdMGhHlQPzrue8fz+TJ9h4mP+qGxnaesGFyzZs0K5TF5bogEaPoeIjCeTgIkEBECNH2PCFY2SgIk4IBAfJi+wwT7qaeesr334h1ZzaT7XH998eJFl4pcZDsfTqxNn1kOHjWoKuAB/1yWRsFWWQ3bfGkF1ZDDkzydycEZnIrG5ai12bNnu+Csz3wWNeDhqC1flaLJ9D2mhDoEs9mpKuSa9tYOr4OIb24ewxfPVxx0Xx1qlWEdPL6cZjs9e/Z0HTlyxKXCFdjWyKuwbSHHDgxWqMOxnadgVqbiPsW1de+Btm+//bZLjY7ZnsuXUIdXeTWDbjsPcQ7VjHyg5nnsOglQqF8nQFYnARIICwEK9bBgZCMkQAJhIBAfQn3mzJmufPny2d57oQHgwBoe3j0ThPr9999vOx8TYSrksOepYd/HhGGhQoVs18a9nD17NuzX8tWgp1DHZKlajuzr1DjLRo0a5YLDb1NvQceFK1GoGyTr1Klj7EU+e+edd7o7Fp4RIUIhdDASY3b4559/7vNLFugO8aX84IMPbO2o9dl6xOiWW26xlXfr1i1QUz6PBSvUIaJxXfN5cufO7YKADzWpOOau1q1b29pCu76EOjxfqnjttnMRCsJ02hfq9eHMT8V9dCH0xZQpU3SoC9OTfqjtxeL5FOqx2Kt8JhKIPgIU6tHXZ7xjEohVApEW6pjkU76ubO+8eD/GTLGK7+0TKyYMlZm8rQ6cTCszbp/nB1M4YMAAl/Ij5UKEJrXMVlsJ+6qHWXvPCE5ZsmRxnTp1ytfpQZWpJb/62piQg/UsdIC/5CnUwUr5wHKp5QP+qvgtf/PNN21RtNBWnz59/J4f6gEKdYNYfAv1Dz/80P0FgWn6fffd55o8ebJLOXtwlxcuXNg1adIk4y6Dz6IeZpHxocG/8uXLu5RDCVt8dpjYI6Z6qClYoY4vCr60ag23+z5wL8rRXcAvka/7wWghzNet57G2voQ6PNhjFNHzuphlV876fDUfsAyC/Ouvv/a6Nn4YnZrLBLxglB6kUI/SjuNtk0CMEaBQj7EO5eOQQBQTiJRQVz6p9Lv0p59+6vV+imWtuO6ZM2d8klOOrV0TJ070ek+GObyTyTQsobXey62tcs7mGjFihNf18d6MyUpzmS/qYDIMzxRqQshnmO1b18UW1rcIRe0r+RLqL774ouvQoUO+TvdbtmHDBhdC35nXBfcFCxb4rRPqAQp1g1h8C/Xly5fbviD4kD3//PO2Dm/YsKEL5zlJWNeunMe528MAAMKymaYxMLl3koIV6mgb6/ExSGB+kLEPUYcfimDSyZMnXYi/jllxsx3kfQl1tIkwFcqDpe18hMLr3bu331E+X/eCH40VK1a4YLJvXhsjj4h3j3tjukaAQp2fBBIggcRAgEI9MfQC74EESAAEIiHUMfuLZbGYDMuQIYPt/RQCGEIY72SBEpbDwuzbfLdFWyoyU6BqXscwO486ZjuYKFOOp32uj0cDXbt2dWXKlMlWB6b3iEseSgIHvItnz57d1hasd6EDfCVfQj1PnjwuiGI8SzAJSweUAzwXdJT53OAequAPdD0KdYNOfAt1fBgKFCjg7mCISPMLgw+5CtPmUuHWjLsMPosvIJwzmCNWGAzImDGj+5rK03vwDRpnhiLUMcr2wgsvuJTXR/d18aFu3769a9euXXGOnmE2G6bmns4arC+GP6GOdeoY+PCcVa9QoYI2ywkmbjxEOjjC+iFdunS2+8cShYULFxpUmKVQ52eABEggMRCgUE8MvcB7IAESAIFwCXW8t+Lddvv27S5YmT700EO291LrvRjiEc6XISYDJcy2Y/mr53syrHGD1R4QyjBzhzC2ro8tlvQGWm46depUV7ly5WwaBfXgcDpYoYvJPqwth/Nsz2eAfy9/yZdQx7VVdC09UBDXrD64wmm3ORmK+pgQBfdg9IW/e/Msp1A3iMS3UMeHG0IZnevrX9asWXWHG7cYcvarr75yYd2Hr/ZRBlN4JykUoY72p02b5lKxFG33gQ801nFgbY2/LwV+ROA53lzP7/ks/oQ6vsAwPzEHP6y6tWvX1uIfXvb9XRv1sS4ea27MARW0AdEOnwIQ8Uz/EaBQ/48FcyRAAglHgEI94djzyiRAAnYCvoQ6nKnBxDzQv0WLFmkhqsI3u+bNm+caNGiQq2PHjnrtufU+67mFdnj99deDiuaE91+Yb3tavaLNd99917Vnz56A67ZhUYr3bE+hDNGMpar+ZrRBB2IWk2nm5CGui8lFTDLCKTZ0kr8EfQCL46ZNm3pNpGGQAJaw/pI/oY7rP/PMM/q+/c2sYx29ipmufQJ4TkDCIR6YhTNFk1CPqTjq6sMg6gsiSgTq+HvY90zKG7soh3CiTK49DwW9r5wjiDKLETXi5FVHiU1Zt26dFCtWzOtYXAXBxlG32lEjczo2Y79+/cSK7Y5jSqxLo0aNpF27dqLW44sK16CrqC+nHDhwQNR6ch3/HfG5kRATUX0BNDtdoP5TQl3Uj4y1a9uqHxFRHhl1zMTdu3fbjqmBA2nbtq2oQQdRI4GizH10PHS0j3vcu3evKJ8BMmzYMHdMezSAmJDKQYcoE3pRa3lsbSb1HcZRT+qfAD4/CSQOAoyjnjj6gXdBAiQg4iuOejBclOgWtVxV1Cy64D0ausFfUuJYv8sqj+NaV6hZcX+n2sqVYBa1Vl169OghShy7jylTclGz26Jm7fX7ubL6dcdDVyJZ1LpwUValorzEi3K2LGpyS9dVQluUGbmomXpR1rTu9nxl1q9fL2pZq6gJOVvsd7xnK0fUohxIS4kSJQTXtuKhKytbUZNkokS6DB48WNQEkSAmvJWgK3BdNRFoFXltPeOoe56AayOmu5ro09pAmejr+8N11aCJfPvtt6IGAmzVoKXwd6dBgwZuTrYTHO7MmTNH1Oy9qMhdDluIv2oxJ9SBTjlUEAhyfOg906OPPipq1Ed/SD2PBbuPL89rr70myrGcVxVlui1qhM794fc6IUBBqEIdTalROz3woLw9yunTp22tQ6Arb/RuwY0vIr4EGGBQs976XPxo4B9+sCDArRRIqOMc/JhAbCvrAtmxY4dVTW/xxVem8FK6dGn9Y4iBAKQtW7aIimuvf3x0wf//w/GKFSvqLwwGGJTTCPNwks9TqCf5jwABkECiIEChnii6gTdBAiSgCDgV6sHCUzO7oszIpVWrVqIsdfX7bLB1cZ6aJZYxY8aImvkXZeXqrop3XrVuXCpVqiTKAkDU7Lc+hvdwiGy8J6uQau7zkcE5Tz/9tJ7MwoRgXEl5pRdlIq/FujIpd58OwZ8zZ05RM/NStGhRUdbB+hgm0tRMvb62cljtPh8ZCPxHHnlEC2lMvvlLvoQ6nhPPZd0D6kOXqGUEoqxq9UAJdAye2dQguAbu75VXXtH8rfv0d+1QyynUDWJ169YVAInPBMGqwoiJCmVguyw+nMq0Wp599lnBh9VpwuywCiemZ5QxEmQmzG7jy+REbDoR6rg2vgC//vqr/lJChGPmPJik1tbLW2+9pb8oGLzAbLeV4hLqOA+jkPhRgYUCWJujb1Y7cW2VKY106NBBfxkxyonRSyY7AQp1Ow/ukQAJJAwBCvWE4c6rkgAJeBOIhFCHNsifP7+e9VYRiESZn+uJN6eaAe/Jau27tn4dMmSIYKY91KR8SenZeQhba+IrmDagDTCrr0zetTVtMHU8z8GEm/IwL7CWhWAPlHwJ9dmzZ4syadez4r4mT321h8k+DI5ApKtY6hHRBdEk1GHyHNEU32vU8TBYowEv5OoDYPunZtldStCG5XnhsMFzfTiup8ze/a7PjuvCoa5R92xPCW0XHD3Au6Tns5v76sum174ghIT6EXEpcxOv9eL+1qh7XhP7auTPNX78eO2J0nNtiXldM49QC+CH2Iy4Byb/BLhG3T8bHiEBEog/AlyjHn+seSUSIIHABHytUTffM4PNI9wZHJhhDboScDpyUrjfS+HAGfrD0yN7oHuELyx4fYdvJ6cJzwG/T/AGj3X2ga5nHsMa9zZt2mifUsFe29cadTjEwz0MHz7cK9SbeT3kEYFKTe5q/1vQcZFMXKOuiFspIWbUrWsn1S1mxjEChjUfGMlCwkw11rdg/TfWidxzzz16LTuOKedu2nzdMk1BGUz4A5m44BxfSTnwEOWoQ5uxYC08TF7Ul1SfmiNHDr0kASY3NWvWFOV8zlcTLPMgwBl1DyDcJQESSBACnFFPEOy8KAmQQIwQUBGbRE1saTNzmKdjSSiWpSLhnRuWrli6i3+Y0bfWkIfj8fGOP3ToUG2Gj2vDItaa5cZ1VOhl9zu6imOuNUMo1/U1o66Eun7ft9rB+nfMZsNfFtbBw1cAnhXLZaEJ4N8qPhLugWvU/0+aQj0+PnK8RiwToFCP5d7ls5FA9BCgUI+evuKdkgAJkEB8EghGqMfn/QS6FoW6QYdC3YDBLAk4IECh7gAaq5AACYSdAIV62JGyQRIgARKICQIU6pHpxpj0+h4ZVGyVBBKGAIV6wnDnVUmABOwEKNTtPLhHAiRAAiRwjQCFemQ+CRTqkeHKVkkgbAQo1MOGkg2RAAlcBwEK9euAx6okQAIkEMMEKNQj07kU6pHhylZJIGwEKNTDhpINkQAJXAcBCvXrgMeqJEACJBDDBCjUI9O5FOqR4cpWSSBsBCjUw4aSDZEACVwHAQr164DHqiRAAiQQwwQo1CPTuRTqkeHKVkkgbAQo1MOGkg2RAAlcBwEK9euAx6okQAIkEMMEKNQj07kU6pHhylZJIGwEKNTDhpINkQAJXAcBCvXrgMeqJEACJBDDBCjUI9O5FOqR4cpWSSBsBCjUw4aSDZEACVwHAQr164DHqiRAAiQQwwQo1CPTuRTqkeHKVkkgbAQo1MOGkg2RAAlcBwEK9euAx6okQAIkEMMEvvvuO8HfCDMNGzZMKleubBYlivycOXNk/vz50rNnz0RxP4FugkI9EB0eI4FEQIBCPRF0Am+BBEhAv4StW7fORiJZsmTSqFEj/c92gDskQAIkQAJJhsDevXtl9+7dtuctX768ZMqUyVaWGHYo1I1eqFu3rgAIEwmQgDMCSVWoX7hwQY4cOSKXLl1yBo61SIAEwkpgzJgxsm3bNlubEOq1atWS2rVr28q5QwIkkDAE0qRJI9myZRNsmUiABLwJUKgbTCjUDRjMkoADAklFqLtcLi3MIQR27dolmzdvlrNnzwrKmUiABBKewIkTJ+TixYteN5I+fXrJkCGDVzkLSIAE4p8ABs/Spk0rhQsXluLFi0upUqUkR44ckjx58vi/GV6RBBIhAQp1o1Mo1A0YzJKAAwJJQagfO3ZMxo8fr8U5hMDly5f1TDpFuoMPDKuQAAmQAAkkaQIQ6ylTppRUqVLpfzBBxvt4wYIFKdiT9CeDDw8CFOrG54BC3YDBLAk4IBDrQn3evHkyffp0OX78uFy9etUBIVYhARIgARIgARLwRyBFihSSMWNGqV69ujRo0ECyZMni71SWk0DME6BQN7qYQt2AwSwJOCAQq0Idwvynn36S5cuXy5UrVxyQYRUSIAESIAESIIFQCBQqVEhatmwpxYoVC6UazyWBmCFAoW50JYW6AYNZEnBAINaEOkT5kiVLZMaMGXLw4EGuQXfwmWAVEiABEiABEnBKIF26dNKkSRPtBBKz7UwkkJQIUKgbvU2hbsBglgQcEIgloQ6RjtiVlqm7PxzJ1IEUKZKrtXUp9Rbr7ZhIgARIgARIgAT8E4BflytqCdnlS1fk8pWrAQfCIdCbNWtGse4fJ4/EKAEKdaNjKdQNGMySgAMCsSLU8QKxZcsWGTt2rPbq7gsF9Hia1Kkke7aMkj9vdrmhWF7JnyebFuy+zmcZCZAACZAACZDANQIYDD905JRs3fGv7NxzWI4dPy1nz11Q/l98R0/Jnj27tG7dWsqUKSMcEOenKKkQoFA3eppC3YDBLAk4IBArQh2hnSZMmCDLli3zGRsdLwk5s2eSKhWKyR01y0sOJdaZSIAESIAESIAEQidwVIn0lWt3yF8rtsre/UfkwsXLXo0gZFuRIkXkySeflFy5cnkdZwEJxCIBCnWjVynUDRjMkoADArEg1BFybeHChTJz5kwdK90TQ7q0qaVQgZxyx63lpFql4p6HuU8CJEACJEACJOCAwLYdB2T+kn9k1bodcubsBa8WEHP9jjvukAceeECHdPM6gQUkEGMEKNSNDqVQN2AwSwIOCMSCUN+0aZNMnDhRtm3b5kUAa9Hr1bpR6qp/nEX3wsMCEiABEiABErguAidOnpUZv6+Uxcs2a1N4z8by5MkjTzzxBD3Be4LhfkwSoFA3upVC3YDBLAk4IBDtQv3MmTPyyy+/yNy5c32avN9YppA83bq+XpvuAA+rkAAJkAAJkAAJxEHgxKmzMmX630qsb9KO5szTMat+2223SdOmTZVPmFTmIeZJIOYIUKgbXUqhbsBglgQcEIh2ob5582Y9m75161avp8+VI7O0a15XihfN43WMBSRAAiRAAiRAAuEjcODgcRk4fLZas37Uq9HChQtrx3KIs85EArFMgELd6F0KdQMGsyTggEC0C/XFixfL+PHj5eTJk7anT5kyhTzUqIbcfmtZSck4rjY23CEBEiABEiCBSBCYNXe1TJi6RK6qSCxmypYtm9x7771y++23m8XMk0DMEaBQN7qUQt2AwSwJOCAQzUL9woUL8uuvv+q46VdVbFczlSyeT55sUVeyZaV3d5ML8yRAAiRAAiQQKQLH1Xr1vv0my2EVxs1MMHmvUaOGNG/enE7lTDDMxxwBCnWjSynUDRjMkoADAtEs1Pfv3y+TJk2SlStXej35vXdWlob1KknaNFwP5wWHBSRAAiRAAiQQIQLDxs6VBUs3erVetmxZbf6O+OpMJBCrBCjUjZ6lUDdgMEsCDghEs1DfsGGDjBs3Tvbu3ev15M8+0UBuLFNY4PWdiQRIgARIgARIIH4I/L1qm3yn1qp7phIlSugZda5T9yTD/VgiQKFu9CaFugGDWRJwQCCahfqaNWtk7NixcvDgQduT58mVRTq2bSD58mSzlXOHBEiABEiABEggsgSOnTgtr787yusi+fPn157fK1So4HWMBSQQKwQo1I2epFA3YDBLAg4IxKJQL1IwpzzVqr7kypnZARFWIQESIAESIAEScErg6lWXdHz1O6/qefPmlcaNG0uVKlW8jrGABGKFAIW60ZMU6gYMZknAAQEKdQfQWIUESIAESIAESMAvgWde+dbrGIW6FxIWxCABCnWjUynUDRjMkoADAhTqDqCxCgmQAAmQAAmQgF8CFOp+0fBAjBOgUDc6mELdgMEsCTggQKHuABqrkAAJkAAJkAAJ+CVAoe4XDQ/EOAEKdaODKdQNGMySgAMCFOoOoLEKCZAACZAACZCAXwIU6n7R8ECME6BQNzqYQt2AwSwJOCBAoe4AGquQAAmQAAmQAAn4JUCh7hcND8Q4AQp1o4Mp1A0YzJKAAwIU6g6gsQoJkAAJkAAJkIBfAhTqftHwQIwToFA3OphC3YDBLAk4IECh7gAaq5AACZAACZAACfglQKHuFw0PxDgBCnWjgynUDRjMkoADAhTqDqCxCgmQAAmQAAmQgF8CFOp+0fBAjBOgUDc6mELdgMEsCTggQKHuABqrkAAJkAAJkAAJ+CVAoe4XDQ/EOAEKdaODKdQNGMySgAMCFOoOoLEKCZAACZAACZCAXwIU6n7R8ECME6BQNzqYQt2AwSwJOCBAoe4AGqtELYEdO/fJmvVb5MzZ87ZneOyhBrb969m5cPGSrFj1j+zYtd/WTPmyxaVCuRtsZZ47H3w2xFZUpFA+af5wQ1tZJHZmz1kih4+ecDedPFkyadb0Lvd+pDIr12ySfzbtsDV/7123SebMGW1l3Il/Apu37pK5fy5Xn4vj+uJPPt5YcuXMFv83witGJQEK9ajsNt50GAhQqBsQKdQNGMySgAMCFOoOoLFK1BKY+PMc+eTrEbJ33yHbM2xfM8W2fz07x46fkvf6fi/jp8yxNfNCh0flpeda2so8d5JlrmYrqnd7dfltan9bWSR2mrbsKitWb3Q3nTJFctm8cpJ7P1KZPp8Mlm+HTLQ1P3NSPylZopCtjDvxS+DcufPy5YAf5bN+o+TAwSP64qsWjpaKN5aM3xvh1aKWAIV61HYdb/w6CVCoGwAp1A0YzJKAAwIU6g6gsUrUEhjx4y/S493+XrPdrpN/h+2ZjqiZ6Ze7fyZDR021tdnztfbS640OtjLPnYQS6rfe+YQs/muN+3ZSpkwhl44uce9HKvNqjy+k7xfDbc2vWzpOypUpZivjTvwSmPnbYunx3gBZtny9XLl6VV+cQj1++yDar0ahHu09yPt3SoBC3SBHoW7AYJYEHBCgUHcAjVWilgCFuu+uo1D3zSUplq5eu1ne+fB7mTZjvpy/cNGNgELdjYKZIAhQqAcBiafEJAEKdaNbKdQNGMySgAMCFOoOoLFK1BKgUPfddRTqvrkktdK167fKR58Plcm/zJOTJ0/bHp9C3YaDO3EQoFCPAxAPxywBCnWjaynUDRjMkoADAhTqDqCxStQSoFD33XUU6r65JKXSDRu3y/sfD5bJ0/6QU6fPej06hboXEhYEIEChHgAOD8U0AQp1o3sp1A0YzJKAAwIU6g6gsUrUEkjsQh1mx2bKmDG9FC9awCyKSJ5CPSJYo6LRK1euyN8rNsjbfb6V+QtWqIgI53zeN4W6Tyws9EOAQt0PGBbHPAEKdaOLKdQNGMySgAMCFOoOoLFK1BJI7EI9ocBSqCcU+YS9Ltagz5i1UHr07i8bN++US5cu+70hCnW/aHjABwEKdR9QWJQkCFCoG91MoW7AYJYEHBCgUHcAjVWilgCFuu+uo1D3zSVWS10ul+zZd0A+/GyYDB4xRc6fuyBXVVmgRKEeiA6PeRKgUPckwv2kQoBC3ehpCnUDBrMk4IAAhboDaKwStQQo1H13HYW6by6xWvrVgDHy8ZcjZNeef70esUyporrsn007bMco1G04uBMHAQr1OADxcMwSoFA3upZC3YDBLAk4IECh7gAaq0QtgcQu1C9fvmJjmyxZMkmRIrmtLJgdmDBfvqz+XbkqV/8fB9tqK2WKFJIqVUpJnvy/dsMl1HH/l9R1r6jrYu2zlXDNFPq617ZWebjjqF9W17yi7gHXRx4zx1ZCbPgU6plxH8iDR6jJ7B9UB0OzHVxPX1sxuHpV5RX75OpEnINz0ZdOrx3qvfo6f9uOvXJnow6yY9d+r8O4r5urlpde3TvI73OXSp9Ph9jOoVC34eBOHAQo1OMAxMMxS4BC3ehaCnUDBrMk4IAAhboDaKwStQQSu1AfNXaGjW2e3DnkzjrVbWWBds6cOSfHT5yS8VN+l/kLV8jK1Ztky7bdukq2rJnkpgqlpUa1G+W+hrWkUsVSkiF9Wi0gr1eonzt/QYXzOiOzfl8sv839S1as2iir1m7S102dOpVUqlBKqlYuKw3q3SJ31KwimTNn0II5XEL93Lnz2lP5n4tWysIlq2XVmk2yUv07cvSEFusQobVurSTFixWUW9Tz17ujuuTNk0PSp0trE9qB2F68eEl+mvSb+5RMmTLo5ypUMI++xnnF4MCho5r7gsWrFfddsmPnfsmdK5tky5ZZihTKJ5Urltb3UbBAbsmUMYO7rfjK/DF/mdS97xnb5TB4kD1bFt03r3dpKzeWKyHd3/6aQt1GiTuhEqBQD5UYz48VAhTqRk9SqBswmCUBBwQo1B1AY5WoJZDYhXqyzNVsbOvdXl1+m9rfVuZrB7Pm+/89LIOGT5GBgyfI3n0HfZ3mLsuTO7s80eoB9e9+5VW+oNRu2F4W/7XGfRzC9tLRJe59fxnMGh85elz+1955gElRbA30EpecYZeccwYFRBSzwkMwAKIEcxbFrJieCXNWMD/FDAiKigEDBkQRkSBhyZklpwWW/Pct/2lrdnZ2Z3vTzPSp982bO52m69QgnK6qW598PkVGvTFO5s5banrywx1f1sli36vH8XLD1QOchwZN5F4nidkTz70TdPi86WOlRbP6QdvCfdAe7k2btzkC/a2M/mCS/L1giaSl7Q93uNmuPeqNG9aWiwb2kn5nnSK1aydJsaJFMz1Hd27bvksq1TnRPa5Rg9ry0D1Xy7l9TpZ1KZucZc1+NPznLViaaVK2MqVLynVXnidXX9ZXkpwHMfogI7+KLeray1/eeWDS1Bnqfu3l/aSvU4+SzoMLLYh6frVI/H4Poh6/bUvNMieAqFt8EHULBiEEPBBA1D1A45SYJRCPoq5DzP+akywPPva6fPHVL2a4dSQNVCKhuJHMYdeeL1fdMEL+nLXQPS0SUdeHA9pb/8IrY+T9MV/K1m073fMzC1SKu3ZpI7dcP1i+/GaqjHx9XNDhkYr6nj1pMnP2Quf7P5LPv/pZ9HN2ikrpGaccIzdcc74c1a65lHYEOrOSkaj/984rpFXLRvLsS++b3vbU3aHrj2d0zQSH/XFOD/+tw4bI8c4IA22L/CgBUa/k9PDrsn+9ehwn551zmgTmpQfuAVEPkODdKwFE3Ss5zot1Aoi61YKIugWDEAIeCCDqHqBxSswSiEdRnzFzvtx459Py2/S5Zl52oHG0x7ScMzxbh3jreuziTNfesTNVNmzcYoaJB47r3fN4mT5jnqQ42wMlElFXSR/x5JsydsJ3kl5QdUh59aQqUr58GTPEPTV1j2x0hoXrUPRAOapDCzOPXYfJ2yUSUd/rZCn/bsp0edj5fnskQOA6VatUdIaWl5IqlSuYoe37nGHrmzZtc4amb3F6/P+dO6/HH+UMyR9+yyVy+snHSClnKkC4kl7U69etIRf07yErnfneYyZMFh0ar0V7yLWnukzpUmZagT7A0OkI9nx5PU6HnHfq2EqeePgGObZzW92U5+V3p51vuesZOeXETtKvzynSonmDDL8TUc8QCxuzQQBRzwYsDo0rAoi61ZyIugWDEAIeCCDqHqBxSswSiDdRX7U6RW6440nTM71v3z+iqI2joqwC2q1reznaEeJaNRMdUT8iy1euM3O4v3OShS1askr2OetoZ1SyEvXNW7bL0y++J6+8+XFQT7omqWvVvKGZh921S1tpULemaO+xLgU246/5zhz2383ccZ1LH65kJeqaJE4fLNz78MtG1u3r1Eiq6gypbyzHOb3UdZy5461bNDKyvHPXbjPq4EdnjvYfM+eFJFPTefMP33eNHNOpjTnevmYgTi/qOue/WtXKDtO1RtL1wYAOh9ch/U0b15WaNaqaIfW6PrnOl1+0ZKXMX7g8cDnzXrZsKbnEmYLwwN1Xm4cqQTvz4MMmp91SU3dLfaddMiuIemZ02BcJAUQ9EkocE48EEHWrVRF1CwYhBDwQQNQ9QOOUmCUQTtSnffe/XKuTSuHI18aaOcv2Re+9/TK5/66r7E0hcXbmqGt29ceeflueHfl+UE91yRIJMnhAT7n84rMdWW8R8h17nMRrP/w0Q1793wSZ8vMM0ftNXzITdc1qPt5JVqeibC/hpZKuSequvvRcOfnEzibDun1dzUQ/Z95ieeWN8fLZVz9JyoZ/e/Dt47ISdZ1//9gzbzsPCcbL/gP/Ppxo3rS+XHhBLxnY/wypUb2aI9zBWd21R1t79T/+9Hszl3z234vd+fR679dd0V9uvWGIGQlg308gTi/qge36XrN6VTP3/tw+J5lkfTqSwS46kuCnqTPlvyNeNQzsfZpp/akRN5qHG/b2gowR9YKkHx/fjajHRztSi+wTQNQtZoi6BYMQAh4IIOoeoHFKzBIIJ+rdu3XItTrp0Gpdn3r1mg1B18xtUdekZVc6c8unOUPeA0uw6RdeOuQsefCeq6R6YpWg70//QYecP/L0/2SSM088fQ93ZqK+xhFlnQ//5jufBg0j73X6ceZ7W7dsbIZ1p/++wGdl86Izr/2t9yY6ieC2Bza775mJuiaKmzjpR2f49rOyeu2/fJs0quvMeR8k/c8+1Qy3dy+WQaB1nfzD7/KMMyLgJyczfqDUc4ayP/vozc7DhmOdJdRCk8uFE3XNzH+Jk5Tv6sv6iWaAz6zoA46rhj1iEuAFjqvrJLO75/bLnXbrE9hU4O+IeoE3QczfAKIe801IBTwSQNQtcIi6BYMQAh4IIOoeoHFKzBIIJ+r5UaHcFvUXXv7IiLZmew8U7UEf+85jUq9O9cCmTN+1Z33orU+ISr9dMhP1b5wl2G67+3l3+TU9T4d6v/DEbXLCcR3NGu32tTKKdQj43Q+OlAmf/RCyOzNR14cE/x3xirwx+lP3vHLlysgtQwfJNU7m8sqVyrvbMwt0VIEuhTf8/heDHhZc5YwGuOvWS6VWjWohp2ck6ppBXuf4P3r/daIPC7IquozcFdePEP0dBorOp7/9xgvlZqcO0VIQ9Whpidi9D0Q9dtuOO88ZAUTd4oeoWzAIIeCBAKLuARqnxCyBeBF1Td529bBHZcx4J4mZNfz7tRfvlsucHvVIiyZlu/HOp+TdD7+U3Xv+nTceTtR1TvvLzrz0u+4fGXS8Dhm/zclgrsnbIimaeO21tz9xeuZfc5LbbQ06JTNR18R55wy6zRmtkOKec+LxRzmiPNRJzNbS3RZJMMcZ+n6ns164jigIFF2q7p3XHpCundsENrnvGYm6Juq7fdiFct1V50lRR9qzKjr8X5fQu2rYCPdQzfh+vbNc3WMPXO9uK+gAUS/oFoj970fUY78NqYE3Aoi6xQ1Rt2AQQsADAUTdAzROiVkC8SLq0/+cJ9c7PeG/z/jbbQuV5Fm/fmDmS7sbIwjec5ZWu+O+F2TN2n/XXg8n6pqM7v5HX5W33/vcvXJ5p0d79KsPSM/TdMh41rIaOPFnZ9i5ivLU32YHNpn3cKKuy6+N/uALufrGR4KOv/Pmi2W48zKZ7YP2ZP5BM+A/6azh/tATb7gH6v2/9NTtMui8niEZ4DMSdc1c/8RDN8gJ3Tq618gs0CkKv0ybLd17XB502DXOmuovPX1H0LaC/ICoFyT9+PhuRD0+2pFaZJ8Aom4xQ9QtGIQQ8EAAUfcAjVNilkA4UX/onmtyrU5pafvk+5/+MNnV7Yvm5tD3t9//3BHm12T5irXuV6goj3//SUlwlgfLTtGs5H0H3yZ/z/93+Hs4Udf58Dc7y3tN+32O+xWdj2olLz87XNq1aeJuiyRYt36T3H7vC0HDwPW8cKK+wUkEd8+Do+S1tya4l0+sVsn0RGsSuewWleZ3PpwkNw9/JigZn84Vf8BJ+lfDSRBnl4xEXXvzX3SG/Idb5sw+PxAvXb5GGrUNHvWAqAfo8B4vBBD1eGlJ6pFdAoi6RQxRt2AQQsADAUTdAzROiVkC4UR92+rQudJeK7nNWTf73odfCRHQ3BT1+x95VZ556X2zLnrgPnV+9fOP3xrRHPHAOfquQ+ePO+0y0V76QAkn6p99+bMZtq2SHSi9ehwnTz40zMxTD2yL5F2T7t12z3OmHvbx4URde/OHXHGv0yM9yz28o7ME3aP/vc5ZF7yzuy07QUbz7XudcZw89/gt0qBe8BJmGYm6Jq976+X/SsmSCRF/7crV66VeyzODjj+/3+nmO6tWrhi0vaA+0KNeUOTj53sR9fhpS2qSPQKIusULUbdgEELAAwFE3QM0TolZAuFE/cjOGblWJ12KS3tptdfbLrkp6po5XHuW7WzvKpeaUC2SudL2fWl8+dAH5T0nuZrOWdcSTtTf++hLufCq/8ohZy3zQLn28v4y/JaLQ3qgA/sze3/x1Y+ceepvmGXTAseFE3Vd9/2sATfLgkXLA4ea4elJTtb10qVLutuyE6Q6GeBTNmx2663n6rrzb79yv+hyb3bJSNQHndfDmdP+oH1YlnFGot7nP93l6RE3SYP6wQ8HsrxYHh2AqOcRWB9dFlH3UWNT1SACiLqFA1G3YBBCwAMBRN0DNE6JWQLxIuqXD31IXneSsdnlgzdHSL+zT8l0aTT7eDu+/rYn5M3RE90EceFEXeeIX3jlffapctctl8iN1w6UypUjy7hun6wPG3QIv66NHijhRF3XPT/6+MGi68fnZWnfpqm8+/qD0qJZg6CvyUtRP7PH8fL0IzdJowa1gr6zoD4g6gVFPn6+F1GPn7akJtkjgKhbvBB1CwYhBDwQQNQ9QOOUmCUQz6L+0VuPyLl9TvYk6i+88pHocHodDaAlO6J+922XybBrzo94aTT7x/PFV7/I8AdeEs3AHijhRH3W3EXS/tgLAofl2TuiLoKo59nPyzcXRtR909RUNB0BRN0CgqhbMAgh4IEAou4BGqfELAFEPeOmG/naWGde/cv5Luq6NNrw+1+S2Y6EBwqiHiBRcO+IesGxj5dvRtTjpSWpR3YJIOoWMUTdgkEIAQ8EEHUP0DglZgkg6hk33YuvjpH/jngl30X9i69/cdZkd0TdY4/6Sd2PlssvPEuSEqtkXDEPW3W+e4tm9aV0qeB57wx9/0DatGrsgSin+JEAou7HVqfOSgBRt34HiLoFgxACHggg6h6gcUrMEogXUb/6xkedZHLjnaRuh9220ARoA/v38DT0ffj9L8qLr46VXbt2m+uFG/qua65ffNX9QfPEb7/xQrl56CCpWiX7Gcvf+fALuc95QLB8xTq3HuF61HV4/NEnDJH9+w+4x2oSthH3XRsyn9w9IBcDRB1Rz8WfU9xfClGP+yamgmEIIOoWGETdgkEIAQ8EEHUP0DglZgnEi6g/O/J9eeyZt52M5Vvctrj60r5mia9ixYq62yINrrzhYWdN8S+d7Odp5pRwov7tlOly/a2Py4LkFe6lNRHaEw/dkO3l2fQCOuT+wcdel5SN/9YjnKgvc9YfP/+Su4KWket0VEtnebahouuZ53VB1BH1vP6NxdP1EfV4ak3qkh0CiLpFC1G3YBBCwAMBRN0DNE6JWQLxIupvvfeZyZa+wllbPFB69zxexox+TBKKFwtsiuh9b9o+6XHO9fLzr3+5y72FE/Vff59jlp777Y+57rWP6dRGRj17p7TN5rBoXb/9ngdfdtZRf08OHPg3k3s4UV+1OkUuv/4h+ea739zvru+sdf7o/deJrmfupezZkyZbt++UIoULS0JCcSnlrIeu74UKFQq5HKKOqIf8KNgQlgCiHhYNO+KcAKJuNTCibsEghIAHAoi6B2icErME4kXUf5k2S2684ymZ8dcCty2qOUPP//z5PalVs5q7LZLg9xl/myXXkhevdA8PJ+pLlq2W+x5+Rd4f+5V7bIXyZeXtl/8rPU/vZrLFuzuyCBYvXSV33PeCjJ/4Q9CR4UR946ZtZh79qDfGuccXL1ZM7rz5YrnlhkFSpnQpd3skga5B/+MvM52RBF84DzeKS2JiZaldM1HatGwkrVo0kpKOtNsFUUfU7d8DceYEEPXM+bA3fgkg6lbbIuoWDEIIeCCAqHuAxikxSyBeRH3zlu1yw21Pyseffif7rDnbTzw0TG65flDE7XPw4CEZ8dSb8tzID2Xrtn+WZtOTw4l66u49Mur1cfKAM1w9NXWP+z067P7eOy53krpVdrdlFqgkj/vkO7nnoVGyaMmqoEPDiXqa0/M/dsJ3coUzTF/jQOl2TDszT/3YLm2lsNMzHmnZtHmbPPL0W/LMi+8FnXLN5f3kHmfJufR1QdQR9aAfCh8yJYCoZ4qHnXFMAFG3GhdRt2AQQsADAUTdAzROiVkC8SLq2gDvfjjJEd2XZcWqf4e/N21cVya8/6Q0b1o/ojb6e8FSuXrYI6JD2lWeAyWcqOv+qb/NNj3h2qsfKLVrJcrzj98qPU47NqKh92vWbpAHH39D/vfOxKDEdHq9cKKu+zSh3IVX3ie6pnqgaHZ2lesbr71AqidFlv1dH1BM/v43uf3eF2Tu/CWBS0mliuVl1DN3SJ9e3U0vu7vDCRB1RN3+PRBnTgBRz5wPe+OXAKJutS2ibsEghIAHAoi6B2icErME4knUNZHcdbc8Lp9/9ZPs2/dvJvRB5/WQp0bcKNWqVsq0nVav2SBPvfCujHaGfm/btjPo2MxEfceOVHlu1AfytNMTvWNnqnveqSd1NknlWjvDxjPr2d7qfJe2wzMvvS/2HPvAhTITdR1JoN+tifTsee316taQW68fLBf0P0N0KH5mRR9IaC/+iCfflA8//iboOueceaI8+sBQadywTsglEHVEPeRHwYawBBD1sGjYEecEEHWrgRF1CwYhBDwQQNQ9QOOUmCUQT6KujaBD328a/oxoorVAKVWyhFx+8dlyft/TpfNRrQKbg96TF6+Q19/+xBHmL4MyxwcOykzU9ZjfZsyVO+97Uab8/GfgFCnuJLE7t89JMuT8/8ipJ3bJcJm4jZu2ii7x9tpbnziZ45e759pBZqKukv2nMy//1rufkx+nzrRPM0u0XeasqT7g3NPMsPWMEsLpNAE9X+s+fuL3QQ8aqlWtKI89cL2cd85pIfPT9YsQdUQ96AfHh0wJIOqZ4mFnHBNA1K3GRdQtGIQQ8EAAUfcAjVNilkC8ibr2aN//6Gvy+lsTZJc1Z1yHg+vSZaee2Fk6tmsudWonmTbTnvNZfy+S75xl1lSyt2z9Z156CSfTuWZhP3z4iDkuK1HXbOmjP/jc6dkeHTT0XmVde9RPP7mLHN2xpTRrUs9cLy1tvxlirpnlNWv7ytXrzXZdSu7IkSOiQ9EDJTNR12N279krX387TR556i0nmd78wGnmvU6tJOnerYMcf2wHadSwtiQ6owpU2LVey1eulVlzkuVr5/tV1vf8/1J0eqLyumRwbycp3WDRa2RUEHVEPaPfBdsyJoCoZ8yFrfFPAFG32hhRt2AQQsADAUTdAzROiVkC8Sbq2hDLnSXa7npgpOld328llitcuJAZBq7iqXOvtezeu1fWrN0o2rMdGDrernUT0xs+Z95iJ0nbfnNcVqKuB23YuFVeenWMvPK/8eZ65sT//7/SpUtK3drVJanaP8nlDhw8KGvXb5R16ze7ieDq1akh1atXkcXOMHQd0h4oWYm6Hrcrdbd8+c2v8sRzo4My3+u+YkWLSo3qVaVqlQpStmxpKeT8Tx8GbN66XdalbJItW/5NmmeOdx4W6NJ2d996qbRxlpgLN2wfUUfU9fdCiYwAoh4ZJ46KPwKIutWmiLoFgxACHggg6h6gcUrMEohHUdfG0DnXb4z+RF793wTZvmNXxO3Trk1TI6hfTp4qH477xvRW68mRiLoet3bdJhkzYbK88ubHsmTpajlkJaTT/eGKSvx1V/Y3vfgjXxvnXGeje2gkoq4H6wgCHRmgc92nTZ/jPnhwLxRBUL5cGTnPGSp/7RX9pFnjeuaBRbjTEHVEPdxvg+2hBBD1UCZs8QcBRN1qZ0TdgkEIAQ8EEHUP0DglZgnEq6hrg2johjwAAEAASURBVGx0lhvT7O0PPf66GdqdWSMlOEPdj+7QwlnKbbBoEjhdz/zN0ROzLer6HfpgYObsZHneSfKmw8rtpdPS34M+AGjSqI5cdcm5MrB/D/nYmSeuQ/e9iLpeW4ev6wOCT76YIh+M/drEBw/9O4w+/fcHPut9aMK4S4f0kQHOXP7qzrJy4XrSA+cg6oh64LfAe9YEEPWsGXFEfBJA1K12RdQtGIQQ8EAAUfcAjVNiloBKpQ7ZtoeIa2Vat2yUa3U65Iji+pQtTvKx4EzqmoU9sVrmmdjnzvt3qTC9oTLOEPL69WpGfG86z1yHtut1xjmJ5mY7y5gFrqnzwWvWqGbmrJ/Z4zg5tnNbqVUzUUqUKC5Tf58tixavcueKF3bmdV96YZ+Iv1fnmG/YuEWSF680Sdr+cuaC60MDLSrAVSpXkHZtmpg582ec0tXMmS/nDEtfsGi5zJyVLDrnPVD6nnWyVKyQeeb2wLH6rvPPd+1KlU3O8Plvf5gus505+Jqo7u/5S5214XeaYe86T12H/7du2VBaOXPoOznz57t2aiNVnQRyeh+RlEOHDsv8hcuCDq3g3Gdth2F2ik45WLhoRdApeg+6tJzO8Y+GkuK05aZN24JuRR9s6G+FAoFICCDqkVDimHgkgKhbrYqoWzAIIeCBAKLuARqnQCDKCagMpu7e6zyQ2C+a6VyLztXWnmTtTS9dqoSRwkBmdJ1DriIq/+SSM8d7kTJ9SKHfq99p96wXKeJ8ryOhmpG+ZMkEk+BNv0SPV8l3ppC7JSGhmLvf3RhhsDdtn3kIow9i9GUPxS/iPDBQEdb7UAb6okAAAnlDAFHPG65cNfoJIOpWGyHqFgxCCHgggKh7gMYpEIAABCAAAQiEJYCoh0XDjjgngKhbDYyoWzAIIeCBAKLuARqnQAACEIAABCAQlgCiHhYNO+KcAKJuNTCibsEghIAHAoi6B2icAgEIQAACEIBAWAKIelg07IhzAoi61cCIugWDEAIeCCDqHqBxCgQgAAEIQAACYQkg6mHRsCPOCSDqVgMj6hYMQgh4IICoe4DGKRCAAAQgAAEIhCWAqIdFw444J4CoWw2MqFswCCHggQCi7gEap0AAAhCAAAQgEJYAoh4WDTvinACibjUwom7BIISABwKIugdonAIBCEAAAhCAQFgCiHpYNOyIcwKIutXAiLoFgxACHggg6h6gcQoEIAABCEAAAhkSOHTosFxz++sh+5KSkqRPnz7SoUOHkH1sgEC8EEDUrZZE1C0YhBDwQCAeRb1ShTJy/eU9pXpiBQ9EOAUCEIAABCAAAa8E1qVslfufHBdyOqIegoQNcUgAUbcaFVG3YBBCwAOBWBb15ORkGTdunKxatSqk5lddeKq0aVFXihQpHLKPDRCAAAQgAAEI5A2BKVPnyQcTpoZcvF69etK/f39p2LBhyD42QCBeCCDqVksi6hYMQgh4IBDLop6SkiKffvqpzJw5M6Tmp3ZvI/85tYOULFE8ZB8bIAABCEAAAhDIGwKvvfOtzJi9LOjihQoVkvbt28uQIUOkZMmSQfv4AIF4IoCoW62JqFswCCHggUAsi/q+fftk8uTJMmnSJDl06FBQ7WvVqCzaq161crmg7XyAAAQgAAEIQCBvCGzcvEOeHPmZ7Ni5J+gLVM713+w6R50CgXgmgKhbrYuoWzAIIeCBQCyLulZX73/8+PGydevWoNrrkPfTTtBe9Y5SrGiRoH18gAAEIAABCEAgdwnsP3BQPvrkV5k6PVmOHDkSdPHKlSsbSe/cuXPQdj5AIN4IIOpWiyLqFgxCCHggEOuivnz5cpkwYYLofPX0pWyZknLxgBOkZbPa6XfxGQIQgAAEIACBXCQwY9ZS+dAR9V2pe0OuqvPTL7nkEklMTAzZxwYIxBMBRN1qTUTdgkEIAQ8EYl3U9+zZI59//rlMmTIlZPi74qhds4rcfHUv5qp7+G1wCgQgAAEIQCASAus3bJP/fThFVq3ZHNKbXqpUKTnhhBOkV69eToJXRrhFwpNjYpcAom61HaJuwSCEgAcCsS7qOrxu2bJlpld98eLFIQQKOwls2rWuJ+f16SoVypcO2c8GCEAAAhCAAAS8E1i/YbuM/+J3mb9ojRw8GJwvRpPI1a9fXy6//HKpVKmS9y/hTAjECAFE3WooRN2CQQgBDwRiXdS1yppI7s8//zQ96xs2bAihoPPVk6pVMHPWu3RsErKfDRCAAAQgAAEIZI+AzkmfPW+lfDNltqxdv9X5u/hwyAXKlSsnAwcOlLZt24pKOwUC8U4AUbdaGFG3YBBCwAOBeBB1rXZaWppJKjdt2jTZv39/CAn990GJhOJyVLuGcuZpHaV8uVIhx7ABAhCAAAQgAIGsCWzcvFO++mGWzJq7Qvbs3Rcy3F2vUKxYMTn22GPlvPPOk8KFC2d9UY6AQBwQQNStRkTULRiEEPBAIF5EXau+bt06effdd2Xp0qWZkkgoXlQa1ksySeZaNq3l9LZXzPR4dkIAAhCAAAT8TEBHrm1wll6bt3CNzEteLStXb5K9aaEPxW1Gmjhu+PDhUqJECXszMQTimgCibjUvom7BIISABwKZifqoUaNi7im41mfixImyadOmDJ/we0DEKRCAAAQgAAEIREhAh7jruumXXXaZtGzZMsKzOAwC8UEAUbfaEVG3YBBCwAOBzER96NChUrNmTUlISJCiRYuaYWyxMMds+vTp8tVXX8nGjRvlwIEDHqhwCgQgAAEIQAAC2SVQvHhxqVKlivTt2xdJzy48jo8LAoi61YyIugWDEAIeCGQm6nq5smXLSvPmzaVu3brSqFEj81mHsekrmpdZ0R71yZMny+zZs2X79u0eyHAKBCAAAQhAAAKRENCH+OXLl5f27dtL7969RZdko0DAjwQQdavVEXULBiEEPBDIStTtS2rPuvawq7A3bNjQPDXXv4xLly4t+hQ9Gnvbf/31V9H/aKq47927164OMQQgAAEIQAACOSSg/waoXr26nHLKKdKmTZuofoifw6pyOgSyJICoW4gQdQsGIQQ8EFiwYIGMHTtW1q5dm62ztTddE8XUqVNH6tWrJ0lJSaLLsOgTdf1LO5qkXYfAT506VXSd9dTUVNm9e7d5z1aFORgCEIAABCAAAZO7Rh/SlylTxryaNWsmXbt2NeukR9Pf/TQVBAqCAKJuUUfULRiEEPBAQJc1++STT0SXNdPYa1FJr1GjhtSvX9+86xw1/Uu8cuXKUfF0/ciRI2bOumaGT0lJkVWrVsnOnTtNnTWbLQUCECh4AvrndMuWLSa3hE6vqViRFRkKvlW4Awj8Q0Af0GuSOH0gr6Pr9KV/71eqVCkq/p6nnSAQDQQQdasVEHULBiEEPBJYv3696BDxFStWmH8kb926NUcZ03Xt1Nq1a5uh8Tq3XWVd/yLXl855j4ayb98+2bBhg5H1gwcPRsMtcQ8Q8D0BHf3y7bffyo4dO8x/KzQhFUs7+f5nAYAoIaB/t6uk69/pKuwUCEAglACibjFB1C0YhBDIAQHtTdeeZn2tWbPGzOnevHmz6CsnPe06DE4FvVq1amZ4vD591972qlWrSoUKFUwm+RzcNqdCAAJxRODHH380yyvqFBUtuvJEq1at4qiGVAUCEIAABOKZAKJutS6ibsEghEAuEdAe5oCkaxI2nb+uPV3aA52TDOoq7foUPiDqOsddE9Dou77oOculBuQyEIhBAvpA8O2335Y5c+ZIYJRLly5d5OKLL47B2nDLEIAABCDgRwKIutXqiLoFgxACeUBA54zqXG4dDq9zR7XHXed560s/79+/3/O3aqZ4HUan81C1x12lXXvc9aXbSUrjGS0nQiDmCCxZskRGjx5tHggGbl5zXwwfPpy56gEgvEMAAhCAQFQTQNSt5kHULRiEEMhjAirtOrdbe9V1Dqn2susw+cArJ0PkCxcubLLFq6DrkHiV9Vq1apmXJqyhQAAC8U3giy++kO+++86syhCoqT6sGzRokHTr1i2wiXcIQAACEIBA1BJA1K2mQdQtGIQQyGcCBw4ccJc60x53HSK/cuVK89q2bVuOEtLpMPjA0i86n12T0ulScCrvuvwbBQIQiB8C+uBPh73rcpGHDx8OqljLli3l+uuvD9rGBwhAAAIQgEA0EkDUrVZB1C0YhBAoQAL6j2vtbd+zZ4+Rd5X25cuXmyHyun55ToouCaNrtupLh8KqtOsycPrS7LMUCEAgtgnovPRx48YFDXsP1Egf2F177bXSoEGDwCbeIQABCEAAAlFJAFG3mgVRt2AQQiCKCGhvu4q7zmHftWuXzJ8/3/S0q7QHMjp7uV0dCqtz27XHXcVd57U3atTIvDTWfRQIQCC2CIwfP14043tG02d0SaiePXuaV2zViruFAAQgAAG/EUDUrRZH1C0YhBCIUgI6t13FXV/a475q1SpZuHChLFq0yCSny8lta2+7/kNeXzpEvmHDhtK0aVNp0qSJJCQk5OTSnAsBCOQDAR198+GHH4o+xNP/VqQv+nBOR9HcdNNN/JlOD4fPEIAABCAQVQQQdas5EHULBiEEYoSADpM/dOiQmYuq2eNV2v/++28j8DnJIq//oNekdIGh8irtLVq0kObNmzNEPkZ+G9ym/whMnz5dPvvsM5OcMlzty5YtK4MHD5a2bduGO4TtEIAABCAAgQIngKhbTYCoWzAIIRDjBHQZOBV27WmfOXOmGTqfW1XS+ewq7ZqYSgWeAgEIFDwBHWUzduxY+eWXX8zDu3B3pKNjunfvLueee264Q9gOAQhAAAIQKHACiLrVBIi6BYMQAnFGQKVdE9L99ddfZs127YUP9MR7rar2uOvyb9rL3qxZM5OgShPUBXritVeeAgEI5A+BZcuWyccffyy6hnpWJSkpSYYNG8aa6lmBYj8EIAABCBQYAUTdQo+oWzAIIRCnBHTe6qZNm2Tu3LlG3PUf9TpEPjDvPaN5rZGi0KXe6tWrZzLI69z2xMREM99dk9IVLVo00stwHAQgkE0C+ud26tSpouun6/KOWRV9oHb22WdL165dszqU/RCAAAQgAIECIYCoW9gRdQsGIQR8QkCzxuvweO2N09f27dvNMPm9e/dmOnw2Ejw1atQw0q697Rrr0lAq7ZphngIBCOQeAZ3qotnep02bFtFFNWFkx44dzVx1HqJFhIyDIAABCEAgnwkg6hZwRN2CQQgBHxLQJeDWrFljetpV2jds2CAq7Crz2uuek952lfTGjRtLzZo1zTB5TWily8LpdkTBhz82qpyrBDSJ5IQJE2TFihUh1y1fvryoyKf/86t/Fi+66CKpU6dOyDlsgAAEIAABCBQ0AUTdagFE3YJBCAEIyPr160WXe1JpT0lJkW3btsnu3btlx44dOaaj0q7zZDUZXZUqVURlQqWd3vYco+UCPiNw8OBBmTJlihn2rks22kUfhvXo0cNkgtfj7KLD308//XQ55ZRT7M3EEIAABCAAgagggKhbzYCoWzAIIQCBIAIq6Npbt3HjRiPuW7ZsMT3t2lOnve5eiyaeq1SpklnbuXr16lK7dm2ToE6T1Gmvuy4PR4EABMIT0JwTEydOFF2aLX0JJHrUTPB6nF30z5Yu0TZw4EDzkMzeRwwBCEAAAhAoaAKIutUCiLoFgxACEAhLQIfQrly5UjZv3mx63bXnXRNYBeRd13b3WrRXXeezq7Tre7Vq1Uxmau1113m1FAhAIJiAruig2d7XrVsXvMP5dMEFF8inn34qnTp1Ev0HT/qif8b69u1rllpMv4/PEIAABCAAgYIkgKhb9BF1CwYhBCAQEQGVch0Krz3tOqddh8jrSyVe5V2zyXstmniuatWq5qXirnNqK1asaCReM8xTIOB3Ajqa5fvvv5cvv/wy5M9a5cqVpV27diYb/JVXXikjR44MOUb/HJ100klmeDyjV/z+a6L+EIAABKKLAKJutQeibsEghAAEPBFQcVBJ11dA2lXgA4np0ie0ys6XqHioqOvcdhV4HSavw+ZV4ikQ8CMBzSHxySefyJw5c0Kqf8wxx5hlGDUZZPfu3U2P++LFi4OOK1SokLRq1Ur69+9vRq8E7eQDBCAAAQhAoAAJIOoWfETdgkEIAQjkmID2pmtvuyah0951zSivw3N1qLwOk89J0SRZKuuaEEvFXaVd123Xoby6jwKBeCego1lmz54tY8aMCVk7XVdS0D8L+rBMV2zQokPcx40bF4JFH3T16dNH2rdvH7KPDRCAAAQgAIGCIoCoW+QRdQsGIQQgkOsEtGdPxV1fKuurV6828q4ykZMh8jpkV3vaNfmczmVXQdElp2rVqmUS0+V6RbggBKKAwK5du2Ty5MnmlT4vRN26dU3yODsLvK6woCNb9M+hXXSKifa4n3nmmZKQkGDvIoYABCAAAQgUGAFE3UKPqFswCCEAgTwloL18KhoqDdrjvnz5cpOgTnvddbvXolnkdYk3lXZNTKeyrr3t+q49hyolFAjEAwH9szJ27FjRNdTTl9NOO01mzZplckcE9ukw944dO8qMGTMCm9x3zQ5/7rnnmj8r7kYCCEAAAhCAQAESQNQt+Ii6BYMQAhDINwLaG6g9f/rS3nYVEBV3Xb9dh8wfOnTI871oD2HJkiXNS3vbtaexfv360qBBA9Zs90yVEwuagK6JPnPmTHn33Xdl3759QbcTeFClD8ACw971ABX1oUOHyvPPPx90vH7QXA+9e/cWnddOgQAEIAABCEQDAUTdagVE3YJBCAEIFAgBTTancqHykZaWZobIawKspUuXmqHyOR0irz3qOoddBV6HAjdq1Mi86/x2CgRihcD27dtl0qRJ8uOPP4bcsvaO6xB3fciVvujvXP+M6SoNdtGRKMcff7wZ/q4jUSgQgAAEIACBgiaAqFstgKhbMAghAIGoIKC96Srn+lLxUGFPTk6WRYsWmR74nNykrsuuSbdU2nVYfJMmTaRp06Zm+C9D5HNClnPzmoDmd3jjjTfMg6z036VD2HXYu/5ZSV/0N3/ccceZJd3S72vcuLGcffbZ5sFV+n18hgAEIAABCOQ3AUTdIo6oWzAIIQCBqCOgPYE6TF5fKvALFiwwL5V2TU6Xk6LDgjUpnfYsli9fXrRXUl/a466Z5SkQiBYCOuJk+vTpZth7+uUOdQi7/tnQPA/pE8zp/euw+GHDhsmIESNCqqNrqp9zzjnSrVu3kH1sgAAEIAABCOQ3AUTdIo6oWzAIIQCBmCGgYqLLvs2bN8+8Vq5cGTJv12tlVGx0TnvLli3NS5eEU6GnQKCgCOiwd11m7Y8//gi5hQ4dOphh7ZrnIVwJTPuYP39+yCGdO3c2w9/1d06BAAQgAAEIFCQBRN2ij6hbMAghAIGYJaAJ6bS3XbNh6/Bf/Rzohc+olzE7FdXs8drT3qxZMyPwOpQ40BOvvfIUCOQ1AZXw5557Tnbu3Bn0Vfr702HvmoRx7ty5QfvsD9pz3rVrVzPH3d6usSZb1GvoFBAKBCAAAQhAoCAJIOoWfUTdgkEIAQjEBQGd275ixQoj7NqDuGnTJpOkTocPa+bsnJQKFSqIzuvVV2CIvIp7QN5zcm3OhUBGBDTJ4rfffisTJ04M2a2jP3Q1Ax3+nlXZvXu3/PnnnyGH6W/3rLPOMonlyNMQgocNEIAABCCQjwQQdQs2om7BIIQABOKSwObNm01v+5IlS0wWeV0SLpBhPie97dqrHsggr0Plk5KSTHZ5zTCv8kNve1z+nPK9Ujo65M0338xw7fTcuhlda12XatPfMAUCEIAABCBQUAQQdYs8om7BIIQABOKegAq6Do/X+e2akE4lKDU11WSTz8kycJpJXuf4qrDrq0aNGiYhnQ451jXdNWEdBQLZJaAPkvR3+swzz2T31Gwdr0u4DRgwwEzx4AFTttBxMAQgAAEI5CIBRN2CiahbMAghAAFfEQgkpAv0tOs605o5W1/a654+u3Z24GjWeJ37W6dOHbP0mw5NLlu2rHlpbzsFApEQ0OkaEyZMyHBptUjOz84xZ555ppx00kkmS3x2zuNYCEAAAhCAQG4RQNQtkoi6BYMQAhDwLQHtudy2bZsZGq+Ju7THfcuWLaLZtlXcVeq9Fu1R1x5LTUqnL43LlCkjlStXFu1xp0AgHAH9/T399NOyYcOGcIfk2vYWLVpIv379zGiQXLsoF4IABCAAAQhkgwCibsFC1C0YhBCAAAT+n4D2qK9du9a8UlJSzPJXKk2amE57OXNSqlWrZiRde9xV2vWzruOuve4sA5cTsvF1ro7o+Ouvv+SVV17Jl4rpw6PBgwdL69at+R3mC3G+BAIQgAAE0hNA1C0iiLoFgxACEIBABgQ0U7z2aGoPu8q7yrr2uGuSOu1tz0nRxHM6n71KlSrmXee5q7jrS/dR/EtART05OTniJHIzZswwv830xAIrFKTfntHnNm3amOkamnOBAgEIQAACEMhvAoi6RRxRt2AQQgACEIiAgK5lvX79eiPqOq9dpV3lXV85Wf5N5ahixYomKZ32tFevXt30uGsmbp3zTkK6CBrHx4c8//zzMm/evCACmhiuV69e5hW0gw8QgAAEIACBKCSAqFuNgqhbMAghAAEIZJOAZpHXnnUdFq/Srj3uq1evNj3we/fuzebV/j1cpVyHIutweH0FxF2T02lvO0Pk/2VF9A8BRJ1fAgQgAAEIxDoBRN1qQUTdgkEIAQhAIAcENOGcLvemSelU3FXaNTHdqlWrzPacrNmekJBgetUD4q5LwKm8N2jQQIoXL56Du+bUeCGAqMdLS1IPCEAAAv4lgKhbbY+oWzAIIQABCOQSAZ1frAnpdI12HSqvc9y1p33lypXmlRNp1952HQpfqlQpqVChgtSsWdMsBdeoUSMzdD6XqsBlYowAoh5jDcbtQgACEIBACAFE3UKCqFswCCEAAQjkEYEDBw6IDoVXedce9xUrVsiyZcvMu4p8ToomnVNp13XadVi8Jg/TjPK6FBxJwXJCNrbORdRjq724WwhAAAIQCCWAqFtMEHULBiEEIACBfCCgve06tz0tLc3Iu0r70qVLZcmSJSZJXU5uQcVcxV2Hymtiunr16kmzZs2kYcOGRuZzcm3OjW4CiHp0tw93BwEIQAACWRNA1C1GiLoFgxACEIBAARDQTPHa467yrgnpFi1aZJbl0qHyOUlIpxm/ixUrZl7a466yrq9WrVoZidf9lPghgKjHT1tSEwhAAAJ+JYCoWy2PqFswCCEAAQgUMAHtbdf565qYThPSLV682KyjPX/+fDPfPSe3p3Pb9aUZ43Xt9qZNm0qHDh3MMPmcXJdzo4MAoh4d7cBdQAACEICAdwKIusUOUbdgEEIAAhCIUgLa2758+XKzTraulZ2SkmKEXsU+p6V06dJy1FFHmQzyKu+aoI7e9pxSzf/zEfX8Z843QgACEIBA7hJA1C2eiLoFgxACEIBAjBBYt26dGR6/YMECM1Ree+D1pb3xOZF3XepNl37Tee360p537YHXl/bGU6KXAKIevW3DnUEAAhCAQGQEEHWLE6JuwSCEAAQgEIMEdAk4ndeuL80kr1nl9+/fb+a9q7x7LSrnVatWNUPkmzRpIrVr1xbtfVeZ17nv9Lp7JZs35yHqecOVq0IAAhCAQP4RQNQt1oi6BYMQAhCAQIwT0CHymoQukEVe12/X7PL6UnnPSW+7DonXZd90vXZ96VrummFeXywDV/A/HES94NuAO4AABCAAgZwRQNQtfoi6BYMQAhCAQBwR0N70zZs3m7ntOr997dq1smPHDrOW++7du3Mk7dqrruu06zB5fSUlJZnl37THXcWdkv8EEPX8Z843QgACEIBA7hJA1C2eiLoFgxACEIBAHBNQSVdZX7VqlZF3zSq/Z88ek11ee9tzUqpVqyZ16tQxPe76XrZsWfPSZeHobc8J2cjPRdQjZ8WREIAABCAQnQQQdatdEHULBiEEIAABnxDQddvXr19v1m3Xee2bNm2SrVu3yq5du0yvu1cMOm9de9W1t71mzZrmpfPcddh8+fLlJSEhweulOS8LAoh6FoDYDQEIQAACUU8AUbeaCFG3YBBCAAIQ8CmBnTt3mp52FXbtcdch89rjronpVOq9FhVzFfXq1asbeU9MTJRKlSqZlwo9meS9kg09D1EPZcIWCEAAAhCILQKIutVeiLoFgxACEIAABEQT0mlvu0q7vuua7SruGzdulL1793ompFnktVddZV1fKu86ZF5FvkqVKmSR90z2nxMR9RwC5HQIQAACEChwAoi61QSIugWDEAIQgAAEgggcPHjQ9KqrqKu46xz3wLv2wuu67V6L9qhXrlzZSLpKuyakU4FXeS9ZsqTXy/r2PETdt01PxSEAAQjEDQFE3WpKRN2CQQgBCEAAApkSUDnXIfFbtmwxPew6TF7FfeXKlZmel9VOTThXsWJF81J51znuKu81atQw27I6n/0iiDq/AghAAAIQiHUCiLrVgoi6BYMQAhCAAAQiJqCZ4nUOe2pqqhF3TUqn67avWLHCZJOP+ELpDtSEdGXKlDHD5FXetaddhV3lXWNdGo4SSgBRD2XCFghAAAIQiC0CiLrVXoi6BYMQAhCAAAQ8E9Dl33R9du1x17ntKu6rV6828u71oirtKuY6TF7lXXvb69atK7Vr15YGDRqYtdu9XjvezkPU461FqQ8EIAAB/xFA1K02R9QtGIQQgAAEIJBjAkeOHDEJ6XSNdn1pMjqVdn3pHPecrNmuWeJ1bXadw67vDRs2ND3tzZo1M5nkVez9WhB1v7Y89YYABCAQPwQQdastEXULBiEEIAABCOQ6AU1Ip5nk09LSTG/7kiVLZPny5bJw4cIcZZHXG9Xl37THXcVdM8e3bNnS9LY3bdo01+sR7RdE1KO9hbg/CEAAAhDIigCibhFC1C0YhBCAAAQgkKcEtLdd12VXedee9eTkZDOnffbs2Waee06+XHvbVdo1MZ0OlW/durXUr19ftLddh83He0HU472FqR8EIACB+CeAqFttjKhbMAghAAEIQCBfCejybvo6dOiQyR4/c+ZM09s+f/78HN+Hrtuu8l6iRAmpV6+e6W1Xadds8vFYEPV4bFXqBAEIQMBfBBB1q70RdQsGIQQgAAEIRAUBHSY/b94889Jed10OTov2yOe0aPb45s2bS5s2bYzAFytWTOJhbjuintNfBudDAAIQgEBBE0DUrRZA1C0YhBCAAAQgEHUEdH77mjVrZMGCBWZeu2aU12Hz2guvr5yUcuXKSYsWLUxSurZt25red+2F1+HzsSbviHpOfgmcCwEIQAAC0UAAUbdaAVG3YBBCAAIQgEDUE9i4caMsWrRIFi9ebIbJ65JwOu9d5T2nPe6ajK5OnTpmfrsuBafJ6lTatdc92guiHu0txP1BAAIQgEBWBBB1ixCibsEghAAEIACBmCKwa9cuWblypWgm+aVLl8q2bdtMdnkdOq/y7rVob3rVqlXNEHkVd12zXTPL63x3lXftdY+2gqhHW4twPxCAAAQgkF0CiLpFDFG3YBBCAAIQgEBME1ixYoXJIq/v69atE+1t15cOn9ekdV6LZo3XNdvr1q1r5rVXrFjRrOOu27XHPRoKoh4NrcA9QAACEIBATggg6hY9RN2CQQgBCGRJQIcW7927V3bu3Gl6LnMiP1l+GQdAwCMB/V1u3bpVVq1aZV4bNmwwv1ddFk7ntedkiLz2qNeoUcOs167Z5FXadVm4gu5lHzNmjJkKYCPTkQHHHnusednbiSEAgYIhoKtR6H8v9CGfLiNZ0P/dKBgKfCsEwhNA1C02iLoFgxACEAhLYPv27Sbztg4tTklJMfKjsYoPBQLRTkDFXYfDa896TnvX09dVh8RrUjr9B3hBFs2Mr3VLX8qWLSv6okAAAgVPQCVd/3uhy0TqA78qVapIYmKiEfdYS2BZ8DS5g3gkgKhbrYqoWzAIIQCBEAIq4tor+dtvv7k9k3v27Ak5jg0QgAAEIAABCEROQEfnqLA3atTIXX1C82BQIOBnAoi61fqIugWDEAIQCCKgPeZ//fWXzJw502TYDtrJBwhAAAIQgAAEcoVA7dq1pVWrVqLLROqUGnrXcwUrF4lBAoi61WiIugWDEAIQMAS0F3358uUybdo0mT17tqSmpkIGAhCAAAQgAIE8JKCJKTVpZffu3aVNmzYxsSxkHuLg0j4lgKhbDY+oWzAIIQAB0eWupk+fbnrRNXM2c9D5UUAAAhCAAATyj0BSUpJ07txZTj31VGQ9/7DzTVFCAFG3GgJRt2AQQsDnBFTKv//+e5kyZYrJmJ1VZuxixYtJmbKlpUjRgk2i5fNmo/oFQODwocOyf/9+k0CuWDFneTYnuzoFAhCAQGYENKnlntS9krY3LbPDzD5NAHn66acbWc/yYA6AQBwRQNStxkTULRiEEPA5geTkZBk/frysXLky7PJVRR0pqVWvhiTVqCZVq1eVsuXLMJfO578bP1ZfH2IdcmS9cOFCLK/kxx8AdYaABwJmedM9abIpZbOsW7XeeaVkKu2aEb5v377Svn17D9/GKRCITQKIutVuiLoFgxACPiaga05/8sknZsj7gQMHMiShveedju8o9ZvWkxIlEqR4grN2dJHCGR7LRghAAAIQgAAEggkccXrV9+8/IGmOsG9Yt0n++n2OrF+dIocOHgo+0Pmka6zXqVNHLrroIpMdPuQANkAgDgkg6lajIuoWDEII+JSADnn/7rvvZPLkyWaOekYYGjSrL11P6iyVqlQQHfJOgQAEIAABCEDAOwGV8x3bd8ncGfPk7z/nOb3r+0Iupuuu63z1QYMGhexjAwTikQCibrUqom7BIISATwksWrTI9KYvW7YswyHvx512jLQ5urUklCjOMHef/kaoNgQgAAEI5D4BZxaN6Ci233+cIbN+myP79+0P+ZLExES54IILpFmzZiH72ACBeCOAqFstiqhbMAgh4EMCe/fulc8++8wkkcsoeVwDZ5h77/N7kjDOh78NqgwBCEAAAvlDQHNe/PDFj07P+gIn/0XwMPhixYpJp06dZMiQIflzM3wLBAqQAKJuwUfULRiEEPAhAe1NnzBhgmhvevpSomSCDLpmgJSvWC79Lj5DAAIQgAAEIJCLBPal7Zd3R34o27fuCLlqrVq1ZODAgdKgQYOQfWyAQDwRQNSt1kTULRiEEPAhgWnTpplM7zt37gyqvSaxOfnME6RVh+YkjAsiwwcIQAACEIBA3hD44+eZ8svkaaJLudmlQoUK0rNnT+nevbu9mRgCcUcAUbeaFFG3YBBCwGcE9u3bJ1999ZVMmjQppOa6BFuvAT2kdJlSIfvYAAEIQAACEIBA7hPQOeqjX/xAdmwLfniuw9+7dOli5qrrg3QKBOKVAKJutSyibsEghIDPCKxdu1Y+/fRTmT17dkjNdRm2zt2PMkuwhexkAwQgAAEIQAACeULgxy9/kRlT/wq5tiaTGzx4sOj66hQIxCsBRN1qWUTdgkEIAZ8RSE5OlnHjxsmqVauCal6kSBE58/wzpH7jegx7DyLDBwhAAAIQgEDeElg4d5F88dHXIV/SsGFDGTBggFlbPWQnGyAQJwQQdashEXULBiEEfEZg7ty5MmbMGNm4cWNQzTV53DlDekulqhWDtvMBAhCAAAQgAIG8JaDJ5N54enTIl9SoUUPOOeccad26dcg+NkAgXggg6lZLIuoWDEII+IxAOFFPrFFNep13hlSoXN5nRKguBCAAAQhAoOAJPHX3CyE3kZSUJH369JEOHTqE7GMDBOKFAKJutSSibsEghIDPCCDqPmtwqgsBCEAAAjFBAFGPiWbiJvOAAKJuQUXULRiEEPAZAUTdZw1OdSEAAQhAICYIIOox0UzcZB4QQNQtqIi6BYMQAj4jgKj7rMGpLgQgAAEIxAQBRD0mmombzAMCiLoFFVG3YBBCwGcEEHWfNTjVhQAEIACBmCCAqMdEM3GTeUAAUbegIuoWDEII+IwAou6zBqe6EIAABCAQEwQQ9ZhoJm4yDwgg6hZURN2CQQgBnxFA1H3W4FQXAhCAAARiggCiHhPNxE3mAQFE3YKKqFswCCHgMwKIus8anOpCAAIQgEBMEEDUY6KZuMk8IICoW1ARdQsGIQR8RgBR91mDU10IQAACEIgJAoh6TDQTN5kHBBB1CyqibsEghIDPCCDqPmtwqgsBCEAAAjFBAFGPiWbiJvOAAKJuQUXULRiEEPAZAUTdZw1OdSEAAQhAICYIIOox0UzcZB4QQNQtqIi6BYMQAj4jgKj7rMGprkvgj2l/ysfvT5CUdSnuNg1efX+kFE8oHrSND1FG4IhzP4Wi7J64HQjkMgFEPZeBcrmYIYCoW02FqFswCCHgMwKIus8anOq6BL7+fLI8O+IFWbZkubtNg9kr/5ASJUsEbeNDdBA4fPiwpO7aLSuXrZTW7VtFx01xFxDIIwKIeh6B5bJRTwBRt5oIUbdgEELAZwQQdZ81ONV1CSDqLoqoD/4R9FRZOG+RPPvI81KjVg15ctSjUX/f3CAEckIAUc8JPc6NZQKIutV6iLoFgxACPiOAqPuswamuSwBRd1FEdXDwwEFZtGCxfDh6jHw0epwULVpEevQ5A1GP6lbj5nKDAKKeGxS5RiwSQNStVkPULRiEEPAZAUTdZw1OdV0CiLqLIqqDVStWy9CLb5Tk+YvkyJEjiHpUtxY3l5sEEPXcpMm1YokAom61FqJuwSCEgM8IIOo+a3Cq6xJA1F0UUR3M+nOOXD1oqGzdstXcJz3qUd1c3FwuEkDUcxEml4opAoi61VyIugWDEAI+I4Co+6zBqa5LAFF3UUR1gKhHdfNwc3lIAFHPQ7hcOqoJIOpW8yDqFgxCCPiMAKLuswanui4BRN1FEdUBoh7VzcPN5SEBRD0P4XLpqCaAqFvNg6hbMAgh4DMCiLrPGpzqugQQdRdFVAeIelQ3DzeXhwQQ9TyEy6WjmgCibjUPom7BIISAzwgg6j5rcKrrEkDUXRRRHSDqUd083FweEkDU8xAul45qAoi61TyIugWDEAI+I4Co+6zBqa5LwKuo79i+QzZv2uJep0yZMlKpSkUpVqyYuy1tb5rMnTVP1q5eK1s3b5PUXalSoVIFKVO2tFRLrCb1GtSRpBpJUrRYUfec3AqWLV4uK5etlNTUVNmzJ00qOt9buUplqVWnpiRWr+bpazTb+uRJ3wWdWzWxqrQ/qm3Qtqw+HDhwQH745segwypXqSTNWzWTUqVLBW0PfEDUAyR49xsBRN1vLU59AwQQ9QAJ5x1Rt2AQQsBnBBB1nzU41XUJeBX1b774Vt557X33Oh07t5cBF/Z3xDtRVNB/+v4X+f7rKbJ4wRJRqd+9e4/s37dPSpYsKQklEhxZd8S+ckVp06G19O7bSxo2aeBeK7Ng7aq18uRDz7qHqHj3OrunNG3ZxJHy3fLnb3/KtJ9/l4V/J5sHCfvS9omKcclSJaV0mdLOd1aSpi0ay9HHdJT2R7eTsuXKutfKKjhy+Ij0PK5P0GFdunWS+x67O2hbVh/0gUW/My4IOkxl/5qbrzIPEgI73nntPZn5xyzzcdvW7fLn7zMdhvvN50KFCkn1mknSLt1DgmO7HyN9B54TuATvEIh5Aoh6zDchFfBIAFG3wCHqFgxCCPiMAKLuswanui4Br6KuEvnQXY+61zn5jBPltvtulhIlE+TNkW8bUV/jSPWB/QfcYzIKypUva4S5/6BzpasjmeF6lAPnzp+7UM4+uV/go7Rs00JuuvsGp3e+rox992PzcGDNqjWy1+lF1x7w9EUFV4VdJbdT16Ol/+C+0syR/EjK4cOHpXlScO/5SaefIKPeeSGS091jdu7YKUc3Ptb9rMExx3eRex8dLg0a1Xe333TlbfLFhC/dz5EEF1x8XrYfHERyXY6BQEERQNQLijzfW9AEEHWrBRB1CwYhBHxGAFH3WYNTXZdAbor6kMsHyvgPPzWyrL3GGYmy+8VWUKx4Maldt5ZcPewKOfU/J5veb2t3UJiRqJ89oI8smr9Yvv78G9m5Y1dE36vCrg8Fjj+pm1x90xVOL3vWso6oBzUFHyCQLwQQ9XzBzJdEIQFE3WoURN2CQQgBnxFA1H3W4FTXJZBbot6xcwc54vwveV6y7E7d415fe64bN2sk1ZKqOb3ce2XWjNnOnPV17v5AUKhwIenYqb3Tq3xXptKcXtTrN6wnFZ0h9DrUfc+ef7+3Vt2aZlh4nbp1pEiRwrI4eYn8/P1U5952B77SvJcoUUJOPL27XHPTVdKkeaOgfek/IOrpifAZAnlPAFHPe8Z8Q3QSQNStdkHULRiEEPAZAUTdZw1OdV0CuSXqmkTu8JHDcujgIXPtts7c84GXXSA6Z7qYkyyuSJEipqd7185UmT1zjnw0eqxM++l39z40KFq0qNx6303Sz5ljrcPTMyrpRb1I0SJSyPnfwYMHzeEVK1WUwc739jq3p5kDr9fUovPU1zkPCN4c9bZ8OvZzsy3wf8WLF5ezzust1zpzxHWOfbiS36Kuc/vT9u4ztzNvzny58/p7ZPu27eaz8tRh9/c8MjzodkuVLpmtefdBJ/MBAlFIAFGPwkbhlvKFAKJuYUbULRiEEPAZAUTdZw1OdV0CuSXq7gWdQEVZE6OVr1DOCLq9T+NDhw452eD/lqcffl5+/2V60G7t3b774TuDkqrZB6QXdXuf9t7fdu9NcpIzX14T1unwdrvoUPzt23bI/0aNlndef0/2OAnuAkWzwt9yz42ZJmLLb1EP3Ju+k/XdpkHsJwKIup9am7raBBB1iwaibsEghIDPCCDqPmtwqusSyG1RP6t/b7n9vzc7S7VVcr8jXDDp06/k0XufkA3rN7qHtGjdTJ4c9VjYLPDhRF1F+1ZH0nv36xW0RJx7YSvQDPRj3/lYHr3viaD57Kf95xQZdufQsN+NqFsQCSGQTwQQ9XwCzddEHQFE3WoSRN2CQQgBnxFA1H3W4FTXJZCbol7O6UEf+dZz0rFLBylcuLD7HeGCJclL5ZkRz8u3X37vHlK7Xi15yblGuORuGYm6fteAi/rL1Tde4azPXtW9VmaBrrN+320PyvSpf7iHVUuqKnc9fIecceZp7jY7QNRtGsQQyB8CiHr+cOZboo8Aom61CaJuwSCEgM8IIOo+a3Cq6xLITVE/pedJMvzB26Vm7Rru9TMLNqZskucff8ksq2YfN+bL96Rtxzb2JjfOSNQ1odwt9wyTU3qe7B6XVaBZ6T94e4w89eCzQb3qt9w9TAY72etLlCwRcglEPQQJGyCQ5wQQ9TxHzBdEKQFE3WoYRN2CQQgBnxFA1H3W4FTXJZCboq7J2C68cpAzN728e/3MAl1jfeTTr5iXfVx2RV2HrN901w1Sv1E9+zJZxr/+OE1udNYq3771nwRtekKP3qfLDXdeJyr/6Quinp4InyGQ9wQQ9bxnzDdEJwFE3WoXRN2CQQgBnxFA1H3W4FTXJZCboq4ZyM85/ywpVaqke/2sglHPvCrPPvJC0GFvj39DOnU9KsPh8+l71DWj/OVDL3WWV7tSdD327JT5cxfIg8MfkZm//+We1s7pyR/+0O0Z9ugj6i4mAgjkGwFEPd9Q80VRRgBRtxoEUbdgEELAZwQQdZ81ONV1CeSmqL/x0SvS7cSu7rUjCTIS9Yeevl/O7PsfKeFkbk9f0ot6lWpV5PrbrpHzhvRLf2iWn1cuWyXPPPK8fPnp1+6xujybfv9xJx3rbgsEiHqABO8QyD8CiHr+seaboosAom61B6JuwSCEgM8IIOo+a3Cq6xKIRlG/e8Sd0veCs6VkBj3z6UW9boM6MuyOodLzrDPcOkUabN64WV574U1565V3gk55+tXH5T9n9Qjaph8Q9RAkbIBAnhNA1PMcMV8QpQQQdathEHULBiEEfEYAUfdZg1Ndl0Csi3rLNi3kprtvkG4nZK8nXwHomupvvTJaRj39qstDA0Q9CAcfIFCgBBD1AsXPlxcgAUTdgo+oWzAIIeAzAoi6zxqc6roE/Czqu3bukndee1+ee+xFl4cGiHoQDj5AoEAJIOoFip8vL0ACiLoFH1G3YBBCwGcEEHWfNTjVdQn4WdS1R/1tZ9i7Zp63C6Ju0yCGQMESQNQLlj/fXnAEEHWLPaJuwSCEgM8IIOo+a3Cq6xLws6hv3bJN3hz1trz2/BsuDw0Q9SAcfIBAgRJA1AsUP19egAQQdQs+om7BIISAzwgg6j5rcKrrEoh1UW/YpIEMu3Oo6Frq2S3r1qyXF58cJR+/P8E9NTGpmjz8rGZ97+ZuCwS5lUxuwd8L5ayTgrPUH3N8F7n30eHSoFH9wNcFvc/6c45cPWiobN2y1WwvWrSI9Ohzhjw56tGg4/gAgXgjgKjHW4tSn0gJIOoWKUTdgkEIAZ8RQNR91uBU1yUQ66JeLamqDL3tWuk/6Fy3TpEGixcukcfue1J+/mGqe0rb/19HXddTT19yS9R/+OZHuWrQdUGXR9SDcPABAi4BRN1FQeAzAoi61eCIugWDEAI+I4Co+6zBqa5LINZFvWjRonL50Evk2puvkmLFi7n1iiT449cZcvvQu2Tt6nXu4Wf0Ps0s91a/UT13WyDISNS7dOtkerWrJlYNHJbp+5EjR+T5x1+SkU8Fz4tH1DPFxk4fE0DUfdz4Pq86om79ABB1CwYhBHxGAFH3WYNTXZdArIu6VuTUnifLTXfdIA0aZzxs3K2sFaTuSpWP3hknTz34rBw6dMjdo8J/8dVDpGy5su62QJCRqLc/up08/Mz9okPwIykq6uf3GiJ//TEr6HBEPQgHHyDgEkDUXRQEPiOAqFsNjqhbMAgh4DMCiLrPGpzqugTiQdQrV6kk1zvD38+94OyIe9V12PtdN94ns52534FSq05NufOB2+TkHidKoUKFApvddxX1oxsfKyr5gVK/YT2zjnukc+T/mDZDLjr3cjl48GDgEuYdUQ/CwQcIuAQQdRcFgc8IIOpWgyPqFgxCCPiMAKLuswanui6BeBB1lepjjussN989TFq1a+nWLVyg66e/+8YH8vxjL4nKd6D0Oqen3HD7tVKnfp3ApqB37Q2/evBQ0TnmgaLD7c/q31vufvgOKVGyRGBzhu/J8xbJJQOulM0bNofsR9RDkLABAoYAos4Pwa8EEHWr5RF1CwYhBHxGAFH3WYNTXZdAPIh6oDJnnvsfGXrrNY5o186wR1yP27tnr0z8+At59L4nZE/qnsCpUrtuLbnlnmFyRu/T3W3pAxX1l5y55S84c8ztUr5ieRly2UC55JoLpWSpkkHfreccOXxEZvw+U2666jbZlLLJnKoPF3RfoEQk6s5Dgq2b/8n6rudphvqPvnxPqtdMClyGdwjEHQFEPe6alApFSABRt0Ah6hYMQgj4jACi7rMGp7ougXgSda3U8Sd3k8uuvViat24mxYsXlyJOsjnHiOWgMw9de9Kffvg5mfDhp279NdCEdP0H93Uk/2qp5Ayjz6wkz18k/U4/X/bt2x90mPasH33MUdK7by9pf1RbqVCpvGzZtFVmOnPRv/vye5k6ZZrs3//POSrz9RrWlQVzF7rXyErUNzqCf+6p58nGDf+Ivp6oPfj6fUOuGCRVq1WWPbv3muupuGc0dN/9MgIIxBABRD2GGotbzVUCiLqFE1G3YBBCwGcEEHWfNTjVdQnEg6gXdyRZ+6YP7D9g6qUifFSXDk6Ct4bSpHljSdubJsnzk2XK5J9lw/oNbt010HO7n3K8s8TbNdK0RZOgfRl92Ldvn7z05Msy+rX3TO98Rsdktq1M2TIy6NLzZfu2HfLh22PcQ7MSdT2wZ7c+smzx8qCeePcC/x/o8P27R9whFStVTL+LzxCISQKIekw2GzedCwQQdQsiom7BIISAzwgg6j5rcKrrEogHUe907FGm91yXW0vf0+1WNF2gPc4q9Dq3/cobLhNdPz3Soj3zLzw+Uj4ZM1F2bN8Z6Wmmt/7CKwbKRVcNkUfueSLbov7myLfkOWdevT54CFeOO6mb3HH/LdKoacNwh7AdAjFFAFGPqebiZnORAKJuwUTULRiEEPAZAUTdZw1OdV0C8SDqV994hRx7wjHyv1Gj5U9nLvjOHbuCksS5ldXASeZeIiFBatSuIV27HyMDLx6QrWXdAtfavnW7vPfmB/LNpO+cXvqNssPpIbcT0wWOK1KkiFRw5rBXr1VdzhnQRwZe4gybT9snz4x4Xj7+8JPAYdLJGTZ/6303Sb0Gdd1t6YMtm7bIHdffLb9P/cNcI/1+/dysVVO5afgNziiB4zLazTYIxBwBRD3mmowbziUCiLoFElG3YBBCwGcEEHWfNTjVdQnoet4Tx30RMiT82defNL3U7oHpgilO5vMx734ctPU6J5FbC2dueHbKlxO/ls+c77eLzhfvenwXKZ5Q3N5s4vnOvO6zT+4XtF1FfdidQ2VJ8lL55vNv5deffpO1q9c5Mpsm2xyhLlyksJRz1kUvV76cWR+9ZdsWctLpJ0iXbp0koURC0LWy8+HAgQOyfMkKZ0j9TzJrxmwzf1yXblNhL1mypJlDXs1J+Nb+qDZyWq9TpabzcEB78nVptp++/UX+nj3P/TpNZnfCqcdLxcqZD1lfs3KtvPr86zLLWVZOe/bt3vUiRYuYof6XXnOR8+Ciq3ttAgjEMgFEPZZbj3vPCQFE3aKHqFswCCHgMwKIus8anOrGLIHMRD1QqYXOMmgqwTu2bTdzuos689BrO2uk16pTS5JqJEk7R5xzu+xO3W2+K8WZA3/QEfhKlSs5CeUqSF1nqbeslm3zci/Tfv5d1qxaI9u37nBPT3AebNR06tmyTQunnonudgIIxDIBRD2WW497zwkBRN2ih6hbMAgh4DMCiLrPGpzqxiyBSEQ9ZivHjUMAAiEEEPUQJGzwCQFE3WpoRN2CQQgBnxFA1H3W4FQ3Zgkg6jHbdNw4BDwRQNQ9YeOkOCCAqFuNiKhbMAgh4DMCiLrPGpzqxiwBRD1mm44bh4AnAoi6J2ycFAcEEHWrERF1CwYhBHxGAFH3WYNT3ZglgKjHbNNx4xDwRABR94SNk+KAAKJuNSKibsEghIDPCCDqPmtwqhuzBBD1mG06bhwCnggg6p6wcVIcEEDUrUZE1C0YhBDwGQFE3WcNTnVjlgCiHrNNx41DwBMBRN0TNk6KAwKIutWIiLoFgxACPiOAqPuswaluzBJA1GO26bhxCHgigKh7wsZJcUAAUbcaEVG3YBBCwGcEEHWfNTjVjVkCiHrMNh03DgFPBBB1T9g4KQ4IIOpWIyLqFgxCCPiMAKLuswanujFLAFGP2abjxiHgiQCi7gkbJ8UBAUTdakRE3YJBCAGfEQgn6mXKlZG+F/WRytUq+YwI1YVAdBJYuXyV3HvT/UE317tfLzn3grODtvEBAhCIfQIbUzbJOy9+GFKRpKQk6dOnj3To0CFkHxsgEC8EEHWrJRF1CwYhBHxGYMmSJTJu3DhZvnx5SM3PGtRL6jeuK4WLFA7ZxwYIQAACEIAABPKGwB8/z5Sfvp4acvG6detKv379pHHjxiH72ACBeCGAqFstiahbMAgh4DMCGzZskIkTJ8qMGTNCat6uc2vpdsoxklAyIWQfGyAAAQhAAAIQyH0CR46IfPbhJFk8b2nQxQsVKiTt2rWTSy65RIoXLx60jw8QiCcCiLrVmoi6BYMQAj4jsG/fPvnmm29k0qRJcvjw4aDaV6teRc4c0FMqVC4ftJ0PEIAABCAAAQjkDYGd23fJuyM/lL170oK+oFSpUqL/Zu/du3fQdj5AIN4IIOpWiyLqFgxCCPiQgPamjx8/XrZs2RJS+87djxJ9FSteLGQfGyAAAQhAAAIQyD0CB/YfkJ+/+VVm/T5XjmjXulWqVq0qZ599tnTs2NHaSgiB+COAqFttiqhbMAgh4EMNP2WPAAAG1UlEQVQCOj99woQJkpycHFJ7FfQ+F/xH6jaqHbKPDRCAAAQgAAEI5A6Bw4ePyMI5i+TbiT+ICrtddNh7gwYNZPDgwVK9enV7FzEE4o4Aom41KaJuwSCEgA8J7Nq1S77++mv56aefRIfCpy9JtRKlV//TpXwlhsCnZ8NnCEAAAhCAQG4Q2Lh+s3w1/lvZnLI5pDedYe+5QZhrxAoBRN1qKUTdgkEIAZ8SWLp0qXz22WeyaNEiOXToUAiFlu2bSYeu7Zzl2ipLEbLAh/BhAwQgAAEIQMALgYMHDsqmDVtk5q+zZMmCZaKf7VKkSBFp0qSJnH/++ZKYmGjvIoZAXBJA1K1mRdQtGIQQ8CkBlfM//vhDvvjiC9m4cWOGFOo5S7U1bd3YLNlWumypDI9hIwQgAAEIQAACkRHYsW2nrFq6WhbMTpb1q1Pk4MHQB+WVKlWS/v37S/v27SO7KEdBIMYJIOpWAyLqFgxCCPiYQGpqqhkCP3XqVNm9e3eGJEqXLS1NWjWSRs3qSwVnKHzpcmXoYc+QFBshAAEIQAACoQQOOTKeuitVtm7aLksXLpdlzit11+6Q4e56ZrFixeSEE06Qs846S4oWLRp6MbZAIA4JIOpWoyLqFgxCCPicwNq1a2XcuHEmsVxGQ+AVT5GiRaRqYhUpX7GcVKxSQSpVrSglWGvd578cqg8BCEAAAlkR2Je2X7Zs3CpbN2+T7Vu2y7YtO0ISxwWuoQnkGjduLBdeeKFUqVIlsJl3CMQ9AUTdamJE3YJBCAGfE9C11GfNmiUTJ06UlJSUDJ/w24iKFisqZZxedpZvs6kQQwACEIAABEIJ6Pxz7T1Pn9U99EiRatWqmXnpLVq0yGg32yAQtwQQdatpEXULBiEEIGAyvy9evFh+/PFHWbBggRw4ELxMDIggAAEIQAACEMg7Am3atJFTTjlFGjVq5EwvK5J3X8SVIRCFBBB1q1EQdQsGIQQgYAhoz/qmTZvkr7/+ksmTJ4vOX6dAAAIQgAAEIJB3BCpXrmzmpKuoJyUl5d0XcWUIRDEBRN1qHETdgkEIAQgEEdizZ4/ovHXNBq+96xQIQAACEIAABHKfQKtWreSMM86Q2rVrS4kSJXL/C7giBGKEAKJuNRSibsEghAAEQggcOXJEduzYIXPnzjVLuK1YscIMjw85kA0QgAAEIAABCERMoFSpUlKnTh3p0qWLWSu9YsWKUrhw4YjP50AIxCMBRN1qVUTdgkEIAQiEJXDw4EEj6GlpabJ06VKZN2+eqLRr0jkKBCAAAQhAAAKZE0hISJDExEQj582aNZN69eqJyrpuZ/m1zNmx1z8EEHWrrRF1CwYhBCAAAQhAAAIQgAAEIAABCBQIAUTdwo6oWzAIIQABCEAAAhCAAAQgAAEIQKBACCDqFnZE3YJBCAEIQAACEIAABCAAAQhAAAIFQgBRt7Aj6hYMQghAAAIQgAAEIAABCEAAAhAoEAKIuoUdUbdgEEIAAhCAAAQgAAEIQAACEIBAgRBA1C3siLoFgxACEIAABCAAAQhAAAIQgAAECoQAom5hR9QtGIQQgAAEIAABCEAAAhCAAAQgUCAEEHULO6JuwSCEAAQgAAEIQAACEIAABCAAgQIhgKhb2BF1CwYhBCAAAQhAAAIQgAAEIAABCBQIAUTdwo6oWzAIIQABCEAAAhCAAAQgAAEIQKBACCDqFnZE3YJBCAEIQAACEIAABCAAAQhAAAIFQgBRt7Aj6hYMQghAAAIQgAAEIAABCEAAAhAoEAKIuoUdUbdgEEIAAhCAAAQgAAEIQAACEIBAgRBA1C3siLoFgxACEIAABCAAAQhAAAIQgAAECoQAom5h7969u3z00UfWFkIIQAACEIAABCAAAQhAAAIQgED+Evjtt99kzpw5cu+99+bvF3v4tkJHnOLhvIhPGTx4sBw8eDDi4zkQAhCAAAQgAAEIQAACEIAABCCQ2wQOHz4sp512mlx66aW5felcv16ei3qu3zEXhAAEIAABCEAAAhCAAAQgAAEIxDEBRD2OG5eqQQACEIAABCAAAQhAAAIQgEDsEUDUY6/NuGMIQAACEIAABCAAAQhAAAIQiGMCiHocNy5VgwAEIAABCEAAAhCAAAQgAIHYI4Cox16bcccQgAAEIAABCEAAAhCAAAQgEMcEEPU4blyqBgEIQAACEIAABCAAAQhAAAKxRwBRj702444hAAEIQAACEIAABCAAAQhAII4JIOpx3LhUDQIQgAAEIAABCEAAAhCAAARijwCiHnttxh1DAAIQgAAEIAABCEAAAhCAQBwTQNTjuHGpGgQgAAEIQAACEIAABCAAAQjEHoH/A7+L0C/772FWAAAAAElFTkSuQmCC)\n",
        "\n",
        "---"
      ],
      "metadata": {
        "id": "BHe2s1cDm6Cv"
      }
    },
    {
      "cell_type": "markdown",
      "source": [
        "**Concatenate:**\n",
        "\n",
        "* Concatenate() layer, and once again we immediately use it like a function, to concatenate the input and the output of the second hidden layer (you may prefer the keras.layers.concatenate() function, which creates a Con catenate layer and immediately calls it with the given inputs)."
      ],
      "metadata": {
        "id": "n_P6nCgy2Ihx"
      }
    },
    {
      "cell_type": "code",
      "source": [
        "#create input layer\n",
        "input_A=keras.layers.Input(shape=[5])\n",
        "input_B=keras.layers.Input(shape=[6])\n",
        "hiden1=keras.layers.Dense(30,activation=\"relu\")(input_A)\n",
        "hiden2=keras.layers.Dense(30,\"relu\")(hiden1)\n",
        "concatenate=keras.layers.concatenate([input_A,hiden2])\n",
        "output=keras.layers.Dense(1)(concatenate)\n",
        "wideModel=keras.models.Model(inputs=[input_A,input_B],outputs=[output]) #Lastly, we create a Keras Model, specifying which inputs and outputs to use."
      ],
      "metadata": {
        "id": "LyeHiEs8oOkk"
      },
      "execution_count": 33,
      "outputs": []
    },
    {
      "cell_type": "code",
      "source": [
        "wideModel.compile(\"sgd\",loss=\"mse\")"
      ],
      "metadata": {
        "id": "GTkQaQoXnA9X"
      },
      "execution_count": 38,
      "outputs": []
    },
    {
      "cell_type": "code",
      "source": [
        "wideModel.summary()"
      ],
      "metadata": {
        "colab": {
          "base_uri": "https://localhost:8080/"
        },
        "id": "U-TAUv9T6eP5",
        "outputId": "3cb4d2f4-069e-4998-bd46-98a41954effd"
      },
      "execution_count": 39,
      "outputs": [
        {
          "output_type": "stream",
          "name": "stdout",
          "text": [
            "Model: \"model_1\"\n",
            "__________________________________________________________________________________________________\n",
            " Layer (type)                   Output Shape         Param #     Connected to                     \n",
            "==================================================================================================\n",
            " input_11 (InputLayer)          [(None, 5)]          0           []                               \n",
            "                                                                                                  \n",
            " dense_13 (Dense)               (None, 30)           180         ['input_11[0][0]']               \n",
            "                                                                                                  \n",
            " dense_14 (Dense)               (None, 30)           930         ['dense_13[0][0]']               \n",
            "                                                                                                  \n",
            " concatenate_2 (Concatenate)    (None, 35)           0           ['input_11[0][0]',               \n",
            "                                                                  'dense_14[0][0]']               \n",
            "                                                                                                  \n",
            " input_12 (InputLayer)          [(None, 6)]          0           []                               \n",
            "                                                                                                  \n",
            " dense_15 (Dense)               (None, 1)            36          ['concatenate_2[0][0]']          \n",
            "                                                                                                  \n",
            "==================================================================================================\n",
            "Total params: 1,146\n",
            "Trainable params: 1,146\n",
            "Non-trainable params: 0\n",
            "__________________________________________________________________________________________________\n"
          ]
        }
      ]
    },
    {
      "cell_type": "code",
      "source": [
        "#create inputs\n",
        "trainA,trainB=XtrainScal[:,:5],XtrainScal[:,2:]\n",
        "validA,validB=XvalidScal[:,:5],XvalidScal[:,2:]\n",
        "testA,testB=XtestScal[:,:5],XtestScal[:,2:]"
      ],
      "metadata": {
        "id": "gjxUSb5y5X_e"
      },
      "execution_count": 36,
      "outputs": []
    },
    {
      "cell_type": "code",
      "source": [
        "wideModelHist=wideModel.fit((trainA,trainB),Ytrain,epochs=20,validation_data=((validA,validB),Yvalid))"
      ],
      "metadata": {
        "colab": {
          "base_uri": "https://localhost:8080/"
        },
        "id": "da4VKr_n6U4a",
        "outputId": "dce9e63a-fe24-41c9-8ee9-a4408a306dfd"
      },
      "execution_count": 41,
      "outputs": [
        {
          "output_type": "stream",
          "name": "stdout",
          "text": [
            "Epoch 1/20\n",
            "413/413 [==============================] - 2s 3ms/step - loss: 0.8383 - val_loss: 0.6022\n",
            "Epoch 2/20\n",
            "413/413 [==============================] - 1s 3ms/step - loss: 0.5996 - val_loss: 0.5610\n",
            "Epoch 3/20\n",
            "413/413 [==============================] - 1s 3ms/step - loss: 0.5721 - val_loss: 0.5502\n",
            "Epoch 4/20\n",
            "413/413 [==============================] - 2s 4ms/step - loss: 0.5515 - val_loss: 0.5353\n",
            "Epoch 5/20\n",
            "413/413 [==============================] - 2s 4ms/step - loss: 0.5416 - val_loss: 0.5259\n",
            "Epoch 6/20\n",
            "413/413 [==============================] - 1s 3ms/step - loss: 0.5343 - val_loss: 0.5147\n",
            "Epoch 7/20\n",
            "413/413 [==============================] - 1s 3ms/step - loss: 0.5242 - val_loss: 0.5116\n",
            "Epoch 8/20\n",
            "413/413 [==============================] - 1s 3ms/step - loss: 0.5266 - val_loss: 0.5109\n",
            "Epoch 9/20\n",
            "413/413 [==============================] - 1s 4ms/step - loss: 0.5226 - val_loss: 0.5041\n",
            "Epoch 10/20\n",
            "413/413 [==============================] - 1s 3ms/step - loss: 0.5186 - val_loss: 0.5020\n",
            "Epoch 11/20\n",
            "413/413 [==============================] - 1s 3ms/step - loss: 0.5112 - val_loss: 0.5013\n",
            "Epoch 12/20\n",
            "413/413 [==============================] - 1s 3ms/step - loss: 0.5103 - val_loss: 0.5074\n",
            "Epoch 13/20\n",
            "413/413 [==============================] - 1s 3ms/step - loss: 0.5123 - val_loss: 0.4998\n",
            "Epoch 14/20\n",
            "413/413 [==============================] - 2s 4ms/step - loss: 0.5079 - val_loss: 0.5045\n",
            "Epoch 15/20\n",
            "413/413 [==============================] - 2s 4ms/step - loss: 0.5059 - val_loss: 0.4945\n",
            "Epoch 16/20\n",
            "413/413 [==============================] - 1s 3ms/step - loss: 0.5047 - val_loss: 0.4972\n",
            "Epoch 17/20\n",
            "413/413 [==============================] - 1s 3ms/step - loss: 0.5035 - val_loss: 0.4955\n",
            "Epoch 18/20\n",
            "413/413 [==============================] - 1s 3ms/step - loss: 0.5029 - val_loss: 0.4938\n",
            "Epoch 19/20\n",
            "413/413 [==============================] - 1s 3ms/step - loss: 0.5027 - val_loss: 0.4925\n",
            "Epoch 20/20\n",
            "413/413 [==============================] - 1s 3ms/step - loss: 0.5031 - val_loss: 0.4993\n"
          ]
        }
      ]
    },
    {
      "cell_type": "markdown",
      "source": [
        "## **Saving/Restoring Trained Model In Keras**"
      ],
      "metadata": {
        "id": "PhlY0jOI80kW"
      }
    },
    {
      "cell_type": "code",
      "source": [
        "wideModel.save(\"my_keras_model.h5\")"
      ],
      "metadata": {
        "id": "GoMRz_4u88Fn"
      },
      "execution_count": 42,
      "outputs": []
    },
    {
      "cell_type": "code",
      "source": [
        "myModel=keras.models.load_model(\"my_keras_model.h5\")"
      ],
      "metadata": {
        "id": "CzHCUOjH9F7J"
      },
      "execution_count": 43,
      "outputs": []
    }
  ]
}